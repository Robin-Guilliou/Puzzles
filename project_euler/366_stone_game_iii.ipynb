{
 "cells": [
  {
   "cell_type": "markdown",
   "metadata": {},
   "source": [
    "# 366 - Stone Game III\n",
    "\n",
    "## Problem Statement\n",
    "\n",
    "Two players, Anton and Bernhard, are playing the following game.<br>\n",
    "There is one pile of $n$ stones.<br>\n",
    "The first player may remove any positive number of stones, but not the whole pile.<br>\n",
    "Thereafter, each player may remove at most twice the number of stones his opponent took on the previous move.<br>\n",
    "The player who removes the last stone wins.\n",
    "\n",
    "E.g. $n=5$.<br>\n",
    "If the first player takes anything more than one stone the next player will be able to take all remaining stones.<br>\n",
    "If the first player takes one stone, leaving four, his opponent will take also one stone, leaving three stones.<br>\n",
    "The first player cannot take all three because he may take at most $2 \\times 1=2$ stones. So let's say he takes also one stone, leaving $2$. The second player can take the two remaining stones and wins.<br>\n",
    "So $5$ is a losing position for the first player.<br>\n",
    "For some winning positions there is more than one possible move for the first player.<br>\n",
    "E.g. when $n=17$ the first player can remove one or four stones.\n",
    "\n",
    "Let $M(n)$ be the maximum number of stones the first player can take from a winning position <i>at his first turn</i> and $M(n)=0$ for any other position.\n",
    "\n",
    "$\\sum M(n)$ for $n \\le 100$ is $728$.\n",
    "\n",
    "Find $\\sum M(n)$ for $n \\le 10^{18}$. Give your answer modulo $10^8$.\n",
    "\n",
    "## Solution\n",
    "\n",
    "Given the large value of $n$, it is not computationally feasible to get to the solution by brute force. However, we can simulate the game for small $n$ values and try to identify a pattern.\n",
    "Let's create a function to solve for $M(n)$ using dynamic programming and memoization. \n",
    "\n"
   ]
  },
  {
   "cell_type": "code",
   "execution_count": 42,
   "metadata": {},
   "outputs": [],
   "source": [
    "import matplotlib.pyplot as plt"
   ]
  },
  {
   "cell_type": "code",
   "execution_count": 43,
   "metadata": {},
   "outputs": [],
   "source": [
    "memo = {}\n",
    "\n",
    "def get_upper_bound(n, moves):\n",
    "    \"\"\" Get upper bound of the for loop \"\"\"\n",
    "    prev = n\n",
    "    if moves:\n",
    "        prev = moves[-1]\n",
    "    if n % 2 == 0:\n",
    "        upper_bound = min(n // 2 - 1, prev * 2)\n",
    "    else:\n",
    "        upper_bound = min(n // 2, prev * 2)\n",
    "    return upper_bound\n",
    "\n",
    "def solve(n, moves, player):\n",
    "    \"\"\"\n",
    "    Function representing M(n).\n",
    "\n",
    "    Parameters\n",
    "    ----------\n",
    "    n : int\n",
    "        number of stones remaining\n",
    "    moves : list\n",
    "        list of moves played so far\n",
    "    player : int\n",
    "        1 when Anton plays, 2 when Bernhard plays\n",
    "\n",
    "    Returns\n",
    "    -------\n",
    "        Maximum number of stones Anton can take on first move to win the game. 0 if Anton cannot win.\n",
    "    \"\"\"\n",
    "    # Handle case where the game is starting\n",
    "    if moves:\n",
    "        last_move = moves[-1]\n",
    "    else:\n",
    "        last_move = -1\n",
    "    # Check if solution already exists for the current setup\n",
    "    if (n, last_move, player) in memo:\n",
    "        if memo[(n, last_move, player)] != 0:\n",
    "            return moves[0]\n",
    "        return 0\n",
    "    # Anton's turn\n",
    "    if player == 1:\n",
    "        # Check if player can take all the remaining stones\n",
    "        if moves and n <= 2 * moves[-1]:\n",
    "            return moves[0]\n",
    "        # If Anton can win with a move, it must be the maximum as the loop starts with highest allowed move\n",
    "        for x in range(get_upper_bound(n, moves), 0, -1):\n",
    "            moves.append(x)\n",
    "            res = solve(n - x, moves, 2)\n",
    "            if res:\n",
    "                memo[(n, last_move, player)] = 1\n",
    "                ans = moves[0]\n",
    "                moves.pop()\n",
    "                return ans\n",
    "            moves.pop()\n",
    "        memo[(n, last_move, player)] = 0\n",
    "        return 0\n",
    "    # Bernhard's turn\n",
    "    else:\n",
    "        # Check if player can take all the remaining stones\n",
    "        if moves and n <= 2 * moves[-1]:\n",
    "            return 0\n",
    "        # If Bernhard can win from any of its allowed moves, Anton cannot win with his last move\n",
    "        for x in range(get_upper_bound(n, moves), 0, -1):\n",
    "            moves.append(x)\n",
    "            res = solve(n - x, moves, 1)\n",
    "            moves.pop()\n",
    "            if res == 0:\n",
    "                memo[(n, last_move, player)] = 0\n",
    "                return 0\n",
    "        memo[(n, last_move, player)] = 1\n",
    "        return moves[0]"
   ]
  },
  {
   "cell_type": "markdown",
   "metadata": {},
   "source": [
    "Let's simulate for $n \\leq 2000$ and make sure we have the correct result for $M(100)$."
   ]
  },
  {
   "cell_type": "code",
   "execution_count": 44,
   "metadata": {},
   "outputs": [
    {
     "data": {
      "text/plain": [
       "728"
      ]
     },
     "execution_count": 44,
     "metadata": {},
     "output_type": "execute_result"
    }
   ],
   "source": [
    "memo = {}\n",
    "winnnig_moves = []\n",
    "for i in range(1, 1001):\n",
    "    res = solve(i, [], 1)\n",
    "    winnnig_moves.append(res)\n",
    "\n",
    "sum(winnnig_moves[:100])"
   ]
  },
  {
   "cell_type": "markdown",
   "metadata": {},
   "source": [
    "Our implementation returns the correct result for $M(100)$. Now let's plot the results."
   ]
  },
  {
   "cell_type": "code",
   "execution_count": 45,
   "metadata": {},
   "outputs": [
    {
     "data": {
      "image/png": "[encoded data removed]",
      "text/plain": [
       "<Figure size 1000x600 with 1 Axes>"
      ]
     },
     "metadata": {},
     "output_type": "display_data"
    }
   ],
   "source": [
    "fig = plt.figure(figsize=(10, 6))\n",
    "ax = fig.add_subplot(111)\n",
    "ax.plot(winnnig_moves);"
   ]
  },
  {
   "cell_type": "markdown",
   "metadata": {},
   "source": [
    "The plot seems to reveal a cyclical pattern that we can exploit. Looking at the data, we observe that each cycle starts and ends with a value of zero. Interestingly, all the zero values (i.e., losing positions for Anton) happen when $n$ is part of the Fibonacci sequence."
   ]
  },
  {
   "cell_type": "code",
   "execution_count": 46,
   "metadata": {},
   "outputs": [
    {
     "data": {
      "text/plain": [
       "[1, 2, 3, 5, 8, 13, 21, 34, 55, 89, 144, 233, 377, 610, 987]"
      ]
     },
     "execution_count": 46,
     "metadata": {},
     "output_type": "execute_result"
    }
   ],
   "source": [
    "[i + 1 for i in range(len(winnnig_moves)) if winnnig_moves[i] == 0]"
   ]
  },
  {
   "cell_type": "markdown",
   "metadata": {},
   "source": [
    "Let's analyse the peak values in the cycle."
   ]
  },
  {
   "cell_type": "code",
   "execution_count": 47,
   "metadata": {},
   "outputs": [
    {
     "data": {
      "text/plain": [
       "[0, 1, 2, 3, 6, 10, 16, 27, 44, 71, 116, 188, 304]"
      ]
     },
     "execution_count": 47,
     "metadata": {},
     "output_type": "execute_result"
    }
   ],
   "source": [
    "def find_cycle_peaks(values):\n",
    "    peaks = [0]\n",
    "    max_so_far = float('-inf')\n",
    "    for i in range(1, len(values) - 1):\n",
    "        if values[i] > values[i - 1] and values[i] > values[i + 1] and values[i] > max_so_far:\n",
    "            peaks.append(values[i])\n",
    "            max_so_far = values[i]\n",
    "    return peaks\n",
    "\n",
    "peaks = find_cycle_peaks(winnnig_moves)\n",
    "peaks"
   ]
  },
  {
   "cell_type": "markdown",
   "metadata": {},
   "source": [
    "Each cycle follows the pattern described below\n",
    "\n",
    "- Start a zero.\n",
    "- Increases linearly 1 by 1 until reaching a peak $p(i)$ where $i$ indicates that $p(i)$ is the $i$-th peak. It is defined as\n",
    "\\begin{equation}\n",
    "        p(i) = \\begin{cases} p(i - 1) + p(i - 2) & \\text{if} \\quad i \\mod 3 = 0 \\\\\n",
    "            p(i - 1) + p(i - 2) + 1 & \\text{if} \\quad i \\mod 3 \\neq 0.\n",
    "        \\end{cases}\n",
    "\\end{equation}\n",
    "- Drops to $p(i - 3) + 1$ and then increases linearly one by one until reaching $p(i - 2)$.\n",
    "- Drops to $p(i - 5) + 1$ and then increases linearly one by one until reaching $p(i - 4)$.\n",
    "- Drops to $p(i - 7) + 1$ and then increases linearly one by one until reaching $p(i - 6)$.\n",
    "- Continues until $p(0)$ is reached.\n",
    "\n",
    "We can easily generate the peak values and sum all the values in between. As values increases linearly one by one, we can use the property that the sum of all the values from 0 to the peak value is equal to $\\frac{x(x + 1)}{2} + 1$."
   ]
  },
  {
   "cell_type": "code",
   "execution_count": 53,
   "metadata": {},
   "outputs": [],
   "source": [
    "def get_sum_winning_moves(limit):\n",
    "    res = 1\n",
    "    i = 0\n",
    "    peaks = [0, 1]\n",
    "    count = 4\n",
    "    while True:\n",
    "        if i % 3 == 1:\n",
    "            peaks.append(peaks[-1] + peaks[-2])\n",
    "        else:\n",
    "            peaks.append(peaks[-1] + peaks[-2] + 1)\n",
    "        i += 1\n",
    "        if count + peaks[-1] < limit:\n",
    "            count += peaks[-1] + 1\n",
    "            res += peaks[-1] * (peaks[-1] + 1) // 2\n",
    "        else:\n",
    "            delta = limit - (count + 1)\n",
    "            res += delta * (delta + 1) // 2\n",
    "            count += delta + 1\n",
    "            return res % 10**8\n",
    "        for k in range(len(peaks) - 3, 0, -2):\n",
    "            if count + peaks[k] - peaks[k-1] < limit:\n",
    "                count += peaks[k] - peaks[k-1]\n",
    "                res += ((peaks[k] * (peaks[k] + 1)) // 2) - ((peaks[k - 1] * (peaks[k - 1] + 1)) // 2)\n",
    "            else:\n",
    "                delta = limit - count\n",
    "                upper_val = delta + peaks[k-1]\n",
    "                res += ((upper_val * (upper_val + 1)) // 2) - (peaks[k-1] * (peaks[k-1] + 1)) // 2\n",
    "                count += delta\n",
    "                return res % 10**8"
   ]
  },
  {
   "cell_type": "code",
   "execution_count": null,
   "metadata": {},
   "outputs": [],
   "source": [
    "def get_sum_winning_moves(limit):\n",
    "    res = 1\n",
    "    i = 0\n",
    "    peaks = [0, 1]\n",
    "    count = 4\n",
    "    while True:\n",
    "        if i % 3 == 1:\n",
    "            peaks.append(peaks[-1] + peaks[-2])\n",
    "        else:\n",
    "            peaks.append(peaks[-1] + peaks[-2] + 1)\n",
    "        i += 1\n",
    "        if count + peaks[-1] < limit:\n",
    "            count += peaks[-1] + 1\n",
    "            res += peaks[-1] * (peaks[-1] + 1) // 2\n",
    "        else:\n",
    "            delta = limit - (count + 1)\n",
    "            res += delta * (delta + 1) // 2\n",
    "            count += delta + 1\n",
    "            return res % 10**8\n",
    "        for k in range(len(peaks) - 3, 0, -2):\n",
    "            if count + peaks[k] - peaks[k-1] < limit:\n",
    "                count += peaks[k] - peaks[k-1]\n",
    "                res += ((peaks[k] * (peaks[k] + 1)) // 2) - ((peaks[k - 1] * (peaks[k - 1] + 1)) // 2)\n",
    "            else:\n",
    "                delta = limit - count\n",
    "                upper_val = delta + peaks[k-1]\n",
    "                res += ((upper_val * (upper_val + 1)) // 2) - (peaks[k-1] * (peaks[k-1] + 1)) // 2\n",
    "                count += delta\n",
    "                return res % 10**8"
   ]
  },
  {
   "cell_type": "code",
   "execution_count": 55,
   "metadata": {},
   "outputs": [
    {
     "data": {
      "text/plain": [
       "88351299"
      ]
     },
     "execution_count": 55,
     "metadata": {},
     "output_type": "execute_result"
    }
   ],
   "source": [
    "limit = 10**18\n",
    "get_sum_winning_moves(limit)"
   ]
  },
  {
   "cell_type": "code",
   "execution_count": null,
   "metadata": {},
   "outputs": [],
   "source": []
  }
 ],
 "metadata": {
  "language_info": {
   "name": "python"
  }
 },
 "nbformat": 4,
 "nbformat_minor": 2
}
