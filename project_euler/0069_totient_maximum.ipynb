{
 "cells": [
  {
   "cell_type": "markdown",
   "metadata": {},
   "source": [
    "# 69 - Totient Maximum\n",
    "\n",
    "## Problem Statement\n",
    "\n",
    "Euler's totient function, $\\phi(n)$ [sometimes called the phi function], is defined as the number of positive integers not exceeding $n$ which are relatively prime to $n$. For example, as $1$, $2$, $4$, $5$, $7$, and $8$, are all less than or equal to nine and relatively prime to nine, $\\phi(9)=6$.\n",
    "\n",
    "<div class=\"center\">\n",
    "<table class=\"grid center\"><tr><td><b>$n$</b></td>\n",
    "<td><b>Relatively Prime</b></td>\n",
    "<td><b>$\\phi(n)$</b></td>\n",
    "<td><b>$n/\\phi(n)$</b></td>\n",
    "</tr><tr><td>2</td>\n",
    "<td>1</td>\n",
    "<td>1</td>\n",
    "<td>2</td>\n",
    "</tr><tr><td>3</td>\n",
    "<td>1,2</td>\n",
    "<td>2</td>\n",
    "<td>1.5</td>\n",
    "</tr><tr><td>4</td>\n",
    "<td>1,3</td>\n",
    "<td>2</td>\n",
    "<td>2</td>\n",
    "</tr><tr><td>5</td>\n",
    "<td>1,2,3,4</td>\n",
    "<td>4</td>\n",
    "<td>1.25</td>\n",
    "</tr><tr><td>6</td>\n",
    "<td>1,5</td>\n",
    "<td>2</td>\n",
    "<td>3</td>\n",
    "</tr><tr><td>7</td>\n",
    "<td>1,2,3,4,5,6</td>\n",
    "<td>6</td>\n",
    "<td>1.1666...</td>\n",
    "</tr><tr><td>8</td>\n",
    "<td>1,3,5,7</td>\n",
    "<td>4</td>\n",
    "<td>2</td>\n",
    "</tr><tr><td>9</td>\n",
    "<td>1,2,4,5,7,8</td>\n",
    "<td>6</td>\n",
    "<td>1.5</td>\n",
    "</tr><tr><td>10</td>\n",
    "<td>1,3,7,9</td>\n",
    "<td>4</td>\n",
    "<td>2.5</td>\n",
    "</tr></table></div>\n",
    "\n",
    "It can be seen that $n = 6$ produces a maximum $n/\\phi(n)$ for $n\\leq 10$.\n",
    "\n",
    "Find the value of $n\\leq 1\\,000\\,000$ for which $n/\\phi(n)$ is a maximum.\n",
    "\n",
    "## Solution\n",
    "\n",
    "Euler's product formula states that the totient function is given by\n",
    "\n",
    "\\begin{equation}\n",
    "    \\phi(n) = n \\prod_{p|n}\\left( 1 - \\frac{1}{p} \\right)\n",
    "\\end{equation}\n",
    "\n",
    "where the product is over the distinct prime factors dividing $n$.\n",
    "\n",
    "Therefore, we are looking to maximize\n",
    "\n",
    "\\begin{equation}\n",
    "    \\frac{n}{\\phi(n)} = \\frac{1}{\\prod_{p|n}\\left( 1 - \\frac{1}{p} \\right)}.\n",
    "\\end{equation}\n",
    "\n",
    "In order to efficiently compute this value for each $n < 1000000$, we compute the value above for each $n$ with a modified sieve of Eratosthenes where we compute $n/\\phi(n)$ as we find the prime factors of $n$. We also keep track of the maximum along the way."
   ]
  },
  {
   "cell_type": "code",
   "execution_count": 6,
   "metadata": {},
   "outputs": [
    {
     "data": {
      "text/plain": [
       "510510"
      ]
     },
     "execution_count": 6,
     "metadata": {},
     "output_type": "execute_result"
    }
   ],
   "source": [
    "n = 1000000\n",
    "\n",
    "curr_max = 0\n",
    "res = 0\n",
    "n_over_phi = [1] * (n + 1) # initialize with ones to multiply\n",
    "for i in range(2, n + 1):\n",
    "    if n_over_phi[i] == 1:  # i is a prime number\n",
    "        for j in range(i, n + 1, i):\n",
    "            n_over_phi[j] *= 1/(1 - 1/i) # Compute n/phi(n)\n",
    "    if n_over_phi[i] > curr_max:\n",
    "        curr_max = n_over_phi[i]\n",
    "        res = i\n",
    "res"
   ]
  },
  {
   "cell_type": "code",
   "execution_count": null,
   "metadata": {},
   "outputs": [],
   "source": []
  }
 ],
 "metadata": {
  "language_info": {
   "name": "python"
  }
 },
 "nbformat": 4,
 "nbformat_minor": 2
}
