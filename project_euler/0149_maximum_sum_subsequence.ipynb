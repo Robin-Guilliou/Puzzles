{
 "cells": [
  {
   "cell_type": "markdown",
   "metadata": {},
   "source": [
    "# 149 - Maximum-sum Subsequence\n",
    "\n",
    "## Problem Statement\n",
    "\n",
    "Looking at the table below, it is easy to verify that the maximum possible sum of adjacent numbers in any direction (horizontal, vertical, diagonal or anti-diagonal) <span style=\"white-space:nowrap;\">is $16$ ($= 8 + 7 + 1$).</span>\n",
    "\n",
    "<div class=\"center\">\n",
    "<table border=\"1\" cellpadding=\"6\" cellspacing=\"0\" style=\"margin:auto;\"><tbody align=\"right\"><tr><td width=\"25\">-2</td><td width=\"25\">5</td><td width=\"25\">3</td><td width=\"25\">2</td></tr><tr><td>9</td><td>-6</td><td>5</td><td>1</td></tr><tr><td>3</td><td>2</td><td>7</td><td>3</td></tr><tr><td>-1</td><td>8</td><td>-4</td><td>8</td></tr></tbody></table></div>\n",
    "\n",
    "Now, let us repeat the search, but on a much larger scale:\n",
    "\n",
    "First, generate four million pseudo-random numbers using a specific form of what is known as a \"Lagged Fibonacci Generator\":\n",
    "\n",
    "For $1 \\le k \\le 55$, $s_k = [100003 - 200003 k + 300007 k^3] \\pmod{1000000} - 500000$.<br>\n",
    "For $56 \\le k \\le 4000000$, $s_k = [s_{k-24} + s_{k - 55} + 1000000] \\pmod{1000000} - 500000$.\n",
    "\n",
    "Thus, $s_{10} = -393027$ and $s_{100} = 86613$.\n",
    "\n",
    "The terms of $s$ are then arranged in a $2000 \\times 2000$ table, using the first $2000$ numbers to fill the first row (sequentially), the next $2000$ numbers to fill the second row, and so on.\n",
    "\n",
    "Finally, find the greatest sum of (any number of) adjacent entries in any direction (horizontal, vertical, diagonal or anti-diagonal).\n",
    "\n",
    "## Solution\n",
    "\n",
    "We first generate the sequence and reshape the array in a $2000 \\times 2000$ grid. Then, we apply Kadane algorithm on each row, column, diagonal and anti-diagonal and keep track of the maximum."
   ]
  },
  {
   "cell_type": "code",
   "execution_count": 1,
   "metadata": {},
   "outputs": [],
   "source": [
    "import numpy as np\n",
    "\n",
    "\n",
    "def kadane(seq):\n",
    "    curr_max = 0\n",
    "    curr_sum = 0\n",
    "    for x in seq:\n",
    "        curr_sum = max(0, curr_sum + x)\n",
    "        curr_max = max(curr_max, curr_sum)\n",
    "    return curr_max\n",
    "\n",
    "\n",
    "# Generate sequence\n",
    "s = np.zeros(4000000)\n",
    "for k in range(1, 4000001):\n",
    "    if k <= 55:\n",
    "        s[k - 1] = ((100003 - 200003 * k + 300007 * k**3) % 1000000) - 500000\n",
    "    else:\n",
    "        s[k - 1] = ((s[k - 25] + s[k - 56] + 1000000) % 1000000) - 500000\n",
    "\n",
    "\n",
    "# Reshape in grid\n",
    "rows, cols = 2000, 2000\n",
    "grid = s.reshape((rows, cols))\n",
    "flipped_grid = np.fliplr(grid)\n",
    "\n",
    "# Go through rows and columns\n",
    "res = 0\n",
    "for i in range(rows):\n",
    "    res = max(res, kadane(grid[i, :]))\n",
    "    res = max(res, kadane(grid[:, i]))\n",
    "\n",
    "# Go though diagonals and antidiagonals\n",
    "for d in range(-(rows - 1), cols):\n",
    "    diag = grid.diagonal(d)\n",
    "    anti_diag = flipped_grid.diagonal(d)\n",
    "    res = max(res, kadane(diag), kadane(anti_diag))"
   ]
  },
  {
   "cell_type": "code",
   "execution_count": null,
   "metadata": {},
   "outputs": [],
   "source": []
  }
 ],
 "metadata": {
  "language_info": {
   "name": "python"
  }
 },
 "nbformat": 4,
 "nbformat_minor": 2
}
