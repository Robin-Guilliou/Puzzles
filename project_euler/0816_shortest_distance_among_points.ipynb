{
 "cells": [
  {
   "cell_type": "markdown",
   "metadata": {},
   "source": [
    "# 816 - Shortest Distance Among Points\n",
    "\n",
    "## Problem Statement\n",
    "\n",
    "We create an array of points  $P_n$ in a two dimensional plane using the following random number generator:<br>\n",
    "$s_0=290797$<br>\n",
    "$s_{n+1}={s_n}^2 \\bmod 50515093$\n",
    "<br> <br>\n",
    "$P_n=(s_{2n},s_{2n+1})$\n",
    "\n",
    "Let $d(k)$  be the shortest distance of any two (distinct) points among $P_0, \\cdots, P_{k - 1}$.<br>\n",
    "E.g. $d(14)=546446.466846479$.\n",
    "\n",
    "Find $d(2000000)$. Give your answer rounded to $9$ places after the decimal point.\n",
    "\n",
    "## Solution\n",
    "\n",
    "First we generate the points based on the given random number generator and sort them based on the $x$ value (could have been $y$ too). The idea loop through each pair of points $(i, j)$ with $j > i$ and compute the distance between them and record the minimum distance encountered so far. To avoid useless computation, we do not consider points $j$ for which $\\sqrt((x_i - x_j)^2)$ is greater than the minimum distance found so far (i.e., we early exit the inner loop). Note that using the square root does not change the comparison results so we do not use it when to compare the distances.\n",
    "\n",
    "This algorithm runs in $O(n^2)$ but with the random points, we actually perform much less comparisons. Note that this problem can be solved in $O(n \\log n)$ time complexity with a divide and conquer method."
   ]
  },
  {
   "cell_type": "code",
   "execution_count": 1,
   "metadata": {},
   "outputs": [
    {
     "data": {
      "text/plain": [
       "20.880613018"
      ]
     },
     "execution_count": 1,
     "metadata": {},
     "output_type": "execute_result"
    }
   ],
   "source": [
    "import numpy as np\n",
    "\n",
    "# Generate the points\n",
    "points = []\n",
    "x = 290797\n",
    "mod = 50515093\n",
    "for i in range(2000000):\n",
    "    y = x**2 % mod\n",
    "    points.append((x, y))\n",
    "    x = y**2 % mod\n",
    "\n",
    "# Sort the points based on x\n",
    "points = sorted(points, key=lambda x: x[0])\n",
    "\n",
    "# Find the smallest distance\n",
    "min_dist = float('inf')\n",
    "for i in range(len(points)):\n",
    "    for j in range(i + 1, len(points)):\n",
    "        x_contrib = (points[i][0] - points[j][0])**2\n",
    "        if x_contrib >= min_dist: # early exit when x contribution is larger than current minimum\n",
    "            break\n",
    "        y_contrib = (points[i][1] - points[j][1])**2\n",
    "        min_dist = min(min_dist, x_contrib + y_contrib)\n",
    "\n",
    "round(np.sqrt(min_dist), 9)"
   ]
  },
  {
   "cell_type": "code",
   "execution_count": null,
   "metadata": {},
   "outputs": [],
   "source": []
  }
 ],
 "metadata": {
  "language_info": {
   "name": "python"
  }
 },
 "nbformat": 4,
 "nbformat_minor": 2
}
