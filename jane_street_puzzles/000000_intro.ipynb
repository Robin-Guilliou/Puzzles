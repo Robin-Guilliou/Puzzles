{
 "cells": [
  {
   "cell_type": "markdown",
   "metadata": {},
   "source": [
    "# Jane Street Puzzle - Intro Puzzle\n",
    "\n",
    "## Problem Statement\n",
    "\n",
    "What’s a company like Jane Street doing with a page about puzzles? The act of solving puzzles, though that might seem abstract, is intrinsic to the work we do at Jane Street.\n",
    "\n",
    "Only by identifying new problems in the financial markets and figuring out (potentially novel) ways to solve them can Jane Street continue to thrive. Even though we have established strategies, we’re humble enough to know that if we have a good idea, others may soon have it as well. Prime among the skills necessary to stay successful, then, is creative problem solving, or puzzling.\n",
    "\n",
    "Number puzzles, logic puzzles, puzzles with and without clear answers, puzzles with and without clearly defined rules — these are all part of day-to-day life at Jane Street, which is why we’ve chosen to devote this section of our website to puzzles. Plus, solving puzzles just feels great.\n",
    "\n",
    "One last thing — this is a puzzle!\n",
    "\n",
    "## Solution\n",
    "\n",
    "Taking the first word of each sentence, we get the question:\n",
    "\n",
    "> What's The Only Even Prime Number Plus One\n",
    "\n",
    "and the answer is 3."
   ]
  }
 ],
 "metadata": {
  "language_info": {
   "name": "python"
  }
 },
 "nbformat": 4,
 "nbformat_minor": 2
}
