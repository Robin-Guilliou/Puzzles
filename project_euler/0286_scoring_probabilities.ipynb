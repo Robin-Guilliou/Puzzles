{
 "cells": [
  {
   "cell_type": "markdown",
   "metadata": {},
   "source": [
    "# 286 - Scoring Probabilities\n",
    "\n",
    "## Problem Statement\n",
    "\n",
    "Barbara is a mathematician and a basketball player. She has found that the probability of scoring a point when shooting from a distance $x$ is exactly $(1 - x / q)$, where $q$ is a real constant greater than $50$.\n",
    "\n",
    "During each practice run, she takes shots from distances $x = 1, x = 2, \\dots, x = 50$ and, according to her records, she has precisely a $2\\%$ chance to score a total of exactly $20$ points.\n",
    "\n",
    "Find $q$ and give your answer rounded to $10$ decimal places.\n",
    "\n",
    "## Solution\n",
    "\n",
    "The probability distribution of the number of successes in a series of $n$ independent Bernoulli trials with potentially different success probability, $p_1, p_2, \\cdots, p_n$, is the Poisson binomial distribution. Here the number of trials is $n = 50$ and the probabilities are given by \n",
    "\n",
    "\\begin{equation}\n",
    "    p_x = 1 - \\frac{x}{q}.\n",
    "\\end{equation}\n",
    "\n",
    "We will use this probability distribution to compute the probability of 20 successes among the 50 trials given our $p_x$ values. Unfortunately, for such a large $n$, computing the PMF of the Poisson binomial distribution is not possible. Instead, we will use the discrete Fourier transform where the probability of $k$ successes is given by\n",
    "\n",
    "\\begin{equation}\n",
    "    P(K = k) = \\frac{1}{n + 1} \\sum_{\\alpha = 0}^n C^{-\\alpha k} \\prod_{x = 1}^n (1 + (C^\\alpha - 1)p_x)\n",
    "\\end{equation}\n",
    "\n",
    "where\n",
    "\n",
    "\\begin{equation}\n",
    "    C = \\exp \\left( \\frac{2i\\pi}{n + 1} \\right)\n",
    "\\end{equation}\n",
    "\n",
    "and $i = \\sqrt{-1}$.\n",
    "\n",
    "Now, we simply need to implement the function above, subtract 0.02 from the result and numerically solve for the root of the resulting function by changing the value of $q$. For the solver, we will use Brent's method as implemented in `scipy.optimize.brentq`. We arbitrarily choose a range for $q$ between 51 and 100. This can be updated if the root is not found."
   ]
  },
  {
   "cell_type": "code",
   "execution_count": 1,
   "metadata": {},
   "outputs": [
    {
     "data": {
      "text/plain": [
       "52.6494571953"
      ]
     },
     "execution_count": 1,
     "metadata": {},
     "output_type": "execute_result"
    }
   ],
   "source": [
    "import numpy as np\n",
    "from scipy.optimize import brentq\n",
    "\n",
    "def poisson_binomial_distribution_dft(n, k, q):\n",
    "    # Probability of scoring\n",
    "    p = [1 - (x / q) for x in range(n + 1)]\n",
    "    # Poisson binomial distribution (discrete Fourier transform)\n",
    "    C = np.exp((2 * 1j * np.pi) / (n + 1))\n",
    "    curr_sum = 0\n",
    "    for i in range(n + 1):\n",
    "        curr_prod = 1\n",
    "        for j in range(1, n + 1):\n",
    "            curr_prod *= (1 + (C**i - 1) * p[j])\n",
    "        curr_sum += C**(-i * k) * curr_prod\n",
    "    return (curr_sum / (n + 1)).real\n",
    "\n",
    "def objective_function(q):\n",
    "    return poisson_binomial_distribution_dft(50, 20, q) - 0.02\n",
    "\n",
    "res = brentq(objective_function, 51, 100, xtol=1e-12)\n",
    "round(res, 10)"
   ]
  },
  {
   "cell_type": "code",
   "execution_count": null,
   "metadata": {},
   "outputs": [],
   "source": []
  }
 ],
 "metadata": {
  "language_info": {
   "name": "python"
  }
 },
 "nbformat": 4,
 "nbformat_minor": 2
}
