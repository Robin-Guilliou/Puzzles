{
 "cells": [
  {
   "cell_type": "markdown",
   "metadata": {},
   "source": [
    "# 41 - Pandigital Prime\n",
    "\n",
    "## Problem Statement\n",
    "\n",
    "We shall say that an $n$-digit number is pandigital if it makes use of all the digits $1$ to $n$ exactly once. For example, $2143$ is a $4$-digit pandigital and is also prime.\n",
    "\n",
    "What is the largest $n$-digit pandigital prime that exists?\n",
    "\n",
    "## Solution\n",
    "\n",
    "The product of the first 9 digits is 45. It is divisible by 9 so it is not possible to have a 9-digits pandigital prime number. Similarly, the sum of the 8 first digits is 36 which is divisible by 9. Therefore, it is not possible to have an 8-digits pandigital prime. We do not have such restrictions for 7-digit numbers. Therefore, we generate permutations of the 7 digits (in decreasing order) and check if they are prime. As soon as we find a prime, it is the largest."
   ]
  },
  {
   "cell_type": "code",
   "execution_count": 15,
   "metadata": {},
   "outputs": [
    {
     "data": {
      "text/plain": [
       "7652413"
      ]
     },
     "execution_count": 15,
     "metadata": {},
     "output_type": "execute_result"
    }
   ],
   "source": [
    "import itertools\n",
    "import sympy\n",
    "\n",
    "primes = set(sympy.primerange(10000000))\n",
    "permutations = list(itertools.permutations(('7', '6', '5', '4', '3', '2', '1')))\n",
    "\n",
    "for perm in permutations:\n",
    "    n = int(\"\".join(perm))\n",
    "    if n in primes:\n",
    "        break\n",
    "n"
   ]
  },
  {
   "cell_type": "code",
   "execution_count": null,
   "metadata": {},
   "outputs": [],
   "source": []
  }
 ],
 "metadata": {
  "language_info": {
   "name": "python"
  }
 },
 "nbformat": 4,
 "nbformat_minor": 2
}
