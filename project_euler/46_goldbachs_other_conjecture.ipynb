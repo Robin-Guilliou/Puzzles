{
 "cells": [
  {
   "cell_type": "markdown",
   "metadata": {},
   "source": [
    "# 46 - Goldbach's other conjecture\n",
    "\n",
    "## Problem Statement\n",
    "\n",
    "It was proposed by Christian Goldbach that every odd composite number can be written as the sum of a prime and twice a square.\n",
    "\n",
    "\\begin{align}\n",
    "9 = 7 + 2 \\times 1^2\\\\\n",
    "15 = 7 + 2 \\times 2^2\\\\\n",
    "21 = 3 + 2 \\times 3^2\\\\\n",
    "25 = 7 + 2 \\times 3^2\\\\\n",
    "27 = 19 + 2 \\times 2^2\\\\\n",
    "33 = 31 + 2 \\times 1^2\n",
    "\\end{align}\n",
    "\n",
    "It turns out that the conjecture was false.\n",
    "What is the smallest odd composite that cannot be written as the sum of a prime and twice a square?\n",
    "\n",
    "\n",
    "## Solution\n",
    "\n",
    "We define an upper bound and generate all the primes below this upperbound. We also generate all the squares below this upperbound. Then we generate all the numbers that can be obtained by combining a prime and a square. Finally, we check for each odd number below the upper bound. If a non-prime number is missing, it is our result. We start with a relatively small upper bound and can increase until we find the solution."
   ]
  },
  {
   "cell_type": "code",
   "execution_count": 1,
   "metadata": {},
   "outputs": [
    {
     "data": {
      "text/plain": [
       "5777"
      ]
     },
     "execution_count": 1,
     "metadata": {},
     "output_type": "execute_result"
    }
   ],
   "source": [
    "import sympy as sp\n",
    "\n",
    "upper_bound = 10000\n",
    "\n",
    "primes = sp.primerange(upper_bound)\n",
    "squares = [x**2 for x in range(int(upper_bound**0.5)+1)]\n",
    "\n",
    "valid = set()\n",
    "for prime in primes:\n",
    "    for square in squares:\n",
    "        valid.add(prime + 2*square)\n",
    "\n",
    "primes = set(sp.primerange(max(valid)))\n",
    "for x in range(3, upper_bound, 2):\n",
    "    if x not in primes and x not in valid:\n",
    "        res = x\n",
    "        break\n",
    "\n",
    "res"
   ]
  },
  {
   "cell_type": "code",
   "execution_count": null,
   "metadata": {},
   "outputs": [],
   "source": []
  }
 ],
 "metadata": {
  "language_info": {
   "name": "python"
  }
 },
 "nbformat": 4,
 "nbformat_minor": 2
}
