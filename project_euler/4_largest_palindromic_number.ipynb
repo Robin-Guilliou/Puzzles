{
 "cells": [
  {
   "cell_type": "code",
   "execution_count": 48,
   "metadata": {},
   "outputs": [],
   "source": [
    "def is_palindrome(num):\n",
    "    original = num\n",
    "    reversed_num = 0\n",
    "    while num > 0:\n",
    "        reversed_num = reversed_num * 10 + num % 10\n",
    "        num //= 10\n",
    "    return original == reversed_num\n",
    "\n",
    "def largest_palindrome_product():\n",
    "    max_palindrome = 0\n",
    "    for i in range(999, 100, -1):\n",
    "        if i * i < max_palindrome:\n",
    "            break\n",
    "        for j in range(i, 100, -1):\n",
    "            product = i * j\n",
    "            if product <= max_palindrome:\n",
    "                break\n",
    "            if is_palindrome(product):\n",
    "                max_palindrome = product\n",
    "    return max_palindrome"
   ]
  },
  {
   "cell_type": "code",
   "execution_count": 49,
   "metadata": {},
   "outputs": [
    {
     "data": {
      "text/plain": [
       "906609"
      ]
     },
     "execution_count": 49,
     "metadata": {},
     "output_type": "execute_result"
    }
   ],
   "source": [
    "largest_palindrome_product()"
   ]
  },
  {
   "cell_type": "code",
   "execution_count": null,
   "metadata": {},
   "outputs": [],
   "source": []
  }
 ],
 "metadata": {
  "language_info": {
   "name": "python"
  }
 },
 "nbformat": 4,
 "nbformat_minor": 2
}
