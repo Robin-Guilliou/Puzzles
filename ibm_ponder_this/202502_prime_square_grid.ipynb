{
 "cells": [
  {
   "cell_type": "markdown",
   "metadata": {},
   "source": [
    "# IBM Ponder This - February 2025\n",
    "\n",
    "## Problem Statement\n",
    "\n",
    "\n",
    "Given a number $A$ , we wish to construct an $N\\times N$ square of digits $(0,1,2,3,4,5,6,7,8,9)$ such that\n",
    "\n",
    "1. The sum of each row, column, and diagonal is $A$ .\n",
    "2. The number appearing in each row (left-to-right), column (top-down), and diagonals (top left to bottom right and top right to bottom left) is an $N$-digit prime number (no leading zeros).\n",
    "\n",
    "Note that the same digit can appear multiple times in the square, and the same prime number can appear multiple times in the square.\n",
    "\n",
    "The cost of a square is computed in the following manner: We list all the prime numbers appearing in the rows, columns, and diagonals of the square. We remove any duplicates from the list. For each digit $d$, we count the total number of times it appears in the primes in the list. Each time incurs a cost: the first time the cost is 0, the second time it's 1, the third time it's 2, and so on. Note that the same digit in the square appears in more than one number and hence might be counted more than once; we count the occurrences of the digits in the prime numbers, not in the square itself.\n",
    "\n",
    "For example, for $N=4$ we have the following square:\n",
    "\n",
    "1 7 7 7 \\\n",
    "5 5 5 7 \\\n",
    "9 3 9 1 \\\n",
    "7 7 1 7 \n",
    "\n",
    "in which $A=22$ and which contains the unique primes 7717, 9391, 5557, 7591, 7537, 1597, and 1777. The square has a total of 5 occurrences of the digit 1, 2 of the digit 3, 6 of the digit 5, 11 of the digit 7, and 4 of the digit 9, resulting in a cost of 87 in total. This is the $4\\times 4$ square with minimum cost. Similarly, the $4\\times 4$ square of maximum cost is\n",
    "\n",
    "5 7 9 1 \\\n",
    "1 7 7 7 \\\n",
    "7 5 3 7 \\\n",
    "9 3 3 7\n",
    "\n",
    "which has a cost of 143.\n",
    "\n",
    "Your goal: For $N=5$, find the squares of minimal cost and maximal cost (without limiting $A$ to $A=22$). Provide your squares as written above, with the score of each square written above it.\n",
    "\n",
    "A bonus \"*\" will be given for finding squares of minimal and maximal costs for $N=6$.\n",
    "\n",
    "## Solution\n",
    "\n",
    "First we generate all the prime numbers in the relevant range and group together the primes with the same digits sum. Then, we proceed group by group. First, we use a Trie data structure to efficiently store all the primes (belonging to the current group) and their prefixes. We create a $N \\times N$ grid with -1 values that we will fill with relevant values. We will fill the grid using backtracking. To figure out the potential values in a cell, we want to keep track of the valid values based on the vertical, horizontal, diagonal and anti-diagonal prefixes. To do so, we associate each grid cell with a reference to the Trie nodes corresponding to the cell for all the orientations (vertical, horizontal, etc). The candidate values are at the intersection of the sets of values for the cell for each orientation. As soon as a grid is fully filled, we compute its score. Scoring is done by removing the prime duplicates and couting the frequency of occurence of each digit. Then if $x$ is the number of occurences of a digit, we increase the score by $\\frac{1}{2}x(x-1)$. If the total score is lower/higher than the minimum/maximum observed so far, we update our result.\n",
    "\n",
    "This method is suitable for a $5 \\times 5$ grid but is not efficient enough for larger grids."
   ]
  },
  {
   "cell_type": "code",
   "execution_count": 1,
   "metadata": {},
   "outputs": [],
   "source": [
    "from collections import defaultdict, Counter\n",
    "import sympy"
   ]
  },
  {
   "cell_type": "code",
   "execution_count": 2,
   "metadata": {},
   "outputs": [],
   "source": [
    "n = 5"
   ]
  },
  {
   "cell_type": "code",
   "execution_count": 3,
   "metadata": {},
   "outputs": [],
   "source": [
    "class TrieNode:\n",
    "    def __init__(self):\n",
    "        self.children = {}\n",
    "        self.is_end_of_word = False\n",
    "\n",
    "class Trie:\n",
    "    def __init__(self):\n",
    "        self.root = TrieNode()\n",
    "\n",
    "    def insert(self, word: str) -> None:\n",
    "        node = self.root\n",
    "        for char in word:\n",
    "            if char not in node.children:\n",
    "                node.children[char] = TrieNode()\n",
    "            node = node.children[char]\n",
    "        node.is_end_of_word = True\n",
    "\n",
    "\n",
    "def digit_sum(n):\n",
    "    res = 0\n",
    "    while n != 0:\n",
    "        n, r = divmod(n, 10)\n",
    "        res += r\n",
    "    return res"
   ]
  },
  {
   "cell_type": "code",
   "execution_count": 4,
   "metadata": {},
   "outputs": [],
   "source": [
    "# Generate the relevant primes\n",
    "primes = set(sympy.primerange(10**(n - 1), 10**n))\n",
    "\n",
    "# Group primes by sum of digits\n",
    "groups = defaultdict(list)\n",
    "for prime in primes:\n",
    "    groups[digit_sum(prime)].append(str(prime))"
   ]
  },
  {
   "cell_type": "code",
   "execution_count": 5,
   "metadata": {},
   "outputs": [],
   "source": [
    "# Initialize result variables\n",
    "min_score = float('inf')\n",
    "max_score = 0\n",
    "min_grid = None\n",
    "max_grid = None\n",
    "\n",
    "\n",
    "def backtrack(n: int, i: int, j: int, horizontals, verticals, diagonal, antidiagonal, grid, root):\n",
    "\n",
    "    global min_score, max_score, min_grid, max_grid\n",
    "\n",
    "    # If grid is complete, score the grid and update result variables if necessary\n",
    "    if i == n:\n",
    "        # Add all the primes in the grid to a set to remove duplicates\n",
    "        curr_primes = set()\n",
    "        diag = []\n",
    "        antidiag = []\n",
    "        for i in range(n):\n",
    "            curr_primes.add(''.join(grid[i]))\n",
    "            curr_primes.add(''.join([grid[x][i] for x in range(n)]))\n",
    "            diag.append(grid[i][i])\n",
    "            antidiag.append(grid[i][n - i - 1])\n",
    "        curr_primes.add(''.join(diag))\n",
    "        curr_primes.add(''.join(antidiag))\n",
    "        # Count the occurence of each digit\n",
    "        s = ''.join(curr_primes)\n",
    "        freq = Counter(s)\n",
    "        # Update the score for each digit\n",
    "        curr_score = 0\n",
    "        for x in freq.values():\n",
    "            curr_score += ((x - 1) * x) // 2\n",
    "        # Update result variables if necessary\n",
    "        if curr_score <= min_score:\n",
    "            min_score = curr_score\n",
    "            min_grid = [row[:] for row in grid]\n",
    "        if curr_score >= max_score:\n",
    "            max_score = curr_score\n",
    "            max_grid = [row[:] for row in grid]\n",
    "        return\n",
    "\n",
    "    # Get intersection of candidate horizontal and vertical values\n",
    "    candidates = horizontals[i][j].children.keys() & verticals[i][j].children.keys()\n",
    "    # Backtrack if no valid value\n",
    "    if len(candidates) == 0:\n",
    "        return\n",
    "\n",
    "    # Get diagonal candidates\n",
    "    if i == j:\n",
    "        candidates &= diagonal[i].children.keys()\n",
    "        if len(candidates) == 0:\n",
    "            return\n",
    "\n",
    "    # Get anti-diagonal candidates\n",
    "    if i == n - j - 1:\n",
    "        candidates &= antidiagonal[i].children.keys()\n",
    "\n",
    "    # Try to fill the cell with candidates and go to next cell\n",
    "    for digit in candidates:\n",
    "        # Fill digit\n",
    "        grid[i][j] = digit\n",
    "\n",
    "        # Update next cell horizontal trie reference\n",
    "        if j < n - 1:\n",
    "            horizontals[i][j + 1] = horizontals[i][j].children[digit]\n",
    "        elif j == n - 1 and i < n - 1:\n",
    "            horizontals[i + 1][0] = root\n",
    "\n",
    "        # Update next cell vertical trie reference\n",
    "        if i < n - 1:\n",
    "            verticals[i + 1][j] = verticals[i][j].children[digit]\n",
    "\n",
    "        # Update next cell diagonal trie reference\n",
    "        if i == j and i < n - 1:\n",
    "            diagonal[i + 1] = diagonal[i].children[digit]\n",
    "\n",
    "        # Update next cell anti-diagonal trie reference\n",
    "        if i == n - j - 1 and i < n - 1:\n",
    "            antidiagonal[i + 1] = antidiagonal[i].children[digit]\n",
    "\n",
    "        # Proceed to next cell\n",
    "        if j < n - 1:\n",
    "            backtrack(n, i, j + 1, horizontals, verticals, diagonal, antidiagonal, grid, root)\n",
    "        else:\n",
    "            backtrack(n, i + 1, 0, horizontals, verticals, diagonal, antidiagonal, grid, root)\n",
    "\n",
    "\n",
    "\n",
    "# Initialize grid\n",
    "grid = [[-1] * n for _ in range(n)]\n",
    "\n",
    "# Precess groups one by one\n",
    "for group in groups.values():\n",
    "    # Create trie and insert all the relevant primes\n",
    "    trie = Trie()\n",
    "    for prime in group:\n",
    "        trie.insert(prime)\n",
    "\n",
    "    # Initialize arrays to keep track of trie node references corresponding to each cell\n",
    "    horizontals = [[trie.root] * n for _ in range(n)]\n",
    "    verticals = [[trie.root] * n for _ in range(n)]\n",
    "    diagonal = [trie.root] * n\n",
    "    antidiagonal = [trie.root] * n\n",
    "\n",
    "    # Find the answer using backtracking\n",
    "    backtrack(n, 0, 0, horizontals, verticals, diagonal, antidiagonal, grid, trie.root)"
   ]
  },
  {
   "cell_type": "code",
   "execution_count": 6,
   "metadata": {},
   "outputs": [
    {
     "data": {
      "text/plain": [
       "(61, 488)"
      ]
     },
     "execution_count": 6,
     "metadata": {},
     "output_type": "execute_result"
    }
   ],
   "source": [
    "min_score, max_score"
   ]
  },
  {
   "cell_type": "code",
   "execution_count": 7,
   "metadata": {},
   "outputs": [
    {
     "data": {
      "text/plain": [
       "[['1', '7', '3', '3', '3'],\n",
       " ['4', '1', '8', '1', '3'],\n",
       " ['3', '3', '3', '1', '7'],\n",
       " ['2', '3', '2', '9', '1'],\n",
       " ['7', '3', '1', '3', '3']]"
      ]
     },
     "execution_count": 7,
     "metadata": {},
     "output_type": "execute_result"
    }
   ],
   "source": [
    "max_grid"
   ]
  },
  {
   "cell_type": "code",
   "execution_count": 8,
   "metadata": {},
   "outputs": [
    {
     "data": {
      "text/plain": [
       "[['2', '8', '4', '6', '3'],\n",
       " ['8', '9', '0', '5', '1'],\n",
       " ['4', '0', '7', '3', '9'],\n",
       " ['6', '5', '3', '2', '7'],\n",
       " ['3', '1', '9', '7', '3']]"
      ]
     },
     "execution_count": 8,
     "metadata": {},
     "output_type": "execute_result"
    }
   ],
   "source": [
    "min_grid"
   ]
  },
  {
   "cell_type": "code",
   "execution_count": null,
   "metadata": {},
   "outputs": [],
   "source": []
  }
 ],
 "metadata": {
  "kernelspec": {
   "display_name": "base",
   "language": "python",
   "name": "python3"
  },
  "language_info": {
   "name": "python",
   "version": "3.9.13"
  }
 },
 "nbformat": 4,
 "nbformat_minor": 2
}
