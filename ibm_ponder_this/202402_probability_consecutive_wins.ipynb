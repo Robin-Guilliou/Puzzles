{
 "cells": [
  {
   "cell_type": "markdown",
   "metadata": {},
   "source": [
    "# IBM Ponder This - February 2024\n",
    "\n",
    "## Problem Statement\n",
    "\n",
    "Alice and Bob play the following weird dice game using a standard set of 6 D&D dice, i.e., dice with values\n",
    "\n",
    "$1,\\ldots,4$ <br>\n",
    "$1,\\ldots,6$ <br>\n",
    "$1,\\ldots,8$ <br>\n",
    "$0,\\ldots,9$ <br>\n",
    "$1,\\ldots,12$ <br>\n",
    "$1,\\ldots,20$ \n",
    "\n",
    "At each round, they throw the dice and sum their values. All six dice need to be rolled once each round, and it doesn’t matter who rolls the dice. What matters in deciding who wins is the sum.\n",
    "\n",
    "\n",
    "Alice wins if the result is a prime number, and Bob wins if the result is a nonprime even number. Otherwise, the result of the round is a draw.\n",
    "\n",
    "\n",
    "The winner of the game is the first player to reach N consecutive wins.\n",
    "\n",
    "\n",
    "Your goal: For $N=13$ , find the probability that Alice wins the game.\n",
    "\n",
    "A Bonus \"*\" will be given for finding the probability that Alice wins given that $N=300$ but the rules have changed and Bob now wins if the result is a nonprime odd number.\n",
    "\n",
    "## Solution\n",
    "\n",
    "First we generate the distribution of the sum of dices (frequency of occurence of each sum) and compute the winning probability of each player and the probability of a draw. The winning probability of Alice, $p_A$, is the sum of frequencies of prime numbers divided by the total sum of frequencies of all sums. The probability of winning for Bob, $p_B$, is the sum of frequencies of even nonprime sums divided by the total sum of frequencies of all sums. The probability of drawing is $p_D = 1 - p_A - p_B$.\n",
    "\n",
    "Then we use a markov chain to determine the probability that Alice wins 13 consecutive games. Let $S_{0}$ denote the probability from the initial state at the start of the game or after a draw. Let $S_i$ with $1 \\leq i \\leq 13$ denote the states where Alice has $i$ consecutive wins and $S_{i}$ with $-13 \\leq i \\leq -1$ denote the states where Bob has $i$ consecutive wins.\n",
    "\n",
    "When in $S_0$, either Alice wins with probability $p_A$ and we move to $S_1$ or Bob wins with probability $p_B$ and we move to $S_{-1}$ or there is a draw and we stay in state $S_0$. From any state $1 \\leq i < 13$, we can either go to the next positive state with probability $p_A$, go to $S_{-1}$ with probability $p_B$ or go back to $S_0$ with probability $p_D$. Similarly, from any state $-13 < i \\leq -1$, we either move to the next negative state with probability $p_B$, move to state $S_1$ with probability $p_A$ or go back to $S_0$ with probability $p_D$. Finally we have the two final states, $S_{13} = 1$ when Alice wins and $S_{-13} = 0$ when Bob wins. We can describe all the states with the following system of equations\n",
    "\n",
    "\\begin{align}\n",
    "    &S_0 = p_A S_1 + p_B S_{-1} + p_D S_0 \\\\\n",
    "    &S_i = \\begin{cases} p_A S_{i + 1} + p_B S_{-1} + p_D S_0, \\quad 1 \\leq i < 13 \\\\\n",
    "    p_A S_1+ p_B S_{i - 1} + p_D S_0, \\quad -13 < i \\leq  -1\n",
    "    \\end{cases} \\\\\n",
    "    &S_{13} = 1 \\\\\n",
    "    &S_{-13} = 0\n",
    "\\end{align}\n",
    "\n",
    "Now we simply need to solve the system of equations for $S_0$ to obtain the answer."
   ]
  },
  {
   "cell_type": "code",
   "execution_count": 1,
   "metadata": {},
   "outputs": [],
   "source": [
    "import sympy\n",
    "from sympy import symbols, Eq, solve\n",
    "from collections import defaultdict"
   ]
  },
  {
   "cell_type": "code",
   "execution_count": 2,
   "metadata": {},
   "outputs": [
    {
     "name": "stdout",
     "output_type": "stream",
     "text": [
      "Probability that Alice wins is 12711/51200\n",
      "Probability that Bob wins is 1/2\n",
      "Probability of a draw is 12889/51200\n"
     ]
    }
   ],
   "source": [
    "# Compute the distribution\n",
    "d = defaultdict(int)\n",
    "for i in range(1, 5):\n",
    "    for j in range(1, 7):\n",
    "        for k in range(1, 9):\n",
    "            for l in range(10):\n",
    "                for m in range(1, 13):\n",
    "                    for n in range(1, 21):\n",
    "                        d[i + j + k + l + m + n] += 1\n",
    "\n",
    "# Determine the probability of winning for each player and probability of a draw\n",
    "alice = 0\n",
    "bob = 0\n",
    "draw = 0\n",
    "for key, val in d.items():\n",
    "    if sympy.isprime(key):\n",
    "        alice += val\n",
    "    elif key % 2 == 0:\n",
    "        bob += val\n",
    "    else:\n",
    "        draw += val\n",
    "p_alice = sympy.simplify(f\"{alice} / ({alice} + {bob} + {draw})\")\n",
    "p_bob = sympy.simplify(f\"{bob} / ({alice} + {bob} + {draw})\")\n",
    "p_draw = sympy.simplify(f\"{draw} / ({alice} + {bob} + {draw})\")\n",
    "\n",
    "print(f'Probability that Alice wins is {p_alice}')\n",
    "print(f'Probability that Bob wins is {p_bob}')\n",
    "print(f'Probability of a draw is {p_draw}')"
   ]
  },
  {
   "cell_type": "code",
   "execution_count": 3,
   "metadata": {},
   "outputs": [
    {
     "data": {
      "text/latex": [
       "$\\displaystyle \\frac{p^{13} \\left(- q^{12} - q^{11} - q^{10} - q^{9} - q^{8} - q^{7} - q^{6} - q^{5} - q^{4} - q^{3} - q^{2} - q - 1\\right)}{p^{12} q^{12} r + p^{12} q^{12} + p^{12} q^{11} r + p^{12} q^{11} + p^{12} q^{10} r + p^{12} q^{10} + p^{12} q^{9} r + p^{12} q^{9} + p^{12} q^{8} r + p^{12} q^{8} + p^{12} q^{7} r + p^{12} q^{7} + p^{12} q^{6} r + p^{12} q^{6} + p^{12} q^{5} r + p^{12} q^{5} + p^{12} q^{4} r + p^{12} q^{4} + p^{12} q^{3} r + p^{12} q^{3} + p^{12} q^{2} r + p^{12} q^{2} + p^{12} q r + p^{12} q + p^{12} r + p^{11} q^{12} r + p^{11} q^{12} + p^{11} q^{11} r + p^{11} q^{11} + p^{11} q^{10} r + p^{11} q^{10} + p^{11} q^{9} r + p^{11} q^{9} + p^{11} q^{8} r + p^{11} q^{8} + p^{11} q^{7} r + p^{11} q^{7} + p^{11} q^{6} r + p^{11} q^{6} + p^{11} q^{5} r + p^{11} q^{5} + p^{11} q^{4} r + p^{11} q^{4} + p^{11} q^{3} r + p^{11} q^{3} + p^{11} q^{2} r + p^{11} q^{2} + p^{11} q r + p^{11} q + p^{11} r + p^{10} q^{12} r + p^{10} q^{12} + p^{10} q^{11} r + p^{10} q^{11} + p^{10} q^{10} r + p^{10} q^{10} + p^{10} q^{9} r + p^{10} q^{9} + p^{10} q^{8} r + p^{10} q^{8} + p^{10} q^{7} r + p^{10} q^{7} + p^{10} q^{6} r + p^{10} q^{6} + p^{10} q^{5} r + p^{10} q^{5} + p^{10} q^{4} r + p^{10} q^{4} + p^{10} q^{3} r + p^{10} q^{3} + p^{10} q^{2} r + p^{10} q^{2} + p^{10} q r + p^{10} q + p^{10} r + p^{9} q^{12} r + p^{9} q^{12} + p^{9} q^{11} r + p^{9} q^{11} + p^{9} q^{10} r + p^{9} q^{10} + p^{9} q^{9} r + p^{9} q^{9} + p^{9} q^{8} r + p^{9} q^{8} + p^{9} q^{7} r + p^{9} q^{7} + p^{9} q^{6} r + p^{9} q^{6} + p^{9} q^{5} r + p^{9} q^{5} + p^{9} q^{4} r + p^{9} q^{4} + p^{9} q^{3} r + p^{9} q^{3} + p^{9} q^{2} r + p^{9} q^{2} + p^{9} q r + p^{9} q + p^{9} r + p^{8} q^{12} r + p^{8} q^{12} + p^{8} q^{11} r + p^{8} q^{11} + p^{8} q^{10} r + p^{8} q^{10} + p^{8} q^{9} r + p^{8} q^{9} + p^{8} q^{8} r + p^{8} q^{8} + p^{8} q^{7} r + p^{8} q^{7} + p^{8} q^{6} r + p^{8} q^{6} + p^{8} q^{5} r + p^{8} q^{5} + p^{8} q^{4} r + p^{8} q^{4} + p^{8} q^{3} r + p^{8} q^{3} + p^{8} q^{2} r + p^{8} q^{2} + p^{8} q r + p^{8} q + p^{8} r + p^{7} q^{12} r + p^{7} q^{12} + p^{7} q^{11} r + p^{7} q^{11} + p^{7} q^{10} r + p^{7} q^{10} + p^{7} q^{9} r + p^{7} q^{9} + p^{7} q^{8} r + p^{7} q^{8} + p^{7} q^{7} r + p^{7} q^{7} + p^{7} q^{6} r + p^{7} q^{6} + p^{7} q^{5} r + p^{7} q^{5} + p^{7} q^{4} r + p^{7} q^{4} + p^{7} q^{3} r + p^{7} q^{3} + p^{7} q^{2} r + p^{7} q^{2} + p^{7} q r + p^{7} q + p^{7} r + p^{6} q^{12} r + p^{6} q^{12} + p^{6} q^{11} r + p^{6} q^{11} + p^{6} q^{10} r + p^{6} q^{10} + p^{6} q^{9} r + p^{6} q^{9} + p^{6} q^{8} r + p^{6} q^{8} + p^{6} q^{7} r + p^{6} q^{7} + p^{6} q^{6} r + p^{6} q^{6} + p^{6} q^{5} r + p^{6} q^{5} + p^{6} q^{4} r + p^{6} q^{4} + p^{6} q^{3} r + p^{6} q^{3} + p^{6} q^{2} r + p^{6} q^{2} + p^{6} q r + p^{6} q + p^{6} r + p^{5} q^{12} r + p^{5} q^{12} + p^{5} q^{11} r + p^{5} q^{11} + p^{5} q^{10} r + p^{5} q^{10} + p^{5} q^{9} r + p^{5} q^{9} + p^{5} q^{8} r + p^{5} q^{8} + p^{5} q^{7} r + p^{5} q^{7} + p^{5} q^{6} r + p^{5} q^{6} + p^{5} q^{5} r + p^{5} q^{5} + p^{5} q^{4} r + p^{5} q^{4} + p^{5} q^{3} r + p^{5} q^{3} + p^{5} q^{2} r + p^{5} q^{2} + p^{5} q r + p^{5} q + p^{5} r + p^{4} q^{12} r + p^{4} q^{12} + p^{4} q^{11} r + p^{4} q^{11} + p^{4} q^{10} r + p^{4} q^{10} + p^{4} q^{9} r + p^{4} q^{9} + p^{4} q^{8} r + p^{4} q^{8} + p^{4} q^{7} r + p^{4} q^{7} + p^{4} q^{6} r + p^{4} q^{6} + p^{4} q^{5} r + p^{4} q^{5} + p^{4} q^{4} r + p^{4} q^{4} + p^{4} q^{3} r + p^{4} q^{3} + p^{4} q^{2} r + p^{4} q^{2} + p^{4} q r + p^{4} q + p^{4} r + p^{3} q^{12} r + p^{3} q^{12} + p^{3} q^{11} r + p^{3} q^{11} + p^{3} q^{10} r + p^{3} q^{10} + p^{3} q^{9} r + p^{3} q^{9} + p^{3} q^{8} r + p^{3} q^{8} + p^{3} q^{7} r + p^{3} q^{7} + p^{3} q^{6} r + p^{3} q^{6} + p^{3} q^{5} r + p^{3} q^{5} + p^{3} q^{4} r + p^{3} q^{4} + p^{3} q^{3} r + p^{3} q^{3} + p^{3} q^{2} r + p^{3} q^{2} + p^{3} q r + p^{3} q + p^{3} r + p^{2} q^{12} r + p^{2} q^{12} + p^{2} q^{11} r + p^{2} q^{11} + p^{2} q^{10} r + p^{2} q^{10} + p^{2} q^{9} r + p^{2} q^{9} + p^{2} q^{8} r + p^{2} q^{8} + p^{2} q^{7} r + p^{2} q^{7} + p^{2} q^{6} r + p^{2} q^{6} + p^{2} q^{5} r + p^{2} q^{5} + p^{2} q^{4} r + p^{2} q^{4} + p^{2} q^{3} r + p^{2} q^{3} + p^{2} q^{2} r + p^{2} q^{2} + p^{2} q r + p^{2} q + p^{2} r + p q^{12} r + p q^{12} + p q^{11} r + p q^{11} + p q^{10} r + p q^{10} + p q^{9} r + p q^{9} + p q^{8} r + p q^{8} + p q^{7} r + p q^{7} + p q^{6} r + p q^{6} + p q^{5} r + p q^{5} + p q^{4} r + p q^{4} + p q^{3} r + p q^{3} + p q^{2} r + p q^{2} + p q r + p q + p r + q^{12} r + q^{11} r + q^{10} r + q^{9} r + q^{8} r + q^{7} r + q^{6} r + q^{5} r + q^{4} r + q^{3} r + q^{2} r + q r + r - 1}$"
      ],
      "text/plain": [
       "p**13*(-q**12 - q**11 - q**10 - q**9 - q**8 - q**7 - q**6 - q**5 - q**4 - q**3 - q**2 - q - 1)/(p**12*q**12*r + p**12*q**12 + p**12*q**11*r + p**12*q**11 + p**12*q**10*r + p**12*q**10 + p**12*q**9*r + p**12*q**9 + p**12*q**8*r + p**12*q**8 + p**12*q**7*r + p**12*q**7 + p**12*q**6*r + p**12*q**6 + p**12*q**5*r + p**12*q**5 + p**12*q**4*r + p**12*q**4 + p**12*q**3*r + p**12*q**3 + p**12*q**2*r + p**12*q**2 + p**12*q*r + p**12*q + p**12*r + p**11*q**12*r + p**11*q**12 + p**11*q**11*r + p**11*q**11 + p**11*q**10*r + p**11*q**10 + p**11*q**9*r + p**11*q**9 + p**11*q**8*r + p**11*q**8 + p**11*q**7*r + p**11*q**7 + p**11*q**6*r + p**11*q**6 + p**11*q**5*r + p**11*q**5 + p**11*q**4*r + p**11*q**4 + p**11*q**3*r + p**11*q**3 + p**11*q**2*r + p**11*q**2 + p**11*q*r + p**11*q + p**11*r + p**10*q**12*r + p**10*q**12 + p**10*q**11*r + p**10*q**11 + p**10*q**10*r + p**10*q**10 + p**10*q**9*r + p**10*q**9 + p**10*q**8*r + p**10*q**8 + p**10*q**7*r + p**10*q**7 + p**10*q**6*r + p**10*q**6 + p**10*q**5*r + p**10*q**5 + p**10*q**4*r + p**10*q**4 + p**10*q**3*r + p**10*q**3 + p**10*q**2*r + p**10*q**2 + p**10*q*r + p**10*q + p**10*r + p**9*q**12*r + p**9*q**12 + p**9*q**11*r + p**9*q**11 + p**9*q**10*r + p**9*q**10 + p**9*q**9*r + p**9*q**9 + p**9*q**8*r + p**9*q**8 + p**9*q**7*r + p**9*q**7 + p**9*q**6*r + p**9*q**6 + p**9*q**5*r + p**9*q**5 + p**9*q**4*r + p**9*q**4 + p**9*q**3*r + p**9*q**3 + p**9*q**2*r + p**9*q**2 + p**9*q*r + p**9*q + p**9*r + p**8*q**12*r + p**8*q**12 + p**8*q**11*r + p**8*q**11 + p**8*q**10*r + p**8*q**10 + p**8*q**9*r + p**8*q**9 + p**8*q**8*r + p**8*q**8 + p**8*q**7*r + p**8*q**7 + p**8*q**6*r + p**8*q**6 + p**8*q**5*r + p**8*q**5 + p**8*q**4*r + p**8*q**4 + p**8*q**3*r + p**8*q**3 + p**8*q**2*r + p**8*q**2 + p**8*q*r + p**8*q + p**8*r + p**7*q**12*r + p**7*q**12 + p**7*q**11*r + p**7*q**11 + p**7*q**10*r + p**7*q**10 + p**7*q**9*r + p**7*q**9 + p**7*q**8*r + p**7*q**8 + p**7*q**7*r + p**7*q**7 + p**7*q**6*r + p**7*q**6 + p**7*q**5*r + p**7*q**5 + p**7*q**4*r + p**7*q**4 + p**7*q**3*r + p**7*q**3 + p**7*q**2*r + p**7*q**2 + p**7*q*r + p**7*q + p**7*r + p**6*q**12*r + p**6*q**12 + p**6*q**11*r + p**6*q**11 + p**6*q**10*r + p**6*q**10 + p**6*q**9*r + p**6*q**9 + p**6*q**8*r + p**6*q**8 + p**6*q**7*r + p**6*q**7 + p**6*q**6*r + p**6*q**6 + p**6*q**5*r + p**6*q**5 + p**6*q**4*r + p**6*q**4 + p**6*q**3*r + p**6*q**3 + p**6*q**2*r + p**6*q**2 + p**6*q*r + p**6*q + p**6*r + p**5*q**12*r + p**5*q**12 + p**5*q**11*r + p**5*q**11 + p**5*q**10*r + p**5*q**10 + p**5*q**9*r + p**5*q**9 + p**5*q**8*r + p**5*q**8 + p**5*q**7*r + p**5*q**7 + p**5*q**6*r + p**5*q**6 + p**5*q**5*r + p**5*q**5 + p**5*q**4*r + p**5*q**4 + p**5*q**3*r + p**5*q**3 + p**5*q**2*r + p**5*q**2 + p**5*q*r + p**5*q + p**5*r + p**4*q**12*r + p**4*q**12 + p**4*q**11*r + p**4*q**11 + p**4*q**10*r + p**4*q**10 + p**4*q**9*r + p**4*q**9 + p**4*q**8*r + p**4*q**8 + p**4*q**7*r + p**4*q**7 + p**4*q**6*r + p**4*q**6 + p**4*q**5*r + p**4*q**5 + p**4*q**4*r + p**4*q**4 + p**4*q**3*r + p**4*q**3 + p**4*q**2*r + p**4*q**2 + p**4*q*r + p**4*q + p**4*r + p**3*q**12*r + p**3*q**12 + p**3*q**11*r + p**3*q**11 + p**3*q**10*r + p**3*q**10 + p**3*q**9*r + p**3*q**9 + p**3*q**8*r + p**3*q**8 + p**3*q**7*r + p**3*q**7 + p**3*q**6*r + p**3*q**6 + p**3*q**5*r + p**3*q**5 + p**3*q**4*r + p**3*q**4 + p**3*q**3*r + p**3*q**3 + p**3*q**2*r + p**3*q**2 + p**3*q*r + p**3*q + p**3*r + p**2*q**12*r + p**2*q**12 + p**2*q**11*r + p**2*q**11 + p**2*q**10*r + p**2*q**10 + p**2*q**9*r + p**2*q**9 + p**2*q**8*r + p**2*q**8 + p**2*q**7*r + p**2*q**7 + p**2*q**6*r + p**2*q**6 + p**2*q**5*r + p**2*q**5 + p**2*q**4*r + p**2*q**4 + p**2*q**3*r + p**2*q**3 + p**2*q**2*r + p**2*q**2 + p**2*q*r + p**2*q + p**2*r + p*q**12*r + p*q**12 + p*q**11*r + p*q**11 + p*q**10*r + p*q**10 + p*q**9*r + p*q**9 + p*q**8*r + p*q**8 + p*q**7*r + p*q**7 + p*q**6*r + p*q**6 + p*q**5*r + p*q**5 + p*q**4*r + p*q**4 + p*q**3*r + p*q**3 + p*q**2*r + p*q**2 + p*q*r + p*q + p*r + q**12*r + q**11*r + q**10*r + q**9*r + q**8*r + q**7*r + q**6*r + q**5*r + q**4*r + q**3*r + q**2*r + q*r + r - 1)"
      ]
     },
     "execution_count": 3,
     "metadata": {},
     "output_type": "execute_result"
    }
   ],
   "source": [
    "# Create and solve the system of equations\n",
    "\n",
    "P, A1, A2, A3, A4, A5, A6, A7, A8, A9, A10, A11, A12, A13, B1, B2, B3, B4, B5, B6, B7, B8, B9, B10, B11, B12, B13, p, q, r = symbols('P A1 A2 A3 A4 A5 A6 A7 A8 A9 A10 A11 A12 A13 B1 B2 B3 B4 B5 B6 B7 B8 B9 B10 B11 B12 B13 p q r')\n",
    "\n",
    "eq0 = Eq(P, A1*p + B1*q + P*r)\n",
    "eq1 = Eq(A1, A2*p + B1*q + P*r)\n",
    "eq2 = Eq(A2, A3*p + B1*q + P*r)\n",
    "eq3 = Eq(A3, A4*p + B1*q + P*r)\n",
    "eq4 = Eq(A4, A5*p + B1*q + P*r)\n",
    "eq5 = Eq(A5, A6*p + B1*q + P*r)\n",
    "eq6 = Eq(A6, A7*p + B1*q + P*r)\n",
    "eq7 = Eq(A7, A8*p + B1*q + P*r)\n",
    "eq8 = Eq(A8, A9*p + B1*q + P*r)\n",
    "eq9 = Eq(A9, A10*p + B1*q + P*r)\n",
    "eq10 = Eq(A10, A11*p + B1*q + P*r)\n",
    "eq11 = Eq(A11, A12*p + B1*q + P*r)\n",
    "eq12 = Eq(A12, A13*p + B1*q + P*r)\n",
    "eq13 = Eq(A13, 1)\n",
    "\n",
    "eq21 = Eq(B1, A1*p + B2*q + P*r)\n",
    "eq22 = Eq(B2, A1*p + B3*q + P*r)\n",
    "eq23 = Eq(B3, A1*p + B4*q + P*r)\n",
    "eq24 = Eq(B4, A1*p + B5*q + P*r)\n",
    "eq25 = Eq(B5, A1*p + B6*q + P*r)\n",
    "eq26 = Eq(B6, A1*p + B7*q + P*r)\n",
    "eq27 = Eq(B7, A1*p + B8*q + P*r)\n",
    "eq28 = Eq(B8, A1*p + B9*q + P*r)\n",
    "eq29 = Eq(B9, A1*p + B10*q + P*r)\n",
    "eq30 = Eq(B10, A1*p + B11*q + P*r)\n",
    "eq31 = Eq(B11, A1*p + B12*q + P*r)\n",
    "eq32 = Eq(B12, A1*p + B13*q + P*r)\n",
    "eq33 = Eq(B13, 0)\n",
    "\n",
    "solution = solve((eq0, eq1, eq2, eq3, eq4, eq5, eq6, eq7, eq8, eq9, eq10, eq11, eq12, eq13, eq21, eq22, eq23, eq24, eq25, eq26, eq27, eq28, eq29, eq30, eq31, eq32, eq33), (P, A1, A2, A3, A4, A5, A6, A7, A8, A9, A10, A11, A12, A13, B1, B2, B3, B4, B5, B6, B7, B8, B9, B10, B11, B12, B13))\n",
    "\n",
    "sympy.simplify(solution[P])"
   ]
  },
  {
   "cell_type": "code",
   "execution_count": 4,
   "metadata": {},
   "outputs": [
    {
     "data": {
      "text/latex": [
       "$\\displaystyle \\frac{1852137689209162765594102138215850956181263861797578044921}{11053138293799686957338442574894173280443057797092491883862521}$"
      ],
      "text/plain": [
       "1852137689209162765594102138215850956181263861797578044921/11053138293799686957338442574894173280443057797092491883862521"
      ]
     },
     "execution_count": 4,
     "metadata": {},
     "output_type": "execute_result"
    }
   ],
   "source": [
    "# Get the result\n",
    "res = sympy.simplify(solution[P]).subs(p, p_alice).subs(q, p_bob).subs(r, p_draw)\n",
    "sympy.simplify(res)"
   ]
  },
  {
   "cell_type": "code",
   "execution_count": 5,
   "metadata": {},
   "outputs": [
    {
     "data": {
      "text/latex": [
       "$\\displaystyle 0.000167566680157085$"
      ],
      "text/plain": [
       "0.000167566680157085"
      ]
     },
     "execution_count": 5,
     "metadata": {},
     "output_type": "execute_result"
    }
   ],
   "source": [
    "res.evalf(15)"
   ]
  },
  {
   "cell_type": "code",
   "execution_count": 6,
   "metadata": {},
   "outputs": [
    {
     "data": {
      "text/latex": [
       "$\\displaystyle \\frac{1852137689209162765594102138215850956181263861797578044921}{11053138293799686957338442574894173280443057797092491883862521}$"
      ],
      "text/plain": [
       "1852137689209162765594102138215850956181263861797578044921/11053138293799686957338442574894173280443057797092491883862521"
      ]
     },
     "execution_count": 6,
     "metadata": {},
     "output_type": "execute_result"
    }
   ],
   "source": [
    "# Avoid symbolic computation\n",
    "\n",
    "p = p_alice\n",
    "q = p_bob\n",
    "r = p_draw\n",
    "\n",
    "P, A1, A2, A3, A4, A5, A6, A7, A8, A9, A10, A11, A12, A13, B1, B2, B3, B4, B5, B6, B7, B8, B9, B10, B11, B12, B13 = symbols('P A1 A2 A3 A4 A5 A6 A7 A8 A9 A10 A11 A12 A13 B1 B2 B3 B4 B5 B6 B7 B8 B9 B10 B11 B12 B13')\n",
    "\n",
    "eq0 = Eq(P, A1*p + B1*q + P*r)\n",
    "eq1 = Eq(A1, A2*p + B1*q + P*r)\n",
    "eq2 = Eq(A2, A3*p + B1*q + P*r)\n",
    "eq3 = Eq(A3, A4*p + B1*q + P*r)\n",
    "eq4 = Eq(A4, A5*p + B1*q + P*r)\n",
    "eq5 = Eq(A5, A6*p + B1*q + P*r)\n",
    "eq6 = Eq(A6, A7*p + B1*q + P*r)\n",
    "eq7 = Eq(A7, A8*p + B1*q + P*r)\n",
    "eq8 = Eq(A8, A9*p + B1*q + P*r)\n",
    "eq9 = Eq(A9, A10*p + B1*q + P*r)\n",
    "eq10 = Eq(A10, A11*p + B1*q + P*r)\n",
    "eq11 = Eq(A11, A12*p + B1*q + P*r)\n",
    "eq12 = Eq(A12, A13*p + B1*q + P*r)\n",
    "eq13 = Eq(A13, 1)\n",
    "\n",
    "eq21 = Eq(B1, A1*p + B2*q + P*r)\n",
    "eq22 = Eq(B2, A1*p + B3*q + P*r)\n",
    "eq23 = Eq(B3, A1*p + B4*q + P*r)\n",
    "eq24 = Eq(B4, A1*p + B5*q + P*r)\n",
    "eq25 = Eq(B5, A1*p + B6*q + P*r)\n",
    "eq26 = Eq(B6, A1*p + B7*q + P*r)\n",
    "eq27 = Eq(B7, A1*p + B8*q + P*r)\n",
    "eq28 = Eq(B8, A1*p + B9*q + P*r)\n",
    "eq29 = Eq(B9, A1*p + B10*q + P*r)\n",
    "eq30 = Eq(B10, A1*p + B11*q + P*r)\n",
    "eq31 = Eq(B11, A1*p + B12*q + P*r)\n",
    "eq32 = Eq(B12, A1*p + B13*q + P*r)\n",
    "eq33 = Eq(B13, 0)\n",
    "\n",
    "solution = solve((eq0, eq1, eq2, eq3, eq4, eq5, eq6, eq7, eq8, eq9, eq10, eq11, eq12, eq13, eq21, eq22, eq23, eq24, eq25, eq26, eq27, eq28, eq29, eq30, eq31, eq32, eq33), (P, A1, A2, A3, A4, A5, A6, A7, A8, A9, A10, A11, A12, A13, B1, B2, B3, B4, B5, B6, B7, B8, B9, B10, B11, B12, B13))\n",
    "\n",
    "sympy.simplify(solution[P])"
   ]
  },
  {
   "cell_type": "code",
   "execution_count": 7,
   "metadata": {},
   "outputs": [
    {
     "data": {
      "text/latex": [
       "$\\displaystyle \\frac{1852137689209162765594102138215850956181263861797578044921}{11053138293799686957338442574894173280443057797092491883862521}$"
      ],
      "text/plain": [
       "1852137689209162765594102138215850956181263861797578044921/11053138293799686957338442574894173280443057797092491883862521"
      ]
     },
     "execution_count": 7,
     "metadata": {},
     "output_type": "execute_result"
    }
   ],
   "source": [
    "# Generate equations in a cleaner way for given N\n",
    "\n",
    "def generate_equations(N):\n",
    "    P = sympy.symbols('P')\n",
    "    A = sympy.symbols(f'A1:A{N+1}')\n",
    "    B = sympy.symbols(f'B1:B{N+1}')\n",
    "\n",
    "    # Initial equation for P\n",
    "    equations = [sympy.Eq(P, A[0]*p_alice + B[0]*p_bob + P*p_draw)]\n",
    "\n",
    "    # Equations for A_i\n",
    "    for i in range(N):\n",
    "        if i < N-1:\n",
    "            equations.append(sympy.Eq(A[i], A[i+1]*p_alice + B[0]*p_bob + P*p_draw))\n",
    "        else:\n",
    "            equations.append(sympy.Eq(A[i], 1))  # Final state for A_N\n",
    "    # Equations for B_i\n",
    "    for i in range(N):\n",
    "        if i < N-1:\n",
    "            equations.append(sympy.Eq(B[i], A[0]*p_alice + B[i+1]*p_bob + P*p_draw))\n",
    "        else:\n",
    "            equations.append(sympy.Eq(B[i], 0))  # Final state for B_N\n",
    "\n",
    "    # Solve the equations\n",
    "    solution = sympy.solve(equations, (P, *A, *B))\n",
    "    return sympy.simplify(solution[P])\n",
    "\n",
    "# Example usage for N = 13\n",
    "P_value_for_N13 = generate_equations(13)\n",
    "P_value_for_N13\n"
   ]
  },
  {
   "cell_type": "code",
   "execution_count": null,
   "metadata": {},
   "outputs": [],
   "source": []
  }
 ],
 "metadata": {
  "kernelspec": {
   "display_name": "base",
   "language": "python",
   "name": "python3"
  },
  "language_info": {
   "codemirror_mode": {
    "name": "ipython",
    "version": 3
   },
   "file_extension": ".py",
   "mimetype": "text/x-python",
   "name": "python",
   "nbconvert_exporter": "python",
   "pygments_lexer": "ipython3",
   "version": "3.9.13"
  }
 },
 "nbformat": 4,
 "nbformat_minor": 2
}
