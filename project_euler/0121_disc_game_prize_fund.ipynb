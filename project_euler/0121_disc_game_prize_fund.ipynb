{
 "cells": [
  {
   "cell_type": "markdown",
   "metadata": {},
   "source": [
    "# 121 - Disc Game Prize Fund\n",
    "\n",
    "## Problem Statement\n",
    "\n",
    "A bag contains one red disc and one blue disc. In a game of chance a player takes a disc at random and its colour is noted. After each turn the disc is returned to the bag, an extra red disc is added, and another disc is taken at random.\n",
    "\n",
    "The player pays £1 to play and wins if they have taken more blue discs than red discs at the end of the game.\n",
    "\n",
    "If the game is played for four turns, the probability of a player winning is exactly 11/120, and so the maximum prize fund the banker should allocate for winning in this game would be £10 before they would expect to incur a loss. Note that any payout will be a whole number of pounds and also includes the original £1 paid to play the game, so in the example given the player actually wins £9.\n",
    "\n",
    "Find the maximum prize fund that should be allocated to a single game in which fifteen turns are played.\n",
    "\n",
    "## Solution\n",
    "\n",
    "We can use the Poisson binomial distribution to solve this problem. It is the probability distribution of a sum of independent Bernouilli trials that are not necessarily identically distributed. Here, instead of a constant probability, we have\n",
    "\n",
    "\\begin{equation}\n",
    "    p_i = \\frac{1}{i + 1}, \\qquad i = 1, 2, \\cdots, 15.\n",
    "\\end{equation}\n",
    "\n",
    "The probability of winning the game is the probability of having at least 8 successes among the 15 trials. We can compute the probability mass function of the Poisson binomial distribution using the discrete Fourier transform where the probability of $k$ successes among $n$ trials is given by\n",
    "\n",
    "\\begin{equation}\n",
    "    P(K = k) = \\frac{1}{n + 1} \\sum_{\\alpha = 0}^n C^{-\\alpha k} \\prod_{x = 1}^n (1 + (C^\\alpha - 1)p_x)\n",
    "\\end{equation}\n",
    "\n",
    "where\n",
    "\n",
    "\\begin{equation}\n",
    "    C = \\exp \\left( \\frac{2i\\pi}{n + 1} \\right)\n",
    "\\end{equation}\n",
    "\n",
    "and $i = \\sqrt{-1}$.\n",
    "\n",
    "Note that there are several ways to compute the PMF of the Poisson binomial distribution and we could have compute the CDF directly. Below we show an alternative way of getting the PMF using the Direct Convolution algorithm.\n",
    "\n",
    "The probability of winning the game, $p$, is simply\n",
    "\n",
    "\\begin{equation}\n",
    "    p = \\sum_{k = 8}^{15} P(K = k).\n",
    "\\end{equation}\n",
    "\n",
    "Once we have the $p$, we need to find the maximum prize $X$. When the player wins, he gets $(X - 1)$ and this happens with probability $p$. Otherwise, with probability $(1 - p)$, the player loses 1. For the banker to be happy, the overall payoff to the player must be negative. Therefore, we have the following equation\n",
    "\n",
    "\\begin{equation}\n",
    "    (X - 1)p - (1 - p) < 0\n",
    "\\end{equation}\n",
    "\n",
    "which leads to the solution\n",
    "\n",
    "\\begin{equation}\n",
    "    X < \\frac{1}{p}.\n",
    "\\end{equation}\n",
    "\n",
    "The solution is the smallest $X$ smaller than $\\frac{1}{p}$."
   ]
  },
  {
   "cell_type": "code",
   "execution_count": 24,
   "metadata": {},
   "outputs": [],
   "source": [
    "import numpy as np\n",
    "\n",
    "def poisson_binomial_distribution_dft(k, p):\n",
    "    # Poisson binomial distribution (discrete Fourier transform)\n",
    "    n = len(p) - 1\n",
    "    C = np.exp((2 * 1j * np.pi) / (n + 1))\n",
    "    curr_sum = 0\n",
    "    for i in range(n + 1):\n",
    "        curr_prod = 1\n",
    "        for j in range(1, n + 1):\n",
    "            curr_prod *= (1 + (C**i - 1) * p[j])\n",
    "        curr_sum += C**(-i * k) * curr_prod\n",
    "    return (curr_sum / (n + 1)).real"
   ]
  },
  {
   "cell_type": "code",
   "execution_count": 25,
   "metadata": {},
   "outputs": [
    {
     "data": {
      "text/plain": [
       "0.0004406394650193213"
      ]
     },
     "execution_count": 25,
     "metadata": {},
     "output_type": "execute_result"
    }
   ],
   "source": [
    "probabilities = [0] + [1/x for x in range(2, 17)]\n",
    "\n",
    "p = 0\n",
    "for k in range(8, 16):\n",
    "    p += poisson_binomial_distribution_dft(k, probabilities)\n",
    "p"
   ]
  },
  {
   "cell_type": "code",
   "execution_count": 26,
   "metadata": {},
   "outputs": [],
   "source": [
    "def poisson_binomial_pmf(p):\n",
    "    \"\"\" PMF of Poisson binomial distribution using the Direct Convolution algorithm \"\"\"\n",
    "\n",
    "    # Initialize the PMF array with the first element set to 1\n",
    "    pmf = [1]\n",
    "\n",
    "    for i, p_i in enumerate(p, start=1):\n",
    "        # Create a new PMF array for the current iteration with size i+1\n",
    "        next_pmf = [0] * (i + 1)\n",
    "\n",
    "        # Calculate the first and the last elements in the nextPMF array\n",
    "        next_pmf[0] = (1 - p_i) * pmf[0]\n",
    "        next_pmf[i] = p_i * pmf[i - 1]\n",
    "\n",
    "         # Calculate the intermediate elements in the nextPMF array\n",
    "        for k in range(1, i):\n",
    "            next_pmf[k] = p_i * pmf[k - 1] + (1 - p_i) * pmf[k]\n",
    "\n",
    "        # Update the PMF array to the nextPMF for the next iteration\n",
    "        pmf = next_pmf\n",
    "    return pmf"
   ]
  },
  {
   "cell_type": "code",
   "execution_count": 29,
   "metadata": {},
   "outputs": [
    {
     "data": {
      "text/plain": [
       "0.00044063946502123375"
      ]
     },
     "execution_count": 29,
     "metadata": {},
     "output_type": "execute_result"
    }
   ],
   "source": [
    "pmf = poisson_binomial_pmf(probabilities)\n",
    "p = sum(pmf[8:])\n",
    "\n",
    "p"
   ]
  },
  {
   "cell_type": "code",
   "execution_count": 30,
   "metadata": {},
   "outputs": [
    {
     "data": {
      "text/plain": [
       "2269.429044336307"
      ]
     },
     "execution_count": 30,
     "metadata": {},
     "output_type": "execute_result"
    }
   ],
   "source": [
    "1/p"
   ]
  },
  {
   "cell_type": "markdown",
   "metadata": {},
   "source": [
    "Note that the problem could be solved without knowledge of the Poisson binomial distribution. A simple recursive function would give the probability."
   ]
  },
  {
   "cell_type": "code",
   "execution_count": 34,
   "metadata": {},
   "outputs": [
    {
     "data": {
      "text/plain": [
       "0.0004406394650212338"
      ]
     },
     "execution_count": 34,
     "metadata": {},
     "output_type": "execute_result"
    }
   ],
   "source": [
    "def play(r, score, remain, threshold):\n",
    "    if remain == 0:\n",
    "        return (score >= threshold)\n",
    "    p = (1 / (1 + r))\n",
    "    return p * play(r + 1, score + 1, remain - 1, threshold) + (1 - p) * play(r + 1, score, remain - 1, threshold)\n",
    "\n",
    "play(1, 0, 15, 8)"
   ]
  },
  {
   "cell_type": "code",
   "execution_count": null,
   "metadata": {},
   "outputs": [],
   "source": []
  }
 ],
 "metadata": {
  "language_info": {
   "name": "python"
  }
 },
 "nbformat": 4,
 "nbformat_minor": 2
}
