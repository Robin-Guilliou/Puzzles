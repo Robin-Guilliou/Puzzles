{
 "cells": [
  {
   "cell_type": "markdown",
   "metadata": {},
   "source": [
    "# 171 - Square Sum of the Digital Squares\n",
    "\n",
    "## Problem Statement\n",
    "\n",
    "For a positive integer $n$, let $f(n)$ be the sum of the squares of the digits (in base $10$) of $n$, e.g.\n",
    "\n",
    "\\begin{align}\n",
    "f(3) &= 3^2 = 9,\\\\\n",
    "f(25) &= 2^2 + 5^2 = 4 + 25 = 29,\\\\\n",
    "f(442) &= 4^2 + 4^2 + 2^2 = 16 + 16 + 4 = 36\\\\\n",
    "\\end{align}\n",
    "\n",
    "Find the last nine digits of the sum of all $n$, $0 \\lt n \\lt 10^{20}$, such that $f(n)$ is a perfect square.\n",
    "\n",
    "## Solution\n",
    "\n",
    "Given $n$ has at most 20 digits, the maximum value of $f(n)$ is $20 \\times 9^2 = 1620$. There are only 40 squares lower than this. For each of those squares, $s$, we can compute all the combinations of 20 squares (including 0) that sum to $s$. This can be achieved with a modified knapsack algorithm. \n",
    "\n",
    "For a given combination, we need to find the of the last 9 digits for all the permutations. Let $m_0, m_1, ..., m_9$ represent the number of $0, 1, ..., 9$ in the digit combination. The total number of distinct permutations, $N$, is given by\n",
    "\n",
    "\\begin{equation}\n",
    "    N = \\frac{20!}{m_0!m_1! \\cdots m_9!}.\n",
    "\\end{equation}\n",
    "\n",
    "In each permutation, each of the 20 positions is equally likely to contain each digit (according to its multiplicity). This means that among the $N$ permutations, the number that have the digit $d$ in a specific position is given by \n",
    "$$\\frac{m_d}{20}N.$$ \n",
    "The contribution of all the digits for a specific position is the sum of the individual contributions given by\n",
    "$$ \\frac{N}{20} \\sum_0^9 dm_d. $$\n",
    "Finally, we need to consider the contribution for each of the last 9 positions in the permutation. The $i$-th rightmost contribution needs to be multiplied $10^{i-1}$. Therefore, for the last 9 digits, we need to multiply the contribution by $\\sum_{i = 0}^8 10^i = 111111111$. Based on this, we can compute the contribution to the total sum of the combination as\n",
    "$$ 111111111 \\frac{N}{20} \\sum_0^9 dm_d. $$\n",
    "\n",
    "We now have everything we need. For each valid $f(n)$ we compute all the possible digit combinations and sum the contribution from each permutation of the digits. Finally, we apply modulo $10^9$ on the result to extract the last 9 digits."
   ]
  },
  {
   "cell_type": "code",
   "execution_count": 5,
   "metadata": {},
   "outputs": [],
   "source": [
    "import numpy as np\n",
    "from math import factorial\n",
    "from collections import Counter\n",
    "\n",
    "\n",
    "def knapsack_combinations_unique(n, max_elements):\n",
    "    \"\"\"\n",
    "    Finds all unique combinations of perfect squares that sum to `n`\n",
    "    with a maximum of `max_elements` in each combination.\n",
    "    \"\"\"\n",
    "    # List of perfect squares less than or equal to n\n",
    "    perfect_squares = [i**2 for i in range(1, 10)]\n",
    "\n",
    "    # DP table to store unique combinations\n",
    "    dp = [[] for _ in range(n + 1)]\n",
    "    dp[0] = [[]]  # Base case: one way to make sum 0\n",
    "\n",
    "    # Fill the DP table\n",
    "    for square in perfect_squares:\n",
    "        for target in range(square, n + 1):\n",
    "            for combination in dp[target - square]:\n",
    "                # Enforce non-decreasing order\n",
    "                if len(combination) < max_elements and (not combination or square >= combination[-1]):\n",
    "                    dp[target].append(combination + [square])\n",
    "\n",
    "    # Return all unique combinations that sum to n\n",
    "    return dp[n]\n",
    "\n",
    "\n",
    "def sum_of_last_9_digits_over_permutations(digits):\n",
    "    \"\"\"\n",
    "    Given a list of 20 digits (0..9, possibly with repeats),\n",
    "    return the sum of the last 9 digits (as a 9-digit number)\n",
    "    over all distinct permutations of those 20 digits.\n",
    "    \"\"\"\n",
    "\n",
    "    cnt = Counter(digits)\n",
    "    digit_sum = sum(digits)\n",
    "\n",
    "    # Count number of distinct permutations\n",
    "    n_permutations = factorial(20)\n",
    "    for digit_count in cnt.values():\n",
    "        n_permutations //= factorial(digit_count)\n",
    "\n",
    "    return 111111111 * (n_permutations * digit_sum) // 20"
   ]
  },
  {
   "cell_type": "code",
   "execution_count": 6,
   "metadata": {},
   "outputs": [
    {
     "data": {
      "text/plain": [
       "142989277"
      ]
     },
     "execution_count": 6,
     "metadata": {},
     "output_type": "execute_result"
    }
   ],
   "source": [
    "squares = []\n",
    "i = 1\n",
    "while i**2 <= 20*81:\n",
    "    squares.append(i**2)\n",
    "    i += 1\n",
    "\n",
    "res = 0\n",
    "for square in squares:\n",
    "    combs = knapsack_combinations_unique(square, 20)\n",
    "    for comb in combs:\n",
    "        for i in range(len(comb)):\n",
    "            comb[i] = int(np.sqrt(comb[i]))\n",
    "        comb = [0] * (20 - len(comb)) + comb\n",
    "        res += sum_of_last_9_digits_over_permutations(comb)\n",
    "\n",
    "res % 10**9"
   ]
  },
  {
   "cell_type": "code",
   "execution_count": null,
   "metadata": {},
   "outputs": [],
   "source": []
  }
 ],
 "metadata": {
  "language_info": {
   "name": "python"
  }
 },
 "nbformat": 4,
 "nbformat_minor": 2
}
