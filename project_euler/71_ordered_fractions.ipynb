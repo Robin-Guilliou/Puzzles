{
 "cells": [
  {
   "cell_type": "markdown",
   "metadata": {},
   "source": [
    "# 71 - Ordered Fractions\n",
    "\n",
    "## Problem Statement\n",
    "\n",
    "Consider the fraction, $\\dfrac n d$, where $n$ and $d$ are positive integers. If $n \\lt d$ and $\\operatorname{HCF}(n,d)=1$, it is called a reduced proper fraction.\n",
    "\n",
    "If we list the set of reduced proper fractions for $d \\le 8$ in ascending order of size, we get:\n",
    "$$\\frac 1 8, \\frac 1 7, \\frac 1 6, \\frac 1 5, \\frac 1 4, \\frac 2 7, \\frac 1 3, \\frac 3 8, \\mathbf{\\frac 2 5}, \\frac 3 7, \\frac 1 2, \\frac 4 7, \\frac 3 5, \\frac 5 8, \\frac 2 3, \\frac 5 7, \\frac 3 4, \\frac 4 5, \\frac 5 6, \\frac 6 7, \\frac 7 8$$\n",
    "\n",
    "It can be seen that $\\dfrac 2 5$ is the fraction immediately to the left of $\\dfrac 3 7$.\n",
    "\n",
    "By listing the set of reduced proper fractions for $d \\le 1\\,000\\,000$ in ascending order of size, find the numerator of the fraction immediately to the left of $\\dfrac 3 7$.\n",
    "\n",
    "## Solution\n",
    "\n",
    "Starting with $n = 1$ and $d = 1$, we compare $f = \\frac{n}{d}$ to $\\frac{3}{7}$. If $f$ is lower, we compare it to the maximum value below $\\frac{3}{7}$ that we have encountered so far. If $f$ is above, $f$ becomes the new maximum below $\\frac{3}{7}$. Then, we want to check a higher number so we increase $n$ by 1. If $f$ is higher than $\\frac{3}{7}$, we need a smaller number so we increase $d$ by 1. Every time we find a new highest number below $\\frac{3}{7}$, we keep track of its numerator. We continue while $d < 1000000$."
   ]
  },
  {
   "cell_type": "code",
   "execution_count": 34,
   "metadata": {},
   "outputs": [
    {
     "data": {
      "text/plain": [
       "428570"
      ]
     },
     "execution_count": 34,
     "metadata": {},
     "output_type": "execute_result"
    }
   ],
   "source": [
    "curr_max = 0\n",
    "res = 0\n",
    "\n",
    "threshold = 3 / 7\n",
    "n = 1\n",
    "d = 1\n",
    "while d < 10**6:\n",
    "    frac = n / d\n",
    "    if frac < threshold:\n",
    "        if curr_max < frac:\n",
    "            curr_max = frac\n",
    "            res = n\n",
    "        n += 1\n",
    "    else:\n",
    "        d += 1\n",
    "\n",
    "res"
   ]
  },
  {
   "cell_type": "code",
   "execution_count": null,
   "metadata": {},
   "outputs": [],
   "source": []
  }
 ],
 "metadata": {
  "language_info": {
   "name": "python"
  }
 },
 "nbformat": 4,
 "nbformat_minor": 2
}
