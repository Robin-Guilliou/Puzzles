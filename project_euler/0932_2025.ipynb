{
 "cells": [
  {
   "cell_type": "markdown",
   "metadata": {},
   "source": [
    "# 932 - 2025\n",
    "\n",
    "## Problem Statement\n",
    "\n",
    "For the year $2025$\n",
    "$$2025 = (20 + 25)^2$$\n",
    "\n",
    "Given positive integers $a$ and $b$, the concatenation $ab$ we call a $2025$-number if $ab = (a+b)^2$.<br>\n",
    "Other examples are $3025$ and $81$.<br>\n",
    "Note $9801$ is not a $2025$-number because the concatenation of $98$ and $1$ is $981$.\n",
    "\n",
    "Let $T(n)$ be the sum of all $2025$-numbers with $n$ digits or less. You are given $T(4) = 5131$.\n",
    "\n",
    "Find $T(16)$.\n",
    "\n",
    "## Solution\n",
    "\n",
    "The solution to this problem can be obtained with brute force. We loop through all the numbers $n$ from 1 to $10^8$ and check every possible split point in $n^2$. If we find a split such that $ab = (a+b)^2$ and $b$ does not have a leading zero, we add the $n^2$ to the result.\n"
   ]
  },
  {
   "cell_type": "code",
   "execution_count": 11,
   "metadata": {},
   "outputs": [
    {
     "data": {
      "text/plain": [
       "72673459417881349"
      ]
     },
     "execution_count": 11,
     "metadata": {},
     "output_type": "execute_result"
    }
   ],
   "source": [
    "import math\n",
    "from numba import njit\n",
    "\n",
    "@njit\n",
    "def count_digits(n):\n",
    "    \"\"\"Returns the number of digits in n.\"\"\"\n",
    "    if n == 0:\n",
    "        return 1\n",
    "    return math.floor(math.log10(n)) + 1\n",
    "\n",
    "@njit\n",
    "def is_2025_number(s):\n",
    "    \"\"\"Check if s^2 can be split into two parts whose sum equals s.\"\"\"\n",
    "    sq = s * s\n",
    "    num_digits = count_digits(sq)\n",
    "\n",
    "    # Try every valid cut position\n",
    "    divisor = 10\n",
    "    for _ in range(1, num_digits):  # At least one digit in right part\n",
    "        a = sq // divisor  # Left part\n",
    "        b = sq % divisor   # Right part\n",
    "        if b > 0 and a > 0 and a + b == s and count_digits(a) + count_digits(b) == num_digits:\n",
    "            return True\n",
    "\n",
    "        divisor *= 10  # Move to next possible split position\n",
    "\n",
    "    return False\n",
    "\n",
    "@njit\n",
    "def find_2025_numbers(limit):\n",
    "    \"\"\"Find and sum all 2025-numbers up to limit.\"\"\"\n",
    "    res = 0\n",
    "    for s in range(1, limit):\n",
    "        if is_2025_number(s):\n",
    "            res += s * s\n",
    "    return res\n",
    "\n",
    "# Compute result for numbers with at most 16 digits\n",
    "res = find_2025_numbers(10**8)\n",
    "\n",
    "res"
   ]
  },
  {
   "cell_type": "code",
   "execution_count": null,
   "metadata": {},
   "outputs": [],
   "source": []
  },
  {
   "cell_type": "markdown",
   "metadata": {},
   "source": [
    "Below is a much more efficient solution obtained with the help of ChatGPT o3-mini-high."
   ]
  },
  {
   "cell_type": "code",
   "execution_count": 2,
   "metadata": {},
   "outputs": [
    {
     "data": {
      "text/plain": [
       "72673459417881349"
      ]
     },
     "execution_count": 2,
     "metadata": {},
     "output_type": "execute_result"
    }
   ],
   "source": [
    "import itertools\n",
    "\n",
    "def prime_factors(n):\n",
    "    \"\"\"Return the list of distinct prime factors of n.\"\"\"\n",
    "    factors = {}\n",
    "    d = 2\n",
    "    temp = n\n",
    "    while d * d <= temp:\n",
    "        while temp % d == 0:\n",
    "            factors[d] = 1\n",
    "            temp //= d\n",
    "        d += 1\n",
    "    if temp > 1:\n",
    "        factors[temp] = 1\n",
    "    return list(factors.keys())\n",
    "\n",
    "def chinese_remainder(remainders, moduli):\n",
    "    \"\"\"\n",
    "    Given lists 'remainders' and 'moduli' (which are pairwise coprime),\n",
    "    returns the unique solution modulo M = product(moduli) of\n",
    "         x ≡ r (mod m) for each pair.\n",
    "    \"\"\"\n",
    "    M = 1\n",
    "    for m in moduli:\n",
    "        M *= m\n",
    "    x = 0\n",
    "    for (r, m) in zip(remainders, moduli):\n",
    "        M_m = M // m\n",
    "        # Using Python’s built-in pow with third argument for modular inverse.\n",
    "        inv = pow(M_m, -1, m)\n",
    "        x += r * M_m * inv\n",
    "    return x % M\n",
    "\n",
    "res = 0\n",
    "\n",
    "# d = number of digits of b. With d=1,...,8 the total digits of s^2 are at most 16.\n",
    "for d in range(1, 9):\n",
    "    m = 10**d - 1   # We require that s(s-1) is divisible by m.\n",
    "    lower = 10**(d-1)\n",
    "    upper = 10**d\n",
    "    if d == 1:\n",
    "        # Special case: for d=1, the only possibility is s = 9.\n",
    "        s = 9\n",
    "        sq = s*s\n",
    "        # When splitting s^2, the right part must have 1 digit.\n",
    "        sq_str = str(sq)\n",
    "        cut = len(sq_str) - 1\n",
    "        a_str = sq_str[:cut]\n",
    "        b_str = sq_str[cut:]\n",
    "        if b_str[0] != '0' and int(a_str) + int(b_str) == s:\n",
    "            res += sq\n",
    "    else:\n",
    "        # For d>=2, we want s in [lower, upper) with s(s-1) ≡ 0 mod m.\n",
    "        # Note: s(s-1) ≡ 0 mod m means that for every prime factor p of m,\n",
    "        # we must have s ≡ 0 or 1 (mod p).\n",
    "        primes = prime_factors(m)\n",
    "        # The solutions modulo the product of the distinct primes (call it 'step')\n",
    "        # are given by choosing for each prime factor a residue 0 or 1.\n",
    "        step = 1\n",
    "        for p in primes:\n",
    "            step *= p  # product over distinct primes\n",
    "        candidate_s = set()\n",
    "        for combo in itertools.product([0, 1], repeat=len(primes)):\n",
    "            r_list = list(combo)\n",
    "            # Solve the system: x ≡ r_i (mod p_i) for each prime factor p_i.\n",
    "            base = chinese_remainder(r_list, primes)\n",
    "            # Now, every number of the form s = base + t*step is a solution modulo the product of the distinct primes.\n",
    "            # We now search for those s in the interval [lower, upper).\n",
    "            t = 0\n",
    "            while True:\n",
    "                s = base + t * step\n",
    "                if s >= upper:\n",
    "                    break\n",
    "                if s >= lower:\n",
    "                    # Check the full divisibility condition (with the full power of primes in m)\n",
    "                    if (s*(s-1)) % m == 0:\n",
    "                        # Now check the “splitting” property:\n",
    "                        # Write s^2 as a concatenation of two parts, where the right part has exactly d digits.\n",
    "                        sq = s * s\n",
    "                        sq_str = str(sq)\n",
    "                        # The right part must be the last d digits.\n",
    "                        if len(sq_str) > d:\n",
    "                            cut = len(sq_str) - d\n",
    "                            a_str = sq_str[:cut]\n",
    "                            b_str = sq_str[cut:]\n",
    "                            if b_str[0] != '0':\n",
    "                                a_val = int(a_str)\n",
    "                                b_val = int(b_str)\n",
    "                                if a_val + b_val == s:\n",
    "                                    res += s*s\n",
    "                t += 1\n",
    "\n",
    "res"
   ]
  },
  {
   "cell_type": "code",
   "execution_count": null,
   "metadata": {},
   "outputs": [],
   "source": []
  }
 ],
 "metadata": {
  "language_info": {
   "name": "python"
  }
 },
 "nbformat": 4,
 "nbformat_minor": 2
}
