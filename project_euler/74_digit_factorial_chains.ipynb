{
 "cells": [
  {
   "cell_type": "code",
   "execution_count": 20,
   "metadata": {},
   "outputs": [],
   "source": [
    "from math import factorial"
   ]
  },
  {
   "cell_type": "code",
   "execution_count": 24,
   "metadata": {},
   "outputs": [],
   "source": [
    "## Inefficient --> Add memoization\n",
    "\n",
    "def solve(num, chain):\n",
    "    digits = sorted(list(str(num)))\n",
    "    s = \"\".join(digits)\n",
    "    if s in chain:\n",
    "        return len(chain)\n",
    "    chain.add(s)\n",
    "    new_num = sum(factorial(int(x)) for x in digits)\n",
    "    return solve(new_num, chain)"
   ]
  },
  {
   "cell_type": "code",
   "execution_count": 25,
   "metadata": {},
   "outputs": [
    {
     "data": {
      "text/plain": [
       "402"
      ]
     },
     "execution_count": 25,
     "metadata": {},
     "output_type": "execute_result"
    }
   ],
   "source": [
    "count = 0\n",
    "for num in range(1, 1000000):\n",
    "    res = solve(\"\".join(sorted(list(str(num)))), set())\n",
    "    if res == 60:\n",
    "        count += 1\n",
    "count"
   ]
  },
  {
   "cell_type": "code",
   "execution_count": null,
   "metadata": {},
   "outputs": [],
   "source": []
  },
  {
   "cell_type": "code",
   "execution_count": 23,
   "metadata": {},
   "outputs": [
    {
     "data": {
      "text/plain": [
       "402"
      ]
     },
     "execution_count": 23,
     "metadata": {},
     "output_type": "execute_result"
    }
   ],
   "source": [
    "from math import factorial\n",
    "\n",
    "def factorial_digit_sum(n):\n",
    "    return sum(factorial(int(d)) for d in str(n))\n",
    "\n",
    "memo = {}\n",
    "\n",
    "def calculate_chain_length(n):\n",
    "    seen = {}\n",
    "    current = n\n",
    "    steps = 0\n",
    "\n",
    "    # Iterate until we find a loop or hit a precomputed result\n",
    "    while current not in seen and current not in memo:\n",
    "        seen[current] = steps\n",
    "        current = factorial_digit_sum(current)\n",
    "        steps += 1\n",
    "\n",
    "    if current in memo:\n",
    "        loop_length = memo[current]\n",
    "        first_seen_step = seen[current] if current in seen else steps\n",
    "    else:\n",
    "        first_seen_step = seen[current]\n",
    "        loop_length = steps - first_seen_step  # Calculate the length of the loop\n",
    "\n",
    "    # Update the memo with new calculations\n",
    "    for num, step in seen.items():\n",
    "        if step < first_seen_step:\n",
    "            memo[num] = loop_length + (first_seen_step - step)\n",
    "        else:\n",
    "            memo[num] = loop_length\n",
    "\n",
    "    return memo[n]\n",
    "\n",
    "# Calculate for numbers from 1 to 999999\n",
    "count = 0\n",
    "for num in range(1, 1000000):\n",
    "    if calculate_chain_length(num) == 60:\n",
    "        count += 1\n",
    "count\n"
   ]
  },
  {
   "cell_type": "code",
   "execution_count": null,
   "metadata": {},
   "outputs": [],
   "source": []
  }
 ],
 "metadata": {
  "language_info": {
   "name": "python"
  }
 },
 "nbformat": 4,
 "nbformat_minor": 2
}
