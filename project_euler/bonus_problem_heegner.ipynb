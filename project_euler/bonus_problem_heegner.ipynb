{
 "cells": [
  {
   "cell_type": "markdown",
   "metadata": {},
   "source": [
    "# Problem Heegner\n",
    "\n",
    "## Problem Statement\n",
    "\n",
    "Among all non-square integers $n$ with absolute value not exceeding $10^3$, find the value of $n$ such that $\\cos(\\pi  \\sqrt{n})$ is closest to an integer.\n",
    "\n",
    "## Solution\n",
    "\n",
    "For positive integers, finding the value closest to an integer is straightforward. For negative integers, we have\n",
    "\n",
    "\\begin{equation}\n",
    "    \\cos(\\pi \\sqrt{-x}) = \\cos(\\pi i\\sqrt{x}) = \\cosh(\\pi \\sqrt{x}).\n",
    "\\end{equation}\n",
    "\n",
    "Then, the implementation is straightforward. For each non-square $n$, we compute the distance between $f(n)$ and its nearest integer. Given hyperbolic cosine can quickly reach extremely large values, we use `sympy` to handle high precision."
   ]
  },
  {
   "cell_type": "code",
   "execution_count": 1,
   "metadata": {},
   "outputs": [
    {
     "data": {
      "text/plain": [
       "-163"
      ]
     },
     "execution_count": 1,
     "metadata": {},
     "output_type": "execute_result"
    }
   ],
   "source": [
    "from sympy import N, cos, cosh, pi, sqrt\n",
    "\n",
    "def is_square(x):\n",
    "    return int(sqrt(abs(x)))**2 == abs(x)\n",
    "\n",
    "precision = 50\n",
    "\n",
    "closest_n = None\n",
    "min_distance = float('inf')\n",
    "\n",
    "for n in range(-1000, 1001):\n",
    "    if not is_square(n):\n",
    "        if n < 0:\n",
    "            value = N(cosh(pi * sqrt(abs(n))), n=precision)\n",
    "        else:\n",
    "            value = N(cos(pi * sqrt(n)), n=precision)\n",
    "\n",
    "        nearest_integer = round(value)\n",
    "        distance = abs(value - nearest_integer)\n",
    "\n",
    "        if distance < min_distance:\n",
    "            min_distance = distance\n",
    "            closest_n = n\n",
    "\n",
    "closest_n\n"
   ]
  },
  {
   "cell_type": "code",
   "execution_count": null,
   "metadata": {},
   "outputs": [],
   "source": []
  }
 ],
 "metadata": {
  "language_info": {
   "name": "python"
  }
 },
 "nbformat": 4,
 "nbformat_minor": 2
}
