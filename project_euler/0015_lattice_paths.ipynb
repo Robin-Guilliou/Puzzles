{
 "cells": [
  {
   "cell_type": "markdown",
   "metadata": {},
   "source": [
    "# Lattice Paths\n",
    "\n",
    "## Problem Statement\n",
    "\n",
    "Starting in the top left corner of a $2 \\times 2$ grid, and only being able to move to the right and down, there are exactly $6$ routes to the bottom right corner.\n",
    "\n",
    "<div class=\"center\">\n",
    "<img src=\"images/0015.png?1678992052\" class=\"dark_img\" alt=\"\"></div>\n",
    "\n",
    "How many such routes are there through a $20 \\times 20$ grid?\n",
    "\n",
    "## Solution\n",
    "\n",
    "We will go down 20 times and go right 20 times. Among the 40 moves, we need to find the number of ways to choose the 20 moves where we go right. Then the remaining moves are necessarily down moves. Therefore, the answer is $\\binom{40}{20}$."
   ]
  },
  {
   "cell_type": "code",
   "execution_count": 1,
   "metadata": {},
   "outputs": [
    {
     "data": {
      "text/plain": [
       "137846528820"
      ]
     },
     "execution_count": 1,
     "metadata": {},
     "output_type": "execute_result"
    }
   ],
   "source": [
    "from math import comb\n",
    "\n",
    "comb(40, 20)"
   ]
  },
  {
   "cell_type": "code",
   "execution_count": null,
   "metadata": {},
   "outputs": [],
   "source": []
  }
 ],
 "metadata": {
  "language_info": {
   "name": "python"
  }
 },
 "nbformat": 4,
 "nbformat_minor": 2
}
