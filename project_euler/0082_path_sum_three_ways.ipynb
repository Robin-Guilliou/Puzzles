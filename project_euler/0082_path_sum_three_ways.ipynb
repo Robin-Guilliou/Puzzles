{
 "cells": [
  {
   "cell_type": "markdown",
   "metadata": {},
   "source": [
    "# 82 - Path Sum: Three Ways\n",
    "\n",
    "## Problem Statement\n",
    "\n",
    "<p class=\"small_notice\">NOTE: This problem is a more challenging version of <a href=\"problem=81\">Problem 81</a>.</p>\n",
    "\n",
    "The minimal path sum in the $5$ by $5$ matrix below, by starting in any cell in the left column and finishing in any cell in the right column, and only moving up, down, and right, is indicated in red and bold; the sum is equal to $994$.\n",
    "\n",
    "<div class=\"center\">\n",
    "\n",
    "\\begin{pmatrix}\n",
    "131 & 673 & \\color{red}{234} & \\color{red}{103} & \\color{red}{18}\\\\\n",
    "\\color{red}{201} & \\color{red}{96} & \\color{red}{342} & 965 & 150\\\\\n",
    "630 & 803 & 746 & 422 & 111\\\\\n",
    "537 & 699 & 497 & 121 & 956\\\\\n",
    "805 & 732 & 524 & 37 & 331\n",
    "\\end{pmatrix}\n",
    "\n",
    "</div>\n",
    "\n",
    "Find the minimal path sum from the left column to the right column in <a href=\"inputs/0081_matrix.txt\">0081_matrix.txt</a>, a 31K text file containing an $80$ by $80$ matrix."
   ]
  },
  {
   "cell_type": "markdown",
   "metadata": {},
   "source": [
    "## Solution\n",
    "\n",
    "This problem can be solved using dynamic programming. The $O(n^3)$ solution below is not very efficient (repeted computation in while loops, 2D matrix for distance but we only need a 1D array, etc)."
   ]
  },
  {
   "cell_type": "code",
   "execution_count": 3,
   "metadata": {},
   "outputs": [],
   "source": [
    "# Read the matrix\n",
    "\n",
    "def read_matrix(file_path):\n",
    "    triangle = []\n",
    "    with open(file_path, 'r') as file:\n",
    "        for line in file:\n",
    "            row = list(map(int, line.split(',')))\n",
    "            triangle.append(row)\n",
    "    return triangle\n",
    "\n",
    "matrix = read_matrix('inputs/0081_matrix.txt')"
   ]
  },
  {
   "cell_type": "code",
   "execution_count": 4,
   "metadata": {},
   "outputs": [
    {
     "data": {
      "text/plain": [
       "260324"
      ]
     },
     "execution_count": 4,
     "metadata": {},
     "output_type": "execute_result"
    }
   ],
   "source": [
    "# O(mn^2) = O(n^3)\n",
    "\n",
    "distance = [[float('inf')] * len(matrix) for _ in range(len(matrix))]\n",
    "\n",
    "for i in range(len(matrix)):\n",
    "    distance[i][0] = matrix[i][0]\n",
    "\n",
    "for j in range(1, len(matrix)):\n",
    "    for i in range(len(matrix)):\n",
    "        distance[i][j] = distance[i][j-1]\n",
    "        k = 1\n",
    "        curr_sum = 0\n",
    "        while i + k < len(matrix) and curr_sum < distance[i][j]:\n",
    "            curr_sum += matrix[i+k][j]\n",
    "            distance[i][j] = min(distance[i][j], curr_sum + distance[i+k][j-1])\n",
    "            k += 1\n",
    "        k = 1\n",
    "        curr_sum = 0\n",
    "        while i - k >= 0 and curr_sum < distance[i][j]:\n",
    "            curr_sum += matrix[i-k][j]\n",
    "            distance[i][j] = min(distance[i][j], curr_sum + distance[i-k][j-1])\n",
    "            k += 1\n",
    "        distance[i][j] += matrix[i][j]\n",
    "\n",
    "res = float('inf')\n",
    "for i in range(len(matrix)):\n",
    "    res = min(res, distance[i][-1])\n",
    "\n",
    "res"
   ]
  },
  {
   "cell_type": "markdown",
   "metadata": {},
   "source": [
    "Below is a more efficient version."
   ]
  },
  {
   "cell_type": "code",
   "execution_count": 5,
   "metadata": {},
   "outputs": [
    {
     "name": "stdout",
     "output_type": "stream",
     "text": [
      "260324\n"
     ]
    }
   ],
   "source": [
    "def find_min_path(matrix):\n",
    "    if not matrix or not matrix[0]:\n",
    "        return 0\n",
    "\n",
    "    rows, cols = len(matrix), len(matrix[0])\n",
    "    prev_col = [matrix[i][0] for i in range(rows)]  # Initialize the first column\n",
    "\n",
    "    for j in range(1, cols):\n",
    "        # Initialize the current column based on the right move from prev_col\n",
    "        curr_col = [prev_col[i] + matrix[i][j] for i in range(rows)]\n",
    "\n",
    "        # Update for upward movements\n",
    "        for i in range(1, rows):\n",
    "            curr_col[i] = min(curr_col[i], curr_col[i - 1] + matrix[i][j])\n",
    "\n",
    "        # Update for downward movements\n",
    "        for i in range(rows - 2, -1, -1):\n",
    "            curr_col[i] = min(curr_col[i], curr_col[i + 1] + matrix[i][j])\n",
    "\n",
    "        # Update the previous column to current for the next iteration\n",
    "        prev_col = curr_col\n",
    "\n",
    "    # The minimum in the last column of prev_col is the answer\n",
    "    return min(prev_col)\n",
    "\n",
    "# Function call to find minimum path sum\n",
    "print(find_min_path(matrix))"
   ]
  },
  {
   "cell_type": "code",
   "execution_count": null,
   "metadata": {},
   "outputs": [],
   "source": []
  },
  {
   "cell_type": "code",
   "execution_count": null,
   "metadata": {},
   "outputs": [],
   "source": []
  }
 ],
 "metadata": {
  "language_info": {
   "name": "python"
  }
 },
 "nbformat": 4,
 "nbformat_minor": 2
}
