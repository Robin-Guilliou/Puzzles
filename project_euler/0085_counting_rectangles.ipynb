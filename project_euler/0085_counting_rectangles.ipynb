{
 "cells": [
  {
   "cell_type": "markdown",
   "metadata": {},
   "source": [
    "# 85 - Counting Rectangles\n",
    "\n",
    "## Problem Statement\n",
    "\n",
    "By counting carefully it can be seen that a rectangular grid measuring $3$ by $2$ contains eighteen rectangles:\n",
    "\n",
    "<div class=\"center\">\n",
    "<img src=\"images/0085_counting_rectangles.png\" style=\"background-color: white;\" class=\"dark_img\" alt=\"\"></div>\n",
    "\n",
    "Although there exists no rectangular grid that contains exactly two million rectangles, find the area of the grid with the nearest solution.\n",
    "\n",
    "## Solution\n",
    "\n",
    "The number of rectangles that can be formed on an $a \\times b$ grid is the number of ways to choose 2 vertical lines among $n = a + 1$ vertical lines multiplied by the number of ways to choose 2 horizontal lines among $m = b + 1$ horizontal lines. Mathematically, this can be expressed as\n",
    "\n",
    "\\begin{equation}\n",
    "    N = \\binom{n}{2} \\binom{m}{2}\n",
    "\\end{equation}\n",
    "\n",
    "where $N$ is the number of rectangles.\n",
    "\n",
    "Say we fix the number of horizontal lines to 2 to eliminate one of the binomial coefficients. The term $\\binom{n}{2} = \\binom{2}{2}$ is equal to 1. Therefore, we can find the upper bound for $m$. We have \n",
    "\n",
    "\\begin{align}\n",
    "    2000000 \\leq \\binom{m}{2} = \\frac{m(m - 1)}{2}\n",
    "\\end{align}\n",
    "\n",
    "and we find the first value of $m$ giving a number of rectangles above 2000000 to be 2001. By symmetry, the upper bound for $n$ is the same.\n",
    "\n",
    "Therefore, we can loop through all the combinations of $n$ and $m$ with $2 \\leq n \\leq 2001$ and $n \\leq m \\leq 2001$ and record the one that is closest to 2000000 (by measuring the difference between 2000000 and the number of rectangles for the $(n, m)$ combination). When we find a number of rectangle closer to 2000000 than all the previous ones, we record the area as $(n - 1)(m - 1)$."
   ]
  },
  {
   "cell_type": "code",
   "execution_count": 2,
   "metadata": {},
   "outputs": [
    {
     "data": {
      "text/plain": [
       "2772"
      ]
     },
     "execution_count": 2,
     "metadata": {},
     "output_type": "execute_result"
    }
   ],
   "source": [
    "import math\n",
    "\n",
    "n_rectangles = 2000000\n",
    "\n",
    "min_diff = float('inf')\n",
    "area = -1\n",
    "for n in range(2, 2002):\n",
    "    for m in range(n, 2002):\n",
    "        curr = math.comb(n, 2) * math.comb(m, 2)\n",
    "        if abs(curr - n_rectangles) < min_diff:\n",
    "            min_diff = abs(curr - n_rectangles)\n",
    "            area = (m - 1)*(n - 1)\n",
    "        if curr > n_rectangles:\n",
    "            break\n",
    "area"
   ]
  },
  {
   "cell_type": "code",
   "execution_count": null,
   "metadata": {},
   "outputs": [],
   "source": []
  }
 ],
 "metadata": {
  "language_info": {
   "name": "python"
  }
 },
 "nbformat": 4,
 "nbformat_minor": 2
}
