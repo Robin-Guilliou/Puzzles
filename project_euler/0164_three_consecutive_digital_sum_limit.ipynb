{
 "cells": [
  {
   "cell_type": "markdown",
   "metadata": {},
   "source": [
    "# 164 - Three Consecutive Digital Sum Limit\n",
    "\n",
    "## Problem Statement\n",
    "\n",
    "How many $20$ digit numbers $n$ (without any leading zero) exist such that no three consecutive digits of $n$ have a sum greater than $9$?\n",
    "\n",
    "## Solution\n",
    "\n",
    "This can be solved with dynamic programming. If we know two consecutive digits, say $d_2$ and $d_3$, it is straightforward to find the valid values for $d_1$, the digit that precedes them. We have $d_1 \\leq 9 - d_2 - d_3$. For the last two digits of $n$, there are 100 different choices from 00 to 99. For each of those, we generate valid values for the $d_1$ and we record the frequency at which we have $10 d_1 + d_2$. Once we have the frequencies, we have a new list of valid two digit numbers (new $d_2$ and $d_3$). We repeat the previous process and check the digit that can go before them. Everytime, we find a valid value for the first digit, we compute $10 d_1 + d_2$ and increase its frequency by the frequency of $10 d_2 + d_3$ found previously.\n",
    "\n",
    "After repeating this process 18 times, we can sum the frequencies of all the two digit combinations where the first digit is greater than zero."
   ]
  },
  {
   "cell_type": "code",
   "execution_count": 1,
   "metadata": {},
   "outputs": [
    {
     "data": {
      "text/plain": [
       "378158756814587"
      ]
     },
     "execution_count": 1,
     "metadata": {},
     "output_type": "execute_result"
    }
   ],
   "source": [
    "from collections import defaultdict\n",
    "from functools import cache\n",
    "\n",
    "@cache\n",
    "def get_valid_d1(x):\n",
    "    \"\"\" Count the number of valid d_1. The input is the concatenation of d_2 and d_3\"\"\"\n",
    "    res = []\n",
    "    d2, d3 = divmod(x, 10)\n",
    "    for i in range(10):\n",
    "        if i + d2 + d3 <= 9:\n",
    "            res.append(i * 10 + d2)\n",
    "        else:\n",
    "            break\n",
    "    return res\n",
    "\n",
    "# Initialise frequency\n",
    "freq = {}\n",
    "for i in range(100):\n",
    "    freq[i] = 1\n",
    "\n",
    "# DP\n",
    "for _ in range(18):\n",
    "    prev_freq = freq.copy()\n",
    "    freq = defaultdict(int)\n",
    "    for last_two_digits, count in prev_freq.items():\n",
    "        valid_d1 = get_valid_d1(last_two_digits)\n",
    "        for d1 in valid_d1:\n",
    "            freq[d1] += count\n",
    "\n",
    "# Sum and exclude numbers with leading zeros\n",
    "res = 0\n",
    "for k, v in freq.items():\n",
    "    if k >= 10:\n",
    "        res += v\n",
    "\n",
    "res"
   ]
  },
  {
   "cell_type": "code",
   "execution_count": null,
   "metadata": {},
   "outputs": [],
   "source": []
  }
 ],
 "metadata": {
  "language_info": {
   "name": "python"
  }
 },
 "nbformat": 4,
 "nbformat_minor": 2
}
