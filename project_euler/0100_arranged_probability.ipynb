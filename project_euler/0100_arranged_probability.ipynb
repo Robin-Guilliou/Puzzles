{
 "cells": [
  {
   "cell_type": "markdown",
   "metadata": {},
   "source": [
    "# 100 - Arranged Probability\n",
    "\n",
    "## Problem Statement\n",
    "\n",
    "If a box contains twenty-one coloured discs, composed of fifteen blue discs and six red discs, and two discs were taken at random, it can be seen that the probability of taking two blue discs, $P(\\text{BB}) = (15/21) \\times (14/20) = 1/2$.\n",
    "\n",
    "The next such arrangement, for which there is exactly $50\\%$ chance of taking two blue discs at random, is a box containing eighty-five blue discs and thirty-five red discs.\n",
    "\n",
    "By finding the first arrangement to contain over $10^{12} = 1\\,000\\,000\\,000\\,000$ discs in total, determine the number of blue discs that the box would contain.\n",
    "\n",
    "## Solution\n",
    "\n",
    "Let $B$ be the number of blue dics and $N$ be the total number of discs. We have\n",
    "\n",
    "\\begin{equation}\n",
    "    \\frac{B(B - 1)}{N(N - 1)} = \\frac{1}{2}.\n",
    "\\end{equation}\n",
    "\n",
    "Rearranging, we get\n",
    "\n",
    "\\begin{equation}\n",
    "    2B^2 - 2B - N^2 + N = 0.\n",
    "\\end{equation}\n",
    "\n",
    "Let's solve this diophantine equation using ```sympy```."
   ]
  },
  {
   "cell_type": "code",
   "execution_count": 19,
   "metadata": {},
   "outputs": [
    {
     "name": "stdout",
     "output_type": "stream",
     "text": [
      "(-(10 - 7*sqrt(2))*(17 - 12*sqrt(2))**t/8 - (7*sqrt(2) + 10)*(12*sqrt(2) + 17)**t/8 + 1/2, -sqrt(2)*(-(10 - 7*sqrt(2))*(17 - 12*sqrt(2))**t + (7*sqrt(2) + 10)*(12*sqrt(2) + 17)**t)/8 + 1/2)\n",
      "Value of N for t = 1 is -119 \n",
      "\n",
      "(-(-10 + 7*sqrt(2))*(17 - 12*sqrt(2))**t/8 - (-10 - 7*sqrt(2))*(12*sqrt(2) + 17)**t/8 + 1/2, -sqrt(2)*(-(-10 + 7*sqrt(2))*(17 - 12*sqrt(2))**t + (-10 - 7*sqrt(2))*(12*sqrt(2) + 17)**t)/8 + 1/2)\n",
      "Value of N for t = 1 is 120 \n",
      "\n",
      "(-(-2 + sqrt(2))*(17 - 12*sqrt(2))**t/8 - (-2 - sqrt(2))*(12*sqrt(2) + 17)**t/8 + 1/2, -sqrt(2)*(-(-2 + sqrt(2))*(17 - 12*sqrt(2))**t + (-2 - sqrt(2))*(12*sqrt(2) + 17)**t)/8 + 1/2)\n",
      "Value of N for t = 1 is 21 \n",
      "\n",
      "(-(2 - sqrt(2))*(17 - 12*sqrt(2))**t/8 - (sqrt(2) + 2)*(12*sqrt(2) + 17)**t/8 + 1/2, -sqrt(2)*(-(2 - sqrt(2))*(17 - 12*sqrt(2))**t + (sqrt(2) + 2)*(12*sqrt(2) + 17)**t)/8 + 1/2)\n",
      "Value of N for t = 1 is -20 \n",
      "\n"
     ]
    }
   ],
   "source": [
    "from sympy import symbols, Eq, diophantine\n",
    "\n",
    "B, N, t = symbols('B N t', integer=True)\n",
    "equation = Eq(2*B**2 - 2*B - N**2 + N, 0)\n",
    "\n",
    "solutions = diophantine(equation)\n",
    "solutions = list(solutions)\n",
    "\n",
    "for sol in solutions:\n",
    "    print(sol)\n",
    "    print(f'Value of N for t = 1 is {sol[1].subs(t, 1).simplify()} \\n')"
   ]
  },
  {
   "cell_type": "markdown",
   "metadata": {},
   "source": [
    "We obtain four solutions. Among them, it can be seen that only the two middle ones yield positive solutions for $N$. Those solutions are parametric equations with parameter $t$. We will generate values of $t$ to plug in the two solutions until we obtain one where the value of $N$ is above $10^{12}$ for each solution. Our answer will be the smallest of the two $B$ values obtained."
   ]
  },
  {
   "cell_type": "code",
   "execution_count": 20,
   "metadata": {},
   "outputs": [
    {
     "data": {
      "text/latex": [
       "$\\displaystyle 756872327473$"
      ],
      "text/plain": [
       "756872327473"
      ]
     },
     "execution_count": 20,
     "metadata": {},
     "output_type": "execute_result"
    }
   ],
   "source": [
    "def find_lowest_t(N_expr):\n",
    "    threshold = 10**12\n",
    "    t_value = 0\n",
    "    while True:\n",
    "        N = N_expr.subs(t, t_value)\n",
    "        if N > threshold:\n",
    "            return t_value\n",
    "        t_value += 1\n",
    "\n",
    "sol1 = solutions[1]\n",
    "t_value1 = find_lowest_t(sol1[1])\n",
    "B_val1 = sol1[0].subs(t, t_value1).simplify()\n",
    "\n",
    "sol2 = solutions[2]\n",
    "t_value2 = find_lowest_t(sol2[1])\n",
    "B_val2 = sol2[0].subs(t, t_value2).simplify()\n",
    "\n",
    "min(B_val1, B_val2)"
   ]
  },
  {
   "cell_type": "code",
   "execution_count": null,
   "metadata": {},
   "outputs": [],
   "source": []
  }
 ],
 "metadata": {
  "language_info": {
   "name": "python"
  }
 },
 "nbformat": 4,
 "nbformat_minor": 2
}
