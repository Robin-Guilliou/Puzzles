{
 "cells": [
  {
   "cell_type": "markdown",
   "metadata": {},
   "source": [
    "# 856 - Waiting for a pair\n",
    "\n",
    "## Problem Statement\n",
    "\n",
    "A standard 52-card deck comprises 13 ranks in four suits. A <i>pair</i> is a set of two cards of the same rank.\n",
    "\n",
    "Cards are drawn, without replacement, from a well shuffled 52-card deck waiting for consecutive cards that form a pair. For example, the probability of finding a pair in the first two draws is $\\frac{1}{17}$.\n",
    "\n",
    "Cards are drawn until either such a pair is found or the pack is exhausted waiting for one. In the latter case we say that all 52 cards were drawn.\n",
    "\n",
    "Find the expected number of cards that were drawn. Give your answer rounded to eight places after the decimal point.\n",
    "\n",
    "## Solution\n",
    "\n",
    "Let $E(R, L)$ denote the expected number of cards drawn from a state where $R = (r_0, r_1, r_2, r_3, r_4)$ where $r_0$ ranks have never been selected, $r_1$ ranks have been selected exactly once, $r_2$ ranks have been selected twice, $r_3$ ranks have been selected 3 times, $r_4$ ranks have been selected 4 times and $L$ is the number of cards seen with the same rank as the last card drawn.\n",
    "\n",
    "Initially, we start with $E((13, 0, 0, 0, 0), -1)$ where the last -1 indicates that no card has been drawn. From here, we necessarily selected a card that has never been selected. Therefore, we have\n",
    "\n",
    "\\begin{equation}\n",
    "    E((13, 0, 0, 0, 0), -1) = E((12, 1, 0, 0, 0), 1) + 1.\n",
    "\\end{equation}\n",
    "\n",
    "When we pick a card belonging to $r_i$, we decrease $r_i$ by 1 and increase $r_{i + 1}$ by 1. Also, $L$ becomes equal to $i + 1$. The probability of picking a card from $r_i$, $p_i$, is given by\n",
    "\n",
    "\n",
    "\n",
    "\\begin{equation}\n",
    "    p_i = \\frac{(4 - i)r_i - (4 - i) \\mathbb{1}_{i = L}}{52 - \\sum_{i = 1}^4 ir_i}.\n",
    "\\end{equation}\n",
    "\n",
    "This is the probability of going to a next state where $r_i$ is decreased by one and $r_{i + 1}$ is increased by 1. For example, if the card is picked from $r_2$ (i.e., 2 cards with the same rank were selected before), the next state would become $E((r_0, r_1, r_2 - 1, r_3 + 1, r_4), 3)$. Let $N_{i}$ denote this next state when a rank is selected from $r_i$. The expected number of cards drawn from a current state is the sum of all those contributions plus 1 to account for the new card drawn, \n",
    "\n",
    "\\begin{equation}\n",
    "    E(R, L) = \\sum_{\\substack{i = 0 \\\\ r_i > 0}}^3 p_i N_i + 1.\n",
    "\\end{equation}\n",
    "\n",
    "We can use dynamic programming to solve those equations. Here we use a top down approach."
   ]
  },
  {
   "cell_type": "code",
   "execution_count": 2,
   "metadata": {},
   "outputs": [
    {
     "data": {
      "text/plain": [
       "17.09661501"
      ]
     },
     "execution_count": 2,
     "metadata": {},
     "output_type": "execute_result"
    }
   ],
   "source": [
    "from functools import cache\n",
    "\n",
    "@cache\n",
    "def dp(cards, last):\n",
    "    if cards[-1] == 13:\n",
    "        return 0\n",
    "    e = 1\n",
    "    for i, x in enumerate(cards):\n",
    "        if i < 4 and x > 0:\n",
    "            new_cards = list(cards)\n",
    "            new_cards[i] -= 1\n",
    "            new_cards[i + 1] += 1\n",
    "            e += ((cards[i] * (4 - i) - ((4 - i) * (last == i))) / (52 - cards[1] - 2 * cards[2] - 3 * cards[3] - 4 * cards[4])) * dp(tuple(new_cards), i + 1)\n",
    "    return e\n",
    "\n",
    "\n",
    "cards = [0] * 5\n",
    "cards[0] = 13\n",
    "res = dp(tuple(cards), -1)\n",
    "\n",
    "round(res, 8)"
   ]
  },
  {
   "cell_type": "code",
   "execution_count": null,
   "metadata": {},
   "outputs": [],
   "source": []
  }
 ],
 "metadata": {
  "language_info": {
   "name": "python"
  }
 },
 "nbformat": 4,
 "nbformat_minor": 2
}
