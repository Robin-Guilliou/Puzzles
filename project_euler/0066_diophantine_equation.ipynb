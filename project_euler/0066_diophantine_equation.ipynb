{
 "cells": [
  {
   "cell_type": "markdown",
   "metadata": {},
   "source": [
    "# 66 - Diophantine Equation\n",
    "\n",
    "## Problem Statement\n",
    "\n",
    "Consider quadratic Diophantine equations of the form:\n",
    "$$x^2 - Dy^2 = 1$$\n",
    "For example, when $D=13$, the minimal solution in $x$ is $649^2 - 13 \\times 180^2 = 1$.\n",
    "\n",
    "It can be assumed that there are no solutions in positive integers when $D$ is square.\n",
    "\n",
    "By finding minimal solutions in $x$ for $D = \\{2, 3, 5, 6, 7\\}$, we obtain the following:\n",
    "\\begin{align}\n",
    "    3^2 - 2 \\times 2^2 &= 1\\\\\n",
    "    2^2 - 3 \\times 1^2 &= 1\\\\\n",
    "    {\\color{red}{\\mathbf 9}}^2 - 5 \\times 4^2 &= 1\\\\\n",
    "    5^2 - 6 \\times 2^2 &= 1\\\\\n",
    "    8^2 - 7 \\times 3^2 &= 1\n",
    "\\end{align}\n",
    "\n",
    "Hence, by considering minimal solutions in $x$ for $D \\le 7$, the largest $x$ is obtained when $D=5$.\n",
    "\n",
    "Find the value of $D \\le 1000$ in minimal solutions of $x$ for which the largest value of $x$ is obtained.\n",
    "\n",
    "## Solution\n",
    "\n",
    "Equations of the form $y^2 + Dx^2 = 1$ are Pell's equation. Here we solve for the minimal $x$ using `sympy` which has implementations of solvers for Diophantine equations. For each $1 \\leq i \\leq 1000$, if $i$ is not square, we compute the minumum $x$ and keep track of the maximum seen."
   ]
  },
  {
   "cell_type": "code",
   "execution_count": 1,
   "metadata": {},
   "outputs": [
    {
     "data": {
      "text/plain": [
       "661"
      ]
     },
     "execution_count": 1,
     "metadata": {},
     "output_type": "execute_result"
    }
   ],
   "source": [
    "import math\n",
    "from sympy import symbols, Eq\n",
    "from sympy.solvers.diophantine import diophantine\n",
    "\n",
    "def get_minimal_solution(D):\n",
    "    x, y = symbols('x y', integer=True)\n",
    "    pell_eq = Eq(x**2 - D*y**2, 1)\n",
    "    solutions = diophantine(pell_eq, 0)\n",
    "    return abs(list(solutions)[0][0])\n",
    "\n",
    "curr_max = 0\n",
    "max_d = 0\n",
    "for D in range(1, 1001):\n",
    "    if math.sqrt(D) != int(math.sqrt(D)):\n",
    "        min_x = get_minimal_solution(D)\n",
    "        if min_x > curr_max:\n",
    "            curr_max = min_x\n",
    "            max_d = D\n",
    "max_d"
   ]
  },
  {
   "cell_type": "code",
   "execution_count": null,
   "metadata": {},
   "outputs": [],
   "source": []
  }
 ],
 "metadata": {
  "language_info": {
   "name": "python"
  }
 },
 "nbformat": 4,
 "nbformat_minor": 2
}
