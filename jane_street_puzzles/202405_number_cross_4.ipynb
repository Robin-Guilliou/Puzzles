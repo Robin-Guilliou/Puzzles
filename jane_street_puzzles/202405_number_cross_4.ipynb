{
 "cells": [
  {
   "cell_type": "markdown",
   "metadata": {},
   "source": [
    "# Jane Street Puzzle - May 2024 - Number Cross 4\n",
    "\n",
    "## Problem Statement\n",
    "\n",
    "<div class=\"center\">\n",
    "<img src=\"images/number-cross-4-updated.png\" alt=\"number-cross-4-updated.png\", width=\"700\" height=\"800\">\n",
    "</div>\n",
    "\n",
    "The 11-by-11 grid above has been divided into various regions. Shade some of the cells black, then place digits (0-9) into the remaining cells. Shading must be “sparse”: that is, no two shaded cells may share an edge.\n",
    "\n",
    "Every cell within a region must contain the same digit, and orthogonally adjacent cells in different regions must have different digits. (Note that shading cells may break up regions or change which pairs of regions are adjacent. See the example, below.)\n",
    "\n",
    "Each row has been supplied with a clue. Every number formed by concatenating consecutive groups of unshaded cells within a row must satisfy the clue given for the row. (As in the example.) Numbers must be at least two digits long and may not begin with a 0.\n",
    "\n",
    "The answer to this month’s puzzle is the sum of all the numbers formed in the completed grid. (As in the example.)\n",
    "\n",
    "## Solution\n",
    "\n",
    "For each row, we can generate all the numbers with 2 to 11 digits that satisfy the clue. Apart from the \"multiple of 37\" and \"multiple of 88\", it is possible to compute all numbers in a reasonable time and memory usage, sometimes with a small trick. \n",
    "\n",
    "Once we have all the potential values for each row, we can generate combinations of consecutive rows using backtracking. As many rows are not compatible this allows to quickly reduce the set of possibilities. Eventually, we use backtracking again for the remaining rows (multiple of 37 and multiple of 88)."
   ]
  },
  {
   "cell_type": "code",
   "execution_count": 1,
   "metadata": {},
   "outputs": [],
   "source": [
    "import numpy as np\n",
    "import math\n",
    "import matplotlib.pyplot as plt"
   ]
  },
  {
   "cell_type": "code",
   "execution_count": 2,
   "metadata": {},
   "outputs": [],
   "source": [
    "def generate_fibonacci_up_to_n_digits(n):\n",
    "    \"\"\" Generate all Fibonacci numbers with up to n digits that do not start with zero. \"\"\"\n",
    "    fib = [1, 1]\n",
    "    # Generate Fibonacci numbers until the number exceeds n digits\n",
    "    while True:\n",
    "        next_fib = fib[-1] + fib[-2]\n",
    "        if len(str(next_fib)) > n:\n",
    "            break\n",
    "        if str(next_fib)[0] != '0':  # Skip numbers starting with zero\n",
    "            fib.append(next_fib)\n",
    "\n",
    "    # Filter to get numbers with at least two digits\n",
    "    return [f for f in fib if len(str(f)) > 1]\n",
    "\n",
    "# Max number length in the list considering blanks and digits\n",
    "max_digit_length = 11  # max possible length of a number in the sequence, can be adjusted\n",
    "fibonacci_numbers = generate_fibonacci_up_to_n_digits(max_digit_length)"
   ]
  },
  {
   "cell_type": "code",
   "execution_count": 3,
   "metadata": {},
   "outputs": [],
   "source": [
    "\n",
    "def validate_sequence(sequence, index_same_num):\n",
    "    for i in range(len(sequence) - 1):\n",
    "        if sequence[i] != -1 and sequence[i + 1] != -1:\n",
    "            if i in index_same_num and sequence[i] != sequence[i + 1]:\n",
    "                return False\n",
    "            elif i not in index_same_num and sequence[i] == sequence[i + 1]:\n",
    "                return False\n",
    "    return True\n",
    "\n",
    "def generate_combinations(nums, current_sequence, results, index_same_num):\n",
    "    if len(current_sequence) == 11:\n",
    "        if validate_sequence(current_sequence, index_same_num):\n",
    "            results.append(current_sequence)\n",
    "        return\n",
    "    if len(current_sequence) == 10:\n",
    "        current_sequence.append(-1)\n",
    "        if validate_sequence(current_sequence, index_same_num):\n",
    "            results.append(current_sequence.copy())\n",
    "        current_sequence.pop()\n",
    "        current_sequence = [-1] + current_sequence\n",
    "        if validate_sequence(current_sequence, index_same_num):\n",
    "            results.append(current_sequence)\n",
    "        return\n",
    "    if len(current_sequence) == 9:\n",
    "        current_sequence.append(-1)\n",
    "        current_sequence = [-1] + current_sequence\n",
    "        if validate_sequence(current_sequence, index_same_num):\n",
    "            results.append(current_sequence)\n",
    "        return\n",
    "    if len(current_sequence) != 0 and current_sequence[-1] != -1:  ### second check seems useless\n",
    "        current_sequence.append(-1)\n",
    "    curr_seq = current_sequence.copy()\n",
    "    for num in nums:\n",
    "        new_seq = [int(x) for x in list(str(num))]\n",
    "        if len(current_sequence) + len(new_seq) <= 11:\n",
    "            current_sequence.extend(new_seq)\n",
    "            generate_combinations(nums, current_sequence, results, index_same_num)\n",
    "            current_sequence = curr_seq.copy()\n",
    "        else:\n",
    "            break\n",
    "    return results"
   ]
  },
  {
   "cell_type": "code",
   "execution_count": 4,
   "metadata": {},
   "outputs": [],
   "source": [
    "fibs = generate_combinations(fibonacci_numbers, [], [], {2, 4})"
   ]
  },
  {
   "cell_type": "code",
   "execution_count": 5,
   "metadata": {},
   "outputs": [],
   "source": [
    "def find_numbers_with_digit_sum(target_sum, min_digits, max_digits):\n",
    "    # Initialize a list to store the results\n",
    "    results = []\n",
    "\n",
    "    # Helper function to explore all combinations\n",
    "    def explore(current_sum, current_number):\n",
    "        # Check the current length and sum\n",
    "        current_length = len(current_number)\n",
    "        if current_sum == target_sum:\n",
    "            if current_length >= min_digits:\n",
    "                results.append(int(current_number))\n",
    "            # Pad with zeros only if within digit limits\n",
    "            for extra_zeros in range(1, max_digits - current_length + 1):\n",
    "                padded_number = int(current_number + '0' * extra_zeros)\n",
    "                if min_digits <= len(str(padded_number)) <= max_digits:\n",
    "                    results.append(padded_number)\n",
    "            return\n",
    "\n",
    "        # Stop recursion if exceeding the target sum or max digits\n",
    "        if current_sum > target_sum or current_length >= max_digits:\n",
    "            return\n",
    "\n",
    "        # Start next digit from 0 if some digits already added, else from 1 to prevent single zero as a number\n",
    "        start = 0 if current_number else 1\n",
    "        for digit in range(start, 10):\n",
    "            explore(current_sum + digit, current_number + str(digit))\n",
    "\n",
    "    # Start exploring from an empty string\n",
    "    explore(0, \"\")\n",
    "    return sorted(set(results))  # Remove duplicates and sort the result\n",
    "\n",
    "# Finding all numbers of at least two digits and 11 digits max where the digits sum to 7\n",
    "numbers_with_sum_7 = find_numbers_with_digit_sum(7, 2, 11)"
   ]
  },
  {
   "cell_type": "code",
   "execution_count": 6,
   "metadata": {},
   "outputs": [],
   "source": [
    "sevens = generate_combinations(numbers_with_sum_7, [], [], {1, 3, 5, 8, 9})"
   ]
  },
  {
   "cell_type": "code",
   "execution_count": 7,
   "metadata": {},
   "outputs": [],
   "source": [
    "def generate_squares(min_digits, max_digits):\n",
    "    # Calculate the starting point (smallest integer with at least min_digits)\n",
    "    start = int(10**(min_digits / 2))\n",
    "\n",
    "    # Calculate the ending point (largest integer with at most max_digits)\n",
    "    end = int(10**(max_digits / 2 + 0.5))  # The 0.5 ensures that we cover numbers like 316 (which squares to 99856)\n",
    "\n",
    "    squares = []\n",
    "    for i in range(start, end):\n",
    "        square = i**2\n",
    "        # Check if the square is still within the range of max_digits\n",
    "        if len(str(square)) > max_digits:\n",
    "            break\n",
    "        squares.append(square)\n",
    "\n",
    "    return squares\n",
    "\n",
    "# Example usage\n",
    "squares_list = generate_squares(2, 11)"
   ]
  },
  {
   "cell_type": "code",
   "execution_count": 8,
   "metadata": {},
   "outputs": [],
   "source": [
    "squares1 = generate_combinations(squares_list, [], [], {0, 1, 3, 4, 6, 8, 9})"
   ]
  },
  {
   "cell_type": "code",
   "execution_count": 9,
   "metadata": {},
   "outputs": [],
   "source": [
    "squares2 = generate_combinations(squares_list, [], [], {1, 2, 3, 4, 5, 6, 8})"
   ]
  },
  {
   "cell_type": "code",
   "execution_count": 10,
   "metadata": {},
   "outputs": [],
   "source": [
    "def is_prime(n):\n",
    "    \"\"\" Returns True if n is a prime number, otherwise False. \"\"\"\n",
    "    if n <= 1:\n",
    "        return False\n",
    "    if n <= 3:\n",
    "        return True\n",
    "    if n % 2 == 0 or n % 3 == 0:\n",
    "        return False\n",
    "    i = 5\n",
    "    while i * i <= n:\n",
    "        if n % i == 0 or n % (i + 2) == 0:\n",
    "            return False\n",
    "        i += 6\n",
    "    return True\n",
    "\n",
    "def sieve_of_eratosthenes(limit):\n",
    "    \"\"\" Uses the Sieve of Eratosthenes to return all primes below 'limit'. \"\"\"\n",
    "    is_prime = [True] * (limit + 1)\n",
    "    p = 2\n",
    "    while p * p <= limit:\n",
    "        if is_prime[p]:\n",
    "            for i in range(p * p, limit + 1, p):\n",
    "                is_prime[i] = False\n",
    "        p += 1\n",
    "    return [p for p in range(2, limit) if is_prime[p]]\n",
    "\n",
    "def find_prime_powers(min_val, max_val):\n",
    "    \"\"\" Finds all numbers within [min_val, max_val] that are prime numbers raised to prime numbers. \"\"\"\n",
    "    max_base = int(math.pow(max_val, 1 / 2))  # A conservative guess on the maximum base prime.\n",
    "    primes = sieve_of_eratosthenes(max_base)\n",
    "    result = set()\n",
    "\n",
    "    for base in primes:\n",
    "        current = base\n",
    "        for exponent in primes:\n",
    "            current = pow(base, exponent)\n",
    "            if current > max_val:\n",
    "                break\n",
    "            if current >= min_val:\n",
    "                result.add(current)\n",
    "\n",
    "    return sorted(result)\n",
    "\n",
    "# Define the range for 5 to 11 digit numbers\n",
    "min_val = 10\n",
    "max_val = 10**11 - 1\n",
    "\n",
    "# Get the list of numbers that are prime powers\n",
    "prime_powers = find_prime_powers(min_val, max_val)"
   ]
  },
  {
   "cell_type": "code",
   "execution_count": 11,
   "metadata": {},
   "outputs": [],
   "source": [
    "primes = generate_combinations(prime_powers, [], [], {1, 3, 4, 7, 8})"
   ]
  },
  {
   "cell_type": "code",
   "execution_count": 12,
   "metadata": {},
   "outputs": [],
   "source": [
    "def generate_palindromes(min_digits, max_digits):\n",
    "    palindromes = []\n",
    "    # Iterate over the range of digits\n",
    "    for digits in range(min_digits, max_digits + 1):\n",
    "        # If the number of digits is even\n",
    "        if digits % 2 == 0:\n",
    "            half_digits = digits // 2\n",
    "            start = 10**(half_digits - 1)\n",
    "            end = 10**half_digits\n",
    "            for half in range(start, end):\n",
    "                # Create the full palindrome by mirroring the half\n",
    "                full = int(str(half) + str(half)[::-1])\n",
    "                palindromes.append(full)\n",
    "        # If the number of digits is odd\n",
    "        else:\n",
    "            half_digits = digits // 2\n",
    "            start = 10**(half_digits - 1)\n",
    "            end = 10**half_digits\n",
    "            for half in range(start, end):\n",
    "                # Middle digit can be from 0 to 9\n",
    "                for mid in range(10):\n",
    "                    # Create the full palindrome by mirroring the half around the middle digit\n",
    "                    full = int(str(half) + str(mid) + str(half)[::-1])\n",
    "                    palindromes.append(full)\n",
    "\n",
    "    return palindromes\n",
    "\n",
    "# Generate palindromes with 2 to 11 digits\n",
    "palindromes = generate_palindromes(2, 11)"
   ]
  },
  {
   "cell_type": "code",
   "execution_count": 13,
   "metadata": {},
   "outputs": [],
   "source": [
    "pal_plus_1 = generate_combinations([1 + x for x in palindromes], [], [], {1, 2, 4, 7, 8})"
   ]
  },
  {
   "cell_type": "code",
   "execution_count": 14,
   "metadata": {},
   "outputs": [],
   "source": [
    "pal_minus_1 = generate_combinations([x - 1 for x in palindromes], [], [], {0, 1, 2, 3, 5, 6, 8})"
   ]
  },
  {
   "cell_type": "code",
   "execution_count": 15,
   "metadata": {},
   "outputs": [],
   "source": [
    "pal_23 = generate_combinations([x for x in palindromes if x % 23 == 0], [], [], {0, 5, 7})"
   ]
  },
  {
   "cell_type": "code",
   "execution_count": 16,
   "metadata": {},
   "outputs": [],
   "source": [
    "from itertools import product\n",
    "from functools import reduce\n",
    "\n",
    "digits = '1379'\n",
    "\n",
    "product_ends_with_1 = []\n",
    "\n",
    "# Loop through each length from 2 to 11\n",
    "for length in range(2, 12):\n",
    "    # Generate all combinations of the digits for the current length\n",
    "    for combination in product(digits, repeat=length):\n",
    "        # Join the tuple of characters to form a number and print it\n",
    "        if str(reduce(lambda x, y: x*y, [int(z) for z in combination]))[-1] == '1':\n",
    "            product_ends_with_1.append(int(\"\".join(combination)))\n"
   ]
  },
  {
   "cell_type": "code",
   "execution_count": 17,
   "metadata": {},
   "outputs": [],
   "source": [
    "prod1 = generate_combinations(product_ends_with_1, [], [], {0, 2, 3, 5, 7, 8, 9})"
   ]
  },
  {
   "cell_type": "code",
   "execution_count": 18,
   "metadata": {},
   "outputs": [],
   "source": [
    "def check_multiple(a, b, index_same_num):\n",
    "    for i in range(11):\n",
    "        if a[i] == -1 and b[i] == -1:\n",
    "            return False\n",
    "        if a[i] != -1 and b[i] != -1:\n",
    "            if i in index_same_num and a[i] != b[i]:\n",
    "                return False\n",
    "            if i not in index_same_num and a[i] == b[i]:\n",
    "                return False\n",
    "    return True\n",
    "\n",
    "def get_combinations_multi(list1, list2, index_same_num):\n",
    "    res, res_a, res_b = [], [], []\n",
    "    unique_a = set()\n",
    "    unique_b = set()\n",
    "    for a in list1:\n",
    "        for b in list2:\n",
    "            if check_multiple(a, b, index_same_num):\n",
    "                if tuple(a) not in unique_a:\n",
    "                    res_a.append(a)\n",
    "                    unique_a.add(tuple(a))\n",
    "                if tuple(b) not in unique_b:\n",
    "                    res_b.append(b)\n",
    "                    unique_b.add(tuple(b))\n",
    "                res.append([a, b])\n",
    "    return res, res_a, res_b\n"
   ]
  },
  {
   "cell_type": "code",
   "execution_count": 19,
   "metadata": {},
   "outputs": [],
   "source": [
    "prev_lens = 0\n",
    "while prev_lens != len(squares1) + len(pal_plus_1) + len(primes) + len(sevens) + len(fibs) + len(squares2):\n",
    "    prev_lens = len(squares1) + len(pal_plus_1) + len(primes) + len(sevens) + len(fibs) + len(squares2)\n",
    "    comb1, squares1, pal_plus_1 = get_combinations_multi(squares1, pal_plus_1, index_same_num={0, 4, 5, 6, 8, 9})\n",
    "    comb2, pal_plus_1, primes = get_combinations_multi(pal_plus_1, primes, index_same_num={0, 1, 2, 4, 5, 6, 7, 8, 9, 10})\n",
    "    comb3, primes, sevens = get_combinations_multi(primes, sevens, index_same_num={0, 1, 2, 3, 4, 7, 10})\n",
    "    comb4, sevens, fibs = get_combinations_multi(sevens, fibs, index_same_num={0, 1, 3, 6, 7, 8, 10})\n",
    "    comb5, fibs, squares2 = get_combinations_multi(fibs, squares2, index_same_num={0, 4, 5, 7, 9})\n",
    "\n",
    "comb8, pal_23, prod1 = get_combinations_multi(pal_23, prod1, index_same_num={0, 1, 2, 4, 5, 6, 7, 8, 10})"
   ]
  },
  {
   "cell_type": "code",
   "execution_count": 20,
   "metadata": {},
   "outputs": [
    {
     "data": {
      "text/plain": [
       "6"
      ]
     },
     "execution_count": 20,
     "metadata": {},
     "output_type": "execute_result"
    }
   ],
   "source": [
    "len(squares1) + len(pal_plus_1) + len(primes) + len(sevens) + len(fibs) + len(squares2)"
   ]
  },
  {
   "cell_type": "code",
   "execution_count": 21,
   "metadata": {},
   "outputs": [
    {
     "data": {
      "text/plain": [
       "array([[ 1,  1,  1,  2,  2,  2,  3,  3,  4,  4,  4],\n",
       "       [ 1,  3,  3,  3,  2, -1,  3,  4,  4,  4, -1],\n",
       "       [ 1,  3,  3,  1, -1,  7,  3,  4,  4,  4,  9],\n",
       "       [ 1,  3,  3, -1,  1,  0,  0,  4,  1,  1, -1],\n",
       "       [ 1,  3, -1,  1,  4,  4, -1,  4,  1,  8,  1],\n",
       "       [ 1,  4,  4,  4, -1,  4,  4,  4,  8,  8,  9]])"
      ]
     },
     "execution_count": 21,
     "metadata": {},
     "output_type": "execute_result"
    }
   ],
   "source": [
    "np.array([squares1[0], pal_plus_1[0], primes[0], sevens[0], fibs[0], squares2[0]])"
   ]
  },
  {
   "cell_type": "code",
   "execution_count": 22,
   "metadata": {},
   "outputs": [],
   "source": [
    "def solve(curr_seq, results, curr_num, mod, top, bottom, index_same_num_top, index_same_num_bottom):\n",
    "    if len(curr_seq) == 11:\n",
    "        if curr_seq[-1] == -1 or (int(curr_num) % mod == 0 and len(curr_num) > 1):\n",
    "            results.append(curr_seq.copy())\n",
    "        return\n",
    "    for i in [-1] + [x for x in range(10)]:\n",
    "        if i == -1:\n",
    "            if len(curr_seq) > 0 and curr_seq[-1] == -1:\n",
    "                continue\n",
    "            if len(curr_num) == 1 or (len(curr_num) > 0 and int(curr_num) % mod != 0):\n",
    "                continue\n",
    "            if top[len(curr_seq)] == -1 or bottom[len(curr_seq)] == -1:\n",
    "                continue\n",
    "            solve(curr_seq + [i], results, '', mod, top, bottom, index_same_num_top, index_same_num_bottom)\n",
    "        else:\n",
    "            x = len(curr_seq)\n",
    "            if x in index_same_num_bottom and bottom[x] not in [-1, i]:\n",
    "                continue\n",
    "            elif x not in index_same_num_bottom and bottom[x] == i:\n",
    "                continue\n",
    "            if x in index_same_num_top and top[x] not in [-1, i]:\n",
    "                continue\n",
    "            elif x not in index_same_num_top and top[x] == i:\n",
    "                continue\n",
    "            solve(curr_seq + [i], results, curr_num + str(i), mod, top, bottom, index_same_num_top, index_same_num_bottom)\n",
    "    return results"
   ]
  },
  {
   "cell_type": "code",
   "execution_count": 23,
   "metadata": {},
   "outputs": [],
   "source": [
    "multiple37 = []\n",
    "for i in range(len(pal_23)):\n",
    "    multiple37.extend(solve([], [], '', 37, top=squares2[0], bottom=pal_23[i], index_same_num_top={1, 2, 3, 4, 7, 8, 9}, index_same_num_bottom={0, 3, 5, 6, 7, 9}))\n",
    "multi37 = []\n",
    "for m in multiple37:\n",
    "    if validate_sequence(m, {1, 2, 3, 5, 8, 9}):\n",
    "        multi37.append(m)"
   ]
  },
  {
   "cell_type": "code",
   "execution_count": 24,
   "metadata": {},
   "outputs": [
    {
     "data": {
      "text/plain": [
       "[[7, 4, 4, 4, 4, -1, 7, 4, 8, 8, 8]]"
      ]
     },
     "execution_count": 24,
     "metadata": {},
     "output_type": "execute_result"
    }
   ],
   "source": [
    "multi37"
   ]
  },
  {
   "cell_type": "code",
   "execution_count": 25,
   "metadata": {},
   "outputs": [],
   "source": [
    "prev_lens = 0\n",
    "while prev_lens != len(multi37) + len(pal_23) + len(prod1):\n",
    "    prev_lens = len(multi37) + len(pal_23) + len(prod1)\n",
    "    comb6, squares2, multi37 = get_combinations_multi(squares2, multi37, index_same_num={1, 2, 3, 4, 7, 8, 9})\n",
    "    comb7, multi37, pal_23 = get_combinations_multi(multi37, pal_23, index_same_num={0, 3, 5, 6, 7, 9})\n",
    "    comb8, pal_23, prod1 = get_combinations_multi(pal_23, prod1, index_same_num={0, 1, 2, 4, 5, 6, 7, 8, 10})"
   ]
  },
  {
   "cell_type": "code",
   "execution_count": 26,
   "metadata": {},
   "outputs": [],
   "source": [
    "multiple88 = []\n",
    "for i in range(len(prod1)):\n",
    "    for j in range(len(pal_minus_1)):\n",
    "        multiple88.extend(solve([], [], '', 88, top=prod1[i], bottom=pal_minus_1[j], index_same_num_top={0, 2, 6, 7, 8, 9}, index_same_num_bottom={0, 3, 4, 6, 8, 9, 10}))\n",
    "multi88 = []\n",
    "for m in multiple88:\n",
    "    if validate_sequence(m, {1, 3, 4, 7, 8}):\n",
    "        multi88.append(m)"
   ]
  },
  {
   "cell_type": "code",
   "execution_count": 27,
   "metadata": {},
   "outputs": [
    {
     "data": {
      "text/plain": [
       "[[-1, 1, 1, 4, 4, -1, 7, 9, 9, 9, 2]]"
      ]
     },
     "execution_count": 27,
     "metadata": {},
     "output_type": "execute_result"
    }
   ],
   "source": [
    "multi88"
   ]
  },
  {
   "cell_type": "code",
   "execution_count": 28,
   "metadata": {},
   "outputs": [],
   "source": [
    "prev_lens = 0\n",
    "while prev_lens != len(prod1) + len(multi88) + len(pal_minus_1):\n",
    "    prev_lens = len(prod1) + len(multi88) + len(pal_minus_1)\n",
    "    comb9, prod1, multi88 = get_combinations_multi(prod1, multi88, index_same_num={0, 2, 6, 7, 8, 9})\n",
    "    comb10, multi88, pal_minus_1 = get_combinations_multi(multi88, pal_minus_1, index_same_num={0, 3, 4, 6, 8, 9, 10})"
   ]
  },
  {
   "cell_type": "code",
   "execution_count": 29,
   "metadata": {},
   "outputs": [],
   "source": [
    "grid = np.array([squares1[0], pal_plus_1[0], primes[0], sevens[0], fibs[0], squares2[0], multi37[0], pal_23[0], prod1[0], multi88[0], pal_minus_1[0]])"
   ]
  },
  {
   "cell_type": "code",
   "execution_count": 30,
   "metadata": {},
   "outputs": [
    {
     "name": "stderr",
     "output_type": "stream",
     "text": [
      "/var/folders/9n/dhbgs6q906j_2_3nrnjcznfr0000gn/T/ipykernel_46951/2338434907.py:3: MatplotlibDeprecationWarning: You are modifying the state of a globally registered colormap. This has been deprecated since 3.3 and in 3.6, you will not be able to modify a registered colormap in-place. To remove this warning, you can make a copy of the colormap first. cmap = mpl.cm.get_cmap(\"tab20c\").copy()\n",
      "  cmap.set_under('black')  # Set color for -1 values\n"
     ]
    },
    {
     "data": {
      "image/png": "[encoded data removed]",
      "text/plain": [
       "<Figure size 800x800 with 1 Axes>"
      ]
     },
     "metadata": {},
     "output_type": "display_data"
    }
   ],
   "source": [
    "fig, ax = plt.subplots(figsize=(8, 8))\n",
    "cmap = plt.get_cmap('tab20c')\n",
    "cmap.set_under('black')  # Set color for -1 values\n",
    "\n",
    "# Create the heatmap\n",
    "cax = ax.matshow(grid, cmap=cmap, vmin=-0.1, vmax=9)\n",
    "\n",
    "# Add text only for values != -1\n",
    "for (i, j), val in np.ndenumerate(grid):\n",
    "    if val != -1:\n",
    "        ax.text(j, i, val, ha='center', va='center', color='white' if val < 2 else 'black')\n",
    "\n",
    "# Grid appearance settings\n",
    "ax.set_xticks(np.arange(-.5, 11, 1), minor=True)\n",
    "ax.set_yticks(np.arange(-.5, 11, 1), minor=True)\n",
    "ax.grid(which='minor', color='black', linestyle='-', linewidth=0.5)\n",
    "\n",
    "# Remove major ticks\n",
    "ax.set_xticks([])\n",
    "ax.set_yticks([])\n",
    "\n",
    "plt.show()\n"
   ]
  },
  {
   "cell_type": "code",
   "execution_count": 31,
   "metadata": {},
   "outputs": [
    {
     "name": "stdout",
     "output_type": "stream",
     "text": [
      "11122233444\n",
      "13332\n",
      "3444\n",
      "1331\n",
      "734449\n",
      "133\n",
      "100411\n",
      "13\n",
      "144\n",
      "4181\n",
      "1444\n",
      "444889\n",
      "74444\n",
      "74888\n",
      "7714177\n",
      "989\n",
      "77111779999\n",
      "1144\n",
      "79992\n",
      "444443\n",
      "3992\n"
     ]
    }
   ],
   "source": [
    "res = 0\n",
    "for i in range(len(grid)):\n",
    "    curr = ''\n",
    "    for j in range(len(grid[0])):\n",
    "        if grid[i, j] != -1:\n",
    "            curr += str(grid[i, j])\n",
    "        else:\n",
    "            if j != 0:\n",
    "                res += int(curr)\n",
    "                print(int(curr))\n",
    "                curr = ''\n",
    "    if curr != '':\n",
    "        res += int(curr)\n",
    "        print(int(curr))"
   ]
  },
  {
   "cell_type": "code",
   "execution_count": 32,
   "metadata": {},
   "outputs": [
    {
     "data": {
      "text/plain": [
       "88243711283"
      ]
     },
     "execution_count": 32,
     "metadata": {},
     "output_type": "execute_result"
    }
   ],
   "source": [
    "res"
   ]
  },
  {
   "cell_type": "code",
   "execution_count": null,
   "metadata": {},
   "outputs": [],
   "source": []
  }
 ],
 "metadata": {
  "kernelspec": {
   "display_name": "base",
   "language": "python",
   "name": "python3"
  },
  "language_info": {
   "codemirror_mode": {
    "name": "ipython",
    "version": 3
   },
   "file_extension": ".py",
   "mimetype": "text/x-python",
   "name": "python",
   "nbconvert_exporter": "python",
   "pygments_lexer": "ipython3",
   "version": "3.9.13"
  }
 },
 "nbformat": 4,
 "nbformat_minor": 2
}
