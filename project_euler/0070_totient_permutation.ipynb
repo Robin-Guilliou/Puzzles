{
 "cells": [
  {
   "cell_type": "markdown",
   "metadata": {},
   "source": [
    "# 70 - Totient Permutation\n",
    "\n",
    "## Problem Statement\n",
    "\n",
    "Euler's totient function, $\\phi(n)$ [sometimes called the phi function], is used to determine the number of positive numbers less than or equal to $n$ which are relatively prime to $n$. For example, as $1, 2, 4, 5, 7$, and $8$, are all less than nine and relatively prime to nine, $\\phi(9)=6$.<br>The number $1$ is considered to be relatively prime to every positive number, so $\\phi(1)=1$.\n",
    "\n",
    "Interestingly, $\\phi(87109)=79180$, and it can be seen that $87109$ is a permutation of $79180$.\n",
    "\n",
    "Find the value of $n$, $1 \\lt n \\lt 10^7$, for which $\\phi(n)$ is a permutation of $n$ and the ratio $n/\\phi(n)$ produces a minimum.\n",
    "\n",
    "## Solution\n",
    "\n",
    "Euler's product formula states that the totient function is given by\n",
    "\n",
    "\\begin{equation}\n",
    "    \\phi(n) = n \\prod_{p|n}\\left( 1 - \\frac{1}{p} \\right)\n",
    "\\end{equation}\n",
    "\n",
    "where the product is over the distinct prime factors dividing $n$.\n",
    "\n",
    "Therefore, we are looking to minimize\n",
    "\n",
    "\\begin{equation}\n",
    "    \\frac{n}{\\phi(n)} = \\frac{1}{\\prod_{p|n}\\left( 1 - \\frac{1}{p} \\right)}.\n",
    "\\end{equation}\n",
    "\n",
    "for some $n$ where $\\phi(n)$ is a permutation of $n$.\n",
    "\n",
    "We compute the totient function and its inverse as find the prime factors of $n$ with a modified sieve of Eratothenes. We check if $n$ is a permutation of $\\phi(n)$ by comparing the sorted digits of both. If they match, we keep track of the minimum of $n/\\phi(n)$."
   ]
  },
  {
   "cell_type": "code",
   "execution_count": 1,
   "metadata": {},
   "outputs": [
    {
     "data": {
      "text/plain": [
       "8319823"
      ]
     },
     "execution_count": 1,
     "metadata": {},
     "output_type": "execute_result"
    }
   ],
   "source": [
    "n = 10000000\n",
    "\n",
    "curr_min = float('inf')\n",
    "res = 0\n",
    "n_over_phi = [1] * (n + 1) # initialize with ones to multiply\n",
    "for i in range(2, n + 1):\n",
    "    if n_over_phi[i] == 1:  # i is a prime number\n",
    "        for j in range(i, n + 1, i):\n",
    "            n_over_phi[j] *= 1/(1 - 1/i) # Compute n/phi(n)\n",
    "    phi = round(1/n_over_phi[i] * i)\n",
    "    if sorted(str(phi)) == sorted(str(i)):\n",
    "        if n_over_phi[i] < curr_min:\n",
    "            curr_min = n_over_phi[i]\n",
    "            res = i\n",
    "res"
   ]
  },
  {
   "cell_type": "code",
   "execution_count": null,
   "metadata": {},
   "outputs": [],
   "source": []
  }
 ],
 "metadata": {
  "language_info": {
   "name": "python"
  }
 },
 "nbformat": 4,
 "nbformat_minor": 2
}
