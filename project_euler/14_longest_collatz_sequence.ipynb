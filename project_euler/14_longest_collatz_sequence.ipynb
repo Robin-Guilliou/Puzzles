{
 "cells": [
  {
   "cell_type": "code",
   "execution_count": 13,
   "metadata": {},
   "outputs": [],
   "source": [
    "def dp(n, memo):\n",
    "    if n == 1:\n",
    "        return 1\n",
    "    if n in memo:\n",
    "        return memo[n]\n",
    "    if n % 2 == 0:\n",
    "        memo[n] = 1 + dp(n // 2, memo)\n",
    "    else:\n",
    "        memo[n] = 1 + dp(3*n + 1, memo)\n",
    "    return memo[n]"
   ]
  },
  {
   "cell_type": "code",
   "execution_count": 15,
   "metadata": {},
   "outputs": [
    {
     "name": "stdout",
     "output_type": "stream",
     "text": [
      "Longest chain starts with 837799 and has length 525.\n"
     ]
    }
   ],
   "source": [
    "memo = {}\n",
    "curr_max = 0\n",
    "ans = -1\n",
    "for i in range(1, 1000000):\n",
    "    res = dp(i, memo)\n",
    "    if res > curr_max:\n",
    "        ans = i\n",
    "        curr_max = res\n",
    "\n",
    "print(f'Longest chain starts with {ans} and has length {curr_max}.')"
   ]
  },
  {
   "cell_type": "code",
   "execution_count": null,
   "metadata": {},
   "outputs": [],
   "source": []
  }
 ],
 "metadata": {
  "language_info": {
   "name": "python"
  }
 },
 "nbformat": 4,
 "nbformat_minor": 2
}
