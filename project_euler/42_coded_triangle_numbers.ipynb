{
 "cells": [
  {
   "cell_type": "code",
   "execution_count": 18,
   "metadata": {},
   "outputs": [],
   "source": [
    "import math\n",
    "\n",
    "def is_triangular(x):\n",
    "    y = (-1 + math.sqrt(1 + 8 * x)) / 2\n",
    "    return y == int(y)\n",
    "\n",
    "with open(\"0042_words.txt\",\"r\") as f:\n",
    "    s = f.read()\n",
    "\n",
    "words = s.replace('\\\"', '').split(',')"
   ]
  },
  {
   "cell_type": "code",
   "execution_count": 19,
   "metadata": {},
   "outputs": [
    {
     "data": {
      "text/plain": [
       "162"
      ]
     },
     "execution_count": 19,
     "metadata": {},
     "output_type": "execute_result"
    }
   ],
   "source": [
    "res = 0\n",
    "for word in words:\n",
    "    score = 0\n",
    "    for char in word:\n",
    "        score += ord(char) - ord('A') + 1\n",
    "    if is_triangular(score):\n",
    "        res += 1\n",
    "res"
   ]
  },
  {
   "cell_type": "code",
   "execution_count": null,
   "metadata": {},
   "outputs": [],
   "source": []
  }
 ],
 "metadata": {
  "language_info": {
   "name": "python"
  }
 },
 "nbformat": 4,
 "nbformat_minor": 2
}
