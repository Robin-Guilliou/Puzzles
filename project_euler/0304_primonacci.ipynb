{
 "cells": [
  {
   "cell_type": "markdown",
   "metadata": {},
   "source": [
    "# 304 - Primonacci\n",
    "\n",
    "## Problem Statement\n",
    "\n",
    "For any positive integer $n$ the function $\\operatorname{next\\_prime}(n)$ returns the smallest prime $p$ such that $p \\gt n$.\n",
    "\n",
    "The sequence $a(n)$ is defined by:<br>\n",
    "$a(1)=\\operatorname{next\\_prime}(10^{14})$ and $a(n)=\\operatorname{next\\_prime}(a(n-1))$ for $n \\gt 1$.\n",
    "\n",
    "The Fibonacci sequence $f(n)$ is defined by:\n",
    "$f(0)=0$, $f(1)=1$ and $f(n)=f(n-1)+f(n-2)$ for $n \\gt 1$.\n",
    "\n",
    "The sequence $b(n)$ is defined as $f(a(n))$.\n",
    "\n",
    "Find $\\sum b(n)$ for $1 \\le n \\le 100\\,000$. \n",
    "Give your answer mod $1234567891011$. \n",
    "\n",
    "## Solution\n",
    "\n",
    "There are two main challenges to this problem. The first one is to quickly compute the next prime. This is easily done using ```sympy```. The second challenge is to efficiently compute the $n$-th Fibonacci number, $F_n$. To do so, we can use the relationship\n",
    "\n",
    "\\begin{equation}\n",
    "    \\begin{bmatrix} 1 & 1 \\\\ \n",
    "    1 & 0 \\end{bmatrix}^n = \\begin{bmatrix} F_{n+1} & F_n \\\\ \n",
    "    F_n & F_{n-1} \\end{bmatrix}.\n",
    "\\end{equation}\n",
    "\n",
    "In order to do the exponentiation is a reasonable time, we use the exponentiation by squaring technique which is based on the observation that\n",
    "\n",
    "\\begin{equation}\n",
    "    x^n = \\begin{cases}\n",
    "        x(x^2)^\\frac{n - 1}{2}, & \\text{if } n \\text{ is odd} \\\\\n",
    "        (x^2)^{\\frac{n}{2}}, & \\text{if } n \\text{ is even}\n",
    "        \n",
    "    \\end{cases}.\n",
    "\\end{equation}\n",
    "\n",
    "This allows to perform matrix exponentiation in $O(\\log n)$. Note the use of ```dtype = object``` instead of ```dtype = np.int64``` in the implementation to avoid overflow.\n",
    "\n",
    "Therefore, to obtain the solution, we simply compute the next prime and add the corresponding Fibonacci number to a running sum modulo 1234567891011. \n",
    "\n",
    "Note that the solution below could be improved by keeping the matrix instead of fully redoing the exponentiation from zero. "
   ]
  },
  {
   "cell_type": "code",
   "execution_count": 2,
   "metadata": {},
   "outputs": [
    {
     "data": {
      "text/plain": [
       "283988410192"
      ]
     },
     "execution_count": 2,
     "metadata": {},
     "output_type": "execute_result"
    }
   ],
   "source": [
    "import numpy as np\n",
    "from sympy import nextprime\n",
    "\n",
    "def matrix_modular_exponentiation(matrix, power, mod):\n",
    "    \"\"\" Matrix modular exponentiation by squaring. Set dtype to object to avoid overflow\"\"\"\n",
    "    # Ensure the matrix is in integer format for modular operations\n",
    "    matrix = np.array(matrix, dtype=object)\n",
    "    # Start with the identity matrix of the same size as the input matrix\n",
    "    result = np.eye(matrix.shape[0], dtype=object)\n",
    "\n",
    "    # Apply exponentiation by squaring technique\n",
    "    while power > 0:\n",
    "        if power % 2 == 1:\n",
    "            result = np.dot(result, matrix) % mod\n",
    "        matrix = np.dot(matrix, matrix) % mod\n",
    "        power //= 2\n",
    "\n",
    "    return result\n",
    "\n",
    "\n",
    "def fibonacci_mod(n, mod):\n",
    "    \"\"\" Compute nth Fibonacci number using matrix exponentiation\"\"\"\n",
    "    if n == 0:\n",
    "        return 0\n",
    "    elif n == 1:\n",
    "        return 1\n",
    "    else:\n",
    "        F = [[1, 1], [1, 0]]\n",
    "        result_matrix = matrix_modular_exponentiation(F, n - 1, mod)\n",
    "        return result_matrix[0, 0]\n",
    "\n",
    "\n",
    "res = 0\n",
    "mod = 1234567891011\n",
    "prime = 10**14\n",
    "for i in range(100000):\n",
    "    prime = nextprime(prime)\n",
    "    res = (res + fibonacci_mod(prime, mod)) % mod\n",
    "\n",
    "res"
   ]
  },
  {
   "cell_type": "code",
   "execution_count": null,
   "metadata": {},
   "outputs": [],
   "source": []
  }
 ],
 "metadata": {
  "language_info": {
   "name": "python"
  }
 },
 "nbformat": 4,
 "nbformat_minor": 2
}
