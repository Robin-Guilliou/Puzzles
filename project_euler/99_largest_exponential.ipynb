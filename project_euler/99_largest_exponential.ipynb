{
 "cells": [
  {
   "cell_type": "markdown",
   "metadata": {},
   "source": [
    "# 99 - Largest Exponential\n",
    "\n",
    "## Problem Statement\n",
    "\n",
    "<p>Comparing two numbers written in index form like $2^{11}$ and $3^7$ is not difficult, as any calculator would confirm that $2^{11} = 2048 \\lt 3^7 = 2187$.</p>\n",
    "<p>However, confirming that $632382^{518061} \\gt 519432^{525806}$ would be much more difficult, as both numbers contain over three million digits.</p>\n",
    "<p>Using <a href=\"resources/documents/0099_base_exp.txt\">base_exp.txt</a> (right click and 'Save Link/Target As...'), a 22K text file containing one thousand lines with a base/exponent pair on each line, determine which line number has the greatest numerical value.</p>\n",
    "<p class=\"smaller\">NOTE: The first two lines in the file represent the numbers in the example given above.</p>\n",
    "\n",
    "## Solution\n",
    "\n",
    "Instead of comparing the values directly we compare the logarithms using the property $\\log(a^b) = b \\log(a)$."
   ]
  },
  {
   "cell_type": "code",
   "execution_count": 1,
   "metadata": {},
   "outputs": [
    {
     "data": {
      "text/plain": [
       "709"
      ]
     },
     "execution_count": 1,
     "metadata": {},
     "output_type": "execute_result"
    }
   ],
   "source": [
    "import numpy as np\n",
    "\n",
    "# Read file\n",
    "with open(\"0099_base_exp.txt\",\"r\") as f:\n",
    "    s = f.read()\n",
    "data = s.split('\\n')\n",
    "\n",
    "curr_max = 0\n",
    "res = 0\n",
    "for i, s in enumerate(data):\n",
    "    base, exp = s.split(',')\n",
    "    base = int(base)\n",
    "    exp = int(exp)\n",
    "    val = exp * np.log(base)\n",
    "    if val > curr_max:\n",
    "        curr_max = val\n",
    "        res = i\n",
    "\n",
    "res + 1"
   ]
  },
  {
   "cell_type": "code",
   "execution_count": null,
   "metadata": {},
   "outputs": [],
   "source": []
  }
 ],
 "metadata": {
  "language_info": {
   "name": "python"
  }
 },
 "nbformat": 4,
 "nbformat_minor": 2
}
