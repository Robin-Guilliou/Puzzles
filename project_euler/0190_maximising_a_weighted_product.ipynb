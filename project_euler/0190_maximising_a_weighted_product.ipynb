{
 "cells": [
  {
   "cell_type": "markdown",
   "metadata": {},
   "source": [
    "# 190 - Maximising a Weighted Product\n",
    "\n",
    "## Problem Statement\n",
    "\n",
    "Let $S_m = (x_1, x_2, \\dots , x_m)$ be the $m$-tuple of positive real numbers with $x_1 + x_2 + \\cdots + x_m = m$ for which $P_m = x_1 \\cdot x_2^2 \\cdot \\cdots \\cdot x_m^m$ is maximised.\n",
    "\n",
    "For example, it can be verified that $\\lfloor P_{10}\\rfloor = 4112$ ($\\lfloor \\, \\rfloor$ is the integer part function).\n",
    "\n",
    "Find $\\sum\\limits_{m = 2}^{15} \\lfloor P_m \\rfloor$.\n",
    "\n",
    "## Solution\n",
    "\n",
    "We simply plug everything in an optimiser. Only trick is to maximise $\\log P_m$ instead of $P_m$ to avoid overflow. "
   ]
  },
  {
   "cell_type": "code",
   "execution_count": 1,
   "metadata": {},
   "outputs": [
    {
     "name": "stderr",
     "output_type": "stream",
     "text": [
      "/var/folders/9n/dhbgs6q906j_2_3nrnjcznfr0000gn/T/ipykernel_17829/3856067609.py:11: RuntimeWarning: divide by zero encountered in log\n",
      "  return -np.sum(np.log(x) * np.arange(1, m + 1))\n"
     ]
    },
    {
     "data": {
      "text/plain": [
       "371048281"
      ]
     },
     "execution_count": 1,
     "metadata": {},
     "output_type": "execute_result"
    }
   ],
   "source": [
    "import numpy as np\n",
    "from scipy.optimize import minimize\n",
    "\n",
    "\n",
    "def maximize_pm(m, precision=1e-12):\n",
    "    # Initial guess for x_i\n",
    "    x0 = np.ones(m) * (1 / m)  # Uniform distribution as a starting point\n",
    "\n",
    "    # Objective function (negative because we minimize)\n",
    "    def objective(x):\n",
    "        return -np.sum(np.log(x) * np.arange(1, m + 1))\n",
    "\n",
    "    # Constraint: sum of x_i = m\n",
    "    constraints = ({'type': 'eq', 'fun': lambda x: np.sum(x) - m})\n",
    "\n",
    "    # Bounds: x_i > 0\n",
    "    bounds = [(0, None) for _ in range(m)]\n",
    "\n",
    "    # Solve the optimization problem\n",
    "    result = minimize(objective, x0, constraints=constraints, bounds=bounds, options={'ftol': precision, 'maxiter': 1000})\n",
    "\n",
    "    # Return integer part of P_m\n",
    "    return int(np.prod(result.x ** np.arange(1, m + 1)))\n",
    "\n",
    "\n",
    "res = 0\n",
    "for m in range(2, 16):\n",
    "    res += maximize_pm(m)\n",
    "\n",
    "res"
   ]
  },
  {
   "cell_type": "code",
   "execution_count": null,
   "metadata": {},
   "outputs": [],
   "source": []
  }
 ],
 "metadata": {
  "language_info": {
   "name": "python"
  }
 },
 "nbformat": 4,
 "nbformat_minor": 2
}
