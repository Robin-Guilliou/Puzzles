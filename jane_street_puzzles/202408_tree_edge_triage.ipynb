{
 "cells": [
  {
   "cell_type": "markdown",
   "metadata": {},
   "source": [
    "# Jane Street Puzzle - August 2024 - Tree-edge Triage\n",
    "\n",
    "## Problem Statement\n",
    "\n",
    "<div class=\"center\">\n",
    "<img src=\"images/treeedge_triage_august-2024.png\" alt=\"treeedge_triage_august-2024.png\">\n",
    "</div>\n",
    "\n",
    "Aaron and Beren are playing a game on an infinite complete binary tree. At the beginning of the game, every edge of the tree is independently labeled A with probability p and B otherwise. Both players are able to inspect all of these labels (1). Then, starting with Aaron at the root of the tree, the players alternate turns moving a shared token down the tree (each turn the active player selects from the two descendants of the current node and moves the token along the edge to that node). If the token ever traverses an edge labeled B, Beren wins the game. Otherwise (2), Aaron wins.\n",
    "\n",
    "An example game is in the picture above: after the labeling, Aaron chooses to go left to avoid immediate defeat, but after Beren goes right Aaron is doomed to choose one of two B paths and Beren wins.\n",
    "\n",
    "What is the infimum of the set of all probabilities p for which Aaron has a nonzero probability of winning the game? Give your answer in exact terms.\n",
    "\n",
    "- (1) … somehow.\n",
    "\n",
    "- (2) To make this precise, we can add the following step to the start of the game: after the edges are labeled and inspected, Beren is allowed to name any positive integer N. Aaron wins if the first N edges traversed by the token are all labeled A, Beren wins if any of them are labeled B.\n",
    "\n",
    "## Solution\n",
    "\n",
    "The solution is readily available in [this paper on Galton-Watson games](https://arxiv.org/abs/1904.04150)."
   ]
  },
  {
   "cell_type": "code",
   "execution_count": null,
   "metadata": {},
   "outputs": [],
   "source": []
  }
 ],
 "metadata": {
  "language_info": {
   "name": "python"
  }
 },
 "nbformat": 4,
 "nbformat_minor": 2
}
