{
 "cells": [
  {
   "cell_type": "markdown",
   "metadata": {},
   "source": [
    "# 205 - Dice Game\n",
    "\n",
    "## Problem Statement\n",
    "\n",
    "Peter has nine four-sided (pyramidal) dice, each with faces numbered $1, 2, 3, 4$.<br>\n",
    "Colin has six six-sided (cubic) dice, each with faces numbered $1, 2, 3, 4, 5, 6$.\n",
    "\n",
    "Peter and Colin roll their dice and compare totals: the highest total wins. The result is a draw if the totals are equal.\n",
    "\n",
    "What is the probability that Pyramidal Peter beats Cubic Colin? Give your answer rounded to seven decimal places in the form 0.abcdefg.\n",
    "\n",
    "## Solution\n",
    "\n",
    "Let $P_P(i)$ be the probability that Peter obtains a score of $i$ and $P_C(j)$ the probability that Colin obtains a score of $j$, the probability that Peter wins is given by\n",
    "\n",
    "\\begin{equation}\n",
    "    \\sum_{i = 9}^{36} \\sum_{j < i} P_P(i) P_C(j).\n",
    "\\end{equation}\n",
    "\n",
    "Note that the sum goes goes from 9 to 36 as those are the minimum and maximum value that Peter can obtain (all 1 and all 4 respectively).\n",
    "\n",
    "We generate the distribution of each player by computing the sum of all their respective combinations ($4^9$ combinations for Peter and $6^6$ for Colin). Then we simply apply the above formula."
   ]
  },
  {
   "cell_type": "code",
   "execution_count": 50,
   "metadata": {},
   "outputs": [
    {
     "data": {
      "text/plain": [
       "0.5731441"
      ]
     },
     "execution_count": 50,
     "metadata": {},
     "output_type": "execute_result"
    }
   ],
   "source": [
    "import itertools\n",
    "import numpy as np\n",
    "\n",
    "# Function to get the probability distribution\n",
    "def get_distribution(n_sides, n_dices):\n",
    "    dist = np.zeros(n_sides * n_dices + 1)\n",
    "    ranges = [range(1, n_sides+1)] * n_dices\n",
    "    combinations = itertools.product(*ranges)\n",
    "    for comb in combinations:\n",
    "        comb_sum = sum(comb)\n",
    "        dist[comb_sum] += 1\n",
    "    return dist / sum(dist)\n",
    "\n",
    "# Get the probability distribution for each player\n",
    "peter_dist = get_distribution(4, 9)\n",
    "colin_dist = get_distribution(6, 6)\n",
    "\n",
    "# Generate a the cumulative distribution for Colin\n",
    "colin_cdf = [0] * 37\n",
    "for i in range(1, len(colin_dist)):\n",
    "    colin_cdf[i] = colin_dist[i] + colin_cdf[i - 1]\n",
    "\n",
    "# Get the probability of winning\n",
    "proba = 0\n",
    "for i in range (1, len(peter_dist)):\n",
    "    proba += peter_dist[i] * colin_cdf[i - 1]\n",
    "\n",
    "round(proba, 7)"
   ]
  },
  {
   "cell_type": "code",
   "execution_count": null,
   "metadata": {},
   "outputs": [],
   "source": []
  }
 ],
 "metadata": {
  "language_info": {
   "name": "python"
  }
 },
 "nbformat": 4,
 "nbformat_minor": 2
}
