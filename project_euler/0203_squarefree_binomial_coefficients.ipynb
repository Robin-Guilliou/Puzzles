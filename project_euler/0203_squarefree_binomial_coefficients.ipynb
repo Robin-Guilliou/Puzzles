{
 "cells": [
  {
   "cell_type": "markdown",
   "metadata": {},
   "source": [
    "# Squarefree Binomial Coefficients\n",
    "\n",
    "## Problem Statement\n",
    "\n",
    "The binomial coefficients $\\displaystyle \\binom n k$ can be arranged in triangular form, Pascal's triangle, like this:\n",
    "\n",
    "<div class=\"center\" style=\"text-align: center; width: 100%;\">\n",
    "    <table align=\"center\" style=\"border-collapse: collapse; margin: auto; padding: 0;\">\n",
    "        <tr><td colspan=\"7\" style=\"border: none;\"></td><td style=\"border: none; padding: 5px;\">1</td><td colspan=\"7\" style=\"border: none;\"></td></tr>\n",
    "        <tr><td colspan=\"6\" style=\"border: none;\"></td><td style=\"border: none; padding: 5px;\">1</td><td style=\"border: none; padding: 5px;\"></td><td style=\"border: none; padding: 5px;\">1</td><td colspan=\"6\" style=\"border: none;\"></td></tr>\n",
    "        <tr><td colspan=\"5\" style=\"border: none;\"></td><td style=\"border: none; padding: 5px;\">1</td><td style=\"border: none; padding: 5px;\"></td><td style=\"border: none; padding: 5px;\">2</td><td style=\"border: none; padding: 5px;\"></td><td style=\"border: none; padding: 5px;\">1</td><td colspan=\"5\" style=\"border: none;\"></td></tr>\n",
    "        <tr><td colspan=\"4\" style=\"border: none;\"></td><td style=\"border: none; padding: 5px;\">1</td><td style=\"border: none; padding: 5px;\"></td><td style=\"border: none; padding: 5px;\">3</td><td style=\"border: none; padding: 5px;\"></td><td style=\"border: none; padding: 5px;\">3</td><td style=\"border: none; padding: 5px;\"></td><td style=\"border: none; padding: 5px;\">1</td><td colspan=\"4\" style=\"border: none;\"></td></tr>\n",
    "        <tr><td colspan=\"3\" style=\"border: none;\"></td><td style=\"border: none; padding: 5px;\">1</td><td style=\"border: none; padding: 5px;\"></td><td style=\"border: none; padding: 5px;\">4</td><td style=\"border: none; padding: 5px;\"></td><td style=\"border: none; padding: 5px;\">6</td><td style=\"border: none; padding: 5px;\"></td><td style=\"border: none; padding: 5px;\">4</td><td style=\"border: none; padding: 5px;\"></td><td style=\"border: none; padding: 5px;\">1</td><td colspan=\"3\" style=\"border: none;\"></td></tr>\n",
    "        <tr><td colspan=\"2\" style=\"border: none;\"></td><td style=\"border: none; padding: 5px;\">1</td><td style=\"border: none; padding: 5px;\"></td><td style=\"border: none; padding: 5px;\">5</td><td style=\"border: none; padding: 5px;\"></td><td style=\"border: none; padding: 5px;\">10</td><td style=\"border: none; padding: 5px;\"></td><td style=\"border: none; padding: 5px;\">10</td><td style=\"border: none; padding: 5px;\"></td><td style=\"border: none; padding: 5px;\">5</td><td style=\"border: none; padding: 5px;\"></td><td style=\"border: none; padding: 5px;\">1</td><td colspan=\"2\" style=\"border: none;\"></td></tr>\n",
    "        <tr><td colspan=\"1\" style=\"border: none;\"></td><td style=\"border: none; padding: 5px;\">1</td><td style=\"border: none; padding: 5px;\"></td><td style=\"border: none; padding: 5px;\">6</td><td style=\"border: none; padding: 5px;\"></td><td style=\"border: none; padding: 5px;\">15</td><td style=\"border: none; padding: 5px;\"></td><td style=\"border: none; padding: 5px;\">20</td><td style=\"border: none; padding: 5px;\"></td><td style=\"border: none; padding: 5px;\">15</td><td style=\"border: none; padding: 5px;\"></td><td style=\"border: none; padding: 5px;\">6</td><td style=\"border: none; padding: 5px;\"></td><td style=\"border: none; padding: 5px;\">1</td><td colspan=\"1\" style=\"border: none;\"></td></tr>\n",
    "        <tr><td style=\"border: none; padding: 5px;\">1</td><td style=\"border: none; padding: 5px;\"></td><td style=\"border: none; padding: 5px;\">7</td><td style=\"border: none; padding: 5px;\"></td><td style=\"border: none; padding: 5px;\">21</td><td style=\"border: none; padding: 5px;\"></td><td style=\"border: none; padding: 5px;\">35</td><td style=\"border: none; padding: 5px;\"></td><td style=\"border: none; padding: 5px;\">35</td><td style=\"border: none; padding: 5px;\"></td><td style=\"border: none; padding: 5px;\">21</td><td style=\"border: none; padding: 5px;\"></td><td style=\"border: none; padding: 5px;\">7</td><td style=\"border: none; padding: 5px;\"></td><td style=\"border: none; padding: 5px;\">1</td></tr>\n",
    "    </table>\n",
    "    ..........\n",
    "</div>\n",
    "\n",
    "It can be seen that the first eight rows of Pascal's triangle contain twelve distinct numbers: 1, 2, 3, 4, 5, 6, 7, 10, 15, 20, 21 and 35.\n",
    "\n",
    "A positive integer <var>n</var> is called squarefree if no square of a prime divides <var>n</var>.\n",
    "Of the twelve distinct numbers in the first eight rows of Pascal's triangle, all except 4 and 20 are squarefree.\n",
    "The sum of the distinct squarefree numbers in the first eight rows is 105.\n",
    "\n",
    "Find the sum of the distinct squarefree numbers in the first 51 rows of Pascal's triangle.\n",
    "\n",
    "## Solution\n",
    "\n",
    "The binomial coefficient is given by\n",
    "\n",
    "\\begin{equation}\n",
    "    \\binom{n}{k} = \\frac{n!}{k!(n - k)!}.\n",
    "\\end{equation}\n",
    "\n",
    "The prime factors of $n!$ are determined by summing the multiplicities of the prime factors for each individual term in the product from 1 to $n$. Each prime factor's total power in the decomposition of $n!$ is the sum of its contributions from all numbers in that range. When dividing factorials, the multiplicities of the prime factors in the denominator are subtracted from those in the numerator. Our goal is to identify the binomial coefficients where the multiplicity of each prime factor is one. \n",
    "\n",
    "First, we precompute the prime factor decomposition of each number from 1 to 52. We also instantiate a hashset to store the squarefree numbers. Then, we process the rows one by one. We initialise a dictionary to store the factors and their multiplicities as we move right on the row. Every time we move one column to the right, we multiply the numerator by one number and multiply the denominator by another number. Therefore, we only need to add the factors from the numerator and subtract those from the denominator to the factors of the previous column. Then, we check all the multiplicities and if they are all lower than or equal to 1, we compute the binomial coefficient and add it to the set. After processing all the rows, we sum all the values in the set to get the answer.\n",
    "\n",
    "Due to the symmetry of pascal triangle, we can process only the first half of each row in the triangle. Additionally, Erdős squarefree conjecture states that central binomial coefficients (of the form $\\binom{2n}{n}$) are never squarefree for $n > 4$. Here we exclude those central coefficients but initially include the squarefree values for $n < 4$ which are 1, 2, 6 and 70. "
   ]
  },
  {
   "cell_type": "code",
   "execution_count": 1,
   "metadata": {},
   "outputs": [
    {
     "data": {
      "text/plain": [
       "34029210557338"
      ]
     },
     "execution_count": 1,
     "metadata": {},
     "output_type": "execute_result"
    }
   ],
   "source": [
    "import math\n",
    "from collections import defaultdict\n",
    "from sympy import factorint\n",
    "\n",
    "n_rows = 51\n",
    "\n",
    "# Generate factor decompositions for integers from 0 to 52\n",
    "factor_decompositions = []\n",
    "for i in range(n_rows + 1):\n",
    "    decomposition = factorint(i)\n",
    "    factor_decompositions.append(decomposition)\n",
    "\n",
    "# Identify squarefree binomial coefficients\n",
    "seen = set([1, 2, 6, 70]) # Accounting for the only squarefree central binomial coefficients\n",
    "for i in range(n_rows):\n",
    "    curr_factors = defaultdict(int) # dictionary to store factors of current binomial coefficient\n",
    "    for j in range(1, (i + 1) // 2):\n",
    "        # Add factors from the numerator\n",
    "        for key, val in factor_decompositions[i + 1 - j].items():\n",
    "            curr_factors[key] += val\n",
    "        # Remove factors from the denominator\n",
    "        for key, val in factor_decompositions[j].items():\n",
    "            curr_factors[key] -= val\n",
    "        # Check if current binomial coefficient is squarefree\n",
    "        squarefree = True\n",
    "        for key, val in curr_factors.items():\n",
    "            if val > 1:\n",
    "                squarefree = False\n",
    "                break\n",
    "        # Add squarefree values to a set\n",
    "        if squarefree:\n",
    "            seen.add(math.comb(i, j))\n",
    "\n",
    "# Answer is the sum of all values in the set\n",
    "sum(seen)"
   ]
  },
  {
   "cell_type": "code",
   "execution_count": null,
   "metadata": {},
   "outputs": [],
   "source": []
  }
 ],
 "metadata": {
  "language_info": {
   "name": "python"
  }
 },
 "nbformat": 4,
 "nbformat_minor": 2
}
