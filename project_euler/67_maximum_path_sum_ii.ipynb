{
 "cells": [
  {
   "cell_type": "code",
   "execution_count": 7,
   "metadata": {},
   "outputs": [],
   "source": [
    "def read_triangle(file_path):\n",
    "    triangle = []\n",
    "    with open(file_path, 'r') as file:\n",
    "        for line in file:\n",
    "            row = list(map(int, line.split()))\n",
    "            triangle.append(row)\n",
    "    return triangle\n",
    "\n",
    "triangle = read_triangle('0067_triangle.txt')"
   ]
  },
  {
   "cell_type": "code",
   "execution_count": 8,
   "metadata": {},
   "outputs": [
    {
     "data": {
      "text/plain": [
       "7273"
      ]
     },
     "execution_count": 8,
     "metadata": {},
     "output_type": "execute_result"
    }
   ],
   "source": [
    "for i in range(len(triangle) - 2, -1, -1):\n",
    "    for j in range(len(triangle[i])):\n",
    "        triangle[i][j] += max(triangle[i + 1][j], triangle[i + 1][j + 1])\n",
    "\n",
    "triangle[0][0]"
   ]
  },
  {
   "cell_type": "code",
   "execution_count": null,
   "metadata": {},
   "outputs": [],
   "source": []
  }
 ],
 "metadata": {
  "language_info": {
   "name": "python"
  }
 },
 "nbformat": 4,
 "nbformat_minor": 2
}
