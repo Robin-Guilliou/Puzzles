{
 "cells": [
  {
   "cell_type": "markdown",
   "metadata": {},
   "source": [
    "# 179 - Consecutive Positive Divisors\n",
    "\n",
    "## Problem Statement\n",
    "\n",
    "Find the number of integers $1 \\lt n \\lt 10^7$, for which $n$ and $n + 1$ have the same number of positive divisors. For example, $14$ has the positive divisors $1, 2, 7, 14$ while $15$ has $1, 3, 5, 15$.\n",
    "\n",
    "## Solution\n",
    "\n",
    "We use a sieve to generate the number of divisors for each number up to $10^{7}$. Then we count the number of consecutive integers."
   ]
  },
  {
   "cell_type": "code",
   "execution_count": 1,
   "metadata": {},
   "outputs": [
    {
     "data": {
      "text/plain": [
       "986262"
      ]
     },
     "execution_count": 1,
     "metadata": {},
     "output_type": "execute_result"
    }
   ],
   "source": [
    "import numpy as np\n",
    "from numba import njit\n",
    "\n",
    "@njit\n",
    "def count_divisors(n):\n",
    "    divisor_count = np.zeros(n + 1)\n",
    "    for i in range(1, n + 1):\n",
    "        for k in range(i, n + 1, i):\n",
    "            divisor_count[k] += 1\n",
    "    return divisor_count\n",
    "\n",
    "# Example usage:\n",
    "n = 10**7\n",
    "divisor_counts = count_divisors(n)\n",
    "\n",
    "res = 0\n",
    "for i in range(1, len(divisor_counts) - 1):\n",
    "    if divisor_counts[i] == divisor_counts[i + 1]:\n",
    "        res += 1\n",
    "\n",
    "res"
   ]
  },
  {
   "cell_type": "code",
   "execution_count": null,
   "metadata": {},
   "outputs": [],
   "source": []
  }
 ],
 "metadata": {
  "language_info": {
   "name": "python"
  }
 },
 "nbformat": 4,
 "nbformat_minor": 2
}
