{
 "cells": [
  {
   "cell_type": "markdown",
   "metadata": {},
   "source": [
    "# 203 - Generalised Hamming Numbers\n",
    "\n",
    "## Problem Statement\n",
    "\n",
    "A Hamming number is a positive number which has no prime factor larger than $5$.<br>\n",
    "So the first few Hamming numbers are $1, 2, 3, 4, 5, 6, 8, 9, 10, 12, 15$.<br>\n",
    "There are $1105$ Hamming numbers not exceeding $10^8$.\n",
    "\n",
    "We will call a positive number a generalised Hamming number of type $n$, if it has no prime factor larger than $n$.<br>\n",
    "Hence the Hamming numbers are the generalised Hamming numbers of type $5$.\n",
    "\n",
    "How many generalised Hamming numbers of type $100$ are there which don't exceed $10^9$?\n",
    "\n",
    "## Solution\n",
    "\n",
    "First we generate all the prime numbers below 100. Then, we initialise a list with the number one. This list will contain all the valid numbers. Then, for each prime, we keep multiplying powers of the prime with all the numbers in the list until the become greater than $10^9$. Once this is done, the result is simply the length of the list."
   ]
  },
  {
   "cell_type": "code",
   "execution_count": 1,
   "metadata": {},
   "outputs": [
    {
     "data": {
      "text/plain": [
       "2944730"
      ]
     },
     "execution_count": 1,
     "metadata": {},
     "output_type": "execute_result"
    }
   ],
   "source": [
    "from sympy import primerange\n",
    "\n",
    "primes = primerange(2, 100)\n",
    "\n",
    "nums = [1]\n",
    "for p in primes:\n",
    "    for x in nums.copy():\n",
    "        curr = p * x\n",
    "        while curr <= 10**9:\n",
    "            nums.append(curr)\n",
    "            curr *= p\n",
    "len(nums)"
   ]
  },
  {
   "cell_type": "code",
   "execution_count": null,
   "metadata": {},
   "outputs": [],
   "source": []
  }
 ],
 "metadata": {
  "language_info": {
   "name": "python"
  }
 },
 "nbformat": 4,
 "nbformat_minor": 2
}
