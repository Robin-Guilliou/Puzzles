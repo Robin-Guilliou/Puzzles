{
 "cells": [
  {
   "cell_type": "markdown",
   "metadata": {},
   "source": [
    "# Jane Street Puzzle - September 2024 - Fences 2\n",
    "\n",
    "## Problem Statement\n",
    "\n",
    "<div class=\"center\">\n",
    "<img src=\"images/september-2024_fences2.png\" alt=\"september-2024_fences2.png\", width=\"600\" height=\"800\">\n",
    "</div>\n",
    "\n",
    "A field is divided into hexagonal cells of width 1. Some of the cells contain “posts” at their center. Each post is represented in the field (grid) by a number. Construct one or more fences emanating from each post, such that the total length of fence connected to a post equals the number given. Fences have integer length and can only intersect cell walls at right angles. Fences from different posts may not touch, nor may a fence from one post touch a different post.\n",
    "\n",
    "The goal of this puzzle is to build your fences in such a manner that it is possible to draw a closed loop through some of the remaining empty cells. The loop may only make 120-degree turns, and it must visit each of the six colored regions. Finally, the loop must be symmetric in some way (either via rotation or reflection).\n",
    "\n",
    "As in the example, the loop must be rectilinear, passing through the centers of adjacent empty cells.\n",
    "\n",
    "Once you have completed the loop, determine the number of cells it visits in each of the six colored regions. The answer to this month’s puzzle is the product of these six values.\n",
    "\n",
    "## Solution\n",
    "\n",
    "This one can be solved by hand. The key is to figure out the only way to place the fences for the 19 such that placing the 38 fences leaves enough space for a loop. As the bottom left area is packed, it is obvious that the red and purple zones will not have a direct connection. As 38 need to have fences in all directions, we extend as much as possible on the purple and red areas. Then, we realise that in the green direction, we need at least two cells after the 38 fence stops as we need two lines at the top to have a loop. Following the same logic, we understand that 2 cells are needed after the 38 fences in the blue direction. At this stage, the overall shape of the loop is pretty well defined and it is just a matter of continuing to fill the loop where possible.\n",
    "\n",
    "<div class=\"center\">\n",
    "<img src=\"images/september_2024_solution_jane_street.png\" alt=\"september_2024_solution_jane_street.png\", width=\"600\" height=\"800\">\n",
    "</div>"
   ]
  },
  {
   "cell_type": "code",
   "execution_count": null,
   "metadata": {
    "vscode": {
     "languageId": "plaintext"
    }
   },
   "outputs": [],
   "source": []
  }
 ],
 "metadata": {
  "language_info": {
   "name": "python"
  }
 },
 "nbformat": 4,
 "nbformat_minor": 2
}
