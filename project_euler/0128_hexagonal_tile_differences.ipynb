{
 "cells": [
  {
   "cell_type": "markdown",
   "metadata": {},
   "source": [
    "# 128 - Hexagonal Tile Differences\n",
    "\n",
    "## Problem Statement\n",
    "\n",
    "A hexagonal tile with number $1$ is surrounded by a ring of six hexagonal tiles, starting at \"12 o'clock\" and numbering the tiles $2$ to $7$ in an anti-clockwise direction.\n",
    "\n",
    "New rings are added in the same fashion, with the next rings being numbered $8$ to $19$, $20$ to $37$, $38$ to $61$, and so on. The diagram below shows the first three rings.\n",
    "\n",
    "<div class=\"center\">\n",
    "<img src=\"images/0128.png?1678992052\" style=\"background-color: white;\" class=\"dark_img\" alt=\"\"></div>\n",
    "\n",
    "By finding the difference between tile $n$ and each of its six neighbours we shall define $\\operatorname{PD}(n)$ to be the number of those differences which are prime.\n",
    "\n",
    "For example, working clockwise around tile $8$ the differences are $12, 29, 11, 6, 1$, and $13$. So $\\operatorname{PD}(8) = 3$.\n",
    "\n",
    "In the same way, the differences around tile $17$ are $1, 17, 16, 1, 11$, and $10$, hence $\\operatorname{PD}(17) = 2$.\n",
    "\n",
    "It can be shown that the maximum value of $\\operatorname{PD}(n)$ is $3$.\n",
    "\n",
    "If all of the tiles for which $\\operatorname{PD}(n) = 3$ are listed in ascending order to form a sequence, the $10$th tile would be $271$.\n",
    "\n",
    "Find the $2000$-th tile in this sequence.\n",
    "\n",
    "## Solution\n",
    "\n",
    "The key is to realise that most the tiles cannot be connected to three primes. The difference with the previous and next value is one and it is not prime. Most tiles have two neighbours with difference one. Also, most tiles have neighbours that are consecutive numbers. If two neighbours are consecutive numbers, only one of them can have a prime difference. Based on those observations we observe that only the tiles in the middle and going up and the tiles directly to their right can have 3 prime differences.\n",
    "\n",
    "Now we only need to generate each of those numbers along with their neighbours. Starting from 2, we notice that all the middle values are separated by an increasing multiple of 6. It is therefore straightforward to generate the top and bottom neighbours. The values to the right are the next middle value minus 1 (bottom right) and the middle value two steps ahead minus one (top right). The remaining relevant neighbour (top left) is the next middle value plus one.\n",
    "\n",
    "With a similar logic, we can generate the neighbours of the values to the right of the middle ones (e.g., 7, 19, 37). \n",
    "\n",
    "Then, we only need to count the valid tiles until we reach 2000."
   ]
  },
  {
   "cell_type": "code",
   "execution_count": 3,
   "metadata": {},
   "outputs": [
    {
     "data": {
      "text/plain": [
       "14516824220"
      ]
     },
     "execution_count": 3,
     "metadata": {},
     "output_type": "execute_result"
    }
   ],
   "source": [
    "import sympy\n",
    "\n",
    "primes = set(sympy.primerange(1000000))\n",
    "\n",
    "prev = 2 # Initialise the middle value\n",
    "total_valid = 0\n",
    "i = 0\n",
    "\n",
    "while total_valid < 2000:\n",
    "    # Check middle ones\n",
    "    val = prev + i * 6\n",
    "    next = val + (i + 1) * 6\n",
    "    neighbours = [\n",
    "        prev,\n",
    "        val + (i + 1) * 6,\n",
    "        val + (i + 1) * 6 - 1,\n",
    "        next + (i + 2) * 6 - 1,\n",
    "        val + (i + 1) * 6 + 1\n",
    "    ]\n",
    "    count = 0\n",
    "    for nei in neighbours:\n",
    "        if abs(val - nei) in primes:\n",
    "            count += 1\n",
    "    if count == 3:\n",
    "        total_valid += 1\n",
    "\n",
    "    if total_valid == 2000:\n",
    "        break\n",
    "\n",
    "    # Check right ones\n",
    "    if next - 1 - val in primes:\n",
    "        count = 1\n",
    "        new_val = next - 1\n",
    "        neighbours = [\n",
    "            prev,\n",
    "            val - 1,\n",
    "            next + (i + 2) * 6 - 1,\n",
    "            next + (i + 2) * 6 - 2\n",
    "        ]\n",
    "        for nei in neighbours:\n",
    "            if abs(new_val - nei) in primes:\n",
    "                count += 1\n",
    "        if count == 3:\n",
    "            total_valid += 1\n",
    "    prev = val\n",
    "    i += 1\n",
    "\n",
    "val"
   ]
  },
  {
   "cell_type": "code",
   "execution_count": null,
   "metadata": {},
   "outputs": [],
   "source": []
  }
 ],
 "metadata": {
  "language_info": {
   "name": "python"
  }
 },
 "nbformat": 4,
 "nbformat_minor": 2
}
