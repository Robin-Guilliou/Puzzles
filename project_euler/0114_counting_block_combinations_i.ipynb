{
 "cells": [
  {
   "cell_type": "markdown",
   "metadata": {},
   "source": [
    "# 114 - Counting Block Combinations I\n",
    "\n",
    "## Problem Statement\n",
    "\n",
    "<p>A row measuring seven units in length has red blocks with a minimum length of three units placed on it, such that any two red blocks (which are allowed to be different lengths) are separated by at least one grey square. There are exactly seventeen ways of doing this.</p>\n",
    "\n",
    "<div class=\"center\">\n",
    "<img src=\"images/0114.png\" alt=\"0114.png\">\n",
    "</div>\n",
    "\n",
    "<p>How many ways can a row measuring fifty units in length be filled?</p>\n",
    "<p class=\"note\">NOTE: Although the example above does not lend itself to the possibility, in general it is permitted to mix block sizes. For example, on a row measuring eight units in length you could use red (3), grey (1), and red (4).</p>\n",
    "\n",
    "## Solution\n",
    "\n",
    "We solve this problem with dynamic programming. Here we implement a top down solution. We define a recursive function $f(n)$ which returns the number of ways to fill a row of length $n$.\n",
    "\n",
    "The base case is to return zero when $n$ is negative.\n",
    "\n",
    "Within our function, we initialise a counter to 1 to account for the case when no coloured block is placed. Then we loop through each starting position, $x$ and place a block of each possible length. When placing a block of some length, the number of combinations is given by the number of ways to place additional blocks to the right of the current block (and accounting for the fact that consecutive blocks must be separated by at least one grey square). This is given by $f(n - x - m - 1)$ where $m$ is the length of the current block we place. Note that we subtract one to account for the separating grey square. However, because of this, we do not account for a block that fully fills the remaining squares (because the -1 will make the length negative in the recursive call). Therefore, for each starting position, we increment the counter by 1 to account for it."
   ]
  },
  {
   "cell_type": "code",
   "execution_count": 1,
   "metadata": {},
   "outputs": [],
   "source": [
    "from functools import cache\n",
    "\n",
    "@cache\n",
    "def dp(length):\n",
    "    if length < 0:\n",
    "        return 0\n",
    "    count = 1\n",
    "    for x in range(length - 2):\n",
    "        count += 1\n",
    "        for block_len in range(3, length - x):\n",
    "            count += dp(length - x - block_len - 1)\n",
    "    return count"
   ]
  },
  {
   "cell_type": "code",
   "execution_count": 2,
   "metadata": {},
   "outputs": [
    {
     "data": {
      "text/plain": [
       "16475640049"
      ]
     },
     "execution_count": 2,
     "metadata": {},
     "output_type": "execute_result"
    }
   ],
   "source": [
    "dp(50)"
   ]
  },
  {
   "cell_type": "code",
   "execution_count": null,
   "metadata": {},
   "outputs": [],
   "source": []
  }
 ],
 "metadata": {
  "language_info": {
   "name": "python"
  }
 },
 "nbformat": 4,
 "nbformat_minor": 2
}
