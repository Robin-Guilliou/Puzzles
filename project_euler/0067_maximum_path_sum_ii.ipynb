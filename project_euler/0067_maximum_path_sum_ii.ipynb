{
 "cells": [
  {
   "cell_type": "markdown",
   "metadata": {},
   "source": [
    "# 67 - Maximum Path Sum II\n",
    "\n",
    "## Problem Statement\n",
    "\n",
    "By starting at the top of the triangle below and moving to adjacent numbers on the row below, the maximum total from top to bottom is 23.\n",
    "\n",
    "<p class=\"monospace center\"><span class=\"red\"><b>3</b></span><br><span class=\"red\"><b>7</b></span> 4<br>\n",
    "2 <span class=\"red\"><b>4</b></span> 6<br>\n",
    "8 5 <span class=\"red\"><b>9</b></span> 3</p>\n",
    "\n",
    "That is, 3 + 7 + 4 + 9 = 23.\n",
    "\n",
    "Find the maximum total from top to bottom in <a href=\"inputs/0067_triangle.txt\">triangle.txt</a> (right click and 'Save Link/Target As...'), a 15K text file containing a triangle with one-hundred rows.\n",
    "\n",
    "<b>NOTE:</b> This is a much more difficult version of Problem 18. It is not possible to try every route to solve this problem, as there are 2<sup>99</sup> altogether! If you could check one trillion (10<sup>12</sup>) routes every second it would take over twenty billion years to check them all. There is an efficient algorithm to solve it. ;o)\n",
    "\n",
    "## Solution\n",
    "\n",
    "Same as for Problem 18. Starting from the bottom of the triangle and going up, we add the max of the two next values to the current one."
   ]
  },
  {
   "cell_type": "code",
   "execution_count": 1,
   "metadata": {},
   "outputs": [],
   "source": [
    "def read_triangle(file_path):\n",
    "    triangle = []\n",
    "    with open(file_path, 'r') as file:\n",
    "        for line in file:\n",
    "            row = list(map(int, line.split()))\n",
    "            triangle.append(row)\n",
    "    return triangle\n",
    "\n",
    "triangle = read_triangle('inputs/0067_triangle.txt')"
   ]
  },
  {
   "cell_type": "code",
   "execution_count": 2,
   "metadata": {},
   "outputs": [
    {
     "data": {
      "text/plain": [
       "7273"
      ]
     },
     "execution_count": 2,
     "metadata": {},
     "output_type": "execute_result"
    }
   ],
   "source": [
    "for i in range(len(triangle) - 2, -1, -1):\n",
    "    for j in range(len(triangle[i])):\n",
    "        triangle[i][j] += max(triangle[i + 1][j], triangle[i + 1][j + 1])\n",
    "\n",
    "triangle[0][0]"
   ]
  },
  {
   "cell_type": "code",
   "execution_count": null,
   "metadata": {},
   "outputs": [],
   "source": []
  }
 ],
 "metadata": {
  "language_info": {
   "name": "python"
  }
 },
 "nbformat": 4,
 "nbformat_minor": 2
}
