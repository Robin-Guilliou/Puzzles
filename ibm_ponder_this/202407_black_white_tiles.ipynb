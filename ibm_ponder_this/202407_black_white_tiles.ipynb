{
 "cells": [
  {
   "cell_type": "markdown",
   "metadata": {},
   "source": [
    "# IBM  Ponder This - July 2024\n",
    "\n",
    "## Problem Statement\n",
    "\n",
    "Consider square tiles made of $4\\times 4$  squares that can be either black (0) or white (1), such that each tile has an equal number of black and white squares.\n",
    "\n",
    "We call two tiles equivalent if one can be rotated and/or reflected in order to obtain the other. It is easy to see that a tile can have 1, 2, 4 or 8 equivalent tiles (including itself).\n",
    "\n",
    "Your goal: Find a tiling of a $16\\times 16$ squares board (4 x 4 of such tiles, with 4 x 4 squares in each tile) such that:\n",
    "\n",
    "1. In each row and column, there are no more than two consecutive squares of the same color.\n",
    "2. The total number of pairs of adjacent same color squares is minimal. Remember to count both vertical and horizontal pairs.\n",
    "3. All tiles included in the tiling must be non-equivalent\n",
    "4. As stated earlier, each tile must have the same number of black and white squares.\n",
    "\n",
    "Give your solution by first writing the number of pairs from constraint 2, and then the $16\\times 16$ grid of squares (no need to describe the individual $4\\times 4$ tiles). e.g.\n",
    "\n",
    "```113``` <br>\n",
    "```1101001010101001``` <br>\n",
    "```1010110101010110``` <br>\n",
    "```0101001010101001``` <br>\n",
    "```0010110101010110``` <br>\n",
    "```1101001010101101``` <br>\n",
    "```0010110101010010``` <br>\n",
    "```0101100110110100``` <br>\n",
    "```1010011001001011``` <br>\n",
    "```0101100100110100``` <br>\n",
    "```1001001010010010``` <br>\n",
    "```0010010101101101``` <br>\n",
    "```1101101101101011``` <br>\n",
    "```0010010010010010``` <br>\n",
    "```0011001100110100``` <br>\n",
    "```1100110101001011``` <br>\n",
    "```1011011011011011```\n",
    "\n",
    "\n",
    "A bonus \"*\" will be given for solving the above problem, but for a $20\\times 20$ squares board with the additional constraint that one can only use tiles which have exactly 4 equivalent ones as defined above.\n",
    "\n",
    "## Solution\n",
    "\n",
    "We first generate all the possible valid tiles. Then, we select the 16 unique (non-equivalent) tiles containing the lowest number of consecutive squares. Finally, we use backtracking to arrange those tiles (including transformations such as rotation and translation) such that we do not create additional consecutive squares of the same color. For the $16 \\times 16$ grid, the answer is found quickly."
   ]
  },
  {
   "cell_type": "code",
   "execution_count": 1,
   "metadata": {},
   "outputs": [],
   "source": [
    "from functools import cache\n",
    "from itertools import combinations\n",
    "import numpy as np\n",
    "\n",
    "def generate_valid_tiles():\n",
    "    valid_tiles = []\n",
    "    size = 4  # The grid size is 4x4\n",
    "\n",
    "    # Generate all combinations of 16 squares with exactly 8 being black\n",
    "    all_combinations = combinations(range(16), 8)\n",
    "\n",
    "    for comb in all_combinations:\n",
    "        # Initialize a 4x4 grid with all squares set to white (1)\n",
    "        grid = np.ones((size, size), dtype=int)\n",
    "\n",
    "        # Set the positions in the combination to black (0)\n",
    "        for pos in comb:\n",
    "            grid[pos // size][pos % size] = 0\n",
    "\n",
    "        # Check if this configuration is valid\n",
    "        if is_valid_tile(grid):\n",
    "            valid_tiles.append(grid)\n",
    "\n",
    "    return valid_tiles\n",
    "\n",
    "def is_valid_tile(grid):\n",
    "    # Check for three consecutive same color horizontally or vertically\n",
    "    for row in grid:\n",
    "        if has_three_consecutive(row):\n",
    "            return False\n",
    "    for col in grid.T:\n",
    "        if has_three_consecutive(col):\n",
    "            return False\n",
    "    return True\n",
    "\n",
    "def has_three_consecutive(arr):\n",
    "    # Check if there are three consecutive 0s or 1s in an array\n",
    "    for i in range(len(arr) - 2):\n",
    "        if arr[i] == arr[i+1] == arr[i+2]:\n",
    "            return True\n",
    "    return False\n",
    "\n",
    "\n",
    "def rotate_tile(tile, k=1):\n",
    "    \"\"\"Rotate the tile 90 degrees clockwise k times.\"\"\"\n",
    "    return np.rot90(tile, -k)\n",
    "\n",
    "def reflect_tile(tile, axis='horizontal'):\n",
    "    \"\"\"Reflect the tile either horizontally or vertically.\"\"\"\n",
    "    if axis == 'horizontal':\n",
    "        return np.fliplr(tile)\n",
    "    else:\n",
    "        return np.flipud(tile)\n",
    "\n",
    "def generate_transformations(tile):\n",
    "    \"\"\"Generate all unique transformations of a tile (rotations and reflections).\"\"\"\n",
    "    transformations = set()  # Using a set to avoid duplicates\n",
    "    # Generate rotations and their reflections\n",
    "    for k in range(4):\n",
    "        rotated_tile = rotate_tile(tile, k)\n",
    "        # Add each rotated version\n",
    "        transformations.add(tuple(map(tuple, rotated_tile)))\n",
    "        # Reflect each rotated version horizontally and vertically\n",
    "        transformations.add(tuple(map(tuple, reflect_tile(rotated_tile, 'horizontal'))))\n",
    "        transformations.add(tuple(map(tuple, reflect_tile(rotated_tile, 'vertical'))))\n",
    "\n",
    "    return [np.array(t) for t in transformations]  # Convert each tuple back to an array\n",
    "\n",
    "def are_equivalent(tile1, tile2):\n",
    "    \"\"\"Check if two tiles are equivalent under rotation and reflection.\"\"\"\n",
    "    tile2_transforms = generate_transformations(tile2)\n",
    "    for transformed_tile2 in tile2_transforms:\n",
    "        if np.array_equal(tile1, transformed_tile2):\n",
    "            return True\n",
    "    return False\n",
    "\n",
    "@cache\n",
    "def are_equivalent_by_index(tile1, tile2):\n",
    "    \"\"\"Check if two tiles are equivalent under rotation and reflection.\"\"\"\n",
    "    tile1 = valid_tiles[tile1]\n",
    "    tile2 = valid_tiles[tile2]\n",
    "    tile2_transforms = generate_transformations(tile2)\n",
    "    for transformed_tile2 in tile2_transforms:\n",
    "        if np.array_equal(tile1, transformed_tile2):\n",
    "            return True\n",
    "    return False\n",
    "\n",
    "def remove_equivalent_tiles(tiles):\n",
    "    unique_tiles = []  # List to hold one representative from each equivalence class\n",
    "\n",
    "    for current_tile in tiles:\n",
    "        # Check if the current tile is equivalent to any tile in the unique list\n",
    "        if not any(are_equivalent(current_tile, unique_tile) for unique_tile in unique_tiles):\n",
    "            unique_tiles.append(current_tile)  # Add to unique list if no equivalent found\n",
    "\n",
    "    return unique_tiles\n",
    "\n",
    "def count_consecutive_pairs(arr):\n",
    "    \"\"\" Count the number of consecutive identical element pairs in a 1D array \"\"\"\n",
    "    pair_count = 0\n",
    "    current_count = 1\n",
    "    for i in range(1, len(arr)):\n",
    "        if arr[i] == arr[i - 1]:\n",
    "            current_count += 1\n",
    "        else:\n",
    "            if current_count > 1:\n",
    "                pair_count += 1\n",
    "            current_count = 1\n",
    "    # Check the last sequence\n",
    "    if current_count > 1:\n",
    "        pair_count += 1\n",
    "    return pair_count\n",
    "\n",
    "def consecutive_pairs_tile(tile):\n",
    "    \"\"\" Calculate the number of consecutive pairs in both rows and columns of a 2D array \"\"\"\n",
    "    total_pairs = 0\n",
    "    # Check rows\n",
    "    for row in tile:\n",
    "        total_pairs += count_consecutive_pairs(row)\n",
    "    # Check columns\n",
    "    for col in tile.T:  # Transpose to get columns\n",
    "        total_pairs += count_consecutive_pairs(col)\n",
    "    return total_pairs"
   ]
  },
  {
   "cell_type": "code",
   "execution_count": 2,
   "metadata": {},
   "outputs": [
    {
     "name": "stdout",
     "output_type": "stream",
     "text": [
      "Number of valid tiles: 882\n",
      "Number of unique tiles: 130\n"
     ]
    }
   ],
   "source": [
    "# Generate the tiles\n",
    "valid_tiles = generate_valid_tiles()\n",
    "print(\"Number of valid tiles:\", len(valid_tiles))\n",
    "\n",
    "# Assuming 'valid_tiles' is a list of numpy arrays as generated earlier\n",
    "unique_tiles = remove_equivalent_tiles(valid_tiles)\n",
    "print(\"Number of unique tiles:\", len(unique_tiles))\n",
    "\n",
    "# Sort tiles by the number of consecutive pairs\n",
    "valid_tiles = sorted(valid_tiles, key=consecutive_pairs_tile)"
   ]
  },
  {
   "cell_type": "code",
   "execution_count": 3,
   "metadata": {},
   "outputs": [],
   "source": [
    "selected = set()\n",
    "for i in range(len(valid_tiles) - 1):\n",
    "    eq = False\n",
    "    for s in selected:\n",
    "        if are_equivalent_by_index(i, s):\n",
    "            eq = True\n",
    "            break\n",
    "    if not eq:\n",
    "        selected.add(i)\n",
    "    if len(selected) == 16:\n",
    "        break\n",
    "\n",
    "tiles = [valid_tiles[x] for x in selected]"
   ]
  },
  {
   "cell_type": "code",
   "execution_count": 4,
   "metadata": {},
   "outputs": [
    {
     "name": "stdout",
     "output_type": "stream",
     "text": [
      "0\n",
      "5\n",
      "3\n",
      "5\n",
      "3\n",
      "6\n",
      "4\n",
      "4\n",
      "5\n",
      "4\n",
      "5\n",
      "5\n",
      "5\n",
      "4\n",
      "4\n",
      "4\n"
     ]
    }
   ],
   "source": [
    "for tile in tiles:\n",
    "    print(consecutive_pairs_tile(tile))"
   ]
  },
  {
   "cell_type": "code",
   "execution_count": 5,
   "metadata": {},
   "outputs": [],
   "source": [
    "def check_horizontal_pairing(left_matrix, right_matrix):\n",
    "    \"\"\" Check if two matrices can be horizontally paired without extending consecutive sequences. \"\"\"\n",
    "    return not np.any(left_matrix[:, -1] == right_matrix[:, 0])\n",
    "\n",
    "def check_vertical_pairing(top_matrix, bottom_matrix):\n",
    "    \"\"\" Check if two matrices can be vertically paired without extending consecutive sequences. \"\"\"\n",
    "    return not np.any(top_matrix[-1, :] == bottom_matrix[0, :])\n",
    "\n",
    "grid = [[0] * 4 for _ in range(4)]\n",
    "\n",
    "def solve(i, j, tiles, visited):\n",
    "    if i == 4 and j == 0:\n",
    "        return grid.copy()\n",
    "    for k, tile in enumerate(tiles):\n",
    "        if k not in visited:\n",
    "            transformations = generate_transformations(tile)\n",
    "            for t in transformations:\n",
    "                if i > 0 and not check_vertical_pairing(grid[i - 1][j], t):\n",
    "                    continue\n",
    "                if j > 0 and not check_horizontal_pairing(grid[i][j - 1], t):\n",
    "                    continue\n",
    "                grid[i][j] = t\n",
    "                visited.add(k)\n",
    "                if j < 3:\n",
    "                    res = solve(i, j+1, tiles, visited)\n",
    "                else:\n",
    "                    res = solve(i+1, 0, tiles, visited)\n",
    "                if res:\n",
    "                    return res\n",
    "                grid[i][j] = 0\n",
    "                visited.remove(k)\n",
    "    return"
   ]
  },
  {
   "cell_type": "code",
   "execution_count": 6,
   "metadata": {},
   "outputs": [],
   "source": [
    "visited = set()\n",
    "grid = solve(0, 0, tiles, visited)\n",
    "\n",
    "final_grid = np.vstack((\n",
    "    np.hstack(grid[0]),\n",
    "    np.hstack(grid[1]),\n",
    "    np.hstack(grid[2]),\n",
    "    np.hstack(grid[3]),\n",
    "))"
   ]
  },
  {
   "cell_type": "code",
   "execution_count": 7,
   "metadata": {},
   "outputs": [
    {
     "data": {
      "text/plain": [
       "{0, 1, 2, 3, 4, 5, 6, 7, 8, 9, 10, 11, 12, 13, 14, 15}"
      ]
     },
     "execution_count": 7,
     "metadata": {},
     "output_type": "execute_result"
    }
   ],
   "source": [
    "visited"
   ]
  },
  {
   "cell_type": "code",
   "execution_count": 8,
   "metadata": {},
   "outputs": [
    {
     "data": {
      "text/plain": [
       "array([[0, 1, 0, 1, 0, 1, 1, 0, 1, 0, 1, 0, 1, 0, 0, 1],\n",
       "       [1, 0, 1, 0, 1, 0, 0, 1, 0, 1, 0, 1, 0, 0, 1, 0],\n",
       "       [0, 1, 0, 1, 0, 1, 0, 0, 1, 0, 1, 0, 1, 1, 0, 1],\n",
       "       [1, 0, 1, 0, 1, 0, 1, 1, 0, 1, 1, 0, 1, 0, 1, 0],\n",
       "       [0, 1, 0, 1, 0, 1, 0, 0, 1, 0, 0, 1, 0, 1, 0, 1],\n",
       "       [1, 0, 1, 0, 1, 1, 0, 1, 0, 1, 1, 0, 1, 0, 1, 1],\n",
       "       [0, 1, 0, 0, 1, 0, 1, 0, 1, 0, 0, 1, 0, 1, 0, 0],\n",
       "       [1, 0, 1, 1, 0, 1, 0, 1, 0, 1, 0, 1, 0, 0, 1, 1],\n",
       "       [0, 1, 0, 0, 1, 0, 1, 0, 1, 0, 1, 0, 1, 1, 0, 0],\n",
       "       [1, 0, 1, 1, 0, 1, 0, 1, 0, 1, 1, 0, 1, 0, 1, 0],\n",
       "       [0, 1, 0, 0, 1, 0, 0, 1, 0, 1, 0, 1, 0, 1, 0, 1],\n",
       "       [1, 0, 1, 1, 0, 1, 1, 0, 1, 0, 1, 0, 1, 0, 1, 0],\n",
       "       [0, 1, 0, 0, 1, 0, 0, 1, 0, 1, 0, 1, 0, 1, 0, 1],\n",
       "       [1, 0, 1, 1, 0, 1, 1, 0, 1, 0, 1, 0, 1, 0, 1, 0],\n",
       "       [1, 0, 1, 0, 1, 0, 0, 1, 0, 1, 0, 1, 0, 1, 1, 0],\n",
       "       [0, 1, 0, 1, 0, 1, 1, 0, 1, 1, 0, 0, 1, 0, 0, 1]])"
      ]
     },
     "execution_count": 8,
     "metadata": {},
     "output_type": "execute_result"
    }
   ],
   "source": [
    "final_grid"
   ]
  },
  {
   "cell_type": "code",
   "execution_count": 9,
   "metadata": {},
   "outputs": [],
   "source": [
    "total_consecutives = 0\n",
    "for tile in tiles:\n",
    "    total_consecutives += consecutive_pairs_tile(tile)"
   ]
  },
  {
   "cell_type": "code",
   "execution_count": 10,
   "metadata": {},
   "outputs": [
    {
     "name": "stdout",
     "output_type": "stream",
     "text": [
      "66\n",
      "0101011010101001\n",
      "1010100101010010\n",
      "0101010010101101\n",
      "1010101101101010\n",
      "0101010010010101\n",
      "1010110101101011\n",
      "0100101010010100\n",
      "1011010101010011\n",
      "0100101010101100\n",
      "1011010101101010\n",
      "0100100101010101\n",
      "1011011010101010\n",
      "0100100101010101\n",
      "1011011010101010\n",
      "1010100101010110\n",
      "0101011011001001\n"
     ]
    }
   ],
   "source": [
    "print(total_consecutives)\n",
    "for i in range(len(final_grid)):\n",
    "    print(\"\".join(final_grid[i].astype(str)))"
   ]
  },
  {
   "cell_type": "code",
   "execution_count": null,
   "metadata": {},
   "outputs": [],
   "source": []
  }
 ],
 "metadata": {
  "language_info": {
   "name": "python"
  }
 },
 "nbformat": 4,
 "nbformat_minor": 2
}
