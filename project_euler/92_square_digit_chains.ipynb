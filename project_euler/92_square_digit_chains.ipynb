{
 "cells": [
  {
   "cell_type": "markdown",
   "metadata": {},
   "source": [
    "# 92 - Square Digit Chains\n",
    "\n",
    "## Problem Statement\n",
    "\n",
    "A number chain is created by continuously adding the square of the digits in a number to form a new number until it has been seen before.\n",
    "For example,\n",
    "\\begin{align}\n",
    "&44 \\to 32 \\to 13 \\to 10 \\to \\mathbf 1 \\to \\mathbf 1\\\\\n",
    "&85 \\to \\mathbf{89} \\to 145 \\to 42 \\to 20 \\to 4 \\to 16 \\to 37 \\to 58 \\to \\mathbf{89}\n",
    "\\end{align}\n",
    "Therefore any chain that arrives at $1$ or $89$ will become stuck in an endless loop. What is most amazing is that EVERY starting number will eventually arrive at $1$ or $89$.\n",
    "How many starting numbers below ten million will arrive at $89$?\n",
    "\n",
    "## Solution\n",
    "\n",
    "Generating the sequence for each starting value and count the number that end in 89. We use memoization to avoid recomputing the sequence multiple times for the same $n$."
   ]
  },
  {
   "cell_type": "code",
   "execution_count": 7,
   "metadata": {},
   "outputs": [
    {
     "data": {
      "text/plain": [
       "8581146"
      ]
     },
     "execution_count": 7,
     "metadata": {},
     "output_type": "execute_result"
    }
   ],
   "source": [
    "from functools import cache\n",
    "\n",
    "@cache\n",
    "def solve(n):\n",
    "    if n == 1:\n",
    "        return False\n",
    "    if n == 89:\n",
    "        return True\n",
    "    s = str(n)\n",
    "    n = 0\n",
    "    for char in s:\n",
    "        n += int(char)**2\n",
    "    return solve(n)\n",
    "\n",
    "res = 0\n",
    "for x in range(1, 10000000):\n",
    "    res += solve(x)\n",
    "\n",
    "res"
   ]
  },
  {
   "cell_type": "code",
   "execution_count": null,
   "metadata": {},
   "outputs": [],
   "source": []
  }
 ],
 "metadata": {
  "language_info": {
   "name": "python"
  }
 },
 "nbformat": 4,
 "nbformat_minor": 2
}
