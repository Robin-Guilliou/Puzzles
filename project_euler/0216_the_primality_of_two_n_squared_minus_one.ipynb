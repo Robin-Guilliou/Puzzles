{
 "cells": [
  {
   "cell_type": "markdown",
   "metadata": {},
   "source": [
    "# 216 - The primality of $2n^2 - 1$\n",
    "\n",
    "## Problem Statement\n",
    "\n",
    "Consider numbers $t(n)$ of the form $t(n) = 2n^2 - 1$ with $n \\gt 1$.<br>\n",
    "The first such numbers are $7, 17, 31, 49, 71, 97, 127$ and $161$.<br>\n",
    "It turns out that only $49 = 7 \\cdot 7$ and $161 = 7 \\cdot 23$ are not prime.<br>\n",
    "For $n \\le 10000$ there are $2202$ numbers $t(n)$ that are prime.\n",
    "\n",
    "How many numbers $t(n)$ are prime for $n \\le 50\\,000\\,000$?\n",
    "\n",
    "## Solution\n",
    "\n",
    "Ugly brute force."
   ]
  },
  {
   "cell_type": "code",
   "execution_count": 1,
   "metadata": {},
   "outputs": [
    {
     "data": {
      "text/plain": [
       "5437849"
      ]
     },
     "execution_count": 1,
     "metadata": {},
     "output_type": "execute_result"
    }
   ],
   "source": [
    "from sympy import isprime\n",
    "\n",
    "res = 0\n",
    "for n in range(1, 50000001):\n",
    "    num = 2 * n**2 - 1\n",
    "    if isprime(num):\n",
    "        res += 1\n",
    "res"
   ]
  },
  {
   "cell_type": "code",
   "execution_count": null,
   "metadata": {},
   "outputs": [],
   "source": []
  }
 ],
 "metadata": {
  "language_info": {
   "name": "python"
  }
 },
 "nbformat": 4,
 "nbformat_minor": 2
}
