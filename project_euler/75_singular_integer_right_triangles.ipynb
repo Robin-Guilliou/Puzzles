{
 "cells": [
  {
   "cell_type": "markdown",
   "metadata": {},
   "source": [
    "# 75 - Singular Integer Right Triangles\n",
    "\n",
    "## Problem Statement\n",
    "\n",
    "It turns out that **12 cm** is the smallest length of wire that can be bent to form an integer sided right angle triangle in exactly one way, but there are many more examples.\n",
    "\n",
    "- **12 cm**: (3, 4, 5)\n",
    "- **24 cm**: (6, 8, 10)\n",
    "- **30 cm**: (5, 12, 13)\n",
    "- **36 cm**: (9, 12, 15)\n",
    "- **40 cm**: (8, 15, 17)\n",
    "- **48 cm**: (12, 16, 20)\n",
    "\n",
    "In contrast, some lengths of wire, like **20 cm**, cannot be bent to form an integer sided right angle triangle, and other lengths allow more than one solution to be found; for example, using **120 cm** it is possible to form exactly three different integer sided right angle triangles.\n",
    "\n",
    "- **120 cm**: (30, 40, 50), (20, 48, 52), (24, 45, 51)\n",
    "\n",
    "Given that $L$ is the length of the wire, for how many values of $L \\le 1\\,500\\,000$ can exactly one integer sided right angle triangle be formed?\n",
    "\n",
    "## Solutions\n",
    "\n",
    "We make use of Euclid's formula to generate all the pythagorean triplets. We maintain a frequency map to count the number of times we see some perimeter. Once we have gone through all the relevant pythagorean triples, we simply count the number of keys with value one in the map."
   ]
  },
  {
   "cell_type": "code",
   "execution_count": 1,
   "metadata": {},
   "outputs": [
    {
     "data": {
      "text/plain": [
       "161667"
      ]
     },
     "execution_count": 1,
     "metadata": {},
     "output_type": "execute_result"
    }
   ],
   "source": [
    "from collections import defaultdict\n",
    "from math import gcd\n",
    "\n",
    "limit = 1500000\n",
    "\n",
    "freq = defaultdict(int)\n",
    "for m in range(2, int(limit**0.5) + 1):\n",
    "    for n in range(1, m):\n",
    "        if (m-n) % 2 == 1 and gcd(m, n) == 1:\n",
    "            a = m*m - n*n\n",
    "            b = 2*m*n\n",
    "            c = m*m + n*n\n",
    "            if a + b + c > limit:\n",
    "                break\n",
    "            k = 1\n",
    "            while k*a + k*b + k*c <= limit:\n",
    "                freq[k*(a + b + c)] += 1\n",
    "                k += 1\n",
    "\n",
    "count = 0\n",
    "for val in freq.values():\n",
    "    if val == 1:\n",
    "        count += 1\n",
    "\n",
    "count"
   ]
  },
  {
   "cell_type": "code",
   "execution_count": null,
   "metadata": {},
   "outputs": [],
   "source": []
  }
 ],
 "metadata": {
  "language_info": {
   "name": "python"
  }
 },
 "nbformat": 4,
 "nbformat_minor": 2
}
