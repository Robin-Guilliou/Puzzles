{
 "cells": [
  {
   "cell_type": "markdown",
   "metadata": {},
   "source": [
    "# 22 - Names Scores\n",
    "\n",
    "## Problem Statement\n",
    "Using <a href=\"inputs/0022_names.txt\">names.txt</a> (right click and 'Save Link/Target As...'), a 46K text file containing over five-thousand first names, begin by sorting it into alphabetical order. Then working out the alphabetical value for each name, multiply this value by its alphabetical position in the list to obtain a name score.\n",
    "\n",
    "For example, when the list is sorted into alphabetical order, COLIN, which is worth $3 + 15 + 12 + 9 + 14 = 53$, is the $938$th name in the list. So, COLIN would obtain a score of $938 \\times 53 = 49714$.\n",
    "\n",
    "What is the total of all the name scores in the file?\n",
    "\n",
    "## Solution\n",
    "\n",
    "Loop through the names in sorted order and compute the scores. No particular trick."
   ]
  },
  {
   "cell_type": "code",
   "execution_count": 1,
   "metadata": {},
   "outputs": [
    {
     "data": {
      "text/plain": [
       "871198282"
      ]
     },
     "execution_count": 1,
     "metadata": {},
     "output_type": "execute_result"
    }
   ],
   "source": [
    "# Read file\n",
    "with open(\"inputs/0022_names.txt\",\"r\") as f:\n",
    "    s = f.read()\n",
    "\n",
    "# Get sorted list of names\n",
    "names = s.replace('\\\"', '').split(',')\n",
    "names = sorted(names)\n",
    "\n",
    "# Loop through the names\n",
    "total_score = 0\n",
    "for i, name in enumerate(names):\n",
    "    # Compute score for current name\n",
    "    curr_score = 0\n",
    "    for char in name:\n",
    "        curr_score += ord(char) - ord('A') + 1\n",
    "    # Add score of current name to total\n",
    "    total_score += (i + 1) * curr_score\n",
    "\n",
    "total_score"
   ]
  },
  {
   "cell_type": "code",
   "execution_count": null,
   "metadata": {},
   "outputs": [],
   "source": []
  }
 ],
 "metadata": {
  "language_info": {
   "name": "python"
  }
 },
 "nbformat": 4,
 "nbformat_minor": 2
}
