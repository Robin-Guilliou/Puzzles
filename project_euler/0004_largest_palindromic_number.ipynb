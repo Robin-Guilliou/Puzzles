{
 "cells": [
  {
   "cell_type": "markdown",
   "metadata": {},
   "source": [
    "# 4 - Largest Palindromic Number\n",
    "\n",
    "## Problem Statement\n",
    "\n",
    "A palindromic number reads the same both ways. The largest palindrome made from the product of two $2$-digit numbers is $9009 = 91 \\times 99$.\n",
    "\n",
    "Find the largest palindrome made from the product of two $3$-digit numbers.\n",
    "\n",
    "## Solution\n",
    "\n"
   ]
  },
  {
   "cell_type": "code",
   "execution_count": 1,
   "metadata": {},
   "outputs": [],
   "source": [
    "def is_palindrome(num):\n",
    "    \"\"\" Reverse num to check if it is a palindrome \"\"\"\n",
    "    original = num\n",
    "    reversed_num = 0\n",
    "    while num > 0:\n",
    "        reversed_num = reversed_num * 10 + num % 10\n",
    "        num //= 10\n",
    "    return original == reversed_num\n",
    "\n",
    "def largest_palindrome_product():\n",
    "    \"\"\" Compute largest palindrome made from the product of two 3-digit numbers \"\"\"\n",
    "    max_palindrome = 0\n",
    "    # Loop from largest to smallest\n",
    "    for i in range(999, 100, -1):\n",
    "        # Early exit if the square of i is less than the maximum palindrome found so far\n",
    "        if i * i < max_palindrome:\n",
    "            break\n",
    "        # Second multiplier from i to 100\n",
    "        for j in range(i, 100, -1):\n",
    "            product = i * j\n",
    "            # If the product is less than the current maximum palindrome, no need to check further for this pair\n",
    "            if product <= max_palindrome:\n",
    "                break\n",
    "            # Check if product is a palindrome\n",
    "            if is_palindrome(product):\n",
    "                max_palindrome = product\n",
    "    return max_palindrome"
   ]
  },
  {
   "cell_type": "code",
   "execution_count": 2,
   "metadata": {},
   "outputs": [
    {
     "data": {
      "text/plain": [
       "906609"
      ]
     },
     "execution_count": 2,
     "metadata": {},
     "output_type": "execute_result"
    }
   ],
   "source": [
    "largest_palindrome_product()"
   ]
  },
  {
   "cell_type": "code",
   "execution_count": null,
   "metadata": {},
   "outputs": [],
   "source": []
  }
 ],
 "metadata": {
  "language_info": {
   "name": "python"
  }
 },
 "nbformat": 4,
 "nbformat_minor": 2
}
