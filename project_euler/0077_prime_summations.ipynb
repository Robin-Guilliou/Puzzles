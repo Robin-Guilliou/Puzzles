{
 "cells": [
  {
   "cell_type": "markdown",
   "metadata": {},
   "source": [
    "# 77 - Prime Summations\n",
    "\n",
    "## Problem Statement\n",
    "\n",
    "It is possible to write ten as the sum of primes in exactly five different ways:\n",
    "\n",
    "\\begin{align}\n",
    "&7 + 3\\\\\n",
    "&5 + 5\\\\\n",
    "&5 + 3 + 2\\\\\n",
    "&3 + 3 + 2 + 2\\\\\n",
    "&2 + 2 + 2 + 2 + 2\n",
    "\\end{align}\n",
    "\n",
    "What is the first value which can be written as the sum of primes in over five thousand different ways?\n",
    "\n",
    "# Solution\n",
    "\n",
    "We obtain the solution with dynamic programming. This problem is similar to the coin change problem. We generate all the primes below 1000 (chosen arbitrarily) and we will check in how many ways we can build the 10000 first integers using those primes. We build a vector of size $n$, say $f(n)$, which represent the number of ways to obtain $n$ as a sum of prime numbers. For each prime, $p$, we increment $f(n)$ by $f(n - p)$. Finally, once we have built our vector, we simply find the first index with a value above 5000. "
   ]
  },
  {
   "cell_type": "code",
   "execution_count": 3,
   "metadata": {},
   "outputs": [
    {
     "name": "stdout",
     "output_type": "stream",
     "text": [
      "71\n"
     ]
    }
   ],
   "source": [
    "import sympy\n",
    "\n",
    "dp = [0] * 10001\n",
    "dp[0] = 1\n",
    "primes = list(sympy.primerange(1000))\n",
    "\n",
    "for prime in primes:\n",
    "    for i in range(prime, len(dp)):\n",
    "        dp[i] += dp[i - prime]\n",
    "\n",
    "for i in range(len(dp)):\n",
    "    if dp[i] > 5000:\n",
    "        print(i)\n",
    "        break"
   ]
  },
  {
   "cell_type": "code",
   "execution_count": null,
   "metadata": {},
   "outputs": [],
   "source": []
  }
 ],
 "metadata": {
  "language_info": {
   "name": "python"
  }
 },
 "nbformat": 4,
 "nbformat_minor": 2
}
