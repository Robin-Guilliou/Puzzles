{
 "cells": [
  {
   "cell_type": "markdown",
   "metadata": {},
   "source": [
    "# 125 - Palindromic Sums\n",
    "\n",
    "## Problem Statement\n",
    "\n",
    "The palindromic number $595$ is interesting because it can be written as the sum of consecutive squares: <br>\n",
    "$6^2 + 7^2 + 8^2 + 9^2 + 10^2 + 11^2 + 12^2$.\n",
    "\n",
    "There are exactly eleven palindromes below one-thousand that can be written as consecutive square sums, and the sum of these palindromes is $4164$. Note that $1 = 0^2 + 1^2$ has not been included as this problem is concerned with the squares of positive integers.\n",
    "\n",
    "Find the sum of all the numbers less than $10^8$ that are both palindromic and can be written as the sum of consecutive squares.\n",
    "\n",
    "## Solution\n",
    "\n",
    "No tricks used here. We generate all the sums of consecutive squares in $O(n^2)$ and keep them in a hashset. Then, we generate all the palindromic numbers up to $10^{8}$ and sum those that are in the hashset."
   ]
  },
  {
   "cell_type": "code",
   "execution_count": 1,
   "metadata": {},
   "outputs": [],
   "source": [
    "def generate_consecutive_square_sums(n):\n",
    "    squares_cumsum = [0]\n",
    "    squares_sum_set = set()\n",
    "    i = 1\n",
    "    while i**2 < n:\n",
    "        # Generate cumulative sum of squares\n",
    "        squares_cumsum.append(squares_cumsum[-1] + i**2)\n",
    "        i += 1\n",
    "        if len(squares_cumsum) < 3:\n",
    "            continue\n",
    "        # Generate all consecutive sums up to the last square by removing squares from the beginning of the sequence\n",
    "        for j in range(len(squares_cumsum)-2):\n",
    "            squares_sum_set.add(squares_cumsum[-1] - squares_cumsum[j])\n",
    "    return squares_sum_set\n",
    "\n",
    "\n",
    "def generate_palindromes(n):\n",
    "    palindromes = set()\n",
    "    # Single digit palindromes\n",
    "    for i in range(1, 10):\n",
    "        if i <= n:\n",
    "            palindromes.add(i)\n",
    "\n",
    "    # Generate palindromes by mirroring numbers\n",
    "    # We only need to iterate while the smallest palindrome of current length <= n\n",
    "    length = 1\n",
    "    while True:\n",
    "        start = 10**(length - 1)\n",
    "        end = 10**length\n",
    "        smallest_palindrome = int(str(start) + str(start)[::-1])\n",
    "        if smallest_palindrome > n:\n",
    "            break\n",
    "\n",
    "        for i in range(start, end):\n",
    "            # Odd-length palindromes\n",
    "            str_i = str(i)\n",
    "            palindrome_odd = int(str_i + str_i[-2::-1])\n",
    "            if palindrome_odd <= n:\n",
    "                palindromes.add(palindrome_odd)\n",
    "            else:\n",
    "                break\n",
    "\n",
    "            # Even-length palindromes\n",
    "            palindrome_even = int(str_i + str_i[::-1])\n",
    "            if palindrome_even <= n:\n",
    "                palindromes.add(palindrome_even)\n",
    "            else:\n",
    "                break\n",
    "        length += 1\n",
    "\n",
    "    return palindromes"
   ]
  },
  {
   "cell_type": "code",
   "execution_count": 2,
   "metadata": {},
   "outputs": [
    {
     "data": {
      "text/plain": [
       "2906969179"
      ]
     },
     "execution_count": 2,
     "metadata": {},
     "output_type": "execute_result"
    }
   ],
   "source": [
    "n = 10**8\n",
    "\n",
    "palindromes = generate_palindromes(10**8)\n",
    "consecutive_square_sums = generate_consecutive_square_sums(n)\n",
    "\n",
    "res = 0\n",
    "for palindrome in palindromes:\n",
    "    if palindrome in consecutive_square_sums:\n",
    "        res += palindrome\n",
    "res"
   ]
  },
  {
   "cell_type": "code",
   "execution_count": null,
   "metadata": {},
   "outputs": [],
   "source": []
  }
 ],
 "metadata": {
  "language_info": {
   "name": "python"
  }
 },
 "nbformat": 4,
 "nbformat_minor": 2
}
