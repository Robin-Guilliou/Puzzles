{
 "cells": [
  {
   "cell_type": "markdown",
   "metadata": {},
   "source": [
    "# 21 - Amicable Numbers\n",
    "\n",
    "## Problem Statement\n",
    "\n",
    "Let $d(n)$ be defined as the sum of proper divisors of $n$ (numbers less than $n$ which divide evenly into $n$).\n",
    "\n",
    "If $d(a) = b$ and $d(b) = a$, where $a \\ne b$, then $a$ and $b$ are an amicable pair and each of $a$ and $b$ are called amicable numbers.\n",
    "\n",
    "For example, the proper divisors of $220$ are $1, 2, 4, 5, 10, 11, 20, 22, 44, 55$ and $110$; therefore $d(220) = 284$. The proper divisors of $284$ are $1, 2, 4, 71$ and $142$; so $d(284) = 220$.\n",
    "\n",
    "Evaluate the sum of all the amicable numbers under $10000$.\n",
    "\n",
    "## Solution\n",
    "\n",
    "We generate all the numbers up to 10000, get the divisors and check if the sum is different from the initial number and below 10000. If this is the case, we get the sum of the divisors of the second number and check if it is equal to the first one. If it is the case, both are amicable numbers."
   ]
  },
  {
   "cell_type": "code",
   "execution_count": 1,
   "metadata": {},
   "outputs": [
    {
     "data": {
      "text/plain": [
       "31626"
      ]
     },
     "execution_count": 1,
     "metadata": {},
     "output_type": "execute_result"
    }
   ],
   "source": [
    "import sympy\n",
    "\n",
    "amicable_numbers = set()\n",
    "for i in range(2, 10001):\n",
    "    if i in amicable_numbers:\n",
    "        continue\n",
    "    j = sum(sympy.divisors(i)[:-1])\n",
    "    if j <= 10000 and j != i:\n",
    "        if sum(sympy.divisors(j)[:-1]) == i:\n",
    "            amicable_numbers.update((i, j))\n",
    "\n",
    "sum(amicable_numbers)"
   ]
  },
  {
   "cell_type": "code",
   "execution_count": null,
   "metadata": {},
   "outputs": [],
   "source": []
  }
 ],
 "metadata": {
  "language_info": {
   "name": "python"
  }
 },
 "nbformat": 4,
 "nbformat_minor": 2
}
