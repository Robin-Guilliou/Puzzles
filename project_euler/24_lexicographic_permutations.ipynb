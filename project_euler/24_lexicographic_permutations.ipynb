{
 "cells": [
  {
   "cell_type": "markdown",
   "metadata": {},
   "source": [
    "# Lexicographic Permutations\n",
    "\n",
    "## Problem Statement\n",
    "\n",
    "A permutation is an ordered arrangement of objects. For example, 3124 is one possible permutation of the digits 1, 2, 3 and 4. If all of the permutations are listed numerically or alphabetically, we call it lexicographic order. The lexicographic permutations of 0, 1 and 2 are:\n",
    "<p class=\"center\">012   021   102   120   201   210</p>\n",
    "\n",
    "What is the millionth lexicographic permutation of the digits 0, 1, 2, 3, 4, 5, 6, 7, 8 and 9?\n",
    "\n",
    "## Solution\n",
    "\n",
    "Since we only have 10 digits, the total number of permutations is $10!$ (3,628,800), which is small enough to generate all the permutations and check the millionth one. However, we can find the solution more efficiently by selecting the valid numbers in order.\n",
    "\n",
    "To determine the first digit, we start with 0 and calculate the number of permutations that begin with each potential first digit:\n",
    "\n",
    "Starting with 0: There are $9! = 362,880$ permutations starting with 0. Since this number is less than one million, 0 cannot be the first digit.\n",
    "\n",
    "Starting with 1: If we consider all permutations beginning with 0 or 1, that's $2 \\times 9! = 725760$ permutations. This is also less than one million, so 1 cannot be the first digit either.\n",
    "\n",
    "Starting with 2: For 0, 1, and 2 as the first digits, there are $3×9! = 1088640$ permutations. This number exceeds one million, confirming that the first digit of the millionth permutation is 2. We then subtract $2×9! = 725760$ from one million to determine how many permutations we need to count after the first digit is fixed as 2.\n",
    "\n",
    "We then repeat this process to identify the subsequent digits, each time narrowing down the remaining digits and adjusting our count based on the permutations already counted.\n",
    "\n",
    "In the process of finding each digit of the millionth lexicographic permutation, we might encounter a situation where the cumulative count of permutations (from the starting digit up to the current digit being considered) exactly matches our target (in this case, one million). If the cumulative count of permutations, after fixing a sequence of digits, exactly matches the target (e.g., one million), this sequence forms the beginning of the millionth permutation. At the current index, we can place the current number we are checking. All the remaining digits should then be appended in descending order, as this is the only permutation sequence left that does not exceed the target count. This method ensures the sequence accurately completes at the desired permutation without generating additional permutations."
   ]
  },
  {
   "cell_type": "code",
   "execution_count": 19,
   "metadata": {},
   "outputs": [],
   "source": [
    "import math\n",
    "\n",
    "def get_nth_permutation(n: int, remaining_nums: set):\n",
    "    # Check if n is a valid number\n",
    "    if math.factorial(len(remaining_nums)) < n or n < 1:\n",
    "        print('n is larger than the total number of permutations.')\n",
    "        return ''\n",
    "    res = []\n",
    "    for i in range(10):\n",
    "        curr = 0\n",
    "        for j in range(10):\n",
    "            # if j has already been selected, skip it\n",
    "            if j not in remaining_nums:\n",
    "                continue\n",
    "            # Get the index of the largest permutation where j is at index i, starting at index i\n",
    "            last_perm = curr + math.factorial(10 - i - 1)\n",
    "            # If last_perm is greater than n, j goes at index i\n",
    "            # We remove j from the set of remaining numbers\n",
    "            # We decrease n by the largest permutation before trying j\n",
    "            if last_perm > n:\n",
    "                res.append(j)\n",
    "                remaining_nums.remove(j)\n",
    "                n -= curr\n",
    "                break\n",
    "            # If last_perm is equal to n, we have found the largest permutation\n",
    "            # j goes at index i. The remaining part is the remaining numbers in decreasing order\n",
    "            elif last_perm == n:\n",
    "                res.append(j)\n",
    "                remaining_nums.remove(j)\n",
    "                res += sorted(remaining_nums, reverse=True)\n",
    "                return ''.join([str(x) for x in res])\n",
    "            # Increment the current last permutation below\n",
    "            else:\n",
    "                curr = last_perm\n",
    "    return ''"
   ]
  },
  {
   "cell_type": "code",
   "execution_count": 22,
   "metadata": {},
   "outputs": [
    {
     "data": {
      "text/plain": [
       "'2783915460'"
      ]
     },
     "execution_count": 22,
     "metadata": {},
     "output_type": "execute_result"
    }
   ],
   "source": [
    "get_nth_permutation(10**6, {x for x in range(10)})"
   ]
  },
  {
   "cell_type": "code",
   "execution_count": null,
   "metadata": {},
   "outputs": [],
   "source": []
  }
 ],
 "metadata": {
  "language_info": {
   "name": "python"
  }
 },
 "nbformat": 4,
 "nbformat_minor": 2
}
