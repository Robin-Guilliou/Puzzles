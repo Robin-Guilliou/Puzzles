{
 "cells": [
  {
   "cell_type": "markdown",
   "metadata": {},
   "source": [
    "# 463 - A Weird Recurrence Relation\n",
    "\n",
    "## Problem Statement\n",
    "\n",
    "The function $f$ is defined for all positive integers as follows:\n",
    "- $f(1)=1$\n",
    "- $f(3)=3$\n",
    "- $f(2n)=f(n)$\n",
    "- $f(4n + 1)=2f(2n + 1) - f(n)$\n",
    "- $f(4n + 3)=3f(2n + 1) - 2f(n)$\n",
    "\n",
    "The function $S(n)$ is defined as $\\sum_{i=1}^{n}f(i)$.\n",
    "\n",
    "$S(8)=22$ and $S(100)=3604$.\n",
    "\n",
    "Find $S(3^{37})$. Give the last $9$ digits of your answer.\n",
    "\n",
    "## Solution\n",
    "\n",
    "First we implement a function for $f(n)$ using memoization. After printing the first few values, we notice that they correspond to [OEIS A030101](https://oeis.org/A030101). From the page, $f(n)$ is the number produced when $n$ is converted to binary digits, the binary digits are reversed and then converted back into a decimal number. We can also find [OEIS A239447](https://oeis.org/A239447) which corresponds to $S(n)$. Using the python implementation provided in the page, we easily find $S(3^{37})$ and extract the last 9 digits with modulo $10^9$."
   ]
  },
  {
   "cell_type": "code",
   "execution_count": 1,
   "metadata": {},
   "outputs": [],
   "source": [
    "from functools import cache\n",
    "\n",
    "@cache\n",
    "def f(n):\n",
    "    if n == 1:\n",
    "        return 1\n",
    "    if n == 3:\n",
    "        return 3\n",
    "    if n % 2 == 0:\n",
    "        return f(n // 2)\n",
    "    if n % 4 == 1:\n",
    "        q = (n - 1) // 4\n",
    "        return 2 * f(2 * q + 1) - f(q)\n",
    "    elif n % 4 == 3:\n",
    "        q = (n - 3) // 4\n",
    "        return 3 * f(2 * q + 1) - 2 * f(q)\n",
    "\n",
    "def S(n):\n",
    "    return sum(f(i) for i in range(1, n+1))\n"
   ]
  },
  {
   "cell_type": "code",
   "execution_count": 2,
   "metadata": {},
   "outputs": [
    {
     "data": {
      "text/plain": [
       "[1, 1, 3, 1, 5, 3, 7, 1, 9, 5, 13, 3, 11, 7, 15, 1, 17, 9, 25, 5]"
      ]
     },
     "execution_count": 2,
     "metadata": {},
     "output_type": "execute_result"
    }
   ],
   "source": [
    "n = 20\n",
    "\n",
    "[f(i) for i in range(1, n + 1)]"
   ]
  },
  {
   "cell_type": "code",
   "execution_count": 3,
   "metadata": {},
   "outputs": [
    {
     "data": {
      "text/plain": [
       "[0, 1, 2, 5, 6, 11, 14, 21, 22, 31, 36, 49, 52, 63, 70, 85, 86, 103, 112, 137]"
      ]
     },
     "execution_count": 3,
     "metadata": {},
     "output_type": "execute_result"
    }
   ],
   "source": [
    "[S(i) for i in range(20)]"
   ]
  },
  {
   "cell_type": "code",
   "execution_count": 4,
   "metadata": {},
   "outputs": [],
   "source": [
    "A = {0: 0, 1: 1, 2: 2, 3: 5}\n",
    "def a(n):\n",
    "    a_n = A.get(n)\n",
    "    if a_n is not None:\n",
    "        return a_n\n",
    "    q, r = divmod(n, 4)\n",
    "    if r == 0:\n",
    "        a_n = a(q*2)*6 - a(q)*5 - a(q - 1)*3 - 1\n",
    "    elif r == 1:\n",
    "        a_n = a(q*2 + 1)*2 + a(q*2)*4 - a(q)*6 - a(q - 1)*2 - 1\n",
    "    elif r == 2:\n",
    "        a_n = a(q*2 + 1)*3 + a(q*2)*3 - a(q)*6 - a(q - 1)*2 - 1\n",
    "    else:\n",
    "        a_n = a(q*2 + 1)*6 - a(q)*8 - 1\n",
    "    A[n] = a_n  # memoization\n",
    "    return a_n"
   ]
  },
  {
   "cell_type": "code",
   "execution_count": 5,
   "metadata": {},
   "outputs": [
    {
     "data": {
      "text/plain": [
       "808981553"
      ]
     },
     "execution_count": 5,
     "metadata": {},
     "output_type": "execute_result"
    }
   ],
   "source": [
    "a(3**37) % (10**9)"
   ]
  },
  {
   "cell_type": "code",
   "execution_count": null,
   "metadata": {},
   "outputs": [],
   "source": []
  }
 ],
 "metadata": {
  "language_info": {
   "name": "python"
  }
 },
 "nbformat": 4,
 "nbformat_minor": 2
}
