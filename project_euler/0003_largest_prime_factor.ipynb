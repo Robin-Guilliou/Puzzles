{
 "cells": [
  {
   "cell_type": "markdown",
   "metadata": {},
   "source": [
    "# 3 - Largest Prime Factor\n",
    "\n",
    "## Problem Statement\n",
    "\n",
    "The prime factors of $13195$ are $5, 7, 13$ and $29$.\n",
    "\n",
    "What is the largest prime factor of the number $600851475143$?\n",
    "\n",
    "## Solution\n",
    "\n",
    "We loop through potential prime factors and keep dividing by the smallest factors until $n$ becomes 1. If $n$ is one, the last prime factor encountered is the largest. Otherwise, it means $n$ itself is prime."
   ]
  },
  {
   "cell_type": "code",
   "execution_count": 28,
   "metadata": {},
   "outputs": [],
   "source": [
    "from sympy import primerange\n",
    "\n",
    "def largest_prime_factor(n):\n",
    "    for prime in primerange(int(n ** 0.5) + 1):\n",
    "        while n % prime == 0:\n",
    "            n //= prime\n",
    "        if n == 1:\n",
    "            break\n",
    "    return prime if n == 1 else n\n"
   ]
  },
  {
   "cell_type": "code",
   "execution_count": 29,
   "metadata": {},
   "outputs": [
    {
     "data": {
      "text/plain": [
       "6857"
      ]
     },
     "execution_count": 29,
     "metadata": {},
     "output_type": "execute_result"
    }
   ],
   "source": [
    "n = 600851475143\n",
    "largest_prime_factor(n)"
   ]
  },
  {
   "cell_type": "code",
   "execution_count": null,
   "metadata": {},
   "outputs": [],
   "source": []
  }
 ],
 "metadata": {
  "language_info": {
   "name": "python"
  }
 },
 "nbformat": 4,
 "nbformat_minor": 2
}
