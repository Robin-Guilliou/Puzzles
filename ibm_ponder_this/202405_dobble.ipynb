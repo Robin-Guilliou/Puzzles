{
 "cells": [
  {
   "cell_type": "markdown",
   "metadata": {},
   "source": [
    "# IBM Ponder This - May 2024\n",
    "\n",
    "## Problem Statement\n",
    "\n",
    "Dobble® is a card game in which each card contains eight symbols, and any two Dobble cards in the deck share exactly one symbol. A standard Dobble deck consists of 55 cards and 57 symbols. However, it is possible to have a deck of 57 cards and 57 symbols.\n",
    "\n",
    "In general, given a number $N$ , which is a prime power, it is possible to find a Dobble-like deck where each card contains N+1 symbols, and there are $N^2+N+1$ cards and symbols in the deck. Dobble itself corresponds to the case $N=7$.\n",
    "\n",
    "Your goal: For $N=4$, find the number of all possible Dobble-like decks with $N^2+N+1$ cards and symbols, and $N+1$ symbols per card, where each pair of cards has exactly one common symbol.\n",
    "\n",
    "A Bonus \"*\" will be given for finding the number of all possible Dobble-like decks for $N=8$.\n",
    "\n",
    "## Solution\n",
    "\n",
    "A Dobble-like deck with parameter $N$ is equivalent to a projective plane of order $N$. The projective planes of order 4 and 8 are unique up to isomorphism. Given the number of symbols in the deck is $N^2 + N + 1$, and considering that permutations of the symbols which are automorphisms of the deck lead to indistinguishable (i.e., isomorphic) decks, the number of distinct decks is computed as\n",
    "\n",
    "\\begin{equation}\n",
    "    \\text{Number of distinct decks} = \\frac{(N^2 + N + 1)!}{\\text{Size of the automorphism group}}.\n",
    "\\end{equation}\n",
    "\n",
    "Based on projective plane theory, the size of the automorphism groups for the projective planes of order 4 and 8 are 120960 and 49448448 respectively.\n",
    "\n",
    "Therefore, the answer for $N = 4$ is $\\frac{21}{120960}$ and the answer for $N = 8$ is $\\frac{73}{49448448}$.\n"
   ]
  },
  {
   "cell_type": "code",
   "execution_count": 1,
   "metadata": {},
   "outputs": [
    {
     "data": {
      "text/latex": [
       "$\\displaystyle 422378820864000$"
      ],
      "text/plain": [
       "422378820864000"
      ]
     },
     "execution_count": 1,
     "metadata": {},
     "output_type": "execute_result"
    }
   ],
   "source": [
    "import sympy\n",
    "\n",
    "sympy.factorial(21) / 120960"
   ]
  },
  {
   "cell_type": "code",
   "execution_count": 2,
   "metadata": {},
   "outputs": [
    {
     "data": {
      "text/latex": [
       "$\\displaystyle 90399509839271079668491458784005740889517921781547218950513473999637402251071324160000000000000000$"
      ],
      "text/plain": [
       "90399509839271079668491458784005740889517921781547218950513473999637402251071324160000000000000000"
      ]
     },
     "execution_count": 2,
     "metadata": {},
     "output_type": "execute_result"
    }
   ],
   "source": [
    "sympy.factorial(73) / 49448448"
   ]
  },
  {
   "cell_type": "code",
   "execution_count": null,
   "metadata": {},
   "outputs": [],
   "source": []
  }
 ],
 "metadata": {
  "kernelspec": {
   "display_name": "base",
   "language": "python",
   "name": "python3"
  },
  "language_info": {
   "codemirror_mode": {
    "name": "ipython",
    "version": 3
   },
   "file_extension": ".py",
   "mimetype": "text/x-python",
   "name": "python",
   "nbconvert_exporter": "python",
   "pygments_lexer": "ipython3",
   "version": "3.9.13"
  }
 },
 "nbformat": 4,
 "nbformat_minor": 2
}
