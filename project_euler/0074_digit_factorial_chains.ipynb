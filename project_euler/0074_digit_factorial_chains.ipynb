{
 "cells": [
  {
   "cell_type": "markdown",
   "metadata": {},
   "source": [
    "# 74 - Digit Factorial Chains\n",
    "\n",
    "## Problem Statement\n",
    "\n",
    "The number $145$ is well known for the property that the sum of the factorial of its digits is equal to $145$:\n",
    "$$1! + 4! + 5! = 1 + 24 + 120 = 145.$$\n",
    "\n",
    "Perhaps less well known is $169$, in that it produces the longest chain of numbers that link back to $169$; it turns out that there are only three such loops that exist:\n",
    "\n",
    "\\begin{align}\n",
    "&169 \\to 363601 \\to 1454 \\to 169\\\\\n",
    "&871 \\to 45361 \\to 871\\\\\n",
    "&872 \\to 45362 \\to 872\n",
    "\\end{align}\n",
    "\n",
    "It is not difficult to prove that EVERY starting number will eventually get stuck in a loop. For example,\n",
    "\n",
    "\\begin{align}\n",
    "&69 \\to 363600 \\to 1454 \\to 169 \\to 363601 (\\to 1454)\\\\\n",
    "&78 \\to 45360 \\to 871 \\to 45361 (\\to 871)\\\\\n",
    "&540 \\to 145 (\\to 145)\n",
    "\\end{align}\n",
    "\n",
    "Starting with $69$ produces a chain of five non-repeating terms, but the longest non-repeating chain with a starting number below one million is sixty terms.\n",
    "\n",
    "How many chains, with a starting number below one million, contain exactly sixty non-repeating terms?\n",
    "\n",
    "\n",
    "## Solution\n",
    "\n",
    "We simulate the process with a recursive function and count the number of chains with 60 non-repeating terms. Memoization is important for efficiency."
   ]
  },
  {
   "cell_type": "code",
   "execution_count": 9,
   "metadata": {},
   "outputs": [
    {
     "data": {
      "text/plain": [
       "402"
      ]
     },
     "execution_count": 9,
     "metadata": {},
     "output_type": "execute_result"
    }
   ],
   "source": [
    "## Inefficient --> Add memoization\n",
    "\n",
    "from math import factorial\n",
    "\n",
    "def solve(num, chain):\n",
    "    digits = sorted(list(str(num)))\n",
    "    s = \"\".join(digits)\n",
    "    if s in chain:\n",
    "        return len(chain)\n",
    "    chain.add(s)\n",
    "    new_num = sum(factorial(int(x)) for x in digits)\n",
    "    return solve(new_num, chain)\n",
    "\n",
    "count = 0\n",
    "for num in range(1, 1000000):\n",
    "    res = solve(\"\".join(sorted(list(str(num)))), set())\n",
    "    if res == 60:\n",
    "        count += 1\n",
    "count"
   ]
  },
  {
   "cell_type": "code",
   "execution_count": null,
   "metadata": {},
   "outputs": [],
   "source": []
  },
  {
   "cell_type": "code",
   "execution_count": 8,
   "metadata": {},
   "outputs": [
    {
     "data": {
      "text/plain": [
       "402"
      ]
     },
     "execution_count": 8,
     "metadata": {},
     "output_type": "execute_result"
    }
   ],
   "source": [
    "from math import factorial\n",
    "\n",
    "def factorial_digit_sum(n):\n",
    "    return sum(factorial(int(d)) for d in str(n))\n",
    "\n",
    "memo = {}\n",
    "\n",
    "def calculate_chain_length(n):\n",
    "    seen = {}\n",
    "    current = n\n",
    "    steps = 0\n",
    "\n",
    "    # Iterate until we find a loop or hit a precomputed result\n",
    "    while current not in seen and current not in memo:\n",
    "        seen[current] = steps\n",
    "        current = factorial_digit_sum(current)\n",
    "        steps += 1\n",
    "\n",
    "    if current in memo:\n",
    "        loop_length = memo[current]\n",
    "        first_seen_step = seen[current] if current in seen else steps\n",
    "    else:\n",
    "        first_seen_step = seen[current]\n",
    "        loop_length = steps - first_seen_step  # Calculate the length of the loop\n",
    "\n",
    "    # Update the memo with new calculations\n",
    "    for num, step in seen.items():\n",
    "        if step < first_seen_step:\n",
    "            memo[num] = loop_length + (first_seen_step - step)\n",
    "        else:\n",
    "            memo[num] = loop_length\n",
    "\n",
    "    return memo[n]\n",
    "\n",
    "# Calculate for numbers from 1 to 999999\n",
    "count = 0\n",
    "for num in range(1, 1000000):\n",
    "    if calculate_chain_length(num) == 60:\n",
    "        count += 1\n",
    "count\n"
   ]
  },
  {
   "cell_type": "code",
   "execution_count": null,
   "metadata": {},
   "outputs": [],
   "source": []
  }
 ],
 "metadata": {
  "language_info": {
   "name": "python"
  }
 },
 "nbformat": 4,
 "nbformat_minor": 2
}
