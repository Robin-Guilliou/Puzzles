{
 "cells": [
  {
   "cell_type": "code",
   "execution_count": null,
   "metadata": {},
   "outputs": [],
   "source": []
  },
  {
   "cell_type": "markdown",
   "metadata": {},
   "source": [
    "# 172 - Few Repeated Digits\n",
    "\n",
    "## Problem Statement\n",
    "\n",
    "How many $18$-digit numbers $n$ (without leading zeros) are there such that no digit occurs more than three times in $n$?\n",
    "\n",
    "## Solution\n",
    "\n",
    "For each digit, there are 4 possibilities for the number of time it appears in the number (0, 1, 2, 3). There are 10 digits so the number of combinations is $4^{10} = 1048576$. This is pretty small so we can generate all the combinations and add the number of ways to generate the number with the given digit combination.\n",
    "\n",
    "Let $x_0, x_1, \\cdots, x_9$ represent the number of time each digit appears in a given combination. We have $\\sum_{i = 0}^9 x_i = 18$ and $0 \\le x_i \\le 3$. The number of 18-digit numbers we can create is given by\n",
    "\n",
    "\\begin{equation}\n",
    "    \\binom{18}{x_0, x_1 \\cdots, x_9} - \\mathbb{1}_{x_0 > 0} \\left [ \\binom{17}{x_0 - 1, x_1 \\cdots, x_9} \\right ] = \\frac{18!}{x_0!x_1!\\cdots x_9!} - \\mathbb{1}_{x_0 > 0} \\left [ \\frac{17!}{(x_0 - 1)!x_1!\\cdots x_9!} \\right ]\n",
    "\\end{equation}\n",
    "\n",
    "where $\\mathbb{1}_{c}$ is the indicaton function, taking value 1 if conditions $c$ is met and zero otherwise.\n",
    "\n",
    "The first multinomal coefficient represents the total number of 18-digit numbers that can be created included those with leading zeros. The subtracted term removes the numbers with a leading zero if there is at least one zero."
   ]
  },
  {
   "cell_type": "code",
   "execution_count": 6,
   "metadata": {},
   "outputs": [
    {
     "data": {
      "text/plain": [
       "227485267000992000"
      ]
     },
     "execution_count": 6,
     "metadata": {},
     "output_type": "execute_result"
    }
   ],
   "source": [
    "import math\n",
    "\n",
    "res = 0\n",
    "for zero in [0, 1, 2, 3]:\n",
    "    for one in [0, 1, 2, 3]:\n",
    "        for two in [0, 1, 2, 3]:\n",
    "            for three in [0, 1, 2, 3]:\n",
    "                for four in [0, 1, 2, 3]:\n",
    "                    for five in [0, 1, 2, 3]:\n",
    "                        for six in [0, 1, 2, 3]:\n",
    "                            for seven in [0, 1, 2, 3]:\n",
    "                                for eight in [0, 1, 2, 3]:\n",
    "                                    for nine in [0, 1, 2, 3]:\n",
    "                                        total = zero + one + two + three + four + five + six + seven + eight + nine\n",
    "                                        if total == 18:\n",
    "                                            res += math.factorial(18) / (math.factorial(zero) * math.factorial(one) * math.factorial(two) * math.factorial(three) * math.factorial(four) * math.factorial(five) * math.factorial(six) * math.factorial(seven) * math.factorial(eight) * math.factorial(nine))\n",
    "                                            if zero > 0:\n",
    "                                                res -= math.factorial(17) / (math.factorial(zero - 1) * math.factorial(one) * math.factorial(two) * math.factorial(three) * math.factorial(four) * math.factorial(five) * math.factorial(six) * math.factorial(seven) * math.factorial(eight) * math.factorial(nine))\n",
    "\n",
    "int(res)"
   ]
  },
  {
   "cell_type": "code",
   "execution_count": null,
   "metadata": {},
   "outputs": [],
   "source": []
  }
 ],
 "metadata": {
  "language_info": {
   "name": "python"
  }
 },
 "nbformat": 4,
 "nbformat_minor": 2
}
