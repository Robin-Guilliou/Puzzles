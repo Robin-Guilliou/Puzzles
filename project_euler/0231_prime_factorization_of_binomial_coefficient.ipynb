{
 "cells": [
  {
   "cell_type": "markdown",
   "metadata": {},
   "source": [
    "# 231 - Prime Factorization of Binomial Coefficient\n",
    "\n",
    "## Problem Statement\n",
    "\n",
    "The binomial coefficient $\\displaystyle \\binom {10} 3 = 120$.<br>\n",
    "$120 = 2^3 \\times 3 \\times 5 = 2 \\times 2 \\times 2 \\times 3 \\times 5$, and $2 + 2 + 2 + 3 + 5 = 14$.<br>\n",
    "So the sum of the terms in the prime factorisation of $\\displaystyle \\binom {10} 3$ is $14$.\n",
    "<br><br>\n",
    "Find the sum of the terms in the prime factorisation of $\\displaystyle \\binom {20\\,000\\,000} {15\\,000\\,000}$.\n",
    "\n",
    "## Solution\n",
    "\n",
    "We can rewrite the expression as\n",
    "\n",
    "\\begin{equation}\n",
    "    \\binom{20\\,000\\,000}{15\\,000\\,000} = \\frac{\\prod_{x = 15000001}^{20000000} x}{\\prod_{x = 1}^{5000000} x}.\n",
    "\\end{equation}\n",
    "\n",
    "We can obtain the result by summing the prime factors of each number in the numerator and subtracting the prime factors of each number in the denominator.\n",
    "\n",
    "We use a sieve to compute the prime factor decomposition in the two ranges and perform the summation."
   ]
  },
  {
   "cell_type": "code",
   "execution_count": 1,
   "metadata": {},
   "outputs": [
    {
     "data": {
      "text/plain": [
       "7526965179680"
      ]
     },
     "execution_count": 1,
     "metadata": {},
     "output_type": "execute_result"
    }
   ],
   "source": [
    "import numpy as np\n",
    "from sympy import primerange\n",
    "\n",
    "\n",
    "def sum_of_prime_factors_in_range(start, end):\n",
    "    total_sum = 0\n",
    "\n",
    "    # Use a sieve to compute the sum of prime factors for all numbers in the range\n",
    "    range_size = end - start + 1\n",
    "    sieve = np.arange(start, end + 1)\n",
    "    prime_factors_sum = np.zeros(range_size, dtype=np.int64)\n",
    "\n",
    "    for p in primerange(2, int(end**0.5) + 1):  # Iterate through primes up to sqrt(end)\n",
    "        # Start marking multiples of p within the range\n",
    "        first_multiple = max(p * p, (start + p - 1) // p * p)\n",
    "        for multiple in range(first_multiple, end + 1, p):\n",
    "            while sieve[multiple - start] % p == 0:\n",
    "                prime_factors_sum[multiple - start] += p\n",
    "                sieve[multiple - start] //= p\n",
    "\n",
    "    # Add remaining prime numbers (those not reduced to 1 in the sieve)\n",
    "    for i in range(range_size):\n",
    "        if sieve[i] > 1:\n",
    "            prime_factors_sum[i] += sieve[i]\n",
    "\n",
    "    total_sum = np.sum(prime_factors_sum)\n",
    "    return total_sum\n",
    "\n",
    "total_sum_prime_factors = sum_of_prime_factors_in_range(15000001, 20000000) - sum_of_prime_factors_in_range(1, 5000000)\n",
    "\n",
    "total_sum_prime_factors\n"
   ]
  },
  {
   "cell_type": "code",
   "execution_count": null,
   "metadata": {},
   "outputs": [],
   "source": []
  }
 ],
 "metadata": {
  "language_info": {
   "name": "python"
  }
 },
 "nbformat": 4,
 "nbformat_minor": 2
}
