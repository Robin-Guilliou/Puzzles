{
 "cells": [
  {
   "cell_type": "code",
   "execution_count": null,
   "metadata": {},
   "outputs": [],
   "source": []
  },
  {
   "cell_type": "markdown",
   "metadata": {},
   "source": [
    "# 116 - Red, Green or Blue Tiles\n",
    "\n",
    "## Problem Statement\n",
    "\n",
    "<p>A row of five grey square tiles is to have a number of its tiles replaced with coloured oblong tiles chosen from red (length two), green (length three), or blue (length four).</p>\n",
    "<p>If red tiles are chosen there are exactly seven ways this can be done.</p>\n",
    "\n",
    "<div class=\"center\">\n",
    "<img src=\"images/0116_1.png\" alt=\"png116_1.png\">\n",
    "</div>\n",
    "\n",
    "<p>If green tiles are chosen there are three ways.</p>\n",
    "\n",
    "<div class=\"center\">\n",
    "<img src=\"images/0116_2.png\" alt=\"png116_2.png\">\n",
    "</div>\n",
    "\n",
    "<p>And if blue tiles are chosen there are two ways.</p>\n",
    "\n",
    "<div class=\"center\">\n",
    "<img src=\"images/0116_3.png\" alt=\"png116_3.png\">\n",
    "</div>\n",
    "\n",
    "Assuming that colours cannot be mixed there are $7 + 3 + 2 = 12$ ways of replacing the grey tiles in a row measuring five units in length.\n",
    "\n",
    "How many different ways can the grey tiles in a row measuring fifty units in length be replaced if colours cannot be mixed and at least one coloured tile must be used?\n",
    "\n",
    "## Solution\n",
    "\n",
    "This problem can easily be solved using dynamic programming. Here we implement a top down solution. We define a recursive function $f(n, m)$ that takes as input, $n$, the length of the row (i.e., total number of grey squares) and $m$, the length of the colored tiles we are processing (i,e., 2 for red, 3 for green and 4 for blue). The function returns the number of ways to place tiles of length $m$ into $n$ spots. Note that the function accounts for the case where zero coloured tile is used. The problem says that at least one coloured tile must be used so we will take care of this at the end.\n",
    "\n",
    " Say we first want to find the number of combinations for the red tiles. We start with $f(50, 2)$. When calling $f$, a counter is initialised at 1 to account for the case where no coloured tile is selected. Then, we loop through all the possible spots where a tile can be placed (there are $n - m + 1$ such spots). For each spot, we increment the counter by the number of ways in which we can place the tile in the current spot while leaving all the tiles on the left of it uncoloured. The number of such combinations is the number of ways in which we can place tiles to the right of the current tile. This is given by $f(n - m - x, m)$ when $x$ is the starting position of the current tile.\n",
    "\n",
    " Note that when the number of grey spots is smaller than the tile length, the function returns 1 as the only solution is to keep the spots uncoloured.\n",
    "\n",
    " To avoid unnecessary recomputations, we use a cache to memoise the results.\n",
    "\n",
    " Finally, we obtain the result by summing $f(50, m)$ for $m \\in {2, 3, 4}$ and subtracting 3 to account for the 3 cases where no coloured tile is used."
   ]
  },
  {
   "cell_type": "code",
   "execution_count": 1,
   "metadata": {},
   "outputs": [],
   "source": [
    "from functools import cache\n",
    "\n",
    "@cache\n",
    "def dp(length, tile_len):\n",
    "    count = 1\n",
    "    for x in range(length - tile_len + 1):\n",
    "        count += dp(length - x - tile_len, tile_len)\n",
    "    return count"
   ]
  },
  {
   "cell_type": "code",
   "execution_count": 2,
   "metadata": {},
   "outputs": [
    {
     "data": {
      "text/plain": [
       "20492570929"
      ]
     },
     "execution_count": 2,
     "metadata": {},
     "output_type": "execute_result"
    }
   ],
   "source": [
    "dp(50, 2) + dp(50, 3) + dp(50, 4) - 3"
   ]
  },
  {
   "cell_type": "code",
   "execution_count": null,
   "metadata": {},
   "outputs": [],
   "source": []
  },
  {
   "cell_type": "code",
   "execution_count": null,
   "metadata": {},
   "outputs": [],
   "source": []
  },
  {
   "cell_type": "code",
   "execution_count": null,
   "metadata": {},
   "outputs": [],
   "source": []
  }
 ],
 "metadata": {
  "language_info": {
   "name": "python"
  }
 },
 "nbformat": 4,
 "nbformat_minor": 2
}
