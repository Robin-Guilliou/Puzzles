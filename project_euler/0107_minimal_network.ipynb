{
 "cells": [
  {
   "cell_type": "markdown",
   "metadata": {},
   "source": [
    "# 107 - Minimal Network\n",
    "\n",
    "## Problem Statement\n",
    "\n",
    "The following undirected network consists of seven vertices and twelve edges with a total weight of 243.\n",
    "\n",
    "<div class=\"center\">\n",
    "<img src=\"images/0107_1.png\" style=\"background-color: white;\" class=\"dark_img\" alt=\"\"><br></div>\n",
    "\n",
    "The same network can be represented by the matrix below.\n",
    "\n",
    "<table cellpadding=\"5\" cellspacing=\"0\" border=\"1\"><tr><td>    </td><td><b>A</b></td><td><b>B</b></td><td><b>C</b></td><td><b>D</b></td><td><b>E</b></td><td><b>F</b></td><td><b>G</b></td>\n",
    "</tr><tr><td><b>A</b></td><td>-</td><td>16</td><td>12</td><td>21</td><td>-</td><td>-</td><td>-</td>\n",
    "</tr><tr><td><b>B</b></td><td>16</td><td>-</td><td>-</td><td>17</td><td>20</td><td>-</td><td>-</td>\n",
    "</tr><tr><td><b>C</b></td><td>12</td><td>-</td><td>-</td><td>28</td><td>-</td><td>31</td><td>-</td>\n",
    "</tr><tr><td><b>D</b></td><td>21</td><td>17</td><td>28</td><td>-</td><td>18</td><td>19</td><td>23</td>\n",
    "</tr><tr><td><b>E</b></td><td>-</td><td>20</td><td>-</td><td>18</td><td>-</td><td>-</td><td>11</td>\n",
    "</tr><tr><td><b>F</b></td><td>-</td><td>-</td><td>31</td><td>19</td><td>-</td><td>-</td><td>27</td>\n",
    "</tr><tr><td><b>G</b></td><td>-</td><td>-</td><td>-</td><td>23</td><td>11</td><td>27</td><td>-</td>\n",
    "</tr></table>\n",
    "\n",
    "However, it is possible to optimise the network by removing some edges and still ensure that all points on the network remain connected. The network which achieves the maximum saving is shown below. It has a weight of 93, representing a saving of 243 − 93 = 150 from the original network.\n",
    "\n",
    "<div class=\"center\">\n",
    "<img src=\"images/0107_2.png\" style=\"background-color: white;\" class=\"dark_img\" alt=\"\"><br></div>\n",
    "\n",
    "Using <a href=\"inputs/0107_network.txt\">network.txt</a> (right click and 'Save Link/Target As...'), a 6K text file containing a network with forty vertices, and given in matrix form, find the maximum saving which can be achieved by removing redundant edges whilst ensuring that the network remains connected.\n",
    "\n",
    "## Solution\n",
    "\n",
    "This is a classic problem. We are asked to find a Minimum Spanning Tree (MST) of the network. Here we use Kruskal's algorithm. First all the edges are sorted based on their weight. Then, the idea of the algorithm is to greedily add the edge with lowest associated weight that does not for a cycle in the the already selected vertices. To do this efficiently, we use a disjoint set (union find) data structure. As soon at all the vertices are connected, we stop adding edges.\n",
    "\n",
    "Here, we are looking for the total saving which is half the sum (because of the symmetry of the matrix) of all the entries in the adjacency matrix minus the total weight of the MST."
   ]
  },
  {
   "cell_type": "code",
   "execution_count": 2,
   "metadata": {},
   "outputs": [],
   "source": [
    "import numpy as np\n",
    "\n",
    "# Path to your text file\n",
    "file_path = 'inputs/0107_network.txt'\n",
    "\n",
    "def read_and_convert_matrix(file_path):\n",
    "    # Initialize an empty list to hold each row of the matrix\n",
    "    matrix = []\n",
    "\n",
    "    with open(file_path, 'r') as file:\n",
    "        for line in file:\n",
    "            # Split line into elements, replace '-' with 'nan' (Not a Number)\n",
    "            row = [np.nan if x == '-' else int(x) for x in line.strip().split(',')]\n",
    "            # Append the row to the matrix\n",
    "            matrix.append(row)\n",
    "\n",
    "    # Convert the list to a NumPy array for better handling of numerical data\n",
    "    return np.array(matrix, dtype=float)\n",
    "\n",
    "# Call the function and print the resulting matrix\n",
    "matrix = read_and_convert_matrix(file_path)"
   ]
  },
  {
   "cell_type": "code",
   "execution_count": 3,
   "metadata": {},
   "outputs": [
    {
     "data": {
      "text/plain": [
       "259679.0"
      ]
     },
     "execution_count": 3,
     "metadata": {},
     "output_type": "execute_result"
    }
   ],
   "source": [
    "class UnionFind:\n",
    "\n",
    "    def __init__(self, n):\n",
    "        self.root = [i for i in range(n)]\n",
    "        self.rank = [1] * n\n",
    "        self.n_groups = n\n",
    "\n",
    "    def find(self, x):\n",
    "        if x == self.root[x]:\n",
    "            return x\n",
    "        self.root[x] = self.find(self.root[x])\n",
    "        return self.root[x]\n",
    "\n",
    "    def union(self, x, y):\n",
    "        root_x = self.find(x)\n",
    "        root_y = self.find(y)\n",
    "        if root_x != root_y:\n",
    "            if self.rank[root_x] > self.rank[root_y]:\n",
    "                self.root[root_y] = root_x\n",
    "            elif self.rank[root_y] > self.rank[root_x]:\n",
    "                self.root[root_x] = self.root[root_y]\n",
    "            else:\n",
    "                self.root[root_y] = root_x\n",
    "                self.rank[root_x] += 1\n",
    "            self.n_groups -= 1\n",
    "\n",
    "    def is_connected(self, x, y):\n",
    "        return self.find(x) == self.find(y)\n",
    "\n",
    "\n",
    "\n",
    "# Generate the list of edges and weight from the matrix\n",
    "edges = []\n",
    "for i in range(len(matrix)):\n",
    "    for j in range(i):\n",
    "        if not np.isnan(matrix[i, j]):\n",
    "            edges.append((i, j, matrix[i, j]))\n",
    "edges = sorted(edges, key=lambda x: x[2])  # Sort by weight\n",
    "\n",
    "# Initialise total weight of the MST and UF data structure\n",
    "total_weight = 0\n",
    "uf = UnionFind(40)\n",
    "for u, v, weight in edges:\n",
    "    # If vertices u and v are not connected, the edge between u and v is part of the MST\n",
    "    if not uf.is_connected(u, v):\n",
    "        uf.union(u, v)\n",
    "        total_weight += weight\n",
    "        if uf.n_groups == 1:\n",
    "            break\n",
    "\n",
    "# Compute savings\n",
    "np.nansum(matrix) // 2 - total_weight"
   ]
  },
  {
   "cell_type": "code",
   "execution_count": null,
   "metadata": {},
   "outputs": [],
   "source": []
  }
 ],
 "metadata": {
  "language_info": {
   "name": "python"
  }
 },
 "nbformat": 4,
 "nbformat_minor": 2
}
