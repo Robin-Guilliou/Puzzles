{
 "cells": [
  {
   "cell_type": "markdown",
   "metadata": {},
   "source": [
    "# 84 - Path Sum: Four Ways\n",
    "\n",
    "## Problem Statement\n",
    "\n",
    "<p>class=\"small_notice\">NOTE: This problem is a significantly more challenging version of <a href=\"problem=81\">Problem 81</a>.</p>\n",
    "\n",
    "\n",
    "In the $5$ by $5$ matrix below, the minimal path sum from the top left to the bottom right, by moving left, right, up, and down, is indicated in bold red and is equal to $2297$.\n",
    "<div class=\"center\">\n",
    "\n",
    "\\begin{pmatrix}\n",
    "\\color{red}{131} & 673 & \\color{red}{234} & \\color{red}{103} & \\color{red}{18}\\\\\n",
    "\\color{red}{201} & \\color{red}{96} & \\color{red}{342} & 965 & \\color{red}{150}\\\\\n",
    "630 & 803 & 746 & \\color{red}{422} & \\color{red}{111}\\\\\n",
    "537 & 699 & 497 & \\color{red}{121} & 956\\\\\n",
    "805 & 732 & 524 & \\color{red}{37} & \\color{red}{331}\n",
    "\\end{pmatrix}\n",
    "\n",
    "</div>\n",
    "\n",
    "Find the minimal path sum from the top left to the bottom right by moving left, right, up, and down in <a href=\"inputs/0081_matrix.txt\">0081_matrix.txt</a>, a 31K text file containing an $80$ by $80$ matrix.\n",
    "\n",
    "## Solution\n",
    "\n",
    "This problem is easily solved using Dijkstra's shortest path algorithm."
   ]
  },
  {
   "cell_type": "code",
   "execution_count": 1,
   "metadata": {},
   "outputs": [],
   "source": [
    "# Read the matrix\n",
    "\n",
    "def read_matrix(file_path):\n",
    "    triangle = []\n",
    "    with open(file_path, 'r') as file:\n",
    "        for line in file:\n",
    "            row = list(map(int, line.split(',')))\n",
    "            triangle.append(row)\n",
    "    return triangle\n",
    "\n",
    "matrix = read_matrix('inputs/0081_matrix.txt')"
   ]
  },
  {
   "cell_type": "code",
   "execution_count": 2,
   "metadata": {},
   "outputs": [
    {
     "data": {
      "text/plain": [
       "425185"
      ]
     },
     "execution_count": 2,
     "metadata": {},
     "output_type": "execute_result"
    }
   ],
   "source": [
    "# Dijkstra\n",
    "\n",
    "from collections import defaultdict\n",
    "import heapq\n",
    "\n",
    "heap = [(matrix[0][0], (0, 0))]\n",
    "scores = defaultdict(lambda: float('inf'))\n",
    "\n",
    "while heap:\n",
    "    score, (i, j) = heapq.heappop(heap)\n",
    "    if i == len(matrix) - 1 and j == len(matrix) - 1:\n",
    "        res = score\n",
    "        break\n",
    "    directions = [(-1, 0), (0, -1), (1, 0), (0, 1)]\n",
    "    for di, dj in directions:\n",
    "        new_i = i+di\n",
    "        new_j = j+dj\n",
    "        if 0 <= new_i < len(matrix) and 0 <= new_j < len(matrix):\n",
    "            new_score = score + matrix[new_i][new_j]\n",
    "            if new_score < scores[(new_i, new_j)]:\n",
    "                heapq.heappush(heap, (new_score, (new_i, new_j)))\n",
    "                scores[(new_i, new_j)] = new_score\n",
    "res"
   ]
  },
  {
   "cell_type": "code",
   "execution_count": null,
   "metadata": {},
   "outputs": [],
   "source": []
  }
 ],
 "metadata": {
  "language_info": {
   "name": "python"
  }
 },
 "nbformat": 4,
 "nbformat_minor": 2
}
