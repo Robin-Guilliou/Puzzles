{
 "cells": [
  {
   "cell_type": "markdown",
   "metadata": {},
   "source": [
    "# 686 - Powers of Two\n",
    "\n",
    "## Problem Statement\n",
    "\n",
    "$2^7=128$ is the first power of two whose leading digits are \"12\".<br />\n",
    "The next power of two whose leading digits are \"12\" is $2^{80}$.\n",
    "\n",
    "Define $p(L, n)$ to be the $n$th-smallest value of $j$ such that the base 10 representation of $2^j$ begins with the digits of $L$.<br />\n",
    "So $p(12, 1) = 7$ and $p(12, 2) = 80$.\n",
    "\n",
    "You are also given that $p(123, 45) = 12710$.\n",
    "\n",
    "Find $p(123, 678910)$.\n",
    "\n",
    "## Solution"
   ]
  },
  {
   "cell_type": "code",
   "execution_count": 1,
   "metadata": {},
   "outputs": [
    {
     "name": "stdout",
     "output_type": "stream",
     "text": [
      "193060223\n"
     ]
    }
   ],
   "source": [
    "import numpy as np\n",
    "from numba import njit\n",
    "\n",
    "@njit\n",
    "def find_power_with_leading_digits_efficient(target, n):\n",
    "    log10_2 = np.log10(2)\n",
    "    count = 0\n",
    "    j = 1\n",
    "    target_str = str(target)\n",
    "    target_length = len(target_str)\n",
    "\n",
    "    # The factor to scale up the fractional part to get the first three digits\n",
    "    scale_factor = 10**(target_length - 1)\n",
    "\n",
    "    while count < n:\n",
    "        # Determine the first three digits of 2^j\n",
    "        fractional_part = (j * log10_2) % 1\n",
    "        first_digits = int(10**fractional_part * scale_factor)\n",
    "\n",
    "        if first_digits == target:\n",
    "            count += 1\n",
    "            if count == n:\n",
    "                return j\n",
    "\n",
    "        # Calculate the next j where a change in the first digits could occur\n",
    "        next_fractional_target = np.log10(target / scale_factor)\n",
    "        if fractional_part > next_fractional_target:\n",
    "            next_fractional_target += 1  # Adjust target to next interval\n",
    "        delta_j = (next_fractional_target - fractional_part) / log10_2\n",
    "        j += int(delta_j) + 1  # Adjust j to the next candidate\n",
    "\n",
    "    return j\n",
    "\n",
    "# Efficiently find p(123, 678910)\n",
    "p_123_678910_efficient = find_power_with_leading_digits_efficient(123, 678910)\n",
    "print(p_123_678910_efficient)\n"
   ]
  },
  {
   "cell_type": "code",
   "execution_count": null,
   "metadata": {},
   "outputs": [],
   "source": []
  }
 ],
 "metadata": {
  "language_info": {
   "name": "python"
  }
 },
 "nbformat": 4,
 "nbformat_minor": 2
}
