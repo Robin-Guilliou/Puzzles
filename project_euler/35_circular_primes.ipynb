{
 "cells": [
  {
   "cell_type": "code",
   "execution_count": 13,
   "metadata": {},
   "outputs": [
    {
     "data": {
      "text/plain": [
       "55"
      ]
     },
     "execution_count": 13,
     "metadata": {},
     "output_type": "execute_result"
    }
   ],
   "source": [
    "from sympy import primerange\n",
    "\n",
    "primes = set(primerange(1000000))\n",
    "count = len(primes)\n",
    "for prime in primes:\n",
    "    s = str(prime)\n",
    "    n = len(s)\n",
    "    s *= 2\n",
    "    i = 0\n",
    "    while i < n:\n",
    "        if int(s[i:i+n]) not in primes:\n",
    "            count -= 1\n",
    "            break\n",
    "        i += 1\n",
    "\n",
    "count"
   ]
  },
  {
   "cell_type": "code",
   "execution_count": null,
   "metadata": {},
   "outputs": [],
   "source": []
  }
 ],
 "metadata": {
  "language_info": {
   "name": "python"
  }
 },
 "nbformat": 4,
 "nbformat_minor": 2
}
