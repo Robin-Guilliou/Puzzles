{
 "cells": [
  {
   "cell_type": "markdown",
   "metadata": {},
   "source": [
    "# 37 - Truncatable Primes\n",
    "\n",
    "## Problem Statement\n",
    "\n",
    "The number $3797$ has an interesting property. Being prime itself, it is possible to continuously remove digits from left to right, and remain prime at each stage: $3797$, $797$, $97$, and $7$. Similarly we can work from right to left: $3797$, $379$, $37$, and $3$.\n",
    "\n",
    "Find the sum of the only eleven primes that are both truncatable from left to right and right to left.\n",
    "\n",
    "<p class=\"smaller\">NOTE: 2, 3, 5, and 7 are not considered to be truncatable primes.</p>\n",
    "\n",
    "\n",
    "## Solution\n",
    "\n",
    "We can go with a brute force solution. We generate all the primes between 10 (to exclude single digit primes) and $10^6$ (upper bound found iteratively). We also create a set of those primes for $O(1)$ lookup. Then for each prime, we remove numbers from the left and right and check if we still have a prime. Once we have found 11 of them, we compute the sum."
   ]
  },
  {
   "cell_type": "code",
   "execution_count": 1,
   "metadata": {},
   "outputs": [
    {
     "data": {
      "text/plain": [
       "748317"
      ]
     },
     "execution_count": 1,
     "metadata": {},
     "output_type": "execute_result"
    }
   ],
   "source": [
    "import sympy as sp\n",
    "\n",
    "primes = list(sp.primerange(10, 1000000))\n",
    "primes_set = set(primes)\n",
    "primes_set.update({2, 3, 5, 7})\n",
    "\n",
    "res = []\n",
    "for prime in primes:\n",
    "    s = str(prime)\n",
    "    if len(s) == 1:\n",
    "        continue\n",
    "    i = 0\n",
    "    valid = True\n",
    "    while i < len(s):\n",
    "        left = s[i:]\n",
    "        right = s[:-i-1] if i != len(s) - 1 else 2\n",
    "        if int(left) not in primes_set or int(right) not in primes_set:\n",
    "            valid = False\n",
    "            break\n",
    "        i += 1\n",
    "    if valid:\n",
    "        res.append(prime)\n",
    "    if len(res) == 11:\n",
    "        break\n",
    "\n",
    "sum(res)"
   ]
  },
  {
   "cell_type": "code",
   "execution_count": null,
   "metadata": {},
   "outputs": [],
   "source": []
  }
 ],
 "metadata": {
  "language_info": {
   "name": "python"
  }
 },
 "nbformat": 4,
 "nbformat_minor": 2
}
