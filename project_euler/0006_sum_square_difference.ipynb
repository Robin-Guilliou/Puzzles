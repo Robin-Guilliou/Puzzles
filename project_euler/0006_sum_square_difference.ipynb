{
 "cells": [
  {
   "cell_type": "markdown",
   "metadata": {},
   "source": [
    "# 6 - Sum Square Difference\n",
    "\n",
    "## Problem Statement\n",
    "\n",
    "The sum of the squares of the first ten natural numbers is,\n",
    "$$1^2 + 2^2 + ... + 10^2 = 385.$$\n",
    "The square of the sum of the first ten natural numbers is,\n",
    "$$(1 + 2 + ... + 10)^2 = 55^2 = 3025.$$\n",
    "Hence the difference between the sum of the squares of the first ten natural numbers and the square of the sum is $3025 - 385 = 2640$.\n",
    "Find the difference between the sum of the squares of the first one hundred natural numbers and the square of the sum.\n",
    "\n",
    "## Solution\n",
    "\n",
    "We use the following two identities\n",
    "\n",
    "\\begin{equation}\n",
    "    S_1(n) = \\sum_{i=1}^n x_i = \\frac{n(n + 1)}{2}\n",
    "\\end{equation}\n",
    "\n",
    "and\n",
    "\n",
    "\\begin{equation}\n",
    "    S_2(n) = \\sum_{i=1}^n x_i^2 = \\frac{n(n + 1)(2n + 1)}{6}.\n",
    "\\end{equation}\n",
    "\n",
    "The answer is $S_1(100)^2 - S_2(100)$."
   ]
  },
  {
   "cell_type": "code",
   "execution_count": 9,
   "metadata": {},
   "outputs": [],
   "source": [
    "def sum_square_difference(n):\n",
    "    return ((n * (n + 1)) // 2) ** 2 - (n * (n + 1) * (2*n + 1)) // 6"
   ]
  },
  {
   "cell_type": "code",
   "execution_count": 10,
   "metadata": {},
   "outputs": [
    {
     "data": {
      "text/plain": [
       "25164150"
      ]
     },
     "execution_count": 10,
     "metadata": {},
     "output_type": "execute_result"
    }
   ],
   "source": [
    "sum_square_difference(100)"
   ]
  },
  {
   "cell_type": "code",
   "execution_count": null,
   "metadata": {},
   "outputs": [],
   "source": []
  }
 ],
 "metadata": {
  "language_info": {
   "name": "python"
  }
 },
 "nbformat": 4,
 "nbformat_minor": 2
}
