{
 "cells": [
  {
   "cell_type": "markdown",
   "metadata": {},
   "source": [
    "# 72 - Counting Fractions\n",
    "\n",
    "## Problem Statement\n",
    "\n",
    "Consider the fraction, $\\dfrac n d$, where $n$ and $d$ are positive integers. If $n \\lt d$ and $\\operatorname{HCF}(n,d)=1$, it is called a reduced proper fraction.\n",
    "\n",
    "If we list the set of reduced proper fractions for $d \\le 8$ in ascending order of size, we get:\n",
    "\n",
    "$$\\frac{1}{8}, \\frac{1}{7}, \\frac{1}{6}, \\frac{1}{5}, \\frac{1}{4}, \\frac{2}{7}, \\frac{1}{3}, \\frac{3}{8}, \\frac{2}{5}, \\frac{3}{7}, \\frac{1}{2}, \\frac{4}{7}, \\frac{3}{5}, \\frac{5}{8}, \\frac{2}{3}, \\frac{5}{7}, \\frac{3}{4}, \\frac{4}{5}, \\frac{5}{6}, \\frac{6}{7}, \\frac{7}{8} $$\n",
    "\n",
    "It can be seen that there are $21$ elements in this set.\n",
    "\n",
    "How many elements would be contained in the set of reduced proper fractions for $d \\le 1\\,000\\,000$?\n",
    "\n",
    "## Solution\n",
    "\n",
    "The sequence of reduced proper fractions between 0 and 1 arranged in increasing order is called the Farey sequence. The length of the Farey sequence of order $n$ (i.e., where the largest denominator is $n$), $|F_n|$ (which includes fractions $\\frac{0}{1}$ and $\\frac{1}{1}$) is given by\n",
    "\n",
    "\\begin{equation}\n",
    "    |F_n| = 1 + \\sum_{m = 1}^n \\varphi(m)\n",
    "\\end{equation}\n",
    "\n",
    "where $\\varphi$ is Euler's totient function.\n",
    "\n",
    "Therefore, we simply need to compute $|F_n|$ as shown above and subtract 2 to account for 0 and 1."
   ]
  },
  {
   "cell_type": "code",
   "execution_count": 2,
   "metadata": {},
   "outputs": [
    {
     "data": {
      "text/plain": [
       "303963552391"
      ]
     },
     "execution_count": 2,
     "metadata": {},
     "output_type": "execute_result"
    }
   ],
   "source": [
    "n = 1000000\n",
    "\n",
    "phi_sum = 1 # Initialize with 1 for phi(1)\n",
    "phi = [1] * (n + 1) # initialize with ones to multiply\n",
    "for i in range(2, n + 1):\n",
    "    if phi[i] == 1:  # i is a prime number\n",
    "        for j in range(i, n + 1, i):\n",
    "            phi[j] *= (1 - 1/i)\n",
    "    phi_sum += phi[i] * i\n",
    "\n",
    "int(phi_sum + 1) - 2"
   ]
  },
  {
   "cell_type": "code",
   "execution_count": null,
   "metadata": {},
   "outputs": [],
   "source": []
  }
 ],
 "metadata": {
  "language_info": {
   "name": "python"
  }
 },
 "nbformat": 4,
 "nbformat_minor": 2
}
