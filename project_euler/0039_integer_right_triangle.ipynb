{
 "cells": [
  {
   "cell_type": "markdown",
   "metadata": {},
   "source": [
    "# 39 - Integer Right Triangle\n",
    "\n",
    "## Problem Statement\n",
    "\n",
    "If $p$ is the perimeter of a right angle triangle with integral length sides, $\\{a, b, c\\}$, there are exactly three solutions for $p = 120$.\n",
    "\n",
    "$\\{20,48,52\\}$, $\\{24,45,51\\}$, $\\{30,40,50\\}$\n",
    "\n",
    "For which value of $p \\le 1000$, is the number of solutions maximised?\n",
    "\n",
    "## Solution\n",
    "\n",
    "We generate all the pythagorean triplets using Euclid's formula. We create a frequency map to count the number of times a specific perimeter is encountered. Finally, we obtain the perimeter corresponding to the max value from the map."
   ]
  },
  {
   "cell_type": "code",
   "execution_count": 3,
   "metadata": {},
   "outputs": [
    {
     "name": "stdout",
     "output_type": "stream",
     "text": [
      "The number of solutions is maximized for a perimeter equal to 840.\n"
     ]
    }
   ],
   "source": [
    "## Not optimised but quick enough for small maximum perimeter\n",
    "\n",
    "from collections import defaultdict\n",
    "\n",
    "p = defaultdict(int)\n",
    "visited = set()\n",
    "for m in range(1, 100):\n",
    "    for n in range(1, m):\n",
    "        for k in range(1, 1000):\n",
    "            a = k*(m**2 - n**2)\n",
    "            b = k*(2*m*n)\n",
    "            c = k*(m**2 + n**2)\n",
    "            if a + b + c > 1000:\n",
    "                break\n",
    "            if tuple(sorted([a, b, c])) not in visited:\n",
    "                visited.add(tuple(sorted([a, b, c])))\n",
    "                p[a + b + c] += 1\n",
    "\n",
    "solution = max(p, key=p.get)\n",
    "\n",
    "print(f'The number of solutions is maximized for a perimeter equal to {solution}.')"
   ]
  },
  {
   "cell_type": "code",
   "execution_count": null,
   "metadata": {},
   "outputs": [],
   "source": []
  }
 ],
 "metadata": {
  "language_info": {
   "name": "python"
  }
 },
 "nbformat": 4,
 "nbformat_minor": 2
}
