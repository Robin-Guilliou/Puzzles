{
 "cells": [
  {
   "cell_type": "markdown",
   "metadata": {},
   "source": [
    "# 28 - Number Spiral Diagonal\n",
    "\n",
    "## Problem Statement\n",
    "\n",
    "Starting with the number $1$ and moving to the right in a clockwise direction a $5$ by $5$ spiral is formed as follows:\n",
    "\n",
    "\n",
    "<div style=\"font-family: monospace; text-align: center; display: grid; grid-template-columns: repeat(5, auto); gap: 10px; justify-content: center;\">\n",
    "  <b style=\"color: red;\">21</b>\n",
    "  <span>22</span>\n",
    "  <span>23</span>\n",
    "  <span>24</span>\n",
    "  <b style=\"color: red;\">25</b>\n",
    "  <span>20</span>\n",
    "  <b style=\"color: red;\">7</b>\n",
    "  <span>8</span>\n",
    "  <b style=\"color: red;\">9</b>\n",
    "  <span>10</span>\n",
    "  <span>19</span>\n",
    "  <span>6</span>\n",
    "  <b style=\"color: red;\">1</b>\n",
    "  <span>2</span>\n",
    "  <span>11</span>\n",
    "  <span>18</span>\n",
    "  <b style=\"color: red;\">5</b>\n",
    "  <span>4</span>\n",
    "  <b style=\"color: red;\">3</b>\n",
    "  <span>12</span>\n",
    "  <b style=\"color: red;\">17</b>\n",
    "  <span>16</span>\n",
    "  <span>15</span>\n",
    "  <span>14</span>\n",
    "  <b style=\"color: red;\">13</b>\n",
    "</div>\n",
    "\n",
    "It can be verified that the sum of the numbers on the diagonals is $101$.\n",
    "\n",
    "What is the sum of the numbers on the diagonals in a $1001$ by $1001$ spiral formed in the same way?\n",
    "\n",
    "## Solution\n",
    "\n",
    "Looking at the numbers on the diagonal and their difference, we observe an interesting pattern. Starting at one, the next diagonal number (bottom right) is obtained by adding 2. Then going clockwise all the next diagonal numbers are obtained by adding 2 to the previous one. Then to obtain, the next bottom right number, we need to add 4. Then 3 next diagonal numbers are also obtained by adding 4 to the previous one. The pattern keeps repeating and the differences are:\n",
    "\n",
    "`2, 2, 2, 2, 4, 4, 4, 4, 6, 6, 6, 6, 8, 8, 8, 8, ...`\n",
    "\n",
    "We need to go through 500 bottom right diagonal numbers after the first 1. It is now straightforward to code a solution."
   ]
  },
  {
   "cell_type": "code",
   "execution_count": 3,
   "metadata": {},
   "outputs": [
    {
     "name": "stdout",
     "output_type": "stream",
     "text": [
      "The sum of all diagonal numbers is 669171001.\n"
     ]
    }
   ],
   "source": [
    "curr_sum = 25 # current sum of diagonals\n",
    "bottom_right = 3 # diagonal element on the bottom right\n",
    "for i in range(1, 500):\n",
    "    # Get the next bottom right element\n",
    "    bottom_right += 2*i*3 + (i + 1)*2\n",
    "    # Add the 4 diagonal elements\n",
    "    for j in range(4):\n",
    "        curr_sum += bottom_right + 2*(i + 1)*j\n",
    "\n",
    "print(f'The sum of all diagonal numbers is {curr_sum}.')"
   ]
  },
  {
   "cell_type": "code",
   "execution_count": null,
   "metadata": {},
   "outputs": [],
   "source": []
  }
 ],
 "metadata": {
  "language_info": {
   "name": "python"
  }
 },
 "nbformat": 4,
 "nbformat_minor": 2
}
