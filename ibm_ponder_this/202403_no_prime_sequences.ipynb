{
 "cells": [
  {
   "cell_type": "markdown",
   "metadata": {},
   "source": [
    "# IBM Ponder This - March 2024\n",
    "\n",
    "## Problem Statement\n",
    "\n",
    "Let $X_n$ be the sequence of $n$ natural numbers $a_0, a_1,\\ldots, a_{n-1}$ for which three properties are true:\n",
    "1. $a_i=a_{i-1} + i$ for $0 < i < n$\n",
    "2. None of the sequence terms is prime.\n",
    "3. There is no other sequence with the above properties and a smaller initial term $a_0$.\n",
    "\n",
    "Please note that because of property #1, there will only be $n$ numbers in the sequence, for any given $n$.\n",
    "The first such sequences are:\n",
    "\n",
    "$X_1 = [1]$ <br>\n",
    "$X_2 = [8,9]$ <br>\n",
    "$X_3 = [9, 10, 12]$ <br>\n",
    "$X_4 = [9, 10, 12, 15]$ <br>\n",
    "$X_5 = [15, 16, 18, 21, 25]$\n",
    "\n",
    "Your Goal: Please find the initial term $a_0$ of the sequence $X_{1000}$\n",
    "\n",
    "A Bonus \"*\" will be given for finding the initial term $a_0$ of the sequence $X_{2024}$\n",
    "\n",
    "## Solution\n",
    "\n",
    "We simply generate the 1000 first sequences and get the $a_0$ of the last one."
   ]
  },
  {
   "cell_type": "code",
   "execution_count": 1,
   "metadata": {},
   "outputs": [
    {
     "data": {
      "text/plain": [
       "115192665"
      ]
     },
     "execution_count": 1,
     "metadata": {},
     "output_type": "execute_result"
    }
   ],
   "source": [
    "import sympy\n",
    "\n",
    "primes = set(sympy.primerange(0, 120000000))\n",
    "\n",
    "res = []\n",
    "start = 0\n",
    "curr_n = 1\n",
    "\n",
    "while True:\n",
    "    start += 1\n",
    "    n = 1\n",
    "    num = start\n",
    "    curr_sec = []\n",
    "    while num not in primes:\n",
    "        curr_sec.append(num)\n",
    "        if len(curr_sec) == curr_n:\n",
    "            res.append(curr_sec.copy())\n",
    "            if curr_n >=1000:\n",
    "                break\n",
    "            curr_n += 1\n",
    "        num += n\n",
    "        n += 1\n",
    "    if curr_n >=1000:\n",
    "        break\n",
    "\n",
    "res[-1][0]"
   ]
  },
  {
   "cell_type": "code",
   "execution_count": null,
   "metadata": {},
   "outputs": [],
   "source": []
  }
 ],
 "metadata": {
  "kernelspec": {
   "display_name": "base",
   "language": "python",
   "name": "python3"
  },
  "language_info": {
   "codemirror_mode": {
    "name": "ipython",
    "version": 3
   },
   "file_extension": ".py",
   "mimetype": "text/x-python",
   "name": "python",
   "nbconvert_exporter": "python",
   "pygments_lexer": "ipython3",
   "version": "3.9.13"
  }
 },
 "nbformat": 4,
 "nbformat_minor": 2
}
