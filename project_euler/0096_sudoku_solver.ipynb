{
 "cells": [
  {
   "cell_type": "markdown",
   "metadata": {},
   "source": [
    "# 96 - Su Doku\n",
    "\n",
    "## Problem Statement\n",
    "\n",
    "Su Doku (Japanese meaning <i>number place</i>) is the name given to a popular puzzle concept. Its origin is unclear, but credit must be attributed to Leonhard Euler who invented a similar, and much more difficult, puzzle idea called Latin Squares. The objective of Su Doku puzzles, however, is to replace the blanks (or zeros) in a 9 by 9 grid in such that each row, column, and 3 by 3 box contains each of the digits 1 to 9. Below is an example of a typical starting puzzle grid and its solution grid.\n",
    "\n",
    "<div class=\"center\">\n",
    "<img src=\"images/p096_1.png\" alt=\"p096_1.png\" />     <img src=\"images/p096_2.png\" alt=\"p096_2.png\" /></div>\n",
    "\n",
    "A well constructed Su Doku puzzle has a unique solution and can be solved by logic, although it may be necessary to employ \"guess and test\" methods in order to eliminate options (there is much contested opinion over this). The complexity of the search determines the difficulty of the puzzle; the example above is considered <i>easy</i> because it can be solved by straight forward direct deduction.\n",
    "\n",
    "<p>The 6K text file, <a href=\"inputs/0096_sudoku.txt\">sudoku.txt</a> (right click and 'Save Link/Target As...'), contains fifty different Su Doku puzzles ranging in difficulty, but all with unique solutions (the first puzzle in the file is the example above).</p>\n",
    "\n",
    "By solving all fifty puzzles find the sum of the 3-digit numbers found in the top left corner of each solution grid; for example, 483 is the 3-digit number found in the top left corner of the solution grid above.\n",
    "\n",
    "## Solution\n",
    "\n",
    "We solve it with backtracking. Every time we encounter a zero, we try replacing it with another value. If this does not break the row, column and 3 by 3 box conditions, we go to the next zero. If a number is not valid, we check the next value. If none of the values is valid, we go back to the previously modified value and try to replace it with another value. We continue until the grid is entirely filled."
   ]
  },
  {
   "cell_type": "code",
   "execution_count": 1,
   "metadata": {},
   "outputs": [],
   "source": [
    "import re\n",
    "\n",
    "def is_valid(grid, i, j):\n",
    "    \"\"\" Check validity of sudoku grid after changing value at (i, j) \"\"\"\n",
    "    # Check rows and columns\n",
    "    for k in range(len(grid)):\n",
    "        if j != k and grid[i][k] == grid[i][j]:\n",
    "            return False\n",
    "        if i != k and grid[k][j] == grid[i][j]:\n",
    "            return False\n",
    "    # Check square\n",
    "    i_ = (i // 3) * 3\n",
    "    j_ = (j // 3) * 3\n",
    "    for k in range(3):\n",
    "        for l in range(3):\n",
    "            if (i_ + k != i or j_ + l != j) and grid[i_ + k][j_ + l] == grid[i][j]:\n",
    "                return False\n",
    "    return True\n",
    "\n",
    "def solve(grid, i, j):\n",
    "    \"\"\" Solve the sudoku with backtracking and return top left 3 digit number \"\"\"\n",
    "    if i == len(grid):\n",
    "        return 100 * grid[0][0] + 10 * grid[0][1] + grid[0][2]\n",
    "    if grid[i][j] == 0:\n",
    "        for k in range(1, 10):\n",
    "            grid[i][j] = k\n",
    "            if is_valid(grid, i, j):\n",
    "                if j == 8:\n",
    "                    res = solve(grid, i + 1, 0)\n",
    "                else:\n",
    "                    res = solve(grid, i, j + 1)\n",
    "                if res:\n",
    "                    return res\n",
    "            grid[i][j] = 0\n",
    "    else:\n",
    "        if j == 8:\n",
    "            res = solve(grid, i + 1, 0)\n",
    "        else:\n",
    "            res = solve(grid, i, j + 1)\n",
    "        if res:\n",
    "            return res\n",
    "\n",
    "def extract_matrices_from_file(file_path):\n",
    "    with open(file_path, 'r') as file:\n",
    "        lines = file.readlines()\n",
    "\n",
    "    matrices = {}\n",
    "    current_grid = None\n",
    "    current_matrix = []\n",
    "\n",
    "    for line in lines:\n",
    "        line = line.strip()\n",
    "        # Check if the line is a grid label\n",
    "        if re.match(r'Grid \\d{2}', line):\n",
    "            if current_grid is not None and current_matrix:\n",
    "                matrices[current_grid] = current_matrix\n",
    "                current_matrix = []\n",
    "            current_grid = line\n",
    "        else:\n",
    "            if line:  # Ignore empty lines\n",
    "                current_matrix.append([int(char) for char in line])\n",
    "\n",
    "    if current_grid is not None and current_matrix:\n",
    "        matrices[current_grid] = current_matrix\n",
    "\n",
    "    return matrices"
   ]
  },
  {
   "cell_type": "code",
   "execution_count": 2,
   "metadata": {},
   "outputs": [
    {
     "data": {
      "text/plain": [
       "24702"
      ]
     },
     "execution_count": 2,
     "metadata": {},
     "output_type": "execute_result"
    }
   ],
   "source": [
    "file_path = 'inputs/0096_sudoku.txt'\n",
    "matrices = extract_matrices_from_file(file_path)\n",
    "\n",
    "res = 0\n",
    "for matrix in matrices.values():\n",
    "    res += solve(matrix, 0, 0)\n",
    "\n",
    "res"
   ]
  },
  {
   "cell_type": "code",
   "execution_count": null,
   "metadata": {},
   "outputs": [],
   "source": []
  }
 ],
 "metadata": {
  "language_info": {
   "name": "python"
  }
 },
 "nbformat": 4,
 "nbformat_minor": 2
}
