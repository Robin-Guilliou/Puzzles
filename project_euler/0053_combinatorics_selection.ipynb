{
 "cells": [
  {
   "cell_type": "markdown",
   "metadata": {},
   "source": [
    "# Combinatoric Selections\n",
    "\n",
    "## Problem Statement\n",
    "\n",
    "There are exactly ten ways of selecting three from five, 12345:\n",
    "\n",
    "<p class=\"center\">123, 124, 125, 134, 135, 145, 234, 235, 245, and 345</p>\n",
    "\n",
    "In combinatorics, we use the notation, $\\displaystyle \\binom 5 3 = 10$.\n",
    "\n",
    "In general, $\\displaystyle \\binom n r = \\dfrac{n!}{r!(n-r)!}$, where $r \\le n$, $n! = n \\times (n-1) \\times ... \\times 3 \\times 2 \\times 1$, and $0! = 1$.\n",
    "\n",
    "It is not until $n = 23$, that a value exceeds one-million: $\\displaystyle \\binom {23} {10} = 1144066$.\n",
    "\n",
    "How many, not necessarily distinct, values of $\\displaystyle \\binom n r$ for $1 \\le n \\le 100$, are greater than one-million?\n",
    "\n",
    "## Solution\n",
    "\n",
    "Implemented several solutions with various degrees of optimisation. Explanations coming..."
   ]
  },
  {
   "cell_type": "code",
   "execution_count": 8,
   "metadata": {},
   "outputs": [],
   "source": [
    "import math\n",
    "from functools import lru_cache\n",
    "\n",
    "n = 100\n",
    "limit = 1000000"
   ]
  },
  {
   "cell_type": "code",
   "execution_count": 9,
   "metadata": {},
   "outputs": [
    {
     "data": {
      "text/plain": [
       "4075"
      ]
     },
     "execution_count": 9,
     "metadata": {},
     "output_type": "execute_result"
    }
   ],
   "source": [
    "def count_binomials(n, limit):\n",
    "    dp = [[0] * (n + 1) for _ in range(n + 1)]\n",
    "    for i in range(n + 1):\n",
    "        dp[i][0] = 1\n",
    "\n",
    "    count = 0\n",
    "    for i in range(1, n + 1):\n",
    "        for j in range(1, i + 1):\n",
    "            dp[i][j] = dp[i-1][j-1] + dp[i-1][j]\n",
    "            if dp[i][j] > limit:\n",
    "                count += 1\n",
    "\n",
    "    return count\n",
    "\n",
    "count_binomials(n, limit)"
   ]
  },
  {
   "cell_type": "code",
   "execution_count": 10,
   "metadata": {},
   "outputs": [
    {
     "data": {
      "text/plain": [
       "4075"
      ]
     },
     "execution_count": 10,
     "metadata": {},
     "output_type": "execute_result"
    }
   ],
   "source": [
    "def count_binomials(n, limit):\n",
    "    prev_row = [1]  # base case: dp[0][0] = 1\n",
    "    count = 0\n",
    "    for i in range(1, n + 1):\n",
    "        curr_row = [1] * (i + 1)  # Start each row with 1s\n",
    "        # Compute only up to the middle (i//2), use symmetry for the rest\n",
    "        for j in range(1, (i // 2) + 1):\n",
    "            curr_row[j] = prev_row[j-1] + prev_row[j]\n",
    "            curr_row[i-j] = curr_row[j]  # Use symmetry\n",
    "            if curr_row[j] > limit:\n",
    "                count += 2 if j != i-j else 1  # Increment twice unless it's the middle one\n",
    "        prev_row = curr_row\n",
    "    return count\n",
    "\n",
    "count_binomials(n, limit)\n"
   ]
  },
  {
   "cell_type": "code",
   "execution_count": 11,
   "metadata": {},
   "outputs": [
    {
     "data": {
      "text/plain": [
       "4075"
      ]
     },
     "execution_count": 11,
     "metadata": {},
     "output_type": "execute_result"
    }
   ],
   "source": [
    "@lru_cache(None)  # Cache results to avoid redundant calculations\n",
    "def cached_comb(n, k):\n",
    "    return math.comb(n, k)\n",
    "\n",
    "def count_binomials(n, limit):\n",
    "    count = 0\n",
    "    for i in range(1, n + 1):\n",
    "        for j in range(0, (i // 2) + 1):\n",
    "            if cached_comb(i, j) > limit:\n",
    "                count += 2 if j != i - j else 1  # Double count unless at the midpoint\n",
    "    return count\n",
    "\n",
    "count_binomials(n, limit)"
   ]
  },
  {
   "cell_type": "code",
   "execution_count": 12,
   "metadata": {},
   "outputs": [
    {
     "data": {
      "text/plain": [
       "4075"
      ]
     },
     "execution_count": 12,
     "metadata": {},
     "output_type": "execute_result"
    }
   ],
   "source": [
    "@lru_cache(None)  # Cache results to avoid redundant calculations\n",
    "def cached_comb(n, k):\n",
    "    return math.comb(n, k)\n",
    "\n",
    "def count_binomials(n, limit):\n",
    "    count = 0\n",
    "    for i in range(1, n + 1):\n",
    "        for j in range(0, (i // 2) + 1):\n",
    "            if cached_comb(i, j) > limit:\n",
    "                count += (i + 1) - 2 * j\n",
    "                break\n",
    "    return count\n",
    "\n",
    "count_binomials(n, limit)"
   ]
  },
  {
   "cell_type": "code",
   "execution_count": null,
   "metadata": {},
   "outputs": [],
   "source": []
  },
  {
   "cell_type": "code",
   "execution_count": 13,
   "metadata": {},
   "outputs": [
    {
     "data": {
      "text/plain": [
       "4075"
      ]
     },
     "execution_count": 13,
     "metadata": {},
     "output_type": "execute_result"
    }
   ],
   "source": [
    "@lru_cache(None)  # Cache results to avoid redundant calculations\n",
    "def cached_comb(n, k):\n",
    "    if k > n - k:  # Take advantage of symmetry\n",
    "        k = n - k\n",
    "    result = 1\n",
    "    for i in range(k):\n",
    "        result = result * (n - i) // (i + 1)\n",
    "    return result\n",
    "\n",
    "def count_binomials(n, limit):\n",
    "    count = 0\n",
    "    for i in range(1, n + 1):\n",
    "        for j in range(0, (i // 2) + 1):\n",
    "            if cached_comb(i, j) > limit:\n",
    "                count += (i + 1) - 2 * j\n",
    "                break\n",
    "    return count\n",
    "\n",
    "count_binomials(n, limit)"
   ]
  },
  {
   "cell_type": "code",
   "execution_count": null,
   "metadata": {},
   "outputs": [],
   "source": []
  }
 ],
 "metadata": {
  "language_info": {
   "name": "python"
  }
 },
 "nbformat": 4,
 "nbformat_minor": 2
}
