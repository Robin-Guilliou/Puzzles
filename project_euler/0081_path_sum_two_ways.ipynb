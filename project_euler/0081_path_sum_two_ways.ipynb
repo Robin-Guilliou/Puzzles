{
 "cells": [
  {
   "cell_type": "markdown",
   "metadata": {},
   "source": [
    "# 81 - Path Sum: Two Ways\n",
    "\n",
    "## Problem Statement\n",
    "\n",
    "In the $5$ by $5$ matrix below, the minimal path sum from the top left to the bottom right, by <b>only moving to the right and down</b>, is indicated in bold red and is equal to $2427$.\n",
    "\n",
    "<div class=\"center\">\n",
    "\n",
    "\\begin{pmatrix}\n",
    "\\color{red}{131} & 673 & 234 & 103 & 18\\\\\n",
    "\\color{red}{201} & \\color{red}{96} & \\color{red}{342} & 965 & 150\\\\\n",
    "630 & 803 & \\color{red}{746} & \\color{red}{422} & 111\\\\\n",
    "537 & 699 & 497 & \\color{red}{121} & 956\\\\\n",
    "805 & 732 & 524 & \\color{red}{37} & \\color{red}{331}\n",
    "\\end{pmatrix}\n",
    "\n",
    "</div>\n",
    "Find the minimal path sum from the top left to the bottom right by only moving right and down in <a href=\"0081_matrix.txt\">0081_matrix.txt</a>, a 31K text file containing an $80$ by $80$ matrix.\n",
    "\n",
    "## Solution\n",
    "\n",
    "We can solve this problem with dynamic programming. The recurrence relation is $\\text{dp}[i][j] = \\text{dp}[i][j] + \\min(\\text{dp}[i - 1][j], \\text{dp}[i][j - 1])$ for $1 \\leq i, j \\leq n$. We simply need to handle the cases in the first row and first column where $\\text{dp}[i][j]$ is simply the cumulative sum as there is only one way to reach these cells."
   ]
  },
  {
   "cell_type": "code",
   "execution_count": 1,
   "metadata": {},
   "outputs": [],
   "source": [
    "# Read the matrix\n",
    "\n",
    "def read_matrix(file_path):\n",
    "    triangle = []\n",
    "    with open(file_path, 'r') as file:\n",
    "        for line in file:\n",
    "            row = list(map(int, line.split(',')))\n",
    "            triangle.append(row)\n",
    "    return triangle\n",
    "\n",
    "matrix = read_matrix('inputs/0081_matrix.txt')"
   ]
  },
  {
   "cell_type": "code",
   "execution_count": 2,
   "metadata": {},
   "outputs": [
    {
     "data": {
      "text/plain": [
       "427337"
      ]
     },
     "execution_count": 2,
     "metadata": {},
     "output_type": "execute_result"
    }
   ],
   "source": [
    "# DP\n",
    "\n",
    "for i in range(len(matrix)):\n",
    "    for j in range(len(matrix)):\n",
    "        if i > 0 and j > 0:\n",
    "            matrix[i][j] += min(matrix[i - 1][j], matrix[i][j - 1])\n",
    "        elif i > 0:\n",
    "            matrix[i][j] += matrix[i - 1][j]\n",
    "        elif j > 0:\n",
    "            matrix[i][j] += matrix[i][j - 1]\n",
    "\n",
    "matrix[-1][-1]"
   ]
  },
  {
   "cell_type": "code",
   "execution_count": null,
   "metadata": {},
   "outputs": [],
   "source": []
  }
 ],
 "metadata": {
  "language_info": {
   "name": "python"
  }
 },
 "nbformat": 4,
 "nbformat_minor": 2
}
