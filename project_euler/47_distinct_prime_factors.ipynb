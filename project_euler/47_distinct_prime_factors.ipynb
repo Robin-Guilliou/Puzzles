{
 "cells": [
  {
   "cell_type": "markdown",
   "metadata": {},
   "source": [
    "# 47 - Distinct Prime Factors\n",
    "\n",
    "## Problem Statement\n",
    "\n",
    "The first two consecutive numbers to have two distinct prime factors are:\n",
    "\n",
    "\\begin{align}\n",
    "14 &= 2 \\times 7\\\\\n",
    "15 &= 3 \\times 5.\n",
    "\\end{align}\n",
    "\n",
    "The first three consecutive numbers to have three distinct prime factors are:\n",
    "\\begin{align}\n",
    "644 &= 2^2 \\times 7 \\times 23\\\\\n",
    "645 &= 3 \\times 5 \\times 43\\\\\n",
    "646 &= 2 \\times 17 \\times 19.\n",
    "\\end{align}\n",
    "\n",
    "Find the first four consecutive integers to have four distinct prime factors each. What is the first of these numbers?\n",
    "\n",
    "\n",
    "## Solution\n",
    "\n",
    "We loop through all the integers and perform prime factor decomposition. We keep track of the number of consecutive integers with 4 distinct factors. "
   ]
  },
  {
   "cell_type": "code",
   "execution_count": 1,
   "metadata": {},
   "outputs": [
    {
     "data": {
      "text/plain": [
       "134043"
      ]
     },
     "execution_count": 1,
     "metadata": {},
     "output_type": "execute_result"
    }
   ],
   "source": [
    "import sympy as sp\n",
    "\n",
    "n_consecutive = 0\n",
    "i = 1\n",
    "while n_consecutive < 4:\n",
    "    factors = sp.factorint(i)\n",
    "    if len(factors) == 4:\n",
    "        n_consecutive += 1\n",
    "    else:\n",
    "        n_consecutive = 0\n",
    "    i += 1\n",
    "\n",
    "print(f'The answer is {i - 4}')"
   ]
  },
  {
   "cell_type": "code",
   "execution_count": null,
   "metadata": {},
   "outputs": [],
   "source": []
  }
 ],
 "metadata": {
  "language_info": {
   "name": "python"
  }
 },
 "nbformat": 4,
 "nbformat_minor": 2
}
