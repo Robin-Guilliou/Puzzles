{
 "cells": [
  {
   "cell_type": "markdown",
   "metadata": {},
   "source": [
    "# IBM Ponder This - December 2024\n",
    "\n",
    "## Problem Statement\n",
    "\n",
    "Denote by $\\omega_d(n)$ the size of the set of all natural numbers between 1 and $n$ that have the digit $d$ in their usual decimal representation. For example, $\\omega_1(1456)=728$ and $\\omega_7(1456)=352$.\n",
    "\n",
    "We see that for $n=1456$, we have $\\frac{\\omega_1(n)}{n} = \\frac{1}{2}$, i.e., exactly 50% of the numbers up to 1456 contain the digit 1. For $d=7$, we have $\\frac{\\omega_7(n)}{n} = \\frac{22}{91}$.\n",
    "\n",
    "Your goal: For each $d$ between 1 and 9, find the maximum value of $n$ for which $\\frac{\\omega_d(n)}{n} = \\frac{1}{2}$.\n",
    "\n",
    "An optional goal: Find a simple formula $f(d)$ giving those maximum values for as many values of $d$ as possible.\n",
    "\n",
    "A bonus \"*\" will be given for finding the maximum value of $n$ for which $\\frac{\\omega_1(n)}{n} = \\frac{3}{4}$ (i.e., only solve the case $d=1$. but for $\\frac{3}{4}$ this time).\n",
    "\n",
    "## Solution\n",
    "\n",
    "A first observation is that the probability of finding a specific digit in a number grows as the number of digits in the number grows. Indeed, we $n$ tends to infinity, the probability of finding a specific digit tends to 1. A second observation is that the higher the digit, the longer it will take to find the solution. \n",
    "\n",
    "### Base Problem\n",
    "\n",
    "As a first step we can try to detect a pattern. We plot the proportion of digits containing the digit 9 for the first 100 million numbers. Based on the pattern and the previous two observations, we can safely assume that 100 million is an upper bound. Therefore, we can simply obtain the solution by brute-force.\n",
    "\n",
    "We also notice that the function $f(n) = 1062880d + 2(d - 1)$ gives the result for $1 \\leq d \\leq 6$."
   ]
  },
  {
   "cell_type": "code",
   "execution_count": 1,
   "metadata": {},
   "outputs": [
    {
     "data": {
      "text/plain": [
       "<matplotlib.lines.Line2D at 0x106a06b20>"
      ]
     },
     "execution_count": 1,
     "metadata": {},
     "output_type": "execute_result"
    },
    {
     "data": {
      "image/png": "[encoded data removed]",
      "text/plain": [
       "<Figure size 640x480 with 1 Axes>"
      ]
     },
     "metadata": {},
     "output_type": "display_data"
    }
   ],
   "source": [
    "import numpy as np\n",
    "import matplotlib.pyplot as plt\n",
    "\n",
    "digit = '9'\n",
    "\n",
    "cnt = 0\n",
    "total = 0\n",
    "res = []\n",
    "for i in range(1, 100000000):\n",
    "    if digit in str(i):\n",
    "        cnt += 1\n",
    "    total += 1\n",
    "    res.append(cnt / total)\n",
    "\n",
    "plt.plot(res[::1000])\n",
    "plt.axhline(0.5)"
   ]
  },
  {
   "cell_type": "code",
   "execution_count": 2,
   "metadata": {},
   "outputs": [
    {
     "name": "stdout",
     "output_type": "stream",
     "text": [
      "1 1062880\n",
      "2 2125762\n",
      "3 3188644\n",
      "4 4251526\n",
      "5 5314408\n",
      "6 6377290\n",
      "7 17006110\n",
      "8 18068992\n",
      "9 19131874\n"
     ]
    }
   ],
   "source": [
    "for digit in range(1, 10):\n",
    "    digit = str(digit)\n",
    "    cnt = 0\n",
    "    total = 0\n",
    "    res = 0\n",
    "    for i in range(1, 100000000):\n",
    "        if digit in str(i):\n",
    "            cnt += 1\n",
    "        total += 1\n",
    "        if cnt / total == 1 / 2:\n",
    "            res = i\n",
    "    print(digit, res)"
   ]
  },
  {
   "cell_type": "code",
   "execution_count": null,
   "metadata": {},
   "outputs": [],
   "source": []
  },
  {
   "cell_type": "markdown",
   "metadata": {},
   "source": [
    "### Bonus Problem\n",
    "\n",
    "For the bonus problem, we need a smarter approach. An observation is that for numbers with a given number of digits, the lowest ratio is reached when all the digits are 9. We can use this to property to set an upper bound on the number of digits. Whenever we find that the $k$-digit number containing only the digit 9 has a ratio greater than 0.75, we know that all the numbers with $k$ or more digits will have a ratio greater than 0.75.\n",
    "\n",
    "We can first create an efficient function to compute the ratio. This can be done with dynamic programming. \n",
    "\n",
    "Then, we compute the ratio for all $k$-digit numbers containing only 9 until we find the first one with a ratio greater than 0.75. This $k$ is the maximum number of digit in the answer. We know that a $(k - 1)$-digit number with all 9 has a lower ratio and a $k$-digit number has a higher ratio. Based on the previous observations, it means the first digit of the solution must be a 1 (as otherwise, the ratio for the number with $k-1$ digit would be below 0.75).\n",
    "\n",
    "Now, going from left to right, we increase the digit to the maximum such that the ratio is at most 0.75. When we reach 0.75, it means we have found the answer."
   ]
  },
  {
   "cell_type": "code",
   "execution_count": 3,
   "metadata": {},
   "outputs": [],
   "source": [
    "def count_numbers_with_digit_one(n):\n",
    "    # Convert number to string to easily access each digit\n",
    "    str_n = str(n)\n",
    "    length = len(str_n)\n",
    "\n",
    "    # dp[pos][smaller][count] where:\n",
    "    # - pos is the current position in the number we are filling\n",
    "    # - smaller is a flag indicating if the current number we are forming is already smaller than n\n",
    "    # - count is the count of numbers formed with at least one '1'\n",
    "    dp = [[[None for _ in range(2)] for _ in range(2)] for _ in range(length + 1)]\n",
    "\n",
    "    def digit_dp(pos, smaller, seen_one):\n",
    "        # Base case: If we are past the last digit\n",
    "        if pos == length:\n",
    "            return 1 if seen_one else 0\n",
    "\n",
    "        # If already computed, return the result from dp table\n",
    "        if dp[pos][smaller][seen_one] is not None:\n",
    "            return dp[pos][smaller][seen_one]\n",
    "\n",
    "        # Determine the limits of what digit we can place\n",
    "        limit = int(str_n[pos]) if not smaller else 9\n",
    "        result = 0\n",
    "\n",
    "        # Try placing each digit from 0 to the limit at current position\n",
    "        for digit in range(0, limit + 1):\n",
    "            # If digit is 0 and we have already seen a '1', it still counts\n",
    "            result += digit_dp(pos + 1,\n",
    "                               smaller or digit < limit,\n",
    "                               seen_one or digit == 1)\n",
    "\n",
    "        # Store the computed result in dp table\n",
    "        dp[pos][smaller][seen_one] = result\n",
    "        return result\n",
    "\n",
    "    # Call the DP function starting from the first digit,\n",
    "    # indicating we haven't deviated from n, and we haven't seen '1' yet\n",
    "    total_with_one = digit_dp(0, False, False)\n",
    "\n",
    "    return total_with_one\n",
    "\n",
    "\n",
    "def f(n):\n",
    "    return count_numbers_with_digit_one(n) / n\n",
    "\n",
    "\n",
    "def find_number(k, target=0.75):\n",
    "    # Initialize with the smallest k-digit number\n",
    "    num = 10**(k-1)\n",
    "\n",
    "    for i in range(k):\n",
    "        # Test increasing each digit starting from the highest place\n",
    "        while True:\n",
    "            # Increment the current digit by 1\n",
    "            new_num = num + 10**(k-i-1)\n",
    "            if new_num >= 10**k:\n",
    "                break  # Stop if the number exceeds k digits\n",
    "            if f(new_num) > target:\n",
    "                break  # Stop if the probability exceeds the target\n",
    "            num = new_num  # Update the number if under the target\n",
    "\n",
    "            # Check if the function output is exactly the target\n",
    "            if f(num) == target:\n",
    "                return num\n",
    "\n",
    "    return num"
   ]
  },
  {
   "cell_type": "code",
   "execution_count": 4,
   "metadata": {},
   "outputs": [
    {
     "name": "stdout",
     "output_type": "stream",
     "text": [
      "The answer is: 10167463313312\n"
     ]
    }
   ],
   "source": [
    "# Identify the number of digits\n",
    "ratio = 0\n",
    "k = 0\n",
    "while ratio < 3/4:\n",
    "    k += 1\n",
    "    ratio = f(int(\"9\" * k))\n",
    "\n",
    "# Find the answer\n",
    "result = find_number(k)\n",
    "print(f\"The answer is: {result}\")"
   ]
  },
  {
   "cell_type": "code",
   "execution_count": null,
   "metadata": {},
   "outputs": [],
   "source": []
  }
 ],
 "metadata": {
  "language_info": {
   "name": "python"
  }
 },
 "nbformat": 4,
 "nbformat_minor": 2
}
