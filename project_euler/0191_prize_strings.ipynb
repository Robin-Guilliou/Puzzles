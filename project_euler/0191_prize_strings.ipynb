{
 "cells": [
  {
   "cell_type": "markdown",
   "metadata": {},
   "source": [
    "# 191 - Prize Strings\n",
    "\n",
    "## Problem Statement\n",
    "\n",
    "A particular school offers cash rewards to children with good attendance and punctuality. If they are absent for three consecutive days or late on more than one occasion then they forfeit their prize.\n",
    "\n",
    "During an n-day period a trinary string is formed for each child consisting of L's (late), O's (on time), and A's (absent).\n",
    "\n",
    "Although there are eighty-one trinary strings for a 4-day period that can be formed, exactly forty-three strings would lead to a prize:\n",
    "\n",
    "<p style=\"margin-left:50px;font-family:'Courier New', monospace;\">OOOO OOOA OOOL OOAO OOAA OOAL OOLO OOLA OAOO OAOA<br />\n",
    "OAOL OAAO OAAL OALO OALA OLOO OLOA OLAO OLAA AOOO<br />\n",
    "AOOA AOOL AOAO AOAA AOAL AOLO AOLA AAOO AAOA AAOL<br />\n",
    "AALO AALA ALOO ALOA ALAO ALAA LOOO LOOA LOAO LOAA<br />\n",
    "LAOO LAOA LAAO</p>\n",
    "\n",
    "How many \"prize\" strings exist over a 30-day period?\n",
    "\n",
    "## Solution\n",
    "\n",
    "We can define eight different states:\n",
    "- 0: there is no letter in the string\n",
    "- 1: the last letter is not A and no L has been encountered\n",
    "- 2: the last letter is an A, the previous one is not an A and no L has been encountered\n",
    "- 3: the two last letters are A, the previous one is not an A and no L has been encountered\n",
    "- 4: the last letter is not an A and one L has been encountered\n",
    "- 5: the last letter is an A, the previous letter is not an A and one L has been encountered\n",
    "- 6: the two last letters are A, the previous one is not an A and one L has been encountered\n",
    "- 7: three consecutive A or two L have been encountered\n",
    "\n",
    "Initially, we start in state zero. After the first letter, we are either in state 1 (letter is O), 2 (letter is A) or 4 (letter is L). It is not possible to reach any other state from state zero. If we have seen one L, we are either in state 4, 5, 7 or 7. It is not possible to go back to a lower state because a L cannot be unseen. If we are in state 3, there are three possibilities. If the next letter is an A, we have 3 consecutive A and go to state 7. If the next letter is an O, we go back to state 1 as the last letter is not an A anymore. If the next letter is an L, we go to state 4 (last letter is not A anymore but we saw a L). Whenever we reach state 7, it is not possible to get out of it as whatever the next letters, it is not possible to get a prize.\n",
    "\n",
    "We can represent the transitions between states in a transition matrix, $A$, where $A_{i, j}$ represents the number of ways to go from state $i$ to state $j$. Each row in the matrix sums to 3 as there are three possible letters. The matrix $A$ is \n",
    "\n",
    "\\begin{equation}\n",
    "    A = \\begin{bmatrix}\n",
    "    0 & 1 & 1 & 0 & 1 & 0 & 0 & 0 \\\\\n",
    "    0 & 1 & 1 & 0 & 1 & 0 & 0 & 0 \\\\\n",
    "    0 & 1 & 0 & 1 & 1 & 0 & 0 & 0 \\\\\n",
    "    0 & 1 & 0 & 0 & 1 & 0 & 0 & 1 \\\\\n",
    "    0 & 0 & 0 & 0 & 1 & 1 & 0 & 1 \\\\\n",
    "    0 & 0 & 0 & 0 & 1 & 0 & 1 & 1 \\\\\n",
    "    0 & 0 & 0 & 0 & 1 & 0 & 0 & 2 \\\\\n",
    "    0 & 0 & 0 & 0 & 0 & 0 & 0 & 3 \\\\\n",
    "    \\end{bmatrix}\n",
    "\\end{equation}\n",
    "\n",
    "Now, we can compute $A^{30}$ and look at the last entry of the first row. This represents the number of ways to go from state 0 to state 7 in a string of length 30, i.e., the number of strings without a prize. Therefore, we can subtract this value from the total number of strings which is $3^{30}$ to obtain the number of string leading to a prize. "
   ]
  },
  {
   "cell_type": "code",
   "execution_count": 5,
   "metadata": {},
   "outputs": [
    {
     "data": {
      "text/plain": [
       "1918080160"
      ]
     },
     "execution_count": 5,
     "metadata": {},
     "output_type": "execute_result"
    }
   ],
   "source": [
    "import numpy as np\n",
    "\n",
    "matrix = np.array([\n",
    "    [0, 1, 1, 0, 1, 0, 0, 0],\n",
    "    [0, 1, 1, 0, 1, 0, 0, 0],\n",
    "    [0, 1, 0, 1, 1, 0, 0, 0],\n",
    "    [0, 1, 0, 0, 1, 0, 0, 1],\n",
    "    [0, 0, 0, 0, 1, 1, 0, 1],\n",
    "    [0, 0, 0, 0, 1, 0, 1, 1],\n",
    "    [0, 0, 0, 0, 1, 0, 0, 2],\n",
    "    [0, 0, 0, 0, 0, 0, 0, 3]\n",
    "])\n",
    "\n",
    "total_strings = 3**30\n",
    "n_strings_without_prize = np.linalg.matrix_power(matrix, 30)[0, -1]\n",
    "\n",
    "total_strings - n_strings_without_prize"
   ]
  },
  {
   "cell_type": "code",
   "execution_count": null,
   "metadata": {},
   "outputs": [],
   "source": []
  }
 ],
 "metadata": {
  "language_info": {
   "name": "python"
  }
 },
 "nbformat": 4,
 "nbformat_minor": 2
}
