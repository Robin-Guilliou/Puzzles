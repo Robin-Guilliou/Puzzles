{
 "cells": [
  {
   "cell_type": "code",
   "execution_count": 19,
   "metadata": {},
   "outputs": [
    {
     "data": {
      "text/plain": [
       "871198282"
      ]
     },
     "execution_count": 19,
     "metadata": {},
     "output_type": "execute_result"
    }
   ],
   "source": [
    "# Read file\n",
    "with open(\"0022_names.txt\",\"r\") as f:\n",
    "    s = f.read()\n",
    "\n",
    "# Get sorted list of names\n",
    "names = s.replace('\\\"', '').split(',')\n",
    "names = sorted(names)\n",
    "\n",
    "# Loop through the names\n",
    "total_score = 0\n",
    "for i, name in enumerate(names):\n",
    "    # Compute score for current name\n",
    "    curr_score = 0\n",
    "    for char in name:\n",
    "        curr_score += ord(char) - ord('A') + 1\n",
    "    # Add score of current name to total\n",
    "    total_score += (i + 1) * curr_score\n",
    "\n",
    "total_score"
   ]
  },
  {
   "cell_type": "code",
   "execution_count": null,
   "metadata": {},
   "outputs": [],
   "source": []
  }
 ],
 "metadata": {
  "language_info": {
   "name": "python"
  }
 },
 "nbformat": 4,
 "nbformat_minor": 2
}
