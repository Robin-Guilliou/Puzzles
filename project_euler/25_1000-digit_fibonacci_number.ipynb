{
 "cells": [
  {
   "cell_type": "markdown",
   "metadata": {},
   "source": [
    "# 25 - 1000-digit Fibonacci Number\n",
    "\n",
    "## Problem Statement\n",
    "\n",
    "The Fibonacci sequence is defined by the recurrence relation:\n",
    "\n",
    "$\\quad F_n = F_{n - 1} + F_{n - 2}$, where $F_1 = 1$ and $F_2 = 1$.\n",
    "\n",
    "Hence the first $12$ terms will be:\n",
    "\\begin{align}\n",
    "    F_1 &= 1\\\\\n",
    "    F_2 &= 1\\\\\n",
    "    F_3 &= 2\\\\\n",
    "    F_4 &= 3\\\\\n",
    "    F_5 &= 5\\\\\n",
    "    F_6 &= 8\\\\\n",
    "    F_7 &= 13\\\\\n",
    "    F_8 &= 21\\\\\n",
    "    F_9 &= 34\\\\\n",
    "    F_{10} &= 55\\\\\n",
    "    F_{11} &= 89\\\\\n",
    "    F_{12} &= 144\n",
    "\\end{align}\n",
    "\n",
    "The 12th term, $F_{12}$, is the first term to contain three digits.\n",
    "What is the index of the first term in the Fibonacci sequence to contain $1000$ digits?\n",
    "\n",
    "## Solution\n",
    "\n",
    "The n-th number of the Fibonacci sequence, $F_n$, can be generated using Binet's formula as\n",
    "\n",
    "\\begin{equation}\n",
    "    F_n = \\frac{\\varphi^n - \\psi^n}{\\varphi - \\psi}\n",
    "\\end{equation}\n",
    "\n",
    "where $\\varphi = \\frac{1 + \\sqrt{5}}{2}$ is the golden ratio and $psi = 1 - \\varphi$ is its conjugate.\n",
    "\n",
    "First we get an upper bound on the index of the first number with 1000 digits. Then we find the answer using a binary search. At each step we compute the Fibonacci number in the middle of our range, convert it to string and count the digits and update our range accordingly."
   ]
  },
  {
   "cell_type": "code",
   "execution_count": 74,
   "metadata": {},
   "outputs": [],
   "source": [
    "import sympy\n",
    "import numpy as np\n",
    "from scipy.constants import golden"
   ]
  },
  {
   "cell_type": "code",
   "execution_count": 71,
   "metadata": {},
   "outputs": [
    {
     "data": {
      "text/plain": [
       "4782"
      ]
     },
     "execution_count": 71,
     "metadata": {},
     "output_type": "execute_result"
    }
   ],
   "source": [
    "def binet_formula(n):\n",
    "    return (sympy.GoldenRatio**n - (1 - sympy.GoldenRatio)**n) / (sympy.GoldenRatio - (1 - sympy.GoldenRatio))\n",
    "\n",
    "def solve():\n",
    "    left = 1\n",
    "    right = 6000\n",
    "    while left < right:\n",
    "        mid = (left + right) // 2\n",
    "        n_digits = len(str(binet_formula(mid).evalf(10000)).split('.')[0])\n",
    "        if n_digits == 1000:\n",
    "            while len(str(binet_formula(mid).evalf(10000)).split('.')[0]) == 1000:\n",
    "                mid -= 1\n",
    "            return mid + 1\n",
    "        elif n_digits < 1000:\n",
    "            left = mid + 1\n",
    "        else:\n",
    "            right = mid - 1\n",
    "    return - 1\n",
    "\n",
    "solve()"
   ]
  },
  {
   "cell_type": "markdown",
   "metadata": {},
   "source": [
    "A better approach (not mine) is to realise that $F_n \\approx \\frac{\\varphi^n}{\\sqrt{5}}$ since $(1 - \\varphi)^n$ goes to zero very quickly. Then, taking the base 10 logarithm, we have\n",
    "\n",
    "\\begin{equation}\n",
    "    \\log_{10}(F_n) = n \\log_{10}(\\varphi) - \\log_{10}(\\sqrt{5})\n",
    "\\end{equation}\n",
    "\n",
    "and to have at least $k$ digits, we need to have $\\log_{10}(F_n) \\geq k - 1$.\n",
    "\n",
    "Substituting and solving for $n$, we have\n",
    "\n",
    "\\begin{equation}\n",
    "    n \\geq \\frac{1000 - 1 + \\log_{10}(\\sqrt{5})}{\\log_{10}(\\varphi)}.\n",
    "\\end{equation}\n",
    "\n",
    "Therefore the answer is easily computed as \n",
    "\n",
    "\\begin{equation}\n",
    "    n = \\left \\lceil \\frac{999 + \\frac{1}{2} \\log_{10}(5)}{\\log_{10}(\\varphi)} \\right \\rceil.\n",
    "\\end{equation}"
   ]
  },
  {
   "cell_type": "code",
   "execution_count": 75,
   "metadata": {},
   "outputs": [
    {
     "data": {
      "text/plain": [
       "4782.0"
      ]
     },
     "execution_count": 75,
     "metadata": {},
     "output_type": "execute_result"
    }
   ],
   "source": [
    "np.ceil((999 + 0.5 * np.log10(5)) / np.log10(golden))"
   ]
  },
  {
   "cell_type": "code",
   "execution_count": null,
   "metadata": {},
   "outputs": [],
   "source": []
  }
 ],
 "metadata": {
  "language_info": {
   "name": "python"
  }
 },
 "nbformat": 4,
 "nbformat_minor": 2
}
