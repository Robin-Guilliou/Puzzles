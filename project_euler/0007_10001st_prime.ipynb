{
 "cells": [
  {
   "cell_type": "markdown",
   "metadata": {},
   "source": [
    "# 7 - 10001st Prime\n",
    "\n",
    "## Problem Statement\n",
    "\n",
    "By listing the first six prime numbers: $2, 3, 5, 7, 11$, and $13$, we can see that the $6\\text{th}$ prime is $13$.\n",
    "\n",
    "What is the $10\\,001\\text{st}$ prime number?\n",
    "\n",
    "## Solution"
   ]
  },
  {
   "cell_type": "code",
   "execution_count": 4,
   "metadata": {},
   "outputs": [
    {
     "data": {
      "text/plain": [
       "104743"
      ]
     },
     "execution_count": 4,
     "metadata": {},
     "output_type": "execute_result"
    }
   ],
   "source": [
    "from sympy import nextprime\n",
    "\n",
    "i = 0\n",
    "prime = 0\n",
    "while i < 10001:\n",
    "    prime = nextprime(prime)\n",
    "    i += 1\n",
    "\n",
    "prime"
   ]
  },
  {
   "cell_type": "code",
   "execution_count": null,
   "metadata": {},
   "outputs": [],
   "source": []
  }
 ],
 "metadata": {
  "language_info": {
   "name": "python"
  }
 },
 "nbformat": 4,
 "nbformat_minor": 2
}
