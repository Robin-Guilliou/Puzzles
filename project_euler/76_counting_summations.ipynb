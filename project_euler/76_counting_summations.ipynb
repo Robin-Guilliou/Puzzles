{
 "cells": [
  {
   "cell_type": "markdown",
   "metadata": {},
   "source": [
    "# 76 - Counting Summations\n",
    "\n",
    "## Problem Statement\n",
    "\n",
    "It is possible to write five as a sum in exactly six different ways:\n",
    "\n",
    "\\begin{align}\n",
    "&4 + 1\\\\\n",
    "&3 + 2\\\\\n",
    "&3 + 1 + 1\\\\\n",
    "&2 + 2 + 1\\\\\n",
    "&2 + 1 + 1 + 1\\\\\n",
    "&1 + 1 + 1 + 1 + 1\n",
    "\\end{align}\n",
    "\n",
    "How many different ways can one hundred be written as a sum of at least two positive integers?\n",
    "\n",
    "## Solution\n",
    "\n",
    "We can solve this using dynamic programming. For each base integer, we check in how many ways we can create each total amount from 1 to 100. For a given base integer, the number of ways to make some amount is equal to the number of ways to make the amount minus the base integer."
   ]
  },
  {
   "cell_type": "code",
   "execution_count": 1,
   "metadata": {},
   "outputs": [
    {
     "data": {
      "text/plain": [
       "190569291"
      ]
     },
     "execution_count": 1,
     "metadata": {},
     "output_type": "execute_result"
    }
   ],
   "source": [
    "def counting_summations(n):\n",
    "    dp = [0] * (n + 1)\n",
    "    dp[0] = 1\n",
    "    for i in range(1, n):\n",
    "        for j in range(i, n+1):\n",
    "            dp[j] += dp[j - i]\n",
    "    return dp[-1]\n",
    "\n",
    "n = 100\n",
    "counting_summations(n)"
   ]
  },
  {
   "cell_type": "code",
   "execution_count": null,
   "metadata": {},
   "outputs": [],
   "source": []
  }
 ],
 "metadata": {
  "language_info": {
   "name": "python"
  }
 },
 "nbformat": 4,
 "nbformat_minor": 2
}
