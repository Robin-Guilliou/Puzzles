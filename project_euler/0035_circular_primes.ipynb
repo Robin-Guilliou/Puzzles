{
 "cells": [
  {
   "cell_type": "markdown",
   "metadata": {},
   "source": [
    "# 35 - Circular Primes\n",
    "\n",
    "## Problem Statement\n",
    "\n",
    "The number, $197$, is called a circular prime because all rotations of the digits: $197$, $971$, and $719$, are themselves prime.\n",
    "\n",
    "There are thirteen such primes below $100$: $2, 3, 5, 7, 11, 13, 17, 31, 37, 71, 73, 79$, and $97$.\n",
    "\n",
    "How many circular primes are there below one million?\n",
    "\n",
    "## Solution\n",
    "\n",
    "We loop through each prime (and keep them in a hashset for $O(1)$ lookup), convert as string and concatenate with itself then we check the condition on the substrings."
   ]
  },
  {
   "cell_type": "code",
   "execution_count": 2,
   "metadata": {},
   "outputs": [
    {
     "data": {
      "text/plain": [
       "55"
      ]
     },
     "execution_count": 2,
     "metadata": {},
     "output_type": "execute_result"
    }
   ],
   "source": [
    "from sympy import primerange\n",
    "\n",
    "primes = set(primerange(1000000))\n",
    "count = len(primes)\n",
    "for prime in primes:\n",
    "    s = str(prime)\n",
    "    n = len(s)\n",
    "    s *= 2\n",
    "    i = 0\n",
    "    while i < n:\n",
    "        if int(s[i:i+n]) not in primes:\n",
    "            count -= 1\n",
    "            break\n",
    "        i += 1\n",
    "\n",
    "count"
   ]
  },
  {
   "cell_type": "code",
   "execution_count": null,
   "metadata": {},
   "outputs": [],
   "source": []
  }
 ],
 "metadata": {
  "language_info": {
   "name": "python"
  }
 },
 "nbformat": 4,
 "nbformat_minor": 2
}
