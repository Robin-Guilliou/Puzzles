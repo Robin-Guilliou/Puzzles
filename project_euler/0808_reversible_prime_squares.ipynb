{
 "cells": [
  {
   "cell_type": "markdown",
   "metadata": {},
   "source": [
    "# 808 - Reversible Prime Squares\n",
    "\n",
    "## Problem Statement\n",
    "\n",
    "Both $169$ and $961$ are the square of a prime. $169$ is the reverse of $961$.\n",
    "\n",
    "We call a number a <dfn>reversible prime square</dfn> if:\n",
    "\n",
    "<ol>\n",
    "<li>It is not a palindrome, and</li>\n",
    "<li>It is the square of a prime, and</li>\n",
    "<li>Its reverse is also the square of a prime.</li>\n",
    "</ol>\n",
    "\n",
    "$169$ and $961$ are not palindromes, so both are reversible prime squares.\n",
    "\n",
    "Find the sum of the first $50$ reversible prime squares.\n",
    "\n",
    "## Solution\n",
    "\n",
    "The problem can be solved with brute force. We loop through the primes, compute the square, reverse the square and check if its square root is a prime and if the square is not a palindrome. When it is true, we increment a counter by one and the sum add the current square to a cumulative sum. Once we have 50 squares, the sum contains the result."
   ]
  },
  {
   "cell_type": "code",
   "execution_count": 7,
   "metadata": {},
   "outputs": [
    {
     "data": {
      "text/plain": [
       "3807504276997394"
      ]
     },
     "execution_count": 7,
     "metadata": {},
     "output_type": "execute_result"
    }
   ],
   "source": [
    "import sympy\n",
    "import math\n",
    "from numba import njit\n",
    "\n",
    "@njit\n",
    "def reverse_integer(x):\n",
    "    reversed_num = 0\n",
    "    sign = -1 if x < 0 else 1\n",
    "    x = abs(x)\n",
    "    while x != 0:\n",
    "        pop = x % 10\n",
    "        x //= 10\n",
    "        reversed_num = reversed_num * 10 + pop\n",
    "    return sign * reversed_num\n",
    "\n",
    "count = 0\n",
    "curr_sum = 0\n",
    "for prime in sympy.sieve:\n",
    "    square = prime**2\n",
    "    reverse_square = reverse_integer(square)\n",
    "    reverse_prime = math.isqrt(reverse_square)\n",
    "    if reverse_prime*reverse_prime == reverse_square and reverse_prime in sympy.sieve and square != reverse_square:\n",
    "        count += 1\n",
    "        curr_sum += square\n",
    "        if count == 50:\n",
    "            break\n",
    "\n",
    "curr_sum"
   ]
  },
  {
   "cell_type": "code",
   "execution_count": null,
   "metadata": {},
   "outputs": [],
   "source": []
  }
 ],
 "metadata": {
  "language_info": {
   "name": "python"
  }
 },
 "nbformat": 4,
 "nbformat_minor": 2
}
