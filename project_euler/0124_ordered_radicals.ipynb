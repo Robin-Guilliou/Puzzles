{
 "cells": [
  {
   "cell_type": "markdown",
   "metadata": {},
   "source": [
    "# 124 - Ordered Radicals\n",
    "\n",
    "## Problem Statement\n",
    "\n",
    "The radical of $n$, $\\operatorname{rad}(n)$, is the product of the distinct prime factors of $n$. For example, $504 = 2^3 \\times 3^2 \\times 7$, so $\\operatorname{rad}(504) = 2 \\times 3 \\times 7 = 42$.\n",
    "\n",
    "If we calculate $\\operatorname{rad}(n)$ for $1 \\le n \\le 10$, then sort them on $\\operatorname{rad}(n)$, and sorting on $n$ if the radical values are equal, we get:\n",
    "\n",
    "<table class=\"center\">\n",
    "<tr>\n",
    "   <th colspan=\"2\">Unsorted</th>\n",
    "   <td class=\"w25\"> </td>\n",
    "   <th colspan=\"3\">Sorted</th>\n",
    "</tr>\n",
    "<tr>\n",
    "   <th class=\"w50\"><i>n</i></th>\n",
    "   <th class=\"w50\">rad(<i>n</i>)</th>\n",
    "   <td> </td>\n",
    "   <th class=\"w50\"><i>n</i></th>\n",
    "   <th class=\"w50\">rad(<i>n</i>)</th>\n",
    "   <th class=\"w50\">k</th>\n",
    "</tr>\n",
    "<tr>\n",
    "   <td>1</td><td>1</td>\n",
    "   <td> </td>\n",
    "   <td>1</td><td>1</td><td>1</td>\n",
    "</tr>\n",
    "<tr>\n",
    "   <td>2</td><td>2</td>\n",
    "   <td> </td>\n",
    "   <td>2</td><td>2</td><td>2</td>\n",
    "</tr>\n",
    "<tr>\n",
    "   <td>3</td><td>3</td>\n",
    "   <td> </td>\n",
    "   <td>4</td><td>2</td><td>3</td>\n",
    "</tr>\n",
    "<tr>\n",
    "   <td>4</td><td>2</td>\n",
    "   <td> </td>\n",
    "   <td>8</td><td>2</td><td>4</td>\n",
    "</tr>\n",
    "<tr>\n",
    "   <td>5</td><td>5</td>\n",
    "   <td> </td>\n",
    "   <td>3</td><td>3</td><td>5</td>\n",
    "</tr>\n",
    "<tr>\n",
    "   <td>6</td><td>6</td>\n",
    "   <td> </td>\n",
    "   <td>9</td><td>3</td><td>6</td>\n",
    "</tr>\n",
    "<tr>\n",
    "   <td>7</td><td>7</td>\n",
    "   <td> </td>\n",
    "   <td>5</td><td>5</td><td>7</td>\n",
    "</tr>\n",
    "<tr>\n",
    "   <td>8</td><td>2</td>\n",
    "   <td> </td>\n",
    "   <td>6</td><td>6</td><td>8</td>\n",
    "</tr>\n",
    "<tr>\n",
    "   <td>9</td><td>3</td>\n",
    "   <td> </td>\n",
    "   <td>7</td><td>7</td><td>9</td>\n",
    "</tr>\n",
    "<tr>\n",
    "   <td>10</td><td>10</td>\n",
    "   <td> </td>\n",
    "   <td>10</td><td>10</td><td>10</td>\n",
    "</tr>\n",
    "</table>\n",
    "\n",
    "Let $E(k)$ be the $k$-th element in the sorted $n$ column; for example, $E(4) = 8$ and $E(6) = 9$.\n",
    "\n",
    "If $\\operatorname{rad}(n)$ is sorted for $1 \\le n \\le 100000$, find $E(10000)$.\n",
    "\n",
    "## Solution\n",
    "\n",
    "This one is very straightforward. We create a list containing the 100000 pairs $(\\operatorname{rad}(n), n)$. Then we sort the list and return the $n$ of the 10000-th element."
   ]
  },
  {
   "cell_type": "code",
   "execution_count": 1,
   "metadata": {},
   "outputs": [
    {
     "data": {
      "text/plain": [
       "21417"
      ]
     },
     "execution_count": 1,
     "metadata": {},
     "output_type": "execute_result"
    }
   ],
   "source": [
    "import numpy as np\n",
    "from sympy import primefactors\n",
    "\n",
    "arr = []\n",
    "for n in range(1, 100001):\n",
    "    arr.append((np.product(primefactors(n)), n))\n",
    "\n",
    "arr = sorted(arr)\n",
    "\n",
    "arr[9999][1]"
   ]
  },
  {
   "cell_type": "code",
   "execution_count": null,
   "metadata": {},
   "outputs": [],
   "source": []
  }
 ],
 "metadata": {
  "language_info": {
   "name": "python"
  }
 },
 "nbformat": 4,
 "nbformat_minor": 2
}
