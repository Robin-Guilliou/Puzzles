{
 "cells": [
  {
   "cell_type": "markdown",
   "metadata": {},
   "source": [
    "# 411 - Uphill Paths\n",
    "\n",
    "## Problem Statement\n",
    "\n",
    "Let $n$ be a positive integer. Suppose there are stations at the coordinates $(x, y) = (2^i \\bmod n, 3^i \\bmod n)$ for $0 \\leq i \\leq 2n$. We will consider stations with the same coordinates as the same station.\n",
    "\n",
    "We wish to form a path from $(0, 0)$ to $(n, n)$ such that the $x$ and $y$ coordinates never decrease.<br>\n",
    "Let $S(n)$ be the maximum number of stations such a path can pass through.\n",
    "\n",
    "For example, if $n = 22$, there are $11$ distinct stations, and a valid path can pass through at most $5$ stations. Therefore, $S(22) = 5$.\n",
    "\n",
    "The case is illustrated below, with an example of an optimal path:\n",
    "\n",
    "<div class=\"center\">\n",
    "    <img src=\"images/0411_longpath.png\" alt=\"png411.png\">\n",
    "</div>\n",
    "\n",
    "It can also be verified that $S(123) = 14$ and $S(10000) = 48$.\n",
    "\n",
    "Find $\\sum S(k^5)$ for $1 \\leq k \\leq 30$.\n",
    "\n",
    "\n",
    "## Solution\n",
    "\n",
    "There are two challenges in this problem. The first one is to generate all the points. The implementation below does not make any attempt to exploit patterns in the station generation so this is the main bottleneck. Here we simply generate the points and add them to a set to deal with the repeated stations. In order to speed up the generation, we use a numba compiled functions (including for exponentiation by squaring). The second challenge is to find the maximum number of stations that can be visited. This can be solved using a 2-dimensional version of the classical [Longest Increasing Subsequence (LIS)](https://leetcode.com/problems/longest-increasing-subsequence/editorial/) problem. We first sort the points based on the $x$-values then $y$-values and apply LIS on the $y$-values. Efficient LIS implementation is $O(n \\log n)$.\n",
    "\n",
    "One thing that requires special attention is that there should not be any station at $(0, 0)$. However, when setting $k = 1$, on such station is created. Therefore, we need to subtract one from the total."
   ]
  },
  {
   "cell_type": "code",
   "execution_count": 2,
   "metadata": {},
   "outputs": [],
   "source": [
    "import bisect\n",
    "from numba import njit\n",
    "\n",
    "@njit\n",
    "def modular_exponentiation(base, exponent, mod):\n",
    "    result = 1\n",
    "    current_base = base % mod  # Reduce base modulo first to keep numbers small\n",
    "\n",
    "    while exponent > 0:\n",
    "        if exponent % 2 == 1:  # If exponent is odd, multiply the current result by the base\n",
    "            result = (result * current_base) % mod\n",
    "        current_base = (current_base * current_base) % mod  # Square the base\n",
    "        exponent //= 2  # Divide the exponent by 2\n",
    "\n",
    "    return result\n",
    "\n",
    "\n",
    "@njit\n",
    "def generate_stations(n):\n",
    "    stations = set()\n",
    "    for i in range(2 * n + 1):\n",
    "        stations.add((modular_exponentiation(2, i, n), modular_exponentiation(3, i, n)))\n",
    "    return stations\n",
    "\n",
    "\n",
    "def lis(nums):\n",
    "    sub = []\n",
    "    for num in nums:\n",
    "        i = bisect.bisect_right(sub, num)\n",
    "        if i == len(sub):\n",
    "            sub.append(num)\n",
    "        else:\n",
    "            sub[i] = num\n",
    "    return len(sub)"
   ]
  },
  {
   "cell_type": "code",
   "execution_count": 3,
   "metadata": {},
   "outputs": [],
   "source": [
    "res = -1  ## Subtract 1 to account for the (0, 0) station generated when k=1\n",
    "for k in range(1, 31):\n",
    "    stations = generate_stations(k**5)\n",
    "    stations = sorted(stations)\n",
    "    ys = [stations[i][1] for i in range(len(stations))]\n",
    "    res += lis(ys)"
   ]
  },
  {
   "cell_type": "code",
   "execution_count": null,
   "metadata": {},
   "outputs": [],
   "source": []
  }
 ],
 "metadata": {
  "language_info": {
   "name": "python"
  }
 },
 "nbformat": 4,
 "nbformat_minor": 2
}
