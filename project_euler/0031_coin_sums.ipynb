{
 "cells": [
  {
   "cell_type": "markdown",
   "metadata": {},
   "source": [
    "# 31 - Coin Sums\n",
    "\n",
    "## Problem Statement\n",
    "\n",
    "In the United Kingdom the currency is made up of pound (£) and pence (p). There are eight coins in general circulation:<br>\n",
    "<blockquote>1p, 2p, 5p, 10p, 20p, 50p, £1 (100p), and £2 (200p).</blockquote>\n",
    "\n",
    "It is possible to make £2 in the following way:<br>\n",
    "<blockquote>1×£1 + 1×50p + 2×20p + 1×5p + 1×2p + 3×1p</blockquote>\n",
    "\n",
    "How many different ways can £2 be made using any number of coins?\n",
    "\n",
    "## Solution\n",
    "\n",
    "For this problem we use dynamic programming. We first initialize an array, `dp` of length 201 (our target is 200p) where `dp[i]` represents the number of ways to make value `i`. We then set an outer loop to loop over the coins and an inner loop to loop over all the potential amouts. If an amout value is equal to the coin value, there is one additional way to make this amount (using this single coin). If the amount is different, we can make it by using the current coin on top of all the ways to produce the amount less the value of the coin. In this case, the number of ways to make the current amount is increased by the number of ways to make the current amount less the value of the coin."
   ]
  },
  {
   "cell_type": "code",
   "execution_count": 1,
   "metadata": {},
   "outputs": [
    {
     "data": {
      "text/plain": [
       "73682"
      ]
     },
     "execution_count": 1,
     "metadata": {},
     "output_type": "execute_result"
    }
   ],
   "source": [
    "coins = [1, 2, 5, 10, 20, 50, 100, 200]\n",
    "target = 200\n",
    "\n",
    "dp = [0] * (target + 1)\n",
    "dp[0] = 1\n",
    "\n",
    "for coin in coins:\n",
    "    for i in range(coin, target + 1):\n",
    "        dp[i] += dp[i - coin]\n",
    "dp[-1]"
   ]
  },
  {
   "cell_type": "code",
   "execution_count": null,
   "metadata": {},
   "outputs": [],
   "source": []
  }
 ],
 "metadata": {
  "language_info": {
   "name": "python"
  }
 },
 "nbformat": 4,
 "nbformat_minor": 2
}
