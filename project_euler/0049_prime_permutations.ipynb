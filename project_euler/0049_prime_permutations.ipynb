{
 "cells": [
  {
   "cell_type": "markdown",
   "metadata": {},
   "source": [
    "# 49 - Prime Permutations\n",
    "\n",
    "## Problem Statement\n",
    "\n",
    "The arithmetic sequence, $1487, 4817, 8147$, in which each of the terms increases by $3330$, is unusual in two ways: (i) each of the three terms are prime, and, (ii) each of the $4$-digit numbers are permutations of one another.\n",
    "There are no arithmetic sequences made up of three $1$-, $2$-, or $3$-digit primes, exhibiting this property, but there is one other $4$-digit increasing sequence.\n",
    "What $12$-digit number do you form by concatenating the three terms in this sequence?\n",
    "\n",
    "## Solution\n",
    "\n",
    "We generate all the primes in the rate. Then for each pair of primes, if the digits can be permuted, we compute the difference and deduce the third number. If the third is prime and also its digits are the same as for the previous two numbers, we have found the answer. Note that we also skip the know solution."
   ]
  },
  {
   "cell_type": "code",
   "execution_count": 1,
   "metadata": {},
   "outputs": [
    {
     "data": {
      "text/plain": [
       "'296962999629'"
      ]
     },
     "execution_count": 1,
     "metadata": {},
     "output_type": "execute_result"
    }
   ],
   "source": [
    "import sympy as sp\n",
    "\n",
    "primes = list(sp.primerange(1000, 10000))\n",
    "primes_set = set(primes)\n",
    "\n",
    "res = None\n",
    "for i in range(len(primes)-2):\n",
    "    if primes[i] == 1487:\n",
    "        continue\n",
    "    for j in range(i+1, len(primes)-1):\n",
    "        target = 2 * primes[j] - primes[i]\n",
    "        if not sorted(str(primes[i])) == sorted(str(primes[j])):\n",
    "            continue\n",
    "        if target in primes_set:\n",
    "            if sorted(str(primes[i])) == sorted(str(target)):\n",
    "                res = str(primes[i]) + str(primes[j]) + str(target)\n",
    "                break\n",
    "    if res:\n",
    "        break\n",
    "\n",
    "res"
   ]
  },
  {
   "cell_type": "code",
   "execution_count": null,
   "metadata": {},
   "outputs": [],
   "source": []
  }
 ],
 "metadata": {
  "language_info": {
   "name": "python"
  }
 },
 "nbformat": 4,
 "nbformat_minor": 2
}
