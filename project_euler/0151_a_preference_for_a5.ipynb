{
 "cells": [
  {
   "cell_type": "markdown",
   "metadata": {},
   "source": [
    "# 151 - A preference for A5\n",
    "\n",
    "## Problem Statement\n",
    "\n",
    "A printing shop runs 16 batches (jobs) every week and each batch requires a sheet of special colour-proofing paper of size A5.\n",
    "\n",
    "Every Monday morning, the supervisor opens a new envelope, containing a large sheet of the special paper with size A1.\n",
    "\n",
    "The supervisor proceeds to cut it in half, thus getting two sheets of size A2. Then one of the sheets is cut in half to get two sheets of size A3 and so on until an A5-size sheet is obtained, which is needed for the first batch of the week.\n",
    "\n",
    "All the unused sheets are placed back in the envelope.\n",
    "\n",
    "<div class=\"center\"><img src=\"images/0151.png\" style=\"background-color: white;\" class=\"dark_img\" alt=\"\"></div>\n",
    "\n",
    "At the beginning of each subsequent batch, the supervisor takes from the envelope one sheet of paper at random. If it is of size A5, then it is used. If it is larger, then the 'cut-in-half' procedure is repeated until an A5-size sheet is obtained, and any remaining sheets are always placed back in the envelope.\n",
    "\n",
    "Excluding the first and last batch of the week, find the expected number of times (during each week) that the supervisor finds a single sheet of paper in the envelope.\n",
    "\n",
    "Give your answer rounded to six decimal places using the format x.xxxxxx .\n",
    "\n",
    "## Solution\n",
    "\n",
    "We solve this problem with top-down dynamic programming. We represent the current state with a tuple of size 4 where the first value is the number of A2 sheets in the enveloppe, the second value is the number of A3 and so on. The probablity of selecting one type of sheet is the number of sheets of this type divided by the total number of sheets. When a sheet type is selected, this type is reduced by one and all the types to its right are increased by 1. Whenever there is only one sheet, we add one to the result of the current recursion before going to the next states (unless if there is only one A5 sheet)."
   ]
  },
  {
   "cell_type": "code",
   "execution_count": 3,
   "metadata": {},
   "outputs": [
    {
     "data": {
      "text/plain": [
       "0.464399"
      ]
     },
     "execution_count": 3,
     "metadata": {},
     "output_type": "execute_result"
    }
   ],
   "source": [
    "from functools import cache\n",
    "\n",
    "@cache\n",
    "def dp(x):\n",
    "    # [A2, A3, A4, A5]\n",
    "    if x == (0, 0, 0, 1):\n",
    "        return 0\n",
    "    total = sum(x)\n",
    "    res = int(total == 1)\n",
    "    if x[0] == 1:\n",
    "        res += 1/total * dp((0, x[1] + 1, x[2] + 1, x[3] + 1))\n",
    "    if x[1] >= 1:\n",
    "        res += x[1]/total * dp((x[0], x[1] - 1, x[2] + 1, x[3] + 1))\n",
    "    if x[2] >= 1:\n",
    "        res += x[2]/total * dp((x[0], x[1], x[2] - 1, x[3] + 1))\n",
    "    if x[3] >= 1:\n",
    "        res += x[3]/total * dp((x[0], x[1], x[2], x[3] - 1))\n",
    "    return res\n",
    "\n",
    "round(dp((1, 1, 1, 1)), 6)"
   ]
  },
  {
   "cell_type": "code",
   "execution_count": null,
   "metadata": {},
   "outputs": [],
   "source": []
  }
 ],
 "metadata": {
  "language_info": {
   "name": "python"
  }
 },
 "nbformat": 4,
 "nbformat_minor": 2
}
