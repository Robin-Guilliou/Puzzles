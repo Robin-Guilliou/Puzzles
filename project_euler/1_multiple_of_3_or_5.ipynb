{
 "cells": [
  {
   "cell_type": "markdown",
   "metadata": {},
   "source": [
    "# 1 - Multiples of 3 or 5\n",
    "\n",
    "## Problem Statement\n",
    "\n",
    "If we list all the natural numbers below $10$ that are multiples of $3$ or $5$, we get $3, 5, 6$ and $9$. The sum of these multiples is $23$.\n",
    "\n",
    "Find the sum of all the multiples of $3$ or $5$ below $1000$.\n",
    "\n",
    "## Solution\n",
    "\n",
    "Given the small number of values, we could simply generate the first 999 positive integers and sum those that are divisible by 3 or 5 (or other variants generating only multiples of 3 and 5). However, there is a more elegant $O(1)$ solution.\n",
    "\n",
    "Let $Y_x$ be the number of integers below $n$ that are divisible by $x$. We have\n",
    "\n",
    "\\begin{equation}\n",
    "    Y_x = \\left \\lfloor \\frac{n - 1}{x} \\right \\rfloor\n",
    "\\end{equation}\n",
    "\n",
    "and the sum of the $Y_x$ integers divisible by $x$, $S_x$, is given by\n",
    "\n",
    "\\begin{equation}\n",
    "    S_x = x(1 + 2 + \\cdots + Y_x) = x \\sum_{i = 1}^{Y_x} i = x \\frac{Y_x(Y_x + 1)}{2}.\n",
    "\\end{equation}\n",
    "\n",
    "It is now straightforward to obtain the solution. We simply need to sum $S_3$ and $S_5$ without forgetting to subtract $S_{15}$ to avoid double counting integers that are divisible both by 3 and 5. Our final answer is $S_3 + S_5 - S_{15}$.\n",
    "\n"
   ]
  },
  {
   "cell_type": "code",
   "execution_count": null,
   "metadata": {},
   "outputs": [],
   "source": [
    "def sum_integers(n):\n",
    "    return (n * (n + 1)) // 2\n",
    "\n",
    "def get_sum_multiples_3_to_5_below_n(n):\n",
    "    number_of_five = (n - 1) // 5\n",
    "    number_of_three = (n - 1) // 3\n",
    "    number_of_fifteen = (n - 1) // 15\n",
    "    return 3 * sum_integers(number_of_three) + 5 * sum_integers(number_of_five) - 15 * sum_integers(number_of_fifteen)"
   ]
  },
  {
   "cell_type": "code",
   "execution_count": null,
   "metadata": {},
   "outputs": [],
   "source": [
    "get_sum_multiples_3_to_5_below_n(1000)"
   ]
  },
  {
   "cell_type": "code",
   "execution_count": null,
   "metadata": {},
   "outputs": [],
   "source": []
  }
 ],
 "metadata": {
  "language_info": {
   "name": "python"
  }
 },
 "nbformat": 4,
 "nbformat_minor": 2
}
