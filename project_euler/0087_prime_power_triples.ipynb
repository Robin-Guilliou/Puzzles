{
 "cells": [
  {
   "cell_type": "markdown",
   "metadata": {},
   "source": [
    "# 87 - Prime Power Triples\n",
    "\n",
    "## Problem Statement\n",
    "\n",
    "The smallest number expressible as the sum of a prime square, prime cube, and prime fourth power is $28$. In fact, there are exactly four numbers below fifty that can be expressed in such a way:\n",
    "\n",
    "\\begin{align}\n",
    "28 &= 2^2 + 2^3 + 2^4\\\\\n",
    "33 &= 3^2 + 2^3 + 2^4\\\\\n",
    "49 &= 5^2 + 2^3 + 2^4\\\\\n",
    "47 &= 2^2 + 3^3 + 2^4\n",
    "\\end{align}\n",
    "\n",
    "How many numbers below fifty million can be expressed as the sum of a prime square, prime cube, and prime fourth power?\n",
    "\n",
    "## Solution\n",
    "\n",
    "First we generate all the prime numbers up to $5000\\sqrt{2}$ (as any prime above this will be more than the limit when squared). \n",
    "\n",
    "Then we have three nested loops (one for square, one for cube and one for power of four) that go through all the primes and add them. We record each prime found in a set (to avoid duplicates). We add some early stopping conditions when the current number gets above the limit.\n",
    "\n",
    "Finally, the answer is given by counting the number of values in the set."
   ]
  },
  {
   "cell_type": "code",
   "execution_count": 1,
   "metadata": {},
   "outputs": [
    {
     "data": {
      "text/plain": [
       "1097343"
      ]
     },
     "execution_count": 1,
     "metadata": {},
     "output_type": "execute_result"
    }
   ],
   "source": [
    "import sympy\n",
    "import math\n",
    "\n",
    "primes = list(sympy.primerange(int(math.sqrt(50000000)) + 1))\n",
    "\n",
    "res = set()\n",
    "limit = 50 * 10**6\n",
    "for prime in primes:\n",
    "    for prime2 in primes:\n",
    "        curr = prime**2 + prime2**3\n",
    "        if curr > limit:\n",
    "            break\n",
    "        for prime3 in primes:\n",
    "            curr2 = curr + prime3**4\n",
    "            if curr2 > limit:\n",
    "                break\n",
    "            res.add(curr2)\n",
    "\n",
    "len(res)"
   ]
  },
  {
   "cell_type": "code",
   "execution_count": null,
   "metadata": {},
   "outputs": [],
   "source": []
  }
 ],
 "metadata": {
  "language_info": {
   "name": "python"
  }
 },
 "nbformat": 4,
 "nbformat_minor": 2
}
