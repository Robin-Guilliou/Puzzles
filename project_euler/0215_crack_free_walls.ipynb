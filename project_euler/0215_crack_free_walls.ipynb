{
 "cells": [
  {
   "cell_type": "markdown",
   "metadata": {},
   "source": [
    "# 215 - Crack-free Walls\n",
    "\n",
    "## Problem Statement\n",
    "\n",
    "Consider the problem of building a wall out of $2 \\times 1$ and $3 \\times 1$ bricks ($\\text{horizontal} \\times \\text{vertical}$ dimensions) such that, for extra strength, the gaps between horizontally-adjacent bricks never line up in consecutive layers, i.e. never form a \"running crack\".\n",
    "\n",
    "For example, the following $9 \\times 3$ wall is not acceptable due to the running crack shown in red:\n",
    "\n",
    "<div class=\"center\">\n",
    "<img src=\"images/0215_crackfree.gif\" style=\"background-color: white;\" alt=\"0215_crackfree\">\n",
    "</div>\n",
    "\n",
    "There are eight ways of forming a crack-free $9 \\times 3$ wall, written $W(9,3) = 8$.\n",
    "\n",
    "Calculate $W(32,10)$.\n",
    "\n",
    "## Solution\n",
    "\n",
    "We generate all the possible combinations walls of unit height using a simple recursive function. Then for each combination, we check the number of other combinations that are compatible. For a given combination at a given layer, we sum the number of configurations leading to compatible combinations at the previous layer. "
   ]
  },
  {
   "cell_type": "code",
   "execution_count": 1,
   "metadata": {},
   "outputs": [],
   "source": [
    "from collections import defaultdict\n",
    "from functools import cache\n",
    "import numpy as np\n",
    "from numba import njit"
   ]
  },
  {
   "cell_type": "code",
   "execution_count": 2,
   "metadata": {},
   "outputs": [],
   "source": [
    "solutions = []\n",
    "n = 32\n",
    "m = 10\n",
    "\n",
    "def generate_solutions(solution):\n",
    "    if sum(solution) == n:\n",
    "        solutions.append(np.cumsum(solution.copy()))\n",
    "    elif sum(solution) > n:\n",
    "        return\n",
    "    solution.append(2)\n",
    "    generate_solutions(solution)\n",
    "    solution.pop()\n",
    "    solution.append(3)\n",
    "    generate_solutions(solution)\n",
    "    solution.pop()\n",
    "\n",
    "generate_solutions([])"
   ]
  },
  {
   "cell_type": "code",
   "execution_count": 3,
   "metadata": {},
   "outputs": [],
   "source": [
    "@njit\n",
    "def check_compatibility_nb(arr1, arr2):\n",
    "    i = 0\n",
    "    j = 0\n",
    "    while i < len(arr1) - 1 and j < len(arr2) - 1:\n",
    "        if arr1[i] == arr2[j]:\n",
    "            return False\n",
    "        elif arr1[i] < arr2[j]:\n",
    "            i += 1\n",
    "        else:\n",
    "            j += 1\n",
    "    return True\n",
    "\n",
    "\n",
    "@cache\n",
    "def check_compatibility(i, j):\n",
    "    return check_compatibility_nb(solutions[i], solutions[j])\n",
    "\n",
    "\n",
    "mapping = {}\n",
    "for sol in solutions:\n",
    "    mapping[tuple(sol)] = 1\n",
    "\n",
    "for _ in range(m-1):\n",
    "    prev_mapping = mapping\n",
    "    mapping = defaultdict(int)\n",
    "    for i in range(len(solutions) - 1):\n",
    "        for j in range(i + 1, len(solutions)):\n",
    "            if check_compatibility(i, j):\n",
    "                mapping[tuple(solutions[i])] += prev_mapping[tuple(solutions[j])]\n",
    "                mapping[tuple(solutions[j])] += prev_mapping[tuple(solutions[i])]\n"
   ]
  },
  {
   "cell_type": "code",
   "execution_count": 4,
   "metadata": {},
   "outputs": [
    {
     "data": {
      "text/plain": [
       "806844323190414"
      ]
     },
     "execution_count": 4,
     "metadata": {},
     "output_type": "execute_result"
    }
   ],
   "source": [
    "sum(mapping.values())"
   ]
  },
  {
   "cell_type": "code",
   "execution_count": null,
   "metadata": {},
   "outputs": [],
   "source": []
  }
 ],
 "metadata": {
  "language_info": {
   "name": "python"
  }
 },
 "nbformat": 4,
 "nbformat_minor": 2
}
