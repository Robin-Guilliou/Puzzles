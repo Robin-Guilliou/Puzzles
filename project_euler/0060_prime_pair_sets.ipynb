{
 "cells": [
  {
   "cell_type": "markdown",
   "metadata": {},
   "source": [
    "# 60 - Prime Pair Sets\n",
    "\n",
    "## Problem Statement\n",
    "\n",
    "The primes $3$, $7$, $109$, and $673$, are quite remarkable. By taking any two primes and concatenating them in any order the result will always be prime. For example, taking $7$ and $109$, both $7109$ and $1097$ are prime. The sum of these four primes, $792$, represents the lowest sum for a set of four primes with this property.\n",
    "\n",
    "Find the lowest sum for a set of five primes for which any two primes concatenate to produce another prime.\n",
    "\n",
    "## Solution\n",
    "\n",
    "This is quite a brute force solution. We first generate all the primes up to some upper bound (here 30000 was chosen arbitrarily). Then we process those prime numbers in order. Every time, we create a new set containing this prime number. We also check all the previous sets. If all the numbers in a previous sets can be concatenated with the current prime and give a prime number, we create a new set where the current prime is added to the previous set. As soon as we have a set of length 5, we compute the sum of those 5 numbers."
   ]
  },
  {
   "cell_type": "code",
   "execution_count": 1,
   "metadata": {},
   "outputs": [
    {
     "data": {
      "text/plain": [
       "26033"
      ]
     },
     "execution_count": 1,
     "metadata": {},
     "output_type": "execute_result"
    }
   ],
   "source": [
    "import sympy\n",
    "\n",
    "def concatenate_numbers(a, b):\n",
    "    return int(str(a) + str(b))\n",
    "\n",
    "sets = []\n",
    "primes = sympy.primerange(30000)\n",
    "\n",
    "for prime in primes:\n",
    "    finished = False\n",
    "    for s in sets:\n",
    "        valid = True\n",
    "        for num in s:\n",
    "            if not sympy.isprime(concatenate_numbers(prime, num)) or not sympy.isprime(concatenate_numbers(num, prime)):\n",
    "                valid = False\n",
    "                break\n",
    "        if valid:\n",
    "            new_s = s.copy()\n",
    "            new_s.add(prime)\n",
    "            if len(new_s) == 5:\n",
    "                finished = True\n",
    "                break\n",
    "            sets.append(new_s)\n",
    "    sets.append({prime})\n",
    "    if finished:\n",
    "        break\n",
    "\n",
    "sum(new_s)"
   ]
  },
  {
   "cell_type": "code",
   "execution_count": null,
   "metadata": {},
   "outputs": [],
   "source": []
  }
 ],
 "metadata": {
  "language_info": {
   "name": "python"
  }
 },
 "nbformat": 4,
 "nbformat_minor": 2
}
