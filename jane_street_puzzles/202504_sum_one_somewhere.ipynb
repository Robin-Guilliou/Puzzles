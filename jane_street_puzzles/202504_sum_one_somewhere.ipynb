{
 "cells": [
  {
   "cell_type": "markdown",
   "id": "b6574413",
   "metadata": {},
   "source": [
    "# Jane Street Puzzle - April 2025 - Sum One, Somewhere\n",
    "\n",
    "## Problem Statement\n",
    "\n",
    "<div class=\"center\"><img src=\"images/sum-one-somewhere.png\" style=\"background-color: white;\" class=\"dark_img\" alt=\"\", width=\"700\" height=\"600\"></div>\n",
    "\n",
    "For a fixed $p$, independently label the nodes of an infinite complete binary tree 0 with probability $p$, and 1 otherwise. For what $p$ is there exactly a 1/2 probability that there exists an infinite path down the tree that sums to at most 1 (that is, all nodes visited, with the possible exception of one, will be labeled 0). Find this value of $p$ accurate to 10 decimal places.\n",
    "\n",
    "## Solution\n",
    "\n",
    "Let $P_0$ be the probability of obtaining a path summing to 0 startting from the root. The probability that the root is 0 is $p$. The probability that a given subtree contains a path summing to zero is $P_0$. Therefore, the probability that none of the subtrees contain a path summing to zero is $(1 - P_0)^2$. Finally the probability of obtaining a path summing to zero only is the intersection of the probability that the root is zero and the probability that at least one subtree sums to zero. Therefore, we obtain the equation\n",
    "\n",
    "\\begin{equation}\n",
    "    P_0 = p \\left[ 1 - (1 - P_0)^2 \\right].\n",
    "\\end{equation}\n",
    "\n",
    "Solving the quadratic equation yields two solutions $P_0 = 0$ and $P_0 = 2 - \\frac{1}{p}$. Therefore, a strictly positive $P_0$ only occurs is $p > \\frac{1}{2}$.\n",
    "\n",
    "Let $P_1$ be the probability that there exists a path summing to at most 1. With probability $(1 - p)$ we end up in a situation where we must have a subtree summing to zero, similar to the $P_0$ situation above. With probability $p$, we are still in a position where a one is allowed. This gives the equation\n",
    "\n",
    "\\begin{equation}\n",
    "    P_1 = p \\left[ 1 - (1 - P_1)^2 \\right] + (1 - p)\\left[ 1 - (1 - P_0)^2 \\right].\n",
    "\\end{equation}\n",
    "\n",
    "Solving this equation yields one real solution which is our answer."
   ]
  },
  {
   "cell_type": "code",
   "execution_count": 1,
   "id": "b2b656a9",
   "metadata": {},
   "outputs": [
    {
     "data": {
      "text/plain": [
       "[0, 2 - 1/p]"
      ]
     },
     "execution_count": 1,
     "metadata": {},
     "output_type": "execute_result"
    }
   ],
   "source": [
    "from sympy import symbols, Eq, solve, Rational, N\n",
    "\n",
    "# Define symbols\n",
    "p, P0 = symbols('p P0')\n",
    "\n",
    "# Step 1: Solve P0 = p * (1 - (1 - P0)**2)\n",
    "eq1 = Eq(P0, p * (1 - (1 - P0)**2))\n",
    "P0_solutions = solve(eq1, P0)\n",
    "\n",
    "P0_solutions"
   ]
  },
  {
   "cell_type": "code",
   "execution_count": 2,
   "id": "a8a90488",
   "metadata": {},
   "outputs": [
    {
     "name": "stdout",
     "output_type": "stream",
     "text": [
      "Solution 1: p ≈ 1.401364879 + 0.7409710153*I\n",
      "Solution 2: p ≈ 1.401364879 - 0.7409710153*I\n",
      "Solution 3: p ≈ 0.5306035754\n"
     ]
    }
   ],
   "source": [
    "P0_sol = P0_solutions[1]\n",
    "\n",
    "P1_value = Rational(1, 2)\n",
    "p_solutions = []\n",
    "\n",
    "rhs = p * (1 - (1 - P1_value)**2) + (1 - p) * (1 - (1 - P0_sol)**2)\n",
    "eq2 = Eq(P1_value, rhs)\n",
    "sols = solve(eq2, p)\n",
    "for sol in sols:\n",
    "    # Evaluate to 12 decimal places\n",
    "    numeric_sol = N(sol, 10)\n",
    "    p_solutions.append(numeric_sol)\n",
    "\n",
    "# Print results\n",
    "for i, ps in enumerate(p_solutions, 1):\n",
    "    print(f\"Solution {i}: p ≈ {ps}\")"
   ]
  },
  {
   "cell_type": "code",
   "execution_count": null,
   "id": "8396032e",
   "metadata": {},
   "outputs": [],
   "source": []
  },
  {
   "cell_type": "markdown",
   "id": "14ffa2ac",
   "metadata": {},
   "source": [
    "Below is a Monte Carlo simulation to verify the result. We expect to find a probability close to 1/2"
   ]
  },
  {
   "cell_type": "code",
   "execution_count": 3,
   "id": "501ce008",
   "metadata": {},
   "outputs": [
    {
     "name": "stdout",
     "output_type": "stream",
     "text": [
      "Simulated probability with p = 0.5306035754, depth = 70, n = 50000 trees: 0.50036\n"
     ]
    }
   ],
   "source": [
    "import random\n",
    "\n",
    "def simulate_tree(p, depth):\n",
    "    \"\"\"\n",
    "    Simulates one tree of fixed depth.\n",
    "    Returns True if there exists a root-to-leaf path with at most one 1.\n",
    "    \"\"\"\n",
    "    # Determine the root label: cost = 0 if label is 0, 1 if label is 1.\n",
    "    root_cost = 0 if random.random() < p else 1\n",
    "    # If the root itself has cost > 1, no valid path exists.\n",
    "    if root_cost > 1:\n",
    "        return False\n",
    "\n",
    "    # current holds the cost (number of 1's encountered) along each valid path so far.\n",
    "    current = [root_cost]\n",
    "\n",
    "    # Grow the tree level by level.\n",
    "    for _ in range(depth):\n",
    "        next_level = []\n",
    "        for cost in current:\n",
    "            # For each current path, generate left and right children.\n",
    "            # Left child:\n",
    "            label = 0 if random.random() < p else 1\n",
    "            new_cost = cost + label\n",
    "            if new_cost <= 1:\n",
    "                next_level.append(new_cost)\n",
    "            # Right child:\n",
    "            label = 0 if random.random() < p else 1\n",
    "            new_cost = cost + label\n",
    "            if new_cost <= 1:\n",
    "                next_level.append(new_cost)\n",
    "        # If no valid paths continue at this level, no valid infinite path exists.\n",
    "        if not next_level:\n",
    "            return False\n",
    "        current = next_level\n",
    "\n",
    "    return True\n",
    "\n",
    "def simulate_trees(p, depth, n):\n",
    "    \"\"\"\n",
    "    Simulates n independent trees of given depth with parameter p.\n",
    "    Returns the fraction of trees that have a valid path.\n",
    "    \"\"\"\n",
    "    successes = 0\n",
    "    for _ in range(n):\n",
    "        if simulate_tree(p, depth):\n",
    "            successes += 1\n",
    "    return successes / n\n",
    "\n",
    "# Parameters\n",
    "p = 0.5306035754    # our computed value for which the probability should be about 1/2\n",
    "depth = 70          # use a large depth to approximate the infinite tree\n",
    "n = 50000           # number of independent trees to simulate\n",
    "\n",
    "# Run the simulation\n",
    "estimated_probability = simulate_trees(p, depth, n)\n",
    "print(f\"Simulated probability with p = {p}, depth = {depth}, n = {n} trees: {estimated_probability}\")"
   ]
  },
  {
   "cell_type": "code",
   "execution_count": null,
   "id": "96be7ab5",
   "metadata": {},
   "outputs": [],
   "source": []
  }
 ],
 "metadata": {
  "kernelspec": {
   "display_name": "Python 3.9 (pytorch)",
   "language": "python",
   "name": "pytorch"
  },
  "language_info": {
   "codemirror_mode": {
    "name": "ipython",
    "version": 3
   },
   "file_extension": ".py",
   "mimetype": "text/x-python",
   "name": "python",
   "nbconvert_exporter": "python",
   "pygments_lexer": "ipython3",
   "version": "3.9.15"
  }
 },
 "nbformat": 4,
 "nbformat_minor": 5
}
