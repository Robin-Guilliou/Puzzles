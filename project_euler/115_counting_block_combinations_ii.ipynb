{
 "cells": [
  {
   "cell_type": "markdown",
   "metadata": {},
   "source": [
    "# Counting Block Combinations II\n",
    "\n",
    "## Problem Statement\n",
    "\n",
    "<p class=\"note\">NOTE: This is a more difficult version of Problem 114.</p>\n",
    "\n",
    "A row measuring $n$ units in length has red blocks with a minimum length of $m$ units placed on it, such that any two red blocks (which are allowed to be different lengths) are separated by at least one black square.\n",
    "\n",
    "Let the fill-count function, $F(m, n)$, represent the number of ways that a row can be filled.\n",
    "\n",
    "For example, $F(3, 29) = 673135$ and $F(3, 30) = 1089155$.\n",
    "That is, for $m = 3$, it can be seen that $n = 30$ is the smallest value for which the fill-count function first exceeds one million.\n",
    "In the same way, for $m = 10$, it can be verified that $F(10, 56) = 880711$ and $F(10, 57) = 1148904$, so $n = 57$ is the least value for which the fill-count function first exceeds one million.\n",
    "For $m = 50$, find the least value of $n$ for which the fill-count function first exceeds one million.\n",
    "\n",
    "## Solution\n",
    "\n",
    "For this problem, we implement a memoised recursive function similar to the one we used for problem 114. The only difference is that we explicitely use a `min_block_len` parameter. As the structure of this function is very similar to the one from problem 114, you can refer to this solution for an explanation of the dynamic programmic implementation.\n",
    "\n",
    "Then, we find the answer with binary search. For the upper bound, I arbitrarily used a length of 300 after verifying that it gives a result greater than one million."
   ]
  },
  {
   "cell_type": "code",
   "execution_count": 2,
   "metadata": {},
   "outputs": [],
   "source": [
    "from functools import cache\n",
    "\n",
    "@cache\n",
    "def dp(length, min_block_len):\n",
    "    if length < 0:\n",
    "        return 0\n",
    "    count = 1\n",
    "    for x in range(length - min_block_len + 1):\n",
    "        count += 1\n",
    "        for block_len in range(min_block_len, length - x):\n",
    "            count += dp(length - x - block_len - 1, min_block_len)\n",
    "    return count"
   ]
  },
  {
   "cell_type": "code",
   "execution_count": 3,
   "metadata": {},
   "outputs": [
    {
     "data": {
      "text/plain": [
       "331281812352"
      ]
     },
     "execution_count": 3,
     "metadata": {},
     "output_type": "execute_result"
    }
   ],
   "source": [
    "dp(300, 50)"
   ]
  },
  {
   "cell_type": "code",
   "execution_count": 4,
   "metadata": {},
   "outputs": [
    {
     "data": {
      "text/plain": [
       "168"
      ]
     },
     "execution_count": 4,
     "metadata": {},
     "output_type": "execute_result"
    }
   ],
   "source": [
    "left = 0\n",
    "right = 300\n",
    "\n",
    "while left <= right:\n",
    "    mid = (left + right) // 2\n",
    "    curr_value = dp(mid, 50)\n",
    "    if curr_value > 10**6:\n",
    "        right = mid - 1\n",
    "    else:\n",
    "        left = mid + 1\n",
    "\n",
    "left if dp(left, 50) > 10**6 else right"
   ]
  }
 ],
 "metadata": {
  "language_info": {
   "name": "python"
  }
 },
 "nbformat": 4,
 "nbformat_minor": 2
}
