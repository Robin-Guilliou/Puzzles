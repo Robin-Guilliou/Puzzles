{
 "cells": [
  {
   "cell_type": "markdown",
   "metadata": {},
   "source": [
    "# 493 - Under the Rainbow\n",
    "\n",
    "## Problem Statement\n",
    "\n",
    "$70$ coloured balls are placed in an urn, $10$ for each of the seven rainbow colours.<br>\n",
    "What is the expected number of distinct colours in $20$ randomly picked balls?<br>\n",
    "Give your answer with nine digits after the decimal point (a.bcdefghij).\n",
    "\n",
    "## Solution\n",
    "\n",
    "Let $X_i$ be an indicator variable with value 1 if color $i$ is picked and 0 otherwise. The number of distinct colors picked, $n$, is given by\n",
    "\n",
    "\\begin{equation}\n",
    "    n = \\sum_{i = 1}^7 X_i\n",
    "\\end{equation}\n",
    "\n",
    "and, using linearity of expectation, the expectation of $n$ is given by\n",
    "\n",
    "\\begin{equation}\n",
    "    \\mathbb{E}[n] = \\mathbb{E} \\left[\\sum_{i = 1}^7 X_i \\right] = \\mathbb{E}[X_1] + \\mathbb{E}[X_2] + \\cdots + \\mathbb{E}[X_7].\n",
    "\\end{equation}\n",
    "\n",
    "For each $X_i$, we have\n",
    "\n",
    "\\begin{equation}\n",
    "    \\mathbb{E}[X_i] = p_i\n",
    "\\end{equation}\n",
    "\n",
    "where $p_i$ is the probability that color $i$ is picked.\n",
    "\n",
    "To calculate $p_i$, we first compute its complement which is the probability that a given color $i$ is not picked, $q_i$. \n",
    "\n",
    "Initially, there are 60 balls that are not of color $i$ (since there are 10 balls of color $i$ in the urn of 70 balls). Therefore, the probability that the first ball drawn is not of color $i$ is $\\frac{60}{70}$. After one ball is drawn, assuming it was not of color $i$, there are now 59 balls that are not of color $i$ left among a total of 69 balls. Thus, the probability that the second ball drawn is also not of color $i$ is $\\frac{59}{69}$, and so on.\n",
    "\n",
    "This process continues for all 20 draws, and the probabilities are multiplied together to reflect the sequential reduction in the number of non-$i$ color balls and the total number of balls left. Therefore we have\n",
    "\n",
    "\\begin{equation}\n",
    "    q_i = \\prod_{k=0}^{19} \\frac{60-k}{70-k} = \\frac{50! \\cdot 60!}{40! \\cdot 70!}.\n",
    "\\end{equation}\n",
    "\n",
    "Alternatively, we could have computed $q_i$ as the number of ways to choose 20 balls among 60 (we exclude the 10 balls of color $i$) divided by the number of ways to choose 20 balls among 70. Using binomial coefficients, we have\n",
    "\n",
    "\\begin{equation}\n",
    "    q_i = \\frac{\\binom{60}{20}}{\\binom{70}{20}} = \\frac{50! \\cdot 60!}{40! \\cdot 70!}.\n",
    "\\end{equation}\n",
    "\n",
    "The probability that color $i$ is picked is $p_i = 1 - q_i$. Also not that each $X_i$ has the same probability of being 1. Therefore $\\mathbb{E}[X_i] = p_i = p$ and $\\mathbb{E}[n] = 7\\mathbb{E}[X_1] = 7p$.\n",
    "\n",
    "Plugging everything into our expression for $\\mathbb{E}[n]$. The answer is\n",
    "\n",
    "\\begin{equation}\n",
    "    \\mathbb{E}[n] = 7 \\left[1 - \\frac{50! \\cdot 60!}{40! \\cdot 70!} \\right] \\approx 6.818741802.\n",
    "\\end{equation}\n",
    "\n"
   ]
  },
  {
   "cell_type": "code",
   "execution_count": 1,
   "metadata": {},
   "outputs": [
    {
     "data": {
      "text/latex": [
       "$\\displaystyle 6.818741802$"
      ],
      "text/plain": [
       "6.8187418020"
      ]
     },
     "execution_count": 1,
     "metadata": {},
     "output_type": "execute_result"
    }
   ],
   "source": [
    "import sympy\n",
    "\n",
    "(7 * (1 - (sympy.factorial(50) * sympy.factorial(60)) / (sympy.factorial(70) * sympy.factorial(40)))).evalf(11)"
   ]
  },
  {
   "cell_type": "code",
   "execution_count": null,
   "metadata": {},
   "outputs": [],
   "source": []
  }
 ],
 "metadata": {
  "language_info": {
   "name": "python"
  }
 },
 "nbformat": 4,
 "nbformat_minor": 2
}
