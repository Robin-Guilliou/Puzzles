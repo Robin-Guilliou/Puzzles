{
 "cells": [
  {
   "cell_type": "markdown",
   "metadata": {},
   "source": [
    "# 95 - Amicable Chains\n",
    "\n",
    "## Problem Statement\n",
    "\n",
    "The proper divisors of a number are all the divisors excluding the number itself. For example, the proper divisors of $28$ are $1$, $2$, $4$, $7$, and $14$. As the sum of these divisors is equal to $28$, we call it a perfect number.\n",
    "Interestingly the sum of the proper divisors of $220$ is $284$ and the sum of the proper divisors of $284$ is $220$, forming a chain of two numbers. For this reason, $220$ and $284$ are called an amicable pair.\n",
    "Perhaps less well known are longer chains. For example, starting with $12496$, we form a chain of five numbers:\n",
    "$$12496 \\to 14288 \\to 15472 \\to 14536 \\to 14264 (\\to 12496 \\to \\cdots)$$\n",
    "Since this chain returns to its starting point, it is called an amicable chain.\n",
    "Find the smallest member of the longest amicable chain with no element exceeding one million.\n",
    "\n",
    "## Solution\n",
    "\n",
    "We simply go though all the numbers up to $10^6$ and compute the chain. We keep track of all the numbers that have been seen both in total and in the current chain. Also, for each starting number leading to an amicable chain, we cache the corresponding chain. Everytime we encounter a number that has already been seen (and different from the first of the current chain), there will is a cycle and there can't be an amicable chain starting with the first number. Also, if we go encounter a number above $10^6$, the chain is not valid. "
   ]
  },
  {
   "cell_type": "code",
   "execution_count": 6,
   "metadata": {},
   "outputs": [
    {
     "data": {
      "text/plain": [
       "14316"
      ]
     },
     "execution_count": 6,
     "metadata": {},
     "output_type": "execute_result"
    }
   ],
   "source": [
    "import sympy\n",
    "\n",
    "max_chain = []\n",
    "max_len = 0\n",
    "\n",
    "memo = {}\n",
    "visited = set()\n",
    "\n",
    "for n in range(2, 1000001):\n",
    "    # Skip n if previously seen\n",
    "    if n in visited:\n",
    "        continue\n",
    "    chain = [n]\n",
    "    curr_visited = {n: 0}\n",
    "    while True:\n",
    "        # Compute the next n\n",
    "        divisors = sympy.divisors(n)\n",
    "        n = sum(divisors[:-1])\n",
    "        # Invalid chain if n has been seen or is above 10^6\n",
    "        if n in visited or n > 10**6:\n",
    "            visited.update(chain)\n",
    "            break\n",
    "        chain.append(n)\n",
    "        # Chain found\n",
    "        if n == chain[0]:\n",
    "            memo[chain[0]] = chain\n",
    "            visited.update(chain)\n",
    "            # Update the max chain\n",
    "            if len(memo[chain[0]]) > max_len:\n",
    "                max_len = len(memo[chain[0]])\n",
    "                max_chain = chain\n",
    "            break\n",
    "        # Check for loops within the current chain\n",
    "        elif n in curr_visited:\n",
    "            visited.update(chain[:curr_visited[n]])\n",
    "            memo[n] = chain[curr_visited[n]:]\n",
    "            break\n",
    "        curr_visited[n] = len(chain) - 1\n",
    "\n",
    "\n",
    "min(max_chain)"
   ]
  },
  {
   "cell_type": "code",
   "execution_count": null,
   "metadata": {},
   "outputs": [],
   "source": []
  }
 ],
 "metadata": {
  "language_info": {
   "name": "python"
  }
 },
 "nbformat": 4,
 "nbformat_minor": 2
}
