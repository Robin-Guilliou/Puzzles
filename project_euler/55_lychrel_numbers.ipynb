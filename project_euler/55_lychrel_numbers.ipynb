{
 "cells": [
  {
   "cell_type": "markdown",
   "metadata": {},
   "source": [
    "# 55 - Lychrel Numbers\n",
    "\n",
    "## Problem Statement\n",
    "\n",
    "If we take $47$, reverse and add, $47 + 74 = 121$, which is palindromic.\n",
    "Not all numbers produce palindromes so quickly. For example,\n",
    "\n",
    "\\begin{align}\n",
    "349 + 943 &= 1292\\\\\n",
    "1292 + 2921 &= 4213\\\\\n",
    "4213 + 3124 &= 7337\n",
    "\\end{align}\n",
    "\n",
    "That is, $349$ took three iterations to arrive at a palindrome.\n",
    "Although no one has proved it yet, it is thought that some numbers, like $196$, never produce a palindrome. A number that never forms a palindrome through the reverse and add process is called a Lychrel number. Due to the theoretical nature of these numbers, and for the purpose of this problem, we shall assume that a number is Lychrel until proven otherwise. In addition you are given that for every number below ten-thousand, it will either (i) become a palindrome in less than fifty iterations, or, (ii) no one, with all the computing power that exists, has managed so far to map it to a palindrome. In fact, $10677$ is the first number to be shown to require over fifty iterations before producing a palindrome: $4668731596684224866951378664$ ($53$ iterations, $28$-digits).\n",
    "Surprisingly, there are palindromic numbers that are themselves Lychrel numbers; the first example is $4994$.\n",
    "How many Lychrel numbers are there below ten-thousand?\n",
    "\n",
    "<p class=\"smaller\">NOTE: Wording was modified slightly on 24 April 2007 to emphasise the theoretical nature of Lychrel numbers.</p>\n",
    "\n",
    "## Solution\n",
    "\n",
    "We use a recursive function to check if a number is Lychrel and memoize the results to avoid recomputing some non-Lychrel numbers encountered along the way."
   ]
  },
  {
   "cell_type": "code",
   "execution_count": 1,
   "metadata": {},
   "outputs": [],
   "source": [
    "memo = {}\n",
    "def is_lychrel(n, count):\n",
    "    if n in memo and not memo[n]:\n",
    "        return memo[n]\n",
    "    if count > 51:\n",
    "        return True\n",
    "    s = str(n)\n",
    "    s_reverse = s[::-1]\n",
    "    if s == s_reverse and count > 1:\n",
    "        return False\n",
    "    memo[n] = is_lychrel(n + int(s_reverse), count + 1)\n",
    "    return memo[n]"
   ]
  },
  {
   "cell_type": "code",
   "execution_count": 2,
   "metadata": {},
   "outputs": [
    {
     "name": "stdout",
     "output_type": "stream",
     "text": [
      "There are 249 Lychrel numbers below 10000.\n"
     ]
    }
   ],
   "source": [
    "n_lychrel = 0\n",
    "for x in range(10000):\n",
    "    n_lychrel += is_lychrel(x, 1)\n",
    "\n",
    "print(f'There are {n_lychrel} Lychrel numbers below 10000.')"
   ]
  },
  {
   "cell_type": "code",
   "execution_count": null,
   "metadata": {},
   "outputs": [],
   "source": []
  }
 ],
 "metadata": {
  "language_info": {
   "name": "python"
  }
 },
 "nbformat": 4,
 "nbformat_minor": 2
}
