{
 "cells": [
  {
   "cell_type": "markdown",
   "metadata": {},
   "source": [
    "# 50 - Consecutive Prime Sum\n",
    "\n",
    "## Problem Statement\n",
    "\n",
    "The prime $41$, can be written as the sum of six consecutive primes:\n",
    "\n",
    "$$41 = 2 + 3 + 5 + 7 + 11 + 13.$$\n",
    "\n",
    "This is the longest sum of consecutive primes that adds to a prime below one-hundred.\n",
    "\n",
    "The longest sum of consecutive primes below one-thousand that adds to a prime, contains $21$ terms, and is equal to $953$.\n",
    "\n",
    "Which prime, below one-million, can be written as the sum of the most consecutive primes?\n",
    "\n",
    "## Solution\n",
    "\n",
    "We generate all the primes below one million and create a hashset for quickly checking if a number is prime. We create an array, $C(n)$ containing the cumulative sum of the prime numbers up to the $n$-th prime. Then we loop through each $(i, j)$ pair of index with $j > i$. We compute the cumulative sum between indexex $i$ and $j$ and $C(j) - C(i - 1)$. If it is prime, we records the difference $j - i$. The prime $C(j) - C(i - 1)$ for which this difference is maximised is the answer. Note that we early exit the inner loop on $j$ whenever $C(j) - C(i - 1)$ is greater than 1000000 because we look for primes below 1000000. Also, the inner loop starts at $i + m + 1$ where $m$ is the maximum length encountered so far. This is because the length cannot be shorter than the maximum encountered so far. This is an $O(n^2)$ solution but it rus fast we those optimisations."
   ]
  },
  {
   "cell_type": "code",
   "execution_count": 14,
   "metadata": {},
   "outputs": [
    {
     "data": {
      "text/plain": [
       "997651"
      ]
     },
     "execution_count": 14,
     "metadata": {},
     "output_type": "execute_result"
    }
   ],
   "source": [
    "import sympy\n",
    "\n",
    "primes = list(sympy.primerange(1000000))\n",
    "primes_set = set(primes)\n",
    "\n",
    "prefix_sum = [0] * (len(primes) + 1)\n",
    "prefix_sum[1] = primes[0]\n",
    "for i in range(1, len(primes)):\n",
    "    prefix_sum[i + 1] = primes[i] + prefix_sum[i]\n",
    "\n",
    "max_len = 0\n",
    "for i in range(len(primes)):\n",
    "    for j in range(i + max_len + 1, len(primes)):\n",
    "        curr = prefix_sum[j + 1] - prefix_sum[i]\n",
    "        if curr > 1000000:\n",
    "            break\n",
    "        elif curr in primes_set:\n",
    "            if j - i > max_len:\n",
    "                res = curr\n",
    "                max_len = j - i\n",
    "res"
   ]
  },
  {
   "cell_type": "code",
   "execution_count": null,
   "metadata": {},
   "outputs": [],
   "source": []
  }
 ],
 "metadata": {
  "language_info": {
   "name": "python"
  }
 },
 "nbformat": 4,
 "nbformat_minor": 2
}
