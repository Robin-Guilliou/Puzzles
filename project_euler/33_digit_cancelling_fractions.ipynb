{
 "cells": [
  {
   "cell_type": "markdown",
   "metadata": {},
   "source": [
    "# 33 - Digit Cancelling Fractions\n",
    "\n",
    "## Problem Statement\n",
    "\n",
    "The fraction $49$/$98$ is a curious fraction, as an inexperienced mathematician in attempting to simplify it may incorrectly believe that $49$/$98 = 4$/$8$, which is correct, is obtained by cancelling the 9s.\n",
    "\n",
    "We shall consider fractions like, $30/50 = 3/5$, to be trivial examples.\n",
    "\n",
    "There are exactly four non-trivial examples of this type of fraction, less than one in value, and containing two digits in the numerator and denominator.\n",
    "\n",
    "If the product of these four fractions is given in its lowest common terms, find the value of the denominator.\n",
    "\n",
    "## Solution\n",
    "\n",
    "We proceed by checking all the possibilities. Let $11 \\le a \\le 100$ be the numerator and $a + 1 \\le b \\le 100$ be the denominator with $a \\neq b$. Also let $a_1$ and $a_2$ be the first and second digit of $a$ and $b_1$ and $b_2$ be the first and second digits of $b$. Then, the non-trivial fractions satisfy $\\frac{a}{b} = \\frac{a_1}{b_2}$ with $a_2 = b_1$ or $\\frac{a}{b} = \\frac{a_2}{b_1}$ with $a_1 = b_2$. We obtain the 4 fractions, multiply them together and get the denominator."
   ]
  },
  {
   "cell_type": "code",
   "execution_count": null,
   "metadata": {},
   "outputs": [],
   "source": [
    "from fractions import Fraction\n",
    "\n",
    "res = 1\n",
    "for a in range(11, 100):\n",
    "    for b in range(a + 1, 100):\n",
    "        if a % 10 != 0 and b % 10 != 0 and a != b:\n",
    "            a1, a2 = divmod(a, 10)\n",
    "            b1, b2 = divmod(b, 10)\n",
    "        if (a / b == a1 / b2 and a2 == b1) or (a / b == a2 / b1 and a1 == b2):\n",
    "            res *= Fraction(a, b)\n",
    "\n",
    "res.denominator"
   ]
  }
 ],
 "metadata": {
  "language_info": {
   "name": "python"
  }
 },
 "nbformat": 4,
 "nbformat_minor": 2
}
