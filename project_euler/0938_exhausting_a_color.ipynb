{
 "cells": [
  {
   "cell_type": "markdown",
   "metadata": {},
   "source": [
    "# 938 - Exhausting a color\n",
    "\n",
    "## Problem Statement\n",
    "\n",
    "A deck of cards contains $R$ red cards and $B$ black cards.<br>\n",
    "A card is chosen uniformly randomly from the deck and removed. A second card is then chosen uniformly randomly from the cards remaining and removed.\n",
    "<ul>\n",
    "<li>\n",
    "If both cards are red, they are discarded.</li>\n",
    "<li>\n",
    "If both cards are black, they are both put back in the deck.</li>\n",
    "<li>\n",
    "If they are different colours, the red card is put back in the deck and the black card is discarded.</li></ul>\n",
    "\n",
    "Play ends when all the remaining cards in the deck are the same colour and let $P(R,B)$ be the probability that this colour is black.\n",
    "\n",
    "You are given $P(2,2) = 0.4666666667$, $P(10,9) = 0.4118903397$ and $P(34,25) = 0.3665688069$.\n",
    "\n",
    "Find $P(24690,12345)$. Give your answer with 10 digits after the decimal point.\n",
    "\n",
    "## Solution\n",
    "\n",
    "We can deduce the recurrence relation\n",
    "\n",
    "\\begin{equation}\n",
    "    P(R, B) = \\frac{R(R - 1)}{(R + B)(R + B - 1)}  P(R - 2, B) + 2\\frac{BR}{(R + B)(R + B - 1)}  P(R, B - 1) + \\frac{B(B - 1)}{(R + B)(R + B - 1)}  P(R, B).\n",
    "\\end{equation}\n",
    "\n",
    "Rearranging and solving for $P(R, B)$, we get\n",
    "\n",
    "\\begin{equation}\n",
    "    P(R, B) = \\frac{1}{1 - \\frac{B(B - 1)}{(R + B)(R + B - 1)}}\\left[\\frac{R(R - 1)}{(R + B)(R + B - 1)}  P(R - 2, B) + 2\\frac{BR}{(R + B)(R + B - 1)}  P(R, B - 1)\\right].\n",
    "\\end{equation}\n",
    "\n",
    "The base cases are \n",
    "\n",
    "\\begin{align}\n",
    "    &P(0, 0) = 0, \\\\\n",
    "    &P(1, B) = 0, \\\\\n",
    "    &P(0, B \\neq 0) = 1, \\\\\n",
    "    &P(R \\neq 0, 0) = 0, \\\\\n",
    "    &P(R \\neq 0, 1) = 0. \\\\\n",
    "\\end{align}\n",
    "\n",
    "We can solve the problem using bottom up dynamic programming. Starting from the base cases, we keep computing the probability for higher $R$ and $B$ values from the lower values. We use numba to speed up the computations. Note that we could optimise space too as we do not need to keep the full table (only two previous rows are needed)."
   ]
  },
  {
   "cell_type": "code",
   "execution_count": 1,
   "metadata": {},
   "outputs": [],
   "source": [
    "\n",
    "import numpy as np\n",
    "from numba import njit\n",
    "\n",
    "@njit\n",
    "def compute_proba(r, b):\n",
    "    dp = np.ones((r + 1, b + 1))\n",
    "    dp[0, 0] = 0\n",
    "    dp[1:, 0:2] = 0\n",
    "    dp[1, :] = 0\n",
    "\n",
    "    for r in range(2, len(dp)):\n",
    "        for b in range(1, len(dp[0])):\n",
    "            proba_two_red = (r/(r + b)) * ((r - 1)/(r + b - 1))\n",
    "            proba_one_red = 2 * (r / (r + b)) * (b / (r + b - 1))\n",
    "            proba_two_black = ((b / (r + b)) * ((b - 1) / (r + b - 1)))\n",
    "            dp[r, b] = (proba_two_red * dp[r - 2, b] + proba_one_red * dp[r, b - 1]) * (1 / (1 - proba_two_black))\n",
    "    return dp[-1][-1]"
   ]
  },
  {
   "cell_type": "code",
   "execution_count": 2,
   "metadata": {},
   "outputs": [
    {
     "data": {
      "text/plain": [
       "0.2928967987"
      ]
     },
     "execution_count": 2,
     "metadata": {},
     "output_type": "execute_result"
    }
   ],
   "source": [
    "b = 12345\n",
    "r = 24690\n",
    "\n",
    "p = compute_proba(r, b)\n",
    "round(p, 10)"
   ]
  },
  {
   "cell_type": "code",
   "execution_count": null,
   "metadata": {},
   "outputs": [],
   "source": []
  }
 ],
 "metadata": {
  "kernelspec": {
   "display_name": "base",
   "language": "python",
   "name": "python3"
  },
  "language_info": {
   "codemirror_mode": {
    "name": "ipython",
    "version": 3
   },
   "file_extension": ".py",
   "mimetype": "text/x-python",
   "name": "python",
   "nbconvert_exporter": "python",
   "pygments_lexer": "ipython3",
   "version": "3.9.13"
  }
 },
 "nbformat": 4,
 "nbformat_minor": 2
}
