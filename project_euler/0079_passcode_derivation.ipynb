{
 "cells": [
  {
   "cell_type": "markdown",
   "metadata": {},
   "source": [
    "# 79 - Passcode Derivation\n",
    "\n",
    "## Problem Statement\n",
    "\n",
    "A common security method used for online banking is to ask the user for three random characters from a passcode. For example, if the passcode was 531278, they may ask for the 2nd, 3rd, and 5th characters; the expected reply would be: 317.\n",
    "\n",
    "<p>The text file, <a href=\"inputs/0079_keylog.txt\">keylog.txt</a>, contains fifty successful login attempts.</p>\n",
    "\n",
    "Given that the three characters are always asked for in order, analyse the file so as to determine the shortest possible secret passcode of unknown length.\n",
    "\n",
    "\n",
    "## Solution\n",
    "\n",
    "This one can be solved by hand. First we remove the duplicate numbers. Then we check if any digit is never preceded by another digit and remove it. Then we keep repeating this process. We will first have 7, then 3, then 1, etc. Here the answer does not contain any repeated digit so we can find the answer this way."
   ]
  },
  {
   "cell_type": "code",
   "execution_count": 1,
   "metadata": {},
   "outputs": [
    {
     "data": {
      "text/plain": [
       "{129,\n",
       " 160,\n",
       " 162,\n",
       " 168,\n",
       " 180,\n",
       " 289,\n",
       " 290,\n",
       " 316,\n",
       " 318,\n",
       " 319,\n",
       " 362,\n",
       " 368,\n",
       " 380,\n",
       " 389,\n",
       " 620,\n",
       " 629,\n",
       " 680,\n",
       " 689,\n",
       " 690,\n",
       " 710,\n",
       " 716,\n",
       " 718,\n",
       " 719,\n",
       " 720,\n",
       " 728,\n",
       " 729,\n",
       " 731,\n",
       " 736,\n",
       " 760,\n",
       " 762,\n",
       " 769,\n",
       " 790,\n",
       " 890}"
      ]
     },
     "execution_count": 1,
     "metadata": {},
     "output_type": "execute_result"
    }
   ],
   "source": [
    "numbers = [\n",
    "    319, 680, 180, 690, 129, 620, 762, 689, 762, 318, 368, 710, 720, 710, 629, 168,\n",
    "    160, 689, 716, 731, 736, 729, 316, 729, 729, 710, 769, 290, 719, 680, 318, 389,\n",
    "    162, 289, 162, 718, 729, 319, 790, 680, 890, 362, 319, 760, 316, 729, 380, 319,\n",
    "    728, 716\n",
    "]\n",
    "\n",
    "numbers = set(numbers)\n",
    "numbers"
   ]
  },
  {
   "cell_type": "code",
   "execution_count": 2,
   "metadata": {},
   "outputs": [
    {
     "data": {
      "text/plain": [
       "73162890"
      ]
     },
     "execution_count": 2,
     "metadata": {},
     "output_type": "execute_result"
    }
   ],
   "source": [
    "73162890"
   ]
  },
  {
   "cell_type": "code",
   "execution_count": null,
   "metadata": {},
   "outputs": [],
   "source": []
  }
 ],
 "metadata": {
  "language_info": {
   "name": "python"
  }
 },
 "nbformat": 4,
 "nbformat_minor": 2
}
