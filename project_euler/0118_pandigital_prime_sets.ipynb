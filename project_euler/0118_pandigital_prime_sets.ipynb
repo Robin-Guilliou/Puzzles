{
 "cells": [
  {
   "cell_type": "markdown",
   "metadata": {},
   "source": [
    "# 118 - Pandigital Prime Sets\n",
    "\n",
    "## Problem Statement\n",
    "\n",
    "Using all of the digits $1$ through $9$ and concatenating them freely to form decimal integers, different sets can be formed. Interestingly with the set $\\{2,5,47,89,631\\}$, all of the elements belonging to it are prime.\n",
    "\n",
    "How many distinct sets containing each of the digits one through nine exactly once contain only prime elements?\n",
    "\n",
    "## Solution\n",
    "\n",
    "First we generate a set of prime numbers up to $10^8$. We also generate all the permutations of digits. Then we loop through each permutation (except those finishing with an even digit) and split the strings recursively with backtracking. Whenever we obtain a valid split, we sort it (to avoid duplicates) and add it to a result set. Finally, the result is the length of the result set."
   ]
  },
  {
   "cell_type": "code",
   "execution_count": 1,
   "metadata": {},
   "outputs": [
    {
     "data": {
      "text/plain": [
       "44680"
      ]
     },
     "execution_count": 1,
     "metadata": {},
     "output_type": "execute_result"
    }
   ],
   "source": [
    "import itertools\n",
    "import sympy\n",
    "\n",
    "\n",
    "def prime_split_backtracking(s, i, path, res):\n",
    "    if i == len(s):\n",
    "        res.add(tuple(sorted(path)))\n",
    "    for j in range(i + 1, len(s) + 1):\n",
    "        if int(s[i:j]) in primes:\n",
    "            path.append(s[i:j])\n",
    "            prime_split_backtracking(s, j, path, res)\n",
    "            path.pop()\n",
    "\n",
    "\n",
    "# Generate primes set\n",
    "primes = set(sympy.primerange(10**8))\n",
    "\n",
    "# Generate string permutations\n",
    "s = '123456789'\n",
    "permutations = list(itertools.permutations(s))\n",
    "\n",
    "# Generate all combinations\n",
    "res = set()\n",
    "for perm in permutations:\n",
    "    s = \"\".join(perm)\n",
    "    if int(s[-1]) % 2 != 0:\n",
    "        prime_split_backtracking(s, 0, [], res)\n",
    "\n",
    "len(res)"
   ]
  },
  {
   "cell_type": "code",
   "execution_count": null,
   "metadata": {},
   "outputs": [],
   "source": []
  }
 ],
 "metadata": {
  "language_info": {
   "name": "python"
  }
 },
 "nbformat": 4,
 "nbformat_minor": 2
}
