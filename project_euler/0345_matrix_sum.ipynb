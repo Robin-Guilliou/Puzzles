{
 "cells": [
  {
   "cell_type": "markdown",
   "metadata": {},
   "source": [
    "# 345 - Matrix Sum\n",
    "\n",
    "## Problem Statement\n",
    "\n",
    "We define the <dfn>Matrix Sum</dfn> of a matrix as the maximum possible sum of matrix elements such that none of the selected elements share the same row or column.\n",
    "\n",
    "For example, the Matrix Sum of the matrix below equals 3315 ( = 863 + 383 + 343 + 959 + 767):\n",
    "\n",
    "<p style=\"text-align:center;font-family:'courier new';\">\n",
    "  7  53 183 439 <span style=\"color:#00ff00;font-family:'courier new';\"><b>863</b></span><br />\n",
    "497 <span style=\"color:#00ff00;font-family:'courier new';\"><b>383</b></span> 563  79 973<br />\n",
    "287  63 <span style=\"color:#00ff00;font-family:'courier new';\"><b>343</b></span> 169 583<br />\n",
    "627 343 773 <span style=\"color:#00ff00;font-family:'courier new';\"><b>959</b></span> 943<br /><span style=\"color:#00ff00;font-family:'courier new';\"><b>767</b></span> 473 103 699 303<br /></p>\n",
    "\n",
    "\n",
    "Find the Matrix Sum of:<br />\n",
    "\n",
    "<p style=\"text-align:center;font-family:'courier new';\">\n",
    "  7  53 183 439 863 497 383 563  79 973 287  63 343 169 583<br />\n",
    "627 343 773 959 943 767 473 103 699 303 957 703 583 639 913<br />\n",
    "447 283 463  29  23 487 463 993 119 883 327 493 423 159 743<br />\n",
    "217 623   3 399 853 407 103 983  89 463 290 516 212 462 350<br />\n",
    "960 376 682 962 300 780 486 502 912 800 250 346 172 812 350<br />\n",
    "870 456 192 162 593 473 915  45 989 873 823 965 425 329 803<br />\n",
    "973 965 905 919 133 673 665 235 509 613 673 815 165 992 326<br />\n",
    "322 148 972 962 286 255 941 541 265 323 925 281 601  95 973<br />\n",
    "445 721  11 525 473  65 511 164 138 672  18 428 154 448 848<br />\n",
    "414 456 310 312 798 104 566 520 302 248 694 976 430 392 198<br />\n",
    "184 829 373 181 631 101 969 613 840 740 778 458 284 760 390<br />\n",
    "821 461 843 513  17 901 711 993 293 157 274  94 192 156 574<br />\n",
    " 34 124   4 878 450 476 712 914 838 669 875 299 823 329 699<br />\n",
    "815 559 813 459 522 788 168 586 966 232 308 833 251 631 107<br />\n",
    "813 883 451 509 615  77 281 613 459 205 380 274 302  35 805<br /></p>\n",
    "\n",
    "## Solution\n",
    "\n",
    "This is the linear sum assignment problem which can be solved with the Hungarian method (Kuhn-Munkres algorithm). Alternatively there is a `scipy` implementation which we use here."
   ]
  },
  {
   "cell_type": "code",
   "execution_count": 1,
   "metadata": {},
   "outputs": [
    {
     "data": {
      "text/plain": [
       "13938"
      ]
     },
     "execution_count": 1,
     "metadata": {},
     "output_type": "execute_result"
    }
   ],
   "source": [
    "import numpy as np\n",
    "from scipy.optimize import linear_sum_assignment\n",
    "\n",
    "# Define the grid of numbers as a list of lists\n",
    "matrix = np.array([\n",
    "    [7, 53, 183, 439, 863, 497, 383, 563, 79, 973, 287, 63, 343, 169, 583],\n",
    "    [627, 343, 773, 959, 943, 767, 473, 103, 699, 303, 957, 703, 583, 639, 913],\n",
    "    [447, 283, 463, 29, 23, 487, 463, 993, 119, 883, 327, 493, 423, 159, 743],\n",
    "    [217, 623, 3, 399, 853, 407, 103, 983, 89, 463, 290, 516, 212, 462, 350],\n",
    "    [960, 376, 682, 962, 300, 780, 486, 502, 912, 800, 250, 346, 172, 812, 350],\n",
    "    [870, 456, 192, 162, 593, 473, 915, 45, 989, 873, 823, 965, 425, 329, 803],\n",
    "    [973, 965, 905, 919, 133, 673, 665, 235, 509, 613, 673, 815, 165, 992, 326],\n",
    "    [322, 148, 972, 962, 286, 255, 941, 541, 265, 323, 925, 281, 601, 95, 973],\n",
    "    [445, 721, 11, 525, 473, 65, 511, 164, 138, 672, 18, 428, 154, 448, 848],\n",
    "    [414, 456, 310, 312, 798, 104, 566, 520, 302, 248, 694, 976, 430, 392, 198],\n",
    "    [184, 829, 373, 181, 631, 101, 969, 613, 840, 740, 778, 458, 284, 760, 390],\n",
    "    [821, 461, 843, 513, 17, 901, 711, 993, 293, 157, 274, 94, 192, 156, 574],\n",
    "    [34, 124, 4, 878, 450, 476, 712, 914, 838, 669, 875, 299, 823, 329, 699],\n",
    "    [815, 559, 813, 459, 522, 788, 168, 586, 966, 232, 308, 833, 251, 631, 107],\n",
    "    [813, 883, 451, 509, 615, 77, 281, 613, 459, 205, 380, 274, 302, 35, 805]\n",
    "])\n",
    "\n",
    "row_ind, col_ind = linear_sum_assignment(matrix, maximize=True)\n",
    "matrix[row_ind, col_ind].sum()"
   ]
  },
  {
   "cell_type": "code",
   "execution_count": null,
   "metadata": {},
   "outputs": [],
   "source": []
  }
 ],
 "metadata": {
  "language_info": {
   "name": "python"
  }
 },
 "nbformat": 4,
 "nbformat_minor": 2
}
