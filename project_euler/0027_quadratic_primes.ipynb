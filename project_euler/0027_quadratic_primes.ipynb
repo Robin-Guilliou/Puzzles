{
 "cells": [
  {
   "cell_type": "markdown",
   "metadata": {},
   "source": [
    "# 27 - Quadratic Primes\n",
    "\n",
    "## Problem Statement\n",
    "\n",
    "Euler discovered the remarkable quadratic formula:\n",
    "\n",
    "$\\qquad n^2 + n + 41$\n",
    "\n",
    "It turns out that the formula will produce $40$ primes for the consecutive integer values $0 \\le n \\le 39$. However, when $n = 40, 40^2 + 40 + 41 = 40(40 + 1) + 41$ is divisible by $41$, and certainly when $n = 41, 41^2 + 41 + 41$ is clearly divisible by $41$.\n",
    "\n",
    "The incredible formula $n^2 - 79n + 1601$ was discovered, which produces $80$ primes for the consecutive values $0 \\le n \\le 79$. The product of the coefficients, $-79$ and $1601$, is $-126479$.\n",
    "\n",
    "Considering quadratics of the form:\n",
    "\n",
    "$\\qquad$ $n^2 + an + b$, where $|a| \\le 1000$ and $|b| \\le 1000$\n",
    " \n",
    "$\\qquad $ where $|n|$ is the modulus/absolute value of $n$ <br>\n",
    "$\\qquad $ e.g. $|11| = 11$ and $|-4| = 4$\n",
    "\n",
    "Find the product of the coefficients, $a$ and $b$, for the quadratic expression that produces the maximum number of primes for consecutive values of $n$, starting with $n = 0$.\n",
    "\n",
    "## Solution\n",
    "\n",
    "First we note that $b$ must be a prime number because for $n = 0$, it is the only way to obtain a prime number. Apart from this, we generate all the combinations of $a$ and $b$ and count the number of consecutive $n$ values that generate prime numbers."
   ]
  },
  {
   "cell_type": "code",
   "execution_count": 1,
   "metadata": {},
   "outputs": [
    {
     "data": {
      "text/plain": [
       "-59231"
      ]
     },
     "execution_count": 1,
     "metadata": {},
     "output_type": "execute_result"
    }
   ],
   "source": [
    "import sympy\n",
    "\n",
    "bs = sympy.primerange(1000)\n",
    "primes = set(sympy.primerange(1000000))\n",
    "\n",
    "curr_max = 0\n",
    "res = 0\n",
    "for b in bs:\n",
    "    for a in range(-1000, 1001):\n",
    "        n = 1\n",
    "        count = 1\n",
    "        while n**2 + a*n + b in primes:\n",
    "            count += 1\n",
    "            n += 1\n",
    "        if count > curr_max:\n",
    "            curr_max = count\n",
    "            res = a * b\n",
    "\n",
    "res"
   ]
  },
  {
   "cell_type": "code",
   "execution_count": null,
   "metadata": {},
   "outputs": [],
   "source": []
  }
 ],
 "metadata": {
  "language_info": {
   "name": "python"
  }
 },
 "nbformat": 4,
 "nbformat_minor": 2
}
