{
 "cells": [
  {
   "cell_type": "markdown",
   "metadata": {},
   "source": [
    "# 5 - Smallest Multiple\n",
    "\n",
    "## Problem Statement\n",
    "\n",
    "$2520$ is the smallest number that can be divided by each of the numbers from $1$ to $10$ without any remainder.\n",
    "\n",
    "What is the smallest positive number that is evenly divisible by all of the numbers from $1$ to $20$?\n",
    "\n",
    "\n",
    "## Solution\n",
    "\n",
    "This one can be done by hand. The prime numbers greater than 10 need to be included. So we have 11, 13, 17 and 19. Then we can figure out that multiplying by 18 will account for a lot of smaller numbers (2, 3, 6, 9). As a 2 is now included, we can multiply by 7 to make the result divisible by 14. The remaining numbers are 4, 5, 8, 10, 12, 15, 16 and 20. We can deal with all the multiples of 5 (except 20) by multiplying by 5. Finally, we are left with multiples of 4. However, if we multiply by 4, the result is not divisible by 16. We need to multiply by 8 to deal with all the remaining numbers. "
   ]
  },
  {
   "cell_type": "code",
   "execution_count": 1,
   "metadata": {},
   "outputs": [
    {
     "data": {
      "text/plain": [
       "232792560"
      ]
     },
     "execution_count": 1,
     "metadata": {},
     "output_type": "execute_result"
    }
   ],
   "source": [
    "19 * 17 * 13 * 11 * 18 * 7 * 5 * 8"
   ]
  },
  {
   "cell_type": "code",
   "execution_count": null,
   "metadata": {},
   "outputs": [],
   "source": []
  }
 ],
 "metadata": {
  "language_info": {
   "name": "python"
  }
 },
 "nbformat": 4,
 "nbformat_minor": 2
}
