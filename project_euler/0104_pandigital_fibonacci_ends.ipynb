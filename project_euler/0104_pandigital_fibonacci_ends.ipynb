{
 "cells": [
  {
   "cell_type": "markdown",
   "metadata": {},
   "source": [
    "# 104 - Pandigital_fibonacci_ends\n",
    "\n",
    "## Problem Statement\n",
    "\n",
    "The Fibonacci sequence is defined by the recurrence relation:\n",
    "\n",
    " $F_n = F_{n - 1} + F_{n - 2}$, where $F_1 = 1$ and $F_2 = 1$.\n",
    "\n",
    "It turns out that $F_{541}$, which contains $113$ digits, is the first Fibonacci number for which the last nine digits are $1$-$9$ pandigital (contain all the digits $1$ to $9$, but not necessarily in order). And $F_{2749}$, which contains $575$ digits, is the first Fibonacci number for which the first nine digits are $1$-$9$ pandigital.\n",
    "\n",
    "Given that $F_k$ is the first Fibonacci number for which the first nine digits AND the last nine digits are $1$-$9$ pandigital, find $k$.\n",
    "\n",
    "## Solution\n",
    "\n",
    "Fibonacci numbers quickly get very large. Therefore some optimizations are necessary to get the result in a decent time.\n",
    "\n",
    "First we note that checking the last 9 digits is easier than checking the first 9 digits. This is because we can compute the Fibonacci numbers modulo $10^{10}$ and avoid handling very large numbers. Therefore, we only check if the 9 first digits are pandigital if the last 9 digits are.\n",
    "\n",
    "Then, we need a way to efficiently extract the first 10 digits. The $n$-th Fibonacci number, $F_n$, can be generated using Binet's formula as\n",
    "\n",
    "\\begin{equation}\n",
    "    F_n = \\frac{\\phi^n - (1 - \\phi)^n}{\\sqrt{5}}\n",
    "\\end{equation}\n",
    "\n",
    "where $\\phi$ is the Golden ratio. As $(1 - \\phi)^n$ approaches zero for large $n$, we can approximate the $n$-th Fibonacci number as\n",
    "\n",
    "\\begin{equation}\n",
    "    F_n \\approx \\frac{\\phi^n}{\\sqrt{5}}.\n",
    "\\end{equation}\n",
    "\n",
    "Taking the base 10 logarithm on both side of the approximation, we get\n",
    "\n",
    "\\begin{equation}\n",
    "    \\log_{10}(F_n) \\approx n \\log_{10}(\\phi) - \\log_{10}(\\sqrt{5}).\n",
    "\\end{equation}\n",
    "\n",
    "We can now obtain the first 9 digits with $\\left \\lfloor 10^{\\log_{10}(F_n) - \\left \\lfloor \\log_{10}(F_n) \\right \\rfloor + 8} \\right \\rfloor$.\n",
    "\n",
    "Using those optimisations, we can generate consecutive Fibonacci numbers until we find one that fits the condition."
   ]
  },
  {
   "cell_type": "code",
   "execution_count": 1,
   "metadata": {},
   "outputs": [
    {
     "data": {
      "text/plain": [
       "329468"
      ]
     },
     "execution_count": 1,
     "metadata": {},
     "output_type": "execute_result"
    }
   ],
   "source": [
    "import math\n",
    "\n",
    "phi = (1 + math.sqrt(5)) / 2\n",
    "log_phi = math.log10(phi)\n",
    "log_sqrt5 = math.log10(math.sqrt(5))\n",
    "mod = 10**10\n",
    "f0 = 0\n",
    "f1 = 1\n",
    "i = 2\n",
    "while True:\n",
    "    new_f = (f0 + f1) % mod\n",
    "    if \"\".join(sorted(str(new_f))) == '123456789':\n",
    "        log_fib = i * log_phi - log_sqrt5\n",
    "        f = int(pow(10, log_fib - int(log_fib) + 8))\n",
    "        if \"\".join(sorted(str(f))) == '123456789':\n",
    "            break\n",
    "    f0 = f1\n",
    "    f1 = new_f\n",
    "    i += 1\n",
    "\n",
    "i"
   ]
  },
  {
   "cell_type": "code",
   "execution_count": null,
   "metadata": {},
   "outputs": [],
   "source": []
  }
 ],
 "metadata": {
  "language_info": {
   "name": "python"
  }
 },
 "nbformat": 4,
 "nbformat_minor": 2
}
