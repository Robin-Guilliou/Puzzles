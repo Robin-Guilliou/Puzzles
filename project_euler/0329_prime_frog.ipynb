{
 "cells": [
  {
   "cell_type": "markdown",
   "metadata": {},
   "source": [
    "# 329 - Prime Frog\n",
    "\n",
    "## Problem Statement\n",
    "\n",
    "Susan has a prime frog.<br>\n",
    "Her frog is jumping around over $500$ squares numbered $1$ to $500$.\n",
    "He can only jump one square to the left or to the right, with equal probability, and he cannot jump outside the range $[1;500]$.<br>(if it lands at either end, it automatically jumps to the only available square on the next move.)\n",
    "\n",
    "When he is on a square with a prime number on it, he croaks 'P' (PRIME) with probability $2/3$ or 'N' (NOT PRIME) with probability $1/3$ just before jumping to the next square.<br>\n",
    "When he is on a square with a number on it that is not a prime he croaks 'P' with probability $1/3$ or 'N' with probability $2/3$ just before jumping to the next square.\n",
    "\n",
    "Given that the frog's starting position is random with the same probability for every square, and given that she listens to his first $15$ croaks, what is the probability that she hears the sequence PPPPNNPPPNPPNPN?\n",
    "\n",
    "Give your answer as a fraction $p/q$ in reduced form.\n",
    "\n",
    "## Solution\n",
    "\n",
    "This can be solved with dynamic programming. We define the states as $f(i, k)$ where $i$ represents the current square number, $k$ represents the number of jumps remaining. $f(i, k)$ represents the probability of obtaining the last $k$ letters of the sequence from position $i$. Working backwards, when $k = 0$, the probability of obtaining the last letter of the sequence (N) is $\\frac{2}{3}$ when $i$ is primes and $\\frac{1}{3}$ otherwise. In the case where letter $15 - k$ is P we have\n",
    "\n",
    "\\begin{equation}\n",
    "    f(i, k) = \\left[\\mathbb{1}_{i \\in \\mathcal{P}} \\left(\\frac{2}{3} \\right) + \\mathbb{1}_{i \\notin \\mathcal{P}} \\left(\\frac{1}{3} \\right) \\right] \\left( \\frac{1}{2}f(i - 1, k - 1) + \\frac{1}{2}f(i + 1, k - 1) \\right), \\qquad 1 < i < 500\n",
    "\\end{equation}\n",
    "\n",
    "where $\\mathcal{P}$ is the set of prime numbers and $\\mathbb{1}_{x}$ is the indicator function taking value 1 if condition $x$ is met and 0 otherwise.\n",
    "\n",
    "The cases when $15 - k$ is N or $i$ is 0 or 500 are straightforward to deduce from the equation above.\n",
    "\n",
    "Based on this we implement a dynamic programming solution. When processing a given $k$, we only need the probabilities from the previous $k$ value. Therefore, we keep our ```dp``` table one dimensional. Once we obtain the final vector, we simply need take the average of the 500 values to obtain the solution."
   ]
  },
  {
   "cell_type": "code",
   "execution_count": 4,
   "metadata": {},
   "outputs": [
    {
     "name": "stdout",
     "output_type": "stream",
     "text": [
      "199740353/29386561536000\n"
     ]
    }
   ],
   "source": [
    "import sympy\n",
    "import numpy as np\n",
    "from fractions import Fraction\n",
    "\n",
    "sequence = 'PPPPNNPPPNPPNPN'\n",
    "primes = set(sympy.primerange(500))\n",
    "dp = [1] * 500\n",
    "for k in range(14, -1, -1):\n",
    "    prev_dp = dp\n",
    "    dp = [0] * 500\n",
    "    for i in range(500):\n",
    "        if i + 1 in primes and sequence[k] == 'P':\n",
    "            dp[i] = Fraction(2, 3) * Fraction(1, 2) * (prev_dp[i - 1] + prev_dp[i + 1])\n",
    "        elif i + 1 in primes and sequence[k] == 'N':\n",
    "            dp[i] = Fraction(1, 3) * Fraction(1, 2) * (prev_dp[i - 1] + prev_dp[i + 1])\n",
    "        elif sequence[k] == 'P':\n",
    "            if i == 0:\n",
    "                dp[i] = Fraction(1, 3) * prev_dp[i + 1]\n",
    "            elif i == 499:\n",
    "                dp[i] = Fraction(1, 3) * prev_dp[i - 1]\n",
    "            else:\n",
    "                dp[i] = Fraction(1, 3) * Fraction(1, 2) * (prev_dp[i - 1] + prev_dp[i + 1])\n",
    "        elif sequence[k] == 'N':\n",
    "            if i == 0:\n",
    "                dp[i] = Fraction(2, 3) * prev_dp[i + 1]\n",
    "            elif i == 499:\n",
    "                dp[i] = Fraction(2, 3) * prev_dp[i - 1]\n",
    "            else:\n",
    "                dp[i] = Fraction(2, 3) * Fraction(1, 2) * (prev_dp[i - 1] + prev_dp[i + 1])\n",
    "\n",
    "proba = np.mean(dp)\n",
    "\n",
    "print(f'{proba.numerator}/{proba.denominator}')"
   ]
  },
  {
   "cell_type": "code",
   "execution_count": null,
   "metadata": {},
   "outputs": [],
   "source": []
  }
 ],
 "metadata": {
  "language_info": {
   "name": "python"
  }
 },
 "nbformat": 4,
 "nbformat_minor": 2
}
