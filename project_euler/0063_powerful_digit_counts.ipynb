{
 "cells": [
  {
   "cell_type": "markdown",
   "metadata": {},
   "source": [
    "# 63 - Powerful Digit Counts\n",
    "\n",
    "## Problem Statement\n",
    "\n",
    "The $5$-digit number, $16807=7^5$, is also a fifth power. Similarly, the $9$-digit number, $134217728=8^9$, is a ninth power.\n",
    "\n",
    "How many $n$-digit positive integers exist which are also an $n$th power?\n",
    "\n",
    "## Solution\n",
    "\n",
    "Clearly, the base cannot be greater than 9 as the number of digits will always be greater than the exponent. Therefore, for each base for 1 to 9, we try all exponents until the number of digits gets lower than the exponent and count those where the condition is met."
   ]
  },
  {
   "cell_type": "code",
   "execution_count": 1,
   "metadata": {},
   "outputs": [
    {
     "data": {
      "text/plain": [
       "49"
      ]
     },
     "execution_count": 1,
     "metadata": {},
     "output_type": "execute_result"
    }
   ],
   "source": [
    "res = 0\n",
    "\n",
    "for base in range(1, 10):\n",
    "    exponent = 1\n",
    "    while True:\n",
    "        num = pow(base, exponent)\n",
    "        length = len(str(num))\n",
    "        if length == exponent:\n",
    "            res += 1\n",
    "        elif length < exponent:\n",
    "            break\n",
    "        exponent += 1\n",
    "res"
   ]
  },
  {
   "cell_type": "code",
   "execution_count": null,
   "metadata": {},
   "outputs": [],
   "source": []
  }
 ],
 "metadata": {
  "language_info": {
   "name": "python"
  }
 },
 "nbformat": 4,
 "nbformat_minor": 2
}
