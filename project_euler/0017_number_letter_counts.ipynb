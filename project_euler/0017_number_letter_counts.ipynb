{
 "cells": [
  {
   "cell_type": "markdown",
   "metadata": {},
   "source": [
    "# 17 - Number Letter Counts\n",
    "\n",
    "## Problem Statement\n",
    "\n",
    "If the numbers $1$ to $5$ are written out in words: one, two, three, four, five, then there are $3 + 3 + 5 + 4 + 4 = 19$ letters used in total.\n",
    "\n",
    "If all the numbers from $1$ to $1000$ (one thousand) inclusive were written out in words, how many letters would be used? \n",
    "\n",
    "<p class=\"note\"><b>NOTE:</b> Do not count spaces or hyphens. For example, 342 (three hundred and forty-two) contains 23 letters and 115 (one hundred and fifteen) contains 20 letters. The use of \"and\" when writing out numbers is in compliance with British usage.</p>\n",
    "\n",
    "## Solution\n",
    "\n",
    "We first create a mapping counting the number of letters in the words that are often repeated. \n",
    "\n",
    "Then we simply add each word times the number of times it appears:\n",
    "- 'one thousand' has 11 letters and is seen once.\n",
    "- 'hundred' has 7 letters and is found in 900 numbers (100 to 999). \n",
    "- 'and' has 3 letters and is seen after each hunder except 9 (100, 200, etc)\n",
    "- the numbers from one to 9 are found before each hundred word and at the end of 90 words each.\n",
    "- the numbers 11 to 19 are found 10 times each.\n",
    "- the words twenty, thirty, etc are found 100 times each. "
   ]
  },
  {
   "cell_type": "code",
   "execution_count": 1,
   "metadata": {},
   "outputs": [
    {
     "data": {
      "text/plain": [
       "21124"
      ]
     },
     "execution_count": 1,
     "metadata": {},
     "output_type": "execute_result"
    }
   ],
   "source": [
    "mapping = {\n",
    "    1: 'One',\n",
    "    2: 'Two',\n",
    "    3: 'Three',\n",
    "    4: 'Four',\n",
    "    5: 'Five',\n",
    "    6: 'Six',\n",
    "    7: 'Seven',\n",
    "    8: 'Eight',\n",
    "    9: 'Nine',\n",
    "    10: 'Ten',\n",
    "    11: 'Eleven',\n",
    "    12: 'Twelve',\n",
    "    13: 'Thirteen',\n",
    "    14: 'Fourteen',\n",
    "    15: 'Fifteen',\n",
    "    16: 'Sixteen',\n",
    "    17: 'Seventeen',\n",
    "    18: 'Eighteen',\n",
    "    19: 'Nineteen',\n",
    "    20: 'Twenty',\n",
    "    30: 'Thirty',\n",
    "    40: 'Forty',\n",
    "    50: 'Fifty',\n",
    "    60: 'Sixty',\n",
    "    70: 'Seventy',\n",
    "    80: 'Eighty',\n",
    "    90: 'Ninety',\n",
    "}\n",
    "\n",
    "counter = {}\n",
    "for key, val in mapping.items():\n",
    "    counter[key] = len(val)\n",
    "\n",
    "count = 11 # 1000\n",
    "count += 9 * 99 * 3 # And\n",
    "count += 900 * 7 # Hundred\n",
    "count += (100 + 90) * sum(counter[i] for i in range(1, 10)) # 1 - 9 before hundred and at the end\n",
    "count += 10 * sum(counter[i] for i in range(10, 20)) # 11 - 19\n",
    "count += 100 * sum(counter[i * 10] for i in range(2, 10)) # 10, 20, ..., 90\n",
    "\n",
    "count"
   ]
  },
  {
   "cell_type": "code",
   "execution_count": null,
   "metadata": {},
   "outputs": [],
   "source": []
  }
 ],
 "metadata": {
  "language_info": {
   "name": "python"
  }
 },
 "nbformat": 4,
 "nbformat_minor": 2
}
