{
 "cells": [
  {
   "cell_type": "markdown",
   "metadata": {},
   "source": [
    "# 48 - Self Powers\n",
    "\n",
    "## Problem Statement\n",
    "\n",
    "The series, $1^1 + 2^2 + 3^3 + \\cdots + 10^{10} = 10405071317$.\n",
    "\n",
    "Find the last ten digits of the series, $1^1 + 2^2 + 3^3 + \\cdots + 1000^{1000}$.\n",
    "\n",
    "## Solution\n",
    "\n",
    "We simply compute the sum. Only trick is to keep the last 10 digits only in multiplications when computing $x^x$.\n"
   ]
  },
  {
   "cell_type": "code",
   "execution_count": 1,
   "metadata": {},
   "outputs": [
    {
     "data": {
      "text/plain": [
       "9110846700"
      ]
     },
     "execution_count": 1,
     "metadata": {},
     "output_type": "execute_result"
    }
   ],
   "source": [
    "def n_power_n(n):\n",
    "    result = 1\n",
    "    for _ in range(n):\n",
    "        result = (result * n) % 10**10\n",
    "    return result\n",
    "\n",
    "res = 0\n",
    "for x in range(1, 1001):\n",
    "    res += n_power_n(x)\n",
    "\n",
    "res % 10**10"
   ]
  },
  {
   "cell_type": "code",
   "execution_count": null,
   "metadata": {},
   "outputs": [],
   "source": []
  }
 ],
 "metadata": {
  "language_info": {
   "name": "python"
  }
 },
 "nbformat": 4,
 "nbformat_minor": 2
}
