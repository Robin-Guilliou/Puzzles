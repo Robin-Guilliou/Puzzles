{
 "cells": [
  {
   "cell_type": "markdown",
   "metadata": {},
   "source": [
    "# Red, Green and Blue Tiles\n",
    "\n",
    "## Problem Statement\n",
    "\n",
    "<p>Using a combination of grey square tiles and oblong tiles chosen from: red tiles (measuring two units), green tiles (measuring three units), and blue tiles (measuring four units), it is possible to tile a row measuring five units in length in exactly fifteen different ways.</p>\n",
    "\n",
    "<div class=\"center\">\n",
    "<img src=\"images/0117.png\" alt=\"png117.png\">\n",
    "</div>\n",
    "\n",
    "<p>How many ways can a row measuring fifty units in length be tiled?</p>\n",
    "\n",
    "## Solution\n",
    "\n",
    "This problem can easily be solved using dynamic programming. Here we implement a top down solution. We define a recursive function $f(n)$ that takes as input, $n$, the length of the row (i.e., total number of grey squares) and returns the number of ways to place tiles of length $m$ into $n$ spots. \n",
    "\n",
    "We start with $f(50)$. When calling $f$, a counter is initialised at 1 to account for the case where no coloured tile is selected. Then, we loop through all the possible spots where a tile can be placed. For each spot, we increment the counter by the number of ways in which we can place the tile in the current spot while leaving all the tiles on the left of it uncoloured. The number of such combinations is the number of ways in which we can place tiles to the right of the current tile. This is given by $f(n - m - x)$ when $x$ is the starting position of the current tile and $m$ is the length of the tiles for the current color. We do this for each colour. \n",
    "\n",
    "In case the length of the tile becomes negative, it means we tried to put a tile in a spot that is too small for it. For this base case, the function always returns zero. \n",
    "\n",
    "To avoid unnecessary recomputations, we use a cache to memoise the results."
   ]
  },
  {
   "cell_type": "code",
   "execution_count": 1,
   "metadata": {},
   "outputs": [],
   "source": [
    "from functools import cache\n",
    "\n",
    "@cache\n",
    "def dp(length):\n",
    "    if length < 0:\n",
    "        return 0\n",
    "    count = 1\n",
    "    for x in range(length - 1):\n",
    "        count += dp(length - x - 2)\n",
    "        count += dp(length - x - 3)\n",
    "        count += dp(length - x - 4)\n",
    "    return count"
   ]
  },
  {
   "cell_type": "code",
   "execution_count": 2,
   "metadata": {},
   "outputs": [
    {
     "data": {
      "text/plain": [
       "100808458960497"
      ]
     },
     "execution_count": 2,
     "metadata": {},
     "output_type": "execute_result"
    }
   ],
   "source": [
    "dp(50)"
   ]
  },
  {
   "cell_type": "code",
   "execution_count": null,
   "metadata": {},
   "outputs": [],
   "source": []
  }
 ],
 "metadata": {
  "language_info": {
   "name": "python"
  }
 },
 "nbformat": 4,
 "nbformat_minor": 2
}
