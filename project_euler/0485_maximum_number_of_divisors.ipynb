{
 "cells": [
  {
   "cell_type": "markdown",
   "metadata": {},
   "source": [
    "# 485 - Maximum Number of Divisors\n",
    "\n",
    "## Problem Statement\n",
    "\n",
    "Let $d(n)$ be the number of divisors of $n$.<br>\n",
    "Let $M(n,k)$ be the maximum value of $d(j)$ for $n \\le j \\le n+k-1$.<br>\n",
    "Let $S(u,k)$ be the sum of $M(n,k)$ for $1 \\le n \\le u-k+1$.\n",
    "\n",
    "You are given that $S(1000,10)=17176$.\n",
    "\n",
    "Find $S(100\\,000\\,000, 100\\,000)$.\n",
    "\n",
    "## Solution\n",
    "\n",
    "First we count the divisors for each number from 1 to $u$. \n",
    "\n",
    "Then, we go through the array of divisors and add the (negative of) each divisor to a priority queue (min heap) so that we can always keep the maximum divisor at the first index of the array. We also keep the index of the divisor in the tuple so that we can keep popping the maximum divisors that are outside of the sliding window. As soon as the the length of the rolling window becomes equal to $k$, we start summing the maximum divisor. "
   ]
  },
  {
   "cell_type": "code",
   "execution_count": 1,
   "metadata": {},
   "outputs": [
    {
     "data": {
      "text/plain": [
       "51281274340"
      ]
     },
     "execution_count": 1,
     "metadata": {},
     "output_type": "execute_result"
    }
   ],
   "source": [
    "import heapq\n",
    "import numpy as np\n",
    "from numba import njit\n",
    "\n",
    "\n",
    "@njit\n",
    "def count_divisors(n):\n",
    "    divisors = np.array([0] * (n))\n",
    "    for i in range(1, n + 1):\n",
    "        for j in range(i, n + 1, i):\n",
    "            divisors[j - 1] += 1\n",
    "    return divisors\n",
    "\n",
    "\n",
    "u = 100000000\n",
    "k = 100000\n",
    "\n",
    "divisors = count_divisors(u)\n",
    "\n",
    "res = 0\n",
    "heap = []\n",
    "for n in range(u):\n",
    "    # Push new divisor to priority queue\n",
    "    heapq.heappush(heap, (-divisors[n], n))\n",
    "    # Remove max divisor if below the window start\n",
    "    while heap[0][1] <= n - k:\n",
    "        heapq.heappop(heap)\n",
    "    # Add divisor to total if window length is not less than k\n",
    "    if n >= k - 1:\n",
    "        res += -heap[0][0]\n",
    "\n",
    "res"
   ]
  },
  {
   "cell_type": "code",
   "execution_count": null,
   "metadata": {},
   "outputs": [],
   "source": []
  }
 ],
 "metadata": {
  "language_info": {
   "name": "python"
  }
 },
 "nbformat": 4,
 "nbformat_minor": 2
}
