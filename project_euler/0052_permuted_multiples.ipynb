{
 "cells": [
  {
   "cell_type": "markdown",
   "metadata": {},
   "source": [
    "# 52 - Permuted Multiples\n",
    "\n",
    "## Problem Statement\n",
    "\n",
    "It can be seen that the number, $125874$, and its double, $251748$, contain exactly the same digits, but in a different order.\n",
    "Find the smallest positive integer, $x$, such that $2x$, $3x$, $4x$, $5x$, and $6x$, contain the same digits.\n",
    "\n",
    "## Solution\n",
    "\n",
    "Brute force solution. We increment $x$ until we find one where the condition in met. To check the condition, we simply sort the digits of $x$ and compare this to the sorted digits of the multiples."
   ]
  },
  {
   "cell_type": "code",
   "execution_count": 1,
   "metadata": {},
   "outputs": [
    {
     "data": {
      "text/plain": [
       "142857"
      ]
     },
     "execution_count": 1,
     "metadata": {},
     "output_type": "execute_result"
    }
   ],
   "source": [
    "x = 0\n",
    "while True:\n",
    "    x += 1\n",
    "    digits = sorted(str(x))\n",
    "    if (\n",
    "        sorted(str(2 * x)) == digits and\n",
    "        sorted(str(3 * x)) == digits and\n",
    "        sorted(str(4 * x)) == digits and\n",
    "        sorted(str(5 * x)) == digits and\n",
    "        sorted(str(6 * x)) == digits\n",
    "    ):\n",
    "        break\n",
    "x"
   ]
  },
  {
   "cell_type": "code",
   "execution_count": null,
   "metadata": {},
   "outputs": [],
   "source": []
  }
 ],
 "metadata": {
  "language_info": {
   "name": "python"
  }
 },
 "nbformat": 4,
 "nbformat_minor": 2
}
