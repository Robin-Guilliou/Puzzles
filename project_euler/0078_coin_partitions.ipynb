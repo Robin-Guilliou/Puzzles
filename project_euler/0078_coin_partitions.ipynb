{
 "cells": [
  {
   "cell_type": "markdown",
   "metadata": {},
   "source": [
    "# 78 - Coin Partitions\n",
    "\n",
    "## Problem Statement\n",
    "\n",
    "Let $p(n)$ represent the number of different ways in which $n$ coins can be separated into piles. For example, five coins can be separated into piles in exactly seven different ways, so $p(5)=7$.\n",
    "<div class=\"margin_left\">\n",
    "    OOOOO<br>\n",
    "    OOOO   O<br>\n",
    "    OOO   OO<br>\n",
    "    OOO   O   O<br>\n",
    "    OO   OO   O<br>\n",
    "    OO   O   O   O<br>\n",
    "    O   O   O   O   O\n",
    "</div>\n",
    "Find the least value of $n$ for which $p(n)$ is divisible by one million.\n",
    "\n",
    "## Solution\n",
    "\n",
    "The function $p(n)$ is the partition function. Although it does not have a closed-form solution, it can be calculated using the recurrence relation\n",
    "\n",
    "\\begin{align}\n",
    "    p(n) &= \\sum_{k \\in \\mathbb{Z} \\setminus 0} (-1)^{k+1} p(n - g(k)) \\\\\n",
    "        &= p(n−g(1))+p(n−g(−1))−p(n−g(2))−p(n−g(−2))+p(n−g(3))+ \\cdots\n",
    "\\end{align}\n",
    "\n",
    "where \n",
    "\n",
    "\\begin{equation}\n",
    "    g(k) = \\frac{3k^2 - k}{2}.\n",
    "\\end{equation}\n",
    "\n",
    "We can simply generate $p(n)$ for all $n$ until we find the value of $n$ for which $p(n)$ is divisible by $10^6$."
   ]
  },
  {
   "cell_type": "code",
   "execution_count": 1,
   "metadata": {},
   "outputs": [
    {
     "name": "stdout",
     "output_type": "stream",
     "text": [
      "The answer is 55374.\n"
     ]
    }
   ],
   "source": [
    "### Non-optimized code\n",
    "\n",
    "def generalized_pentagonal_number(k):\n",
    "    return 0.5 * (3*k**2 - k)\n",
    "\n",
    "\n",
    "mod = 10**6\n",
    "p = [1] # Store results of p(n)\n",
    "while True:\n",
    "    k = 1\n",
    "    n = len(p) # current n\n",
    "    p_n = 0 # p(n) for the current n\n",
    "    while True:\n",
    "        # positive k\n",
    "        g = int(generalized_pentagonal_number(k))\n",
    "        if n - g >= 0:\n",
    "            if k % 2 == 1: # alternating +/- signs\n",
    "                p_n += p[n - g]\n",
    "            else:\n",
    "                p_n -= p[n - g]\n",
    "        else:\n",
    "            break\n",
    "        # negative k\n",
    "        g = int(generalized_pentagonal_number(-k))\n",
    "        if n - g >= 0:\n",
    "            if k % 2 == 1:\n",
    "                p_n += p[n - g]\n",
    "            else:\n",
    "                p_n -= p[n - g]\n",
    "        else:\n",
    "            break\n",
    "        k += 1\n",
    "    if p_n % mod == 0:\n",
    "        break\n",
    "    p.append(p_n % mod)\n",
    "\n",
    "print(f'The answer is {len(p)}.')"
   ]
  },
  {
   "cell_type": "code",
   "execution_count": null,
   "metadata": {},
   "outputs": [],
   "source": []
  }
 ],
 "metadata": {
  "language_info": {
   "name": "python"
  }
 },
 "nbformat": 4,
 "nbformat_minor": 2
}
