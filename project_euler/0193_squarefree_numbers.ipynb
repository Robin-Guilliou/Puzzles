{
 "cells": [
  {
   "cell_type": "markdown",
   "metadata": {},
   "source": [
    "# 193 - Squarefree Numbers\n",
    "\n",
    "## Problem Statement\n",
    "\n",
    "A positive integer $n$ is called squarefree, if no square of a prime divides $n$, thus $1, 2, 3, 5, 6, 7, 10, 11$ are squarefree, but not $4, 8, 9, 12$.\n",
    "\n",
    "How many squarefree numbers are there below $2^{50}$?\n",
    "\n",
    "## Solution\n",
    "\n",
    "The number of squarefree numbers below $n$, $S(n)$, is given by \n",
    "\n",
    "\\begin{equation}\n",
    "    S(n) = \\sum_{d = 1}^{\\lfloor \\sqrt{n} \\rfloor} \\mu(d) \\left \\lfloor \\frac{n}{d^2} \\right \\rfloor\n",
    "\\end{equation}\n",
    "\n",
    "where $\\mu$ denotes the Möbius function defined as\n",
    "\n",
    "\\begin{equation}\n",
    "    \\mu(n) = \\begin{cases}\n",
    "        1 & \\text{if } n = 1 \\\\\n",
    "        (-1)^k & \\text{if } n \\text{ is the product of } k \\text{ distinct primes} \\\\\n",
    "        0 & \\text{if } n \\text{ is divisible by a square} > 1\n",
    "\\end{cases}\n",
    "\\end{equation} .\n",
    "\n",
    "We first define a function to compute the value $\\mu(x)$ for $1 \\leq x \\leq \\lfloor \\sqrt{n} \\rfloor$. Then computing $S(n)$ is straightforward using the equation above."
   ]
  },
  {
   "cell_type": "code",
   "execution_count": 1,
   "metadata": {},
   "outputs": [
    {
     "data": {
      "text/plain": [
       "684465067343069"
      ]
     },
     "execution_count": 1,
     "metadata": {},
     "output_type": "execute_result"
    }
   ],
   "source": [
    "from sympy import sieve\n",
    "import numpy as np\n",
    "\n",
    "def mobius_sieve(n):\n",
    "    # Initialize Möbius values\n",
    "    mu = [1] * (n + 1)\n",
    "\n",
    "    # Iterate through primes using SymPy's sieve\n",
    "    for p in sieve.primerange(2, n + 1):  # Generate primes up to n\n",
    "        for k in range(p, n + 1, p):\n",
    "            mu[k] *= -1  # Flip sign for every prime divisor\n",
    "        for k in range(p * p, n + 1, p * p):\n",
    "            mu[k] = 0  # Set to 0 if divisible by a square of a prime\n",
    "\n",
    "    return mu\n",
    "\n",
    "# upper bound\n",
    "n = pow(2, 50)\n",
    "root_n = int(np.sqrt(n))\n",
    "\n",
    "# Generate values of mu(n)\n",
    "mobius_values = mobius_sieve(root_n)\n",
    "\n",
    "# Count squarefree integers\n",
    "res = 0\n",
    "for d in range(1, root_n + 1):\n",
    "    res += mobius_values[d] * np.floor(n / d**2)\n",
    "\n",
    "int(res)"
   ]
  },
  {
   "cell_type": "code",
   "execution_count": null,
   "metadata": {},
   "outputs": [],
   "source": []
  }
 ],
 "metadata": {
  "language_info": {
   "name": "python"
  }
 },
 "nbformat": 4,
 "nbformat_minor": 2
}
