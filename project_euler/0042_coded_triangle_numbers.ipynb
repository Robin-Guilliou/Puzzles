{
 "cells": [
  {
   "cell_type": "markdown",
   "metadata": {},
   "source": [
    "# 42 - Coded Triangle Numbers\n",
    "\n",
    "## Problem Statement\n",
    "\n",
    "The $n$<sup>th</sup> term of the sequence of triangle numbers is given by, $t_n = \\frac12n(n+1)$; so the first ten triangle numbers are:\n",
    "\n",
    "$$1, 3, 6, 10, 15, 21, 28, 36, 45, 55, \\dots$$\n",
    "\n",
    "By converting each letter in a word to a number corresponding to its alphabetical position and adding these values we form a word value. For example, the word value for SKY is $19 + 11 + 25 = 55 = t_{10}$. If the word value is a triangle number then we shall call the word a triangle word.\n",
    "\n",
    "Using <a href=\"inputs/0042_words.txt\">words.txt</a>, a 16K text file containing nearly two-thousand common English words, how many are triangle words?\n",
    "\n",
    "## Solution\n",
    "\n",
    "We first derive an equation to check if a number is triangular. Then we loop through the words, compute the score and add one to the result if it is triangular."
   ]
  },
  {
   "cell_type": "code",
   "execution_count": 3,
   "metadata": {},
   "outputs": [],
   "source": [
    "import math\n",
    "\n",
    "def is_triangular(x):\n",
    "    \"\"\" Check if a number is triangular \"\"\"\n",
    "    y = (-1 + math.sqrt(1 + 8 * x)) / 2\n",
    "    return y == int(y)\n",
    "\n",
    "with open(\"inputs/0042_words.txt\",\"r\") as f:\n",
    "    s = f.read()\n",
    "\n",
    "words = s.replace('\\\"', '').split(',')"
   ]
  },
  {
   "cell_type": "code",
   "execution_count": 4,
   "metadata": {},
   "outputs": [
    {
     "data": {
      "text/plain": [
       "162"
      ]
     },
     "execution_count": 4,
     "metadata": {},
     "output_type": "execute_result"
    }
   ],
   "source": [
    "res = 0\n",
    "for word in words:\n",
    "    score = 0\n",
    "    for char in word:\n",
    "        score += ord(char) - ord('A') + 1\n",
    "    if is_triangular(score):\n",
    "        res += 1\n",
    "res"
   ]
  },
  {
   "cell_type": "code",
   "execution_count": null,
   "metadata": {},
   "outputs": [],
   "source": []
  }
 ],
 "metadata": {
  "language_info": {
   "name": "python"
  }
 },
 "nbformat": 4,
 "nbformat_minor": 2
}
