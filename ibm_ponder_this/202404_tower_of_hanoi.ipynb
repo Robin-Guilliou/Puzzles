{
 "cells": [
  {
   "cell_type": "markdown",
   "metadata": {},
   "source": [
    "# IBM Ponder This - April 2024\n",
    "\n",
    "## Problem Statement\n",
    "\n",
    "The Tower of Hanoi game consists of three rods and n disks of different sizes (denoted by $1,2,\\ldots,n$) that can slide onto any rod. The initial state of the game consists of all the disks on one rod in ascending order, with disk 1 , the smallest and lightest of the disks on top.\n",
    "\n",
    "Each move in the game consists of choosing one rod, picking up the top disk from that rod, and placing it on another rod. Such a move is allowed only if the disk being moved is smaller than the top disk on the target rod, or if the target rod is empty.\n",
    "\n",
    "If the three rods are placed on different points on a circle, at any given state, there are three possible moves:\n",
    "0. Take disk \"1\" from its rod and move it clockwise to another rod.\n",
    "1. Take disk \"1\" from its rod and move it counterclockwise to another rod.\n",
    "2. Take a disk which is not \"1\" and move it to another rod.\n",
    "\n",
    "Move 2 will not always be available, such as when all the disks are currently located on one rod. In such instances, we say that Move 2 does nothing. In all other cases, there is only one legal way to perform Move 2.\n",
    "\n",
    "We can describe the flow of games using a string describing moves. For example, \"0202020\", when performed on the initial state of a game with $n=3$ , moves all the disks one rod clockwise. We call the state where all the disks are on the clockwise-located rod the winning state of the game. Another way to describe that game is with the string \"02\" which must be performed for exactly 7 steps, with the convention that once the end of the string is reached, we start over at the beginning. It can be shown that the $n$-disk game is won by using the string \"02\" for $2^n-1$ steps with $n$ odd, and \"12\" for $2^n-1$ steps with $n$ even.\n",
    "\n",
    "For example, when $n=3$ and the move string is \"0202112\", after 8 steps the winning step is reached, and the next step does nothing, so we say the winning state is reached both on step 8 and step 9. Similarly, for $n=4$ and move string \"200211\", the winning state is reached after 41 and 122 moves.\n",
    "\n",
    "However, if we start two simultaneous games, one with $n=3$ and \"0202112\", and the other with $n=4$ and \"200211\", and perform each step in both games at the same time, both games will reach a winning state together for the first time after 932 steps.\n",
    "\n",
    "Your Goal: For the two games defined by $n=7$ and \"12021121120020211202121\", and $n=10$ and \"0211202112002\", find the minimal number of steps at which both games reach a winning state at the same time.\n",
    "\n",
    "A Bonus \"*\" will be given for finding the minimal number of steps such that both the above games and also the game defined by $n=9$ and \"20202020021212121121202120200202002121120202\n",
    "112021120020021120211211202002112021120211200212112020212120211\" reach a winning state for the first time.\n",
    "\n",
    "## Solution\n",
    "\n",
    "We create a function to simulate the game and count the number of steps between consecutive winning positions. Then, we find the smallest repeating sequence of number of moves between 2 winning positions. Once we have this for several games, we can simply generate all the winning states for all the games and find the first one where they all match."
   ]
  },
  {
   "cell_type": "code",
   "execution_count": 1,
   "metadata": {},
   "outputs": [],
   "source": [
    "import time\n",
    "\n",
    "def get_new_pos(rods, n, pos, move):\n",
    "    if move == '0':\n",
    "        if pos == 0:\n",
    "            rods[1].append(rods[0].pop())\n",
    "            pos = 1\n",
    "        elif pos == 1:\n",
    "            rods[2].append(rods[1].pop())\n",
    "            pos = 2\n",
    "        else:\n",
    "            rods[0].append(rods[2].pop())\n",
    "            pos = 0\n",
    "    elif move == '1':\n",
    "        if pos == 0:\n",
    "            rods[2].append(rods[0].pop())\n",
    "            pos = 2\n",
    "        elif pos == 1:\n",
    "            rods[0].append(rods[1].pop())\n",
    "            pos = 0\n",
    "        else:\n",
    "            rods[1].append(rods[2].pop())\n",
    "            pos = 1\n",
    "    elif len(rods[0]) != n and len(rods[1]) != n and len(rods[2]) != n:\n",
    "        if pos == 0:\n",
    "            if len(rods[1]) == 0:\n",
    "                rods[1].append(rods[2].pop())\n",
    "            elif len(rods[2]) == 0:\n",
    "                rods[2].append(rods[1].pop())\n",
    "            elif rods[1][-1] < rods[2][-1]:\n",
    "                rods[2].append(rods[1].pop())\n",
    "            else:\n",
    "                rods[1].append(rods[2].pop())\n",
    "        elif pos == 1:\n",
    "            if len(rods[0]) == 0:\n",
    "                rods[0].append(rods[2].pop())\n",
    "            elif len(rods[2]) == 0:\n",
    "                rods[2].append(rods[0].pop())\n",
    "            elif rods[0][-1] < rods[2][-1]:\n",
    "                rods[2].append(rods[0].pop())\n",
    "            else:\n",
    "                rods[0].append(rods[2].pop())\n",
    "        if pos == 2:\n",
    "            if len(rods[1]) == 0:\n",
    "                rods[1].append(rods[0].pop())\n",
    "            elif len(rods[0]) == 0:\n",
    "                rods[0].append(rods[1].pop())\n",
    "            elif rods[1][-1] < rods[0][-1]:\n",
    "                rods[0].append(rods[1].pop())\n",
    "            else:\n",
    "                rods[1].append(rods[0].pop())\n",
    "    return rods, pos\n",
    "\n",
    "\n",
    "def get_repeating_sequence(n, sequence, run_time):\n",
    "    \"\"\" Simulate the game and find smallest repeating subsequence of number of moves between winning states \"\"\"\n",
    "    rods = [[i for i in range(1, n + 1)][::-1], [], []]\n",
    "    total_count = 0\n",
    "    i = 0\n",
    "    pos1 = 0\n",
    "    res = []\n",
    "    start_time = time.time()\n",
    "    # Simulate the game for some time\n",
    "    while time.time() < start_time + run_time:\n",
    "        if i == len(sequence):\n",
    "            i = 0\n",
    "        move = sequence[i]\n",
    "        rods, pos1 = get_new_pos(rods, n, pos1, move)\n",
    "        i += 1\n",
    "        total_count += 1\n",
    "        if len(rods[1]) == n:\n",
    "            res.append(total_count)\n",
    "    # Comute the number of moves between consecutive winning states\n",
    "    diff = []\n",
    "    for i in range(1, len(res)):\n",
    "        diff.append(res[i] - res[i - 1])\n",
    "    # Find smallest repeating sequence\n",
    "    seq = find_smallest_repeating_sequence(diff)\n",
    "    a = res[0]\n",
    "    return a, seq\n",
    "\n",
    "\n",
    "def sequence_repeats(subsequence, lst):\n",
    "    \"\"\"Check if a given subsequence repeats in the list, allowing for incomplete\n",
    "    repetition at the end.\"\"\"\n",
    "    n = len(subsequence)\n",
    "    for i in range(0, len(lst), n):\n",
    "        # Handle incomplete pattern at the end\n",
    "        if i + n > len(lst):\n",
    "            if subsequence[:len(lst)-i] != lst[i:]:\n",
    "                return False\n",
    "        else:\n",
    "            if subsequence != lst[i:i+n]:\n",
    "                return False\n",
    "    return True\n",
    "\n",
    "\n",
    "def find_smallest_repeating_sequence(lst):\n",
    "    smallest_len = 20\n",
    "    smallest_seq = []\n",
    "    for seq_len in range(1, 20):  # Iterate through all possible lengths\n",
    "        for i in range(len(lst) - seq_len + 1):\n",
    "            current_seq = lst[i:i + seq_len]\n",
    "            if sequence_repeats(current_seq, lst):\n",
    "                if seq_len < smallest_len:\n",
    "                    smallest_len = seq_len\n",
    "                    smallest_seq = current_seq\n",
    "                    break  # Found the smallest repeating sequence so far, no need to continue\n",
    "        if smallest_seq:  # If we've found a sequence, no need to check longer lengths\n",
    "            break\n",
    "    return smallest_seq\n",
    "\n",
    "\n",
    "def find_matching_sequence(a1, a2, seq1, seq2):\n",
    "    list1 = [a1]\n",
    "    list2 = [a2]\n",
    "    i = 0\n",
    "    j = 0\n",
    "    start_time = time.time()\n",
    "    while time.time() < start_time + 20:\n",
    "        if i == len(seq1):\n",
    "            i = 0\n",
    "        list1.append(list1[-1] + seq1[i])\n",
    "        i += 1\n",
    "        if j == len(seq2):\n",
    "            j = 0\n",
    "        list2.append(list2[-1] + seq2[j])\n",
    "        j += 1\n",
    "\n",
    "    res = []\n",
    "    i, j = 0, 0\n",
    "    while i < len(list1) and j < len(list2):\n",
    "        if list1[i] == list2[j]:\n",
    "            res.append(list1[i])\n",
    "            i += 1\n",
    "            j += 1\n",
    "        elif list1[i] < list2[j]:\n",
    "            i += 1\n",
    "        else:\n",
    "            j += 1\n",
    "    diff = []\n",
    "    for i in range(1, len(res)):\n",
    "        diff.append(res[i] - res[i - 1])\n",
    "\n",
    "    return res[0], find_smallest_repeating_sequence(diff)"
   ]
  },
  {
   "cell_type": "code",
   "execution_count": 2,
   "metadata": {},
   "outputs": [
    {
     "name": "stdout",
     "output_type": "stream",
     "text": [
      "1404\n",
      "[1, 2798, 1, 8378]\n"
     ]
    }
   ],
   "source": [
    "n = 7\n",
    "sequence = \"12021121120020211202121\"\n",
    "\n",
    "a1, seq1 = get_repeating_sequence(n, sequence, 10)\n",
    "\n",
    "print(a1)\n",
    "print(seq1)"
   ]
  },
  {
   "cell_type": "code",
   "execution_count": 3,
   "metadata": {},
   "outputs": [
    {
     "name": "stdout",
     "output_type": "stream",
     "text": [
      "4429\n",
      "[1, 6655]\n"
     ]
    }
   ],
   "source": [
    "n = 10\n",
    "sequence = \"0211202112002\"\n",
    "\n",
    "a2, seq2 = get_repeating_sequence(n, sequence, 10)\n",
    "\n",
    "print(a2)\n",
    "print(seq2)"
   ]
  },
  {
   "cell_type": "code",
   "execution_count": 4,
   "metadata": {},
   "outputs": [
    {
     "name": "stdout",
     "output_type": "stream",
     "text": [
      "86943\n",
      "[8, 718, 1, 58204, 23, 267, 1, 67, 1, 9, 9, 1, 174700]\n"
     ]
    }
   ],
   "source": [
    "n = 9\n",
    "sequence = \"20202020021212121121202120200202002121120202112021120020021120211211202002112021120211200212112020212120211\"\n",
    "\n",
    "a3, seq3 = get_repeating_sequence(n, sequence, 10)\n",
    "\n",
    "print(a3)\n",
    "print(seq3)"
   ]
  },
  {
   "cell_type": "code",
   "execution_count": 5,
   "metadata": {},
   "outputs": [
    {
     "name": "stdout",
     "output_type": "stream",
     "text": [
      "Answer for 2 games is 16511310.\n"
     ]
    }
   ],
   "source": [
    "a12, seq12 = find_matching_sequence(a1, a2, seq1, seq2)\n",
    "print(f'Answer for 2 games is {a12}.')"
   ]
  },
  {
   "cell_type": "code",
   "execution_count": 6,
   "metadata": {},
   "outputs": [
    {
     "name": "stdout",
     "output_type": "stream",
     "text": [
      "Answer for 3 games is 1169723214.\n"
     ]
    }
   ],
   "source": [
    "a123, seq123 = find_matching_sequence(a12, a3, seq12, seq3)\n",
    "print(f'Answer for 3 games is {a123}.')"
   ]
  },
  {
   "cell_type": "code",
   "execution_count": 7,
   "metadata": {},
   "outputs": [
    {
     "data": {
      "text/plain": [
       "1169723214"
      ]
     },
     "execution_count": 7,
     "metadata": {},
     "output_type": "execute_result"
    }
   ],
   "source": [
    "# Other method to match the three lists directly without using the intermediary sequence\n",
    "\n",
    "def find_lowest_matching_number(list1, list2, list3):\n",
    "    i, j, k = 0, 0, 0\n",
    "    while i < len(list1) and j < len(list2) and k < len(list3):\n",
    "        # Check if all three elements are the same\n",
    "        if list1[i] == list2[j] == list3[k]:\n",
    "            return list1[i]\n",
    "\n",
    "        # Find the smallest element and increment the respective pointer\n",
    "        min_val = min(list1[i], list2[j], list3[k])\n",
    "        if list1[i] == min_val:\n",
    "            i += 1\n",
    "        if list2[j] == min_val:\n",
    "            j += 1\n",
    "        if list3[k] == min_val:\n",
    "            k += 1\n",
    "    return None\n",
    "\n",
    "list1 = [a1]\n",
    "list2 = [a2]\n",
    "list3 = [a3]\n",
    "i = 0\n",
    "j = 0\n",
    "k = 0\n",
    "start_time = time.time()\n",
    "while time.time() < start_time + 20:\n",
    "    if i == len(seq1):\n",
    "        i = 0\n",
    "    list1.append(list1[-1] + seq1[i])\n",
    "    i += 1\n",
    "    if j == len(seq2):\n",
    "        j = 0\n",
    "    list2.append(list2[-1] + seq2[j])\n",
    "    j += 1\n",
    "    if k == len(seq3):\n",
    "        k = 0\n",
    "    list3.append(list3[-1] + seq3[k])\n",
    "    k += 1\n",
    "\n",
    "find_lowest_matching_number(list1, list2, list3)"
   ]
  },
  {
   "cell_type": "code",
   "execution_count": null,
   "metadata": {},
   "outputs": [],
   "source": []
  }
 ],
 "metadata": {
  "kernelspec": {
   "display_name": "base",
   "language": "python",
   "name": "python3"
  },
  "language_info": {
   "codemirror_mode": {
    "name": "ipython",
    "version": 3
   },
   "file_extension": ".py",
   "mimetype": "text/x-python",
   "name": "python",
   "nbconvert_exporter": "python",
   "pygments_lexer": "ipython3",
   "version": "3.9.13"
  }
 },
 "nbformat": 4,
 "nbformat_minor": 2
}
