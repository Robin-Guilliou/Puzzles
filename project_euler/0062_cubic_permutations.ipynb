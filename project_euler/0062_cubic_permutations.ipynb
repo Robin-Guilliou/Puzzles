{
 "cells": [
  {
   "cell_type": "markdown",
   "metadata": {},
   "source": [
    "# 62 - Cubic Permutations\n",
    "\n",
    "## Problem Statement\n",
    "\n",
    "The cube, $41063625$ ($345^3$), can be permuted to produce two other cubes: $56623104$ ($384^3$) and $66430125$ ($405^3$). In fact, $41063625$ is the smallest cube which has exactly three permutations of its digits which are also cube.\n",
    "\n",
    "Find the smallest cube for which exactly five permutations of its digits are cube.\n",
    "\n",
    "\n",
    "## Solution\n",
    "\n",
    "We generate all the cubes in order. For each cube, we sort the digits and count the frequency of occurrence of the sorted string and keep the corresponding cubes. When a value is found 5 times, the first cube corresponding to the sorted string is the answer."
   ]
  },
  {
   "cell_type": "code",
   "execution_count": 1,
   "metadata": {},
   "outputs": [
    {
     "name": "stdout",
     "output_type": "stream",
     "text": [
      "The answer is 127035954683.\n"
     ]
    }
   ],
   "source": [
    "from collections import defaultdict\n",
    "\n",
    "hmap = defaultdict(list)\n",
    "x = 1\n",
    "while True:\n",
    "    cube = x**3\n",
    "    s = \"\".join(sorted(str(cube)))\n",
    "    hmap[s].append(cube)\n",
    "    if len(hmap[s]) == 5:\n",
    "        break\n",
    "    x += 1\n",
    "\n",
    "print(f'The answer is {hmap[s][0]}.')"
   ]
  },
  {
   "cell_type": "code",
   "execution_count": null,
   "metadata": {},
   "outputs": [],
   "source": []
  }
 ],
 "metadata": {
  "language_info": {
   "name": "python"
  }
 },
 "nbformat": 4,
 "nbformat_minor": 2
}
