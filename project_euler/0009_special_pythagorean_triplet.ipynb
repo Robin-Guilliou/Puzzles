{
 "cells": [
  {
   "cell_type": "markdown",
   "metadata": {},
   "source": [
    "# 9 - Special Pythagorean Triplet\n",
    "\n",
    "## Problem Statement\n",
    "\n",
    "A Pythagorean triplet is a set of three natural numbers, $a \\lt b \\lt c$, for which,\n",
    "$$a^2 + b^2 = c^2.$$\n",
    "For example, $3^2 + 4^2 = 9 + 16 = 25 = 5^2$.\n",
    "There exists exactly one Pythagorean triplet for which $a + b + c = 1000$.<br>Find the product $abc$.\n",
    "\n",
    "## Solution\n",
    "\n",
    "$O(n^2)$ implementation with a few optimisations. The proper way is to use a method like Euclid's formula to generate the triplets directly but I did not know it the first time I solved this problem."
   ]
  },
  {
   "cell_type": "code",
   "execution_count": 1,
   "metadata": {},
   "outputs": [],
   "source": [
    "def special_pythagorean_triplet():\n",
    "    for a in range(1, 333):\n",
    "        for b in range(a + 1, (1000 - a) // 2):\n",
    "            c = 1000 - a - b\n",
    "            if a**2 + b**2 == c**2:\n",
    "                return a * b * c\n",
    "    return -1"
   ]
  },
  {
   "cell_type": "code",
   "execution_count": 2,
   "metadata": {},
   "outputs": [
    {
     "data": {
      "text/plain": [
       "31875000"
      ]
     },
     "execution_count": 2,
     "metadata": {},
     "output_type": "execute_result"
    }
   ],
   "source": [
    "special_pythagorean_triplet()"
   ]
  },
  {
   "cell_type": "code",
   "execution_count": null,
   "metadata": {},
   "outputs": [],
   "source": []
  }
 ],
 "metadata": {
  "language_info": {
   "name": "python"
  }
 },
 "nbformat": 4,
 "nbformat_minor": 2
}
