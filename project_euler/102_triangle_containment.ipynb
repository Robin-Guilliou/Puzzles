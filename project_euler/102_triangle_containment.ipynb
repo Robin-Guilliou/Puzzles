{
 "cells": [
  {
   "cell_type": "markdown",
   "metadata": {},
   "source": [
    "# 102 - Triangle Containment\n",
    "\n",
    "## Problem Statement\n",
    "\n",
    "Three distinct points are plotted at random on a Cartesian plane, for which $-1000 \\le x, y \\le 1000$, such that a triangle is formed.\n",
    "\n",
    "Consider the following two triangles:\n",
    "\n",
    "\\begin{gather}\n",
    "A(-340,495), B(-153,-910), C(835,-947)\\\\\n",
    "X(-175,41), Y(-421,-714), Z(574,-645)\n",
    "\\end{gather}\n",
    "\n",
    "It can be verified that triangle $ABC$ contains the origin, whereas triangle $XYZ$ does not.\n",
    "\n",
    "<p>Using <a href=\"resources/documents/0102_triangles.txt\">triangles.txt</a>, a 27K text file containing the co-ordinates of one thousand \"random\" triangles, find the number of triangles for which the interior contains the origin.</p>\n",
    "\n",
    "<p class=\"smaller\">NOTE: The first two examples in the file represent the triangles in the example given above.</p>\n",
    "\n",
    "## Solution\n",
    "\n",
    "There are many ways to solve this problem. One solution is to compare the vertices of the convex hull of the triangle with the convex hull obtained when adding the point $(0, 0)$ to the three points forming the triangle. If the two convex hulls have the same vertices, the origin is contained within the triangle.\n",
    "\n",
    "Here we use scipy to determine the convex hull."
   ]
  },
  {
   "cell_type": "code",
   "execution_count": 1,
   "metadata": {},
   "outputs": [],
   "source": [
    "def read_and_convert(filename):\n",
    "    result = []\n",
    "    with open(filename, 'r') as file:\n",
    "        for line in file:\n",
    "            # Split the line into numbers\n",
    "            numbers = list(map(int, line.strip().split(',')))\n",
    "            # Group numbers into tuples of two elements each\n",
    "            row = [(numbers[i], numbers[i+1]) for i in range(0, len(numbers), 2)]\n",
    "            # Append the list of tuples to the result list\n",
    "            result.append(row)\n",
    "    return result\n",
    "\n",
    "# Usage\n",
    "filename = '0102_triangles.txt'\n",
    "triangles = read_and_convert(filename)"
   ]
  },
  {
   "cell_type": "code",
   "execution_count": 2,
   "metadata": {},
   "outputs": [
    {
     "data": {
      "text/plain": [
       "228"
      ]
     },
     "execution_count": 2,
     "metadata": {},
     "output_type": "execute_result"
    }
   ],
   "source": [
    "import numpy as np\n",
    "from scipy.spatial import ConvexHull\n",
    "\n",
    "count = 0\n",
    "for triangle in triangles:\n",
    "    hull1 = ConvexHull(triangle)\n",
    "    hull2 = ConvexHull(triangle + [(0, 0)])\n",
    "    if np.array_equal(hull1.vertices, hull2.vertices):\n",
    "        count += 1\n",
    "\n",
    "count"
   ]
  },
  {
   "cell_type": "code",
   "execution_count": null,
   "metadata": {},
   "outputs": [],
   "source": []
  }
 ],
 "metadata": {
  "language_info": {
   "name": "python"
  }
 },
 "nbformat": 4,
 "nbformat_minor": 2
}
