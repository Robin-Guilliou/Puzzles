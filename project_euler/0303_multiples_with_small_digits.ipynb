{
 "cells": [
  {
   "cell_type": "markdown",
   "metadata": {},
   "source": [
    "# 303 - Multiples with Small Digits\n",
    "\n",
    "## Problem Statement\n",
    "\n",
    "For a positive integer $n$, define $f(n)$ as the least positive multiple of $n$ that, written in base $10$, uses only digits $\\le 2$.\n",
    "\n",
    "Thus $f(2)=2$, $f(3)=12$, $f(7)=21$, $f(42)=210$, $f(89)=1121222$.\n",
    "\n",
    "Also, $\\sum \\limits_{n = 1}^{100} {\\dfrac{f(n)}{n}} = 11363107$.\n",
    "\n",
    "Find $\\sum \\limits_{n=1}^{10000} {\\dfrac{f(n)}{n}}$.\n",
    "\n",
    "## Solution\n",
    "\n",
    "First, note that the solution below is far from optimal. \n",
    "\n",
    "We recursively generate all the numbers with only digits lower or equal to two. Then, for each candidate, we generate all the divisors below 10000. For each divisor, $n$, that has never been encountered, we add $\\frac{f(n)}{n}$ to a running sum storing the results. When generating all the candidates with 15 digits or less, a few values of $n$ are never found (4995, 9990 and 9999). For these, we look for a pattern. Looking at 9, 99 and 999, we observe that the multiple for 9 is 12222 (one 1 followed by four 2), the multiple for 99 is 1122222222 (two 1 followed by eight 2) and the multiple for 999 is 111222222222222 (three 1 followed by twelve 2). Naturally, we guess that the multiple for 9999 is 11112222222222222222 (four 1 followed by sixteen 2). A similar pattern is found for 4995 and 9990 and for both of them the multiple is 10 times the multiple for 999.\n",
    "\n",
    "As often, we can use numba to speed up computations."
   ]
  },
  {
   "cell_type": "code",
   "execution_count": 5,
   "metadata": {},
   "outputs": [
    {
     "data": {
      "text/plain": [
       "1111981904675169"
      ]
     },
     "execution_count": 5,
     "metadata": {},
     "output_type": "execute_result"
    }
   ],
   "source": [
    "from numba import jit, njit\n",
    "import numpy as np\n",
    "\n",
    "def generate_numbers_recursively(current_number, max_digits, results, is_first_digit=True):\n",
    "    # Append new number to results\n",
    "    if current_number > 0:\n",
    "        results.append(current_number)\n",
    "\n",
    "    # Avoid zero in first digit\n",
    "    if len(str(current_number)) < max_digits:\n",
    "        if is_first_digit:\n",
    "            next_digits = [1, 2]\n",
    "        else:\n",
    "            next_digits = [0, 1, 2]\n",
    "\n",
    "        for digit in next_digits:\n",
    "            # Build the next number by shifting the current number one decimal place and adding the new digit\n",
    "            new_number = current_number * 10 + digit\n",
    "            generate_numbers_recursively(new_number, max_digits, results, False)\n",
    "\n",
    "def generate_all_numbers(max_digits):\n",
    "    results = []\n",
    "    generate_numbers_recursively(0, max_digits, results)\n",
    "    return results\n",
    "\n",
    "@njit\n",
    "def divisors_below_x(n, x):\n",
    "    divisors = []\n",
    "    limit = min(x + 1, int(np.sqrt(n)) + 1)\n",
    "    for i in range(1, limit):\n",
    "        if n % i == 0:\n",
    "            if i < x:\n",
    "                divisors.append(i)\n",
    "            if n // i < x and n // i != i:\n",
    "                divisors.append(n // i)\n",
    "    return divisors\n",
    "\n",
    "@njit\n",
    "def compute_sum(candidate_multiples, remaining):\n",
    "    res = 0\n",
    "    count = 0\n",
    "    for num in candidate_multiples:\n",
    "        divisors = divisors_below_x(num, 10001)\n",
    "        for d in divisors:\n",
    "            if remaining[d] == True:\n",
    "                res += num / d\n",
    "                count += 1\n",
    "                remaining[d] = False\n",
    "        if count == 10000 - 3:\n",
    "            break\n",
    "    return res\n",
    "\n",
    "max_digits = 15\n",
    "candidate_multiples = generate_all_numbers(max_digits)\n",
    "\n",
    "remaining = np.array([True] * 10001)\n",
    "\n",
    "res = compute_sum(np.sort(candidate_multiples), remaining) + 1112222222222220 / 4995 + 1112222222222220 / 9990 + 11112222222222222222 / 9999\n",
    "\n",
    "int(res)"
   ]
  },
  {
   "cell_type": "code",
   "execution_count": null,
   "metadata": {},
   "outputs": [],
   "source": []
  }
 ],
 "metadata": {
  "language_info": {
   "name": "python"
  }
 },
 "nbformat": 4,
 "nbformat_minor": 2
}
