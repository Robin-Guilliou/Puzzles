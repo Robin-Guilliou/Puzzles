{
 "cells": [
  {
   "cell_type": "markdown",
   "metadata": {},
   "source": [
    "# 719 - Number Splitting\n",
    "\n",
    "## Problem Statement\n",
    "\n",
    "We define an $S$-number to be a natural number, $n$, that is a perfect square and its square root can be obtained by splitting the decimal representation of $n$ into $2$ or more numbers then adding the numbers.\n",
    "\n",
    "For example, $81$ is an $S$-number because $\\sqrt{81} = 8+1$.<br>\n",
    "$6724$ is an $S$-number: $\\sqrt{6724} = 6+72+4$. <br>\n",
    "$8281$ is an $S$-number: $\\sqrt{8281} = 8+2+81 = 82+8+1$.<br>\n",
    "$9801$ is an $S$-number: $\\sqrt{9801}=98+0+1$.\n",
    "\n",
    "Further we define $T(N)$ to be the sum of all $S$ numbers $n\\le N$. You are given $T(10^4) = 41333$.\n",
    "\n",
    "Find $T(10^{12})$.\n",
    "\n",
    "## Solution"
   ]
  },
  {
   "cell_type": "code",
   "execution_count": 1,
   "metadata": {},
   "outputs": [
    {
     "data": {
      "text/plain": [
       "128088830547982"
      ]
     },
     "execution_count": 1,
     "metadata": {},
     "output_type": "execute_result"
    }
   ],
   "source": [
    "from math import isqrt\n",
    "\n",
    "def digit_sum_check(k):\n",
    "    # Sum of digits of k^2 modulo 9 should equal sum of digits of k modulo 9\n",
    "    sum_k = sum(int(d) for d in str(k))\n",
    "    sum_n = sum(int(d) for d in str(k * k))\n",
    "    return sum_k % 9 == sum_n % 9\n",
    "\n",
    "\n",
    "def is_s_number(n, k):\n",
    "    digits = str(n)\n",
    "    length = len(digits)\n",
    "    dp = [set() for _ in range(length + 1)]\n",
    "    dp[0].add(0)\n",
    "\n",
    "    for i in range(1, length + 1):\n",
    "        for j in range(i):\n",
    "            num = int(digits[j:i])\n",
    "            for prev_sum in dp[j]:\n",
    "                dp[i].add(prev_sum + num)\n",
    "\n",
    "    return k in dp[length]\n",
    "\n",
    "\n",
    "def T(N):\n",
    "    sum_s_numbers = 0\n",
    "    max_k = isqrt(N)\n",
    "\n",
    "    for k in range(4, max_k + 1):\n",
    "        if not digit_sum_check(k):\n",
    "            continue  # Skip k if the digit sum check fails\n",
    "\n",
    "        n = k * k\n",
    "        if is_s_number(n, k):\n",
    "            sum_s_numbers += n\n",
    "\n",
    "    return sum_s_numbers\n",
    "\n",
    "# Calculate T(10^12)\n",
    "res = T(10**12)\n",
    "res"
   ]
  },
  {
   "cell_type": "code",
   "execution_count": null,
   "metadata": {},
   "outputs": [],
   "source": []
  }
 ],
 "metadata": {
  "language_info": {
   "name": "python"
  }
 },
 "nbformat": 4,
 "nbformat_minor": 2
}
