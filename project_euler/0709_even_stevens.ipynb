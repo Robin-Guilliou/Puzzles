{
 "cells": [
  {
   "cell_type": "markdown",
   "metadata": {},
   "source": [
    "# 709 - Even Stevens\n",
    "\n",
    "## Problem Statement\n",
    "\n",
    "Every day for the past $n$ days Even Stevens brings home his groceries in a plastic bag. He stores these plastic bags in a cupboard. He either puts the plastic bag into the cupboard with the rest, or else he takes an <b>even</b> number of the existing bags (which may either be empty or previously filled with other bags themselves) and places these into the current bag.\n",
    "\n",
    "<p>After 4 days there are 5 possible packings and if the bags are numbered 1 (oldest), 2, 3, 4, they are:</p>\n",
    "<ul><li>Four empty bags,</li>\n",
    "<li>1 and 2 inside 3, 4 empty,</li>\n",
    "<li>1 and 3 inside 4, 2 empty,</li>\n",
    "<li>1 and 2 inside 4, 3 empty,</li>\n",
    "<li>2 and 3 inside 4, 1 empty.</li>\n",
    "</ul><p>Note that 1, 2, 3 inside 4 is invalid because every bag must contain an even number of bags.</p>\n",
    "\n",
    "Define $f(n)$ to be the number of possible packings of $n$ bags. Hence $f(4)=5$. You are also given $f(8)=1\\,385$.\n",
    "\n",
    "Find $f(24\\,680)$ giving your answer modulo $1\\,020\\,202\\,009$.\n",
    "\n",
    "## Solution\n",
    "\n",
    "As a first step, we simulate the possible packings and count the frequency of the number of bags at each step. An interesting observation is that in odd days, the ending number of bags is always odd and on even days the ending number of bags is always even. Because every even combination can result in a single on the next day, the number of combinations with one bag on odd days is equal to the sum of all the combinations on the previous even day. As day 24680 is even, the total is the number of combinations is equal to the number of combinations with one bag on day 24681. \n",
    "\n",
    "The sequence for the number of one bag combination is $1, 5, 61, 1385, \\cdots$. Those are the secant numbers (or Euler numbers). Therefore, we simply need an algorithm to find the $\\left ( \\frac{n}{2} \\right )$-th secant number modulo $1\\,020\\,202\\,009$. We implement the $O(n^2)$ algorithm from [this paper](https://arxiv.org/abs/1108.0286).\n"
   ]
  },
  {
   "cell_type": "code",
   "execution_count": 1,
   "metadata": {},
   "outputs": [
    {
     "name": "stdout",
     "output_type": "stream",
     "text": [
      "{1: 1}\n",
      "defaultdict(<class 'int'>, {2: 1})\n",
      "defaultdict(<class 'int'>, {3: 1, 1: 1})\n",
      "defaultdict(<class 'int'>, {4: 1, 2: 4})\n",
      "defaultdict(<class 'int'>, {5: 1, 3: 10, 1: 5})\n",
      "defaultdict(<class 'int'>, {6: 1, 4: 20, 2: 40})\n",
      "defaultdict(<class 'int'>, {7: 1, 5: 35, 3: 175, 1: 61})\n",
      "defaultdict(<class 'int'>, {8: 1, 6: 56, 4: 560, 2: 768})\n",
      "defaultdict(<class 'int'>, {9: 1, 7: 84, 5: 1470, 3: 4996, 1: 1385})\n",
      "defaultdict(<class 'int'>, {10: 1, 8: 120, 6: 3360, 4: 22720, 2: 24320})\n",
      "defaultdict(<class 'int'>, {11: 1, 9: 165, 7: 6930, 5: 81730, 3: 214445, 1: 50521})\n",
      "defaultdict(<class 'int'>, {12: 1, 10: 220, 8: 13200, 6: 248512, 4: 1288320, 2: 1152512})\n",
      "defaultdict(<class 'int'>, {13: 1, 11: 286, 9: 23595, 7: 665236, 5: 5986695, 3: 12989678, 1: 2702765})\n",
      "defaultdict(<class 'int'>, {14: 1, 12: 364, 10: 40040, 8: 1610752, 6: 23063040, 4: 98169344, 2: 76477440})\n",
      "defaultdict(<class 'int'>, {15: 1, 13: 455, 11: 65065, 9: 3595735, 7: 76911835, 5: 565457165, 3: 1058366075, 1: 199360981})\n",
      "defaultdict(<class 'int'>, {16: 1, 14: 560, 12: 101920, 10: 7504640, 8: 228616960, 6: 1644114919, 4: 1556143928, 2: 1672201091})\n",
      "defaultdict(<class 'int'>, {17: 1, 15: 680, 13: 154700, 11: 14799928, 9: 618470710, 7: 1555611895, 5: 2019759724, 3: 1608469564, 1: 2048077992})\n",
      "defaultdict(<class 'int'>, {18: 1, 16: 816, 14: 228480, 12: 27807104, 10: 1546504960, 8: 2449141909, 6: 2330401808, 4: 3165314044, 2: 2986565214})\n",
      "defaultdict(<class 'int'>, {19: 1, 17: 969, 15: 329460, 13: 50102468, 11: 1576656572, 9: 1826285960, 7: 1735631780, 5: 1493752710, 3: 3120950157, 1: 2303944246})\n",
      "defaultdict(<class 'int'>, {20: 1, 18: 1140, 16: 465120, 14: 87029120, 12: 1865621866, 10: 2593815019, 8: 2560074848, 6: 3997156477, 4: 2862022168, 2: 3488744586})\n",
      "defaultdict(<class 'int'>, {21: 1, 19: 1330, 17: 644385, 15: 146370680, 13: 2491463044, 11: 2373335241, 9: 2250150685, 7: 3713409449, 5: 4659615286, 3: 4290298942, 1: 4192304228})\n"
     ]
    }
   ],
   "source": [
    "import math\n",
    "from collections import defaultdict\n",
    "from functools import cache\n",
    "\n",
    "\n",
    "@cache\n",
    "def cached_comb(n, k):\n",
    "    return math.comb(n, k)\n",
    "\n",
    "def recurs(curr, count, mod):\n",
    "    print(curr)\n",
    "    if count == 0:\n",
    "        return curr\n",
    "    new = defaultdict(int)\n",
    "    for key, val in curr.items():\n",
    "        k = 0\n",
    "        while k <= key:\n",
    "            new[key - k + 1] += (val * cached_comb(key, k)) % mod\n",
    "            k += 2\n",
    "    return recurs(new, count - 1, mod)\n",
    "\n",
    "\n",
    "mod = 1020202009\n",
    "_ = recurs({1:1}, 20, mod)"
   ]
  },
  {
   "cell_type": "code",
   "execution_count": 2,
   "metadata": {},
   "outputs": [
    {
     "data": {
      "text/plain": [
       "773479144"
      ]
     },
     "execution_count": 2,
     "metadata": {},
     "output_type": "execute_result"
    }
   ],
   "source": [
    "def secant_number_mod(n, mod):\n",
    "    s = [0] * (n + 1)\n",
    "    s[0] = 1  # Start with the first secant number\n",
    "    for k in range(1, n + 1):\n",
    "        s[k] = (k * s[k - 1]) % mod  # Compute factorial part with modulo\n",
    "\n",
    "    for k in range(1, n + 1):\n",
    "        for j in range(k + 1, n + 1):\n",
    "            s[j] = ((j - k) * s[j - 1] + (j - k + 1) * s[j]) % mod  # Update each term modulo m\n",
    "\n",
    "    return s\n",
    "\n",
    "\n",
    "n = 24680\n",
    "s = secant_number_mod(n // 2, mod)\n",
    "\n",
    "s[-1]"
   ]
  },
  {
   "cell_type": "code",
   "execution_count": null,
   "metadata": {},
   "outputs": [],
   "source": []
  }
 ],
 "metadata": {
  "language_info": {
   "name": "python"
  }
 },
 "nbformat": 4,
 "nbformat_minor": 2
}
