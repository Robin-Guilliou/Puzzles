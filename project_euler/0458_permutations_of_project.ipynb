{
 "cells": [
  {
   "cell_type": "markdown",
   "metadata": {},
   "source": [
    "# 458 - Permutations of Project\n",
    "\n",
    "## Problem Statement\n",
    "\n",
    "Consider the alphabet $A$ made out of the letters of the word \"$\\text{project}$\": $A=\\{\\text c,\\text e,\\text j,\\text o,\\text p,\\text r,\\text t\\}$.<br>\n",
    "Let $T(n)$ be the number of strings of length $n$ consisting of letters from $A$ that do not have a substring that is one of the $5040$ permutations of \"$\\text{project}$\".\n",
    "\n",
    "$T(7)=7^7-7!=818503$.\n",
    "\n",
    "Find $T(10^{12})$. Give the last $9$ digits of your answer.\n",
    "\n",
    "## Solution\n",
    "\n",
    "We define 8 states representing the number of consecutive distinct letters we currently have. Initially, we do not have any letter so we start in state 0. From state zero, we are guaranteed to go to state 1. This is because the first letter in the string cannot be preceded by any letter. Then going through the string, we count the number of consecutive letters we have and this is the current state. Say we have 3 letters P, R and O in this order. There are 4 ways to go to the next state (picking J, E, C or T). There is one way to go back to state 1, if the next letter is a O. There is one way to go back to state 2, if the next letter is R. And one way to stay in state 3, if the next letter is a P. If at any point we reach state 7, meaning the last seven letters are a permutation of project, we stay in this state indefinitely, indicating there is at least one permutation of project in the string.\n",
    "\n",
    "We can represent the state transitions with an $8 \\times 8$ matrix, $A$, where $A_{i, j}$ which indicates the number of ways to go from state $i$ to state $j$. The matrix is\n",
    "\n",
    "\\begin{equation}\n",
    "    A = \\begin{bmatrix}\n",
    "    0 & 7 & 0 & 0 & 0 & 0 & 0 & 0 \\\\\n",
    "    0 & 1 & 6 & 0 & 0 & 0 & 0 & 0 \\\\\n",
    "    0 & 1 & 1 & 5 & 0 & 0 & 0 & 0 \\\\\n",
    "    0 & 1 & 1 & 1 & 4 & 0 & 0 & 0 \\\\\n",
    "    0 & 1 & 1 & 1 & 1 & 3 & 0 & 0 \\\\\n",
    "    0 & 1 & 1 & 1 & 1 & 1 & 2 & 0 \\\\\n",
    "    0 & 1 & 1 & 1 & 1 & 1 & 1 & 1 \\\\\n",
    "    0 & 0 & 0 & 0 & 0 & 0 & 0 & 7\n",
    "    \\end{bmatrix}.\n",
    "\\end{equation}\n",
    "\n",
    "For a string of length $n = 10^{12}$, we need $A^{10^{12}}$. The number of ways will be very large and we only need the last 9 digits. Therefore, we keep all the matrix entries modulo $10^9$. In order to do the exponentiation is a reasonable time, we use the exponentiation by squaring technique which is based on the observation that\n",
    "\n",
    "\\begin{equation}\n",
    "    x^n = \\begin{cases}\n",
    "        x(x^2)^\\frac{n - 1}{2}, & \\text{if } n \\text{ is odd} \\\\\n",
    "        (x^2)^{\\frac{n}{2}}, & \\text{if } n \\text{ is even}\n",
    "        \n",
    "    \\end{cases}.\n",
    "\\end{equation}\n",
    "\n",
    "This allows to compute large powers very fast.\n",
    "\n",
    "The (last digits of the) number of ways to go from state 0 to state 8 in the string is $A^n_{0, 7}$. This is the number of strings containing a permutation of project at least once. Therefore, we need to subtract this from $7^{10^{12}}$ and take modulo $10^9$ to get the final answer."
   ]
  },
  {
   "cell_type": "code",
   "execution_count": 1,
   "metadata": {},
   "outputs": [],
   "source": [
    "import numpy as np\n",
    "\n",
    "def matrix_modular_exponentiation(matrix, power, mod):\n",
    "    # Ensure the matrix is in integer format for modular operations\n",
    "    matrix = np.array(matrix, dtype=np.int64)\n",
    "    # Start with the identity matrix of the same size as the input matrix\n",
    "    result = np.eye(matrix.shape[0], dtype=np.int64)\n",
    "\n",
    "    # Apply exponentiation by squaring technique\n",
    "    while power > 0:\n",
    "        if power % 2 == 1:\n",
    "            result = np.dot(result, matrix) % mod\n",
    "        matrix = np.dot(matrix, matrix) % mod\n",
    "        power //= 2\n",
    "\n",
    "    return result\n",
    "\n",
    "\n",
    "def modular_exponentiation(base, exponent, mod):\n",
    "    result = 1\n",
    "    current_base = base % mod  # Reduce base modulo first to keep numbers small\n",
    "\n",
    "    while exponent > 0:\n",
    "        if exponent % 2 == 1:  # If exponent is odd, multiply the current result by the base\n",
    "            result = (result * current_base) % mod\n",
    "        current_base = (current_base * current_base) % mod  # Square the base\n",
    "        exponent //= 2  # Divide the exponent by 2\n",
    "\n",
    "    return result"
   ]
  },
  {
   "cell_type": "code",
   "execution_count": 2,
   "metadata": {},
   "outputs": [
    {
     "data": {
      "text/plain": [
       "423341841"
      ]
     },
     "execution_count": 2,
     "metadata": {},
     "output_type": "execute_result"
    }
   ],
   "source": [
    "exponent = 10**12\n",
    "mod = 10**9\n",
    "\n",
    "A = np.array([\n",
    "    [0, 7, 0, 0, 0, 0, 0, 0],\n",
    "    [0, 1, 6, 0, 0, 0, 0, 0],\n",
    "    [0, 1, 1, 5, 0, 0, 0, 0],\n",
    "    [0, 1, 1, 1, 4, 0, 0, 0],\n",
    "    [0, 1, 1, 1, 1, 3, 0, 0],\n",
    "    [0, 1, 1, 1, 1, 1, 2, 0],\n",
    "    [0, 1, 1, 1, 1, 1, 1, 1],\n",
    "    [0, 0, 0, 0, 0, 0, 0, 7]\n",
    "])\n",
    "\n",
    "power = 10**12\n",
    "mod = 10**9  # We want the last 10 digits\n",
    "\n",
    "# Compute the matrix power modulo 10^10\n",
    "matrix = matrix_modular_exponentiation(A, power, mod)\n",
    "\n",
    "(modular_exponentiation(7, power, mod) - matrix[0, -1]) % mod"
   ]
  },
  {
   "cell_type": "code",
   "execution_count": null,
   "metadata": {},
   "outputs": [],
   "source": []
  }
 ],
 "metadata": {
  "language_info": {
   "name": "python"
  }
 },
 "nbformat": 4,
 "nbformat_minor": 2
}
