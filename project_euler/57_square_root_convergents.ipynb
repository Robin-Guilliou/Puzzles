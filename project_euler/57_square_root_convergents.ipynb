{
 "cells": [
  {
   "cell_type": "markdown",
   "metadata": {},
   "source": [
    "# 57 - Square Root Congruents\n",
    "\n",
    "## Problem Statement\n",
    "\n",
    "It is possible to show that the square root of two can be expressed as an infinite continued fraction.\n",
    "\n",
    "$$\\sqrt 2 =1+ \\frac 1 {2+ \\frac 1 {2 +\\frac 1 {2+ \\dots}}}$$\n",
    "\n",
    "By expanding this for the first four iterations, we get:\n",
    "\n",
    "$1 + \\frac 1 2 = \\frac  32 = 1.5$\n",
    "$1 + \\frac 1 {2 + \\frac 1 2} = \\frac 7 5 = 1.4$<br>\n",
    "$1 + \\frac 1 {2 + \\frac 1 {2+\\frac 1 2}} = \\frac {17}{12} = 1.41666 \\dots$<br>\n",
    "$1 + \\frac 1 {2 + \\frac 1 {2+\\frac 1 {2+\\frac 1 2}}} = \\frac {41}{29} = 1.41379 \\dots$<br></p>\n",
    "\n",
    "The next three expansions are $\\frac {99}{70}$, $\\frac {239}{169}$, and $\\frac {577}{408}$, but the eighth expansion, $\\frac {1393}{985}$, is the first example where the number of digits in the numerator exceeds the number of digits in the denominator.\n",
    "In the first one-thousand expansions, how many fractions contain a numerator with more digits than the denominator?\n",
    "\n",
    "## Solution\n",
    "\n",
    "We simply generate the expansion using a continued fraction algorithm and count the instances where the numerator has more digits than the denominator.\n"
   ]
  },
  {
   "cell_type": "code",
   "execution_count": 1,
   "metadata": {},
   "outputs": [
    {
     "name": "stdout",
     "output_type": "stream",
     "text": [
      "The answer is 153.\n"
     ]
    }
   ],
   "source": [
    "import math\n",
    "from fractions import Fraction\n",
    "\n",
    "def continued_fraction_sqrt(n, depth=10):\n",
    "    count = 0\n",
    "    terms = []\n",
    "    m = 0\n",
    "    d = 1\n",
    "    a = int(math.sqrt(n))\n",
    "    initial_a = a\n",
    "    for _ in range(depth):\n",
    "        terms.append(a)\n",
    "        m = d * a - m\n",
    "        d = (n - m * m) // d\n",
    "        a = (initial_a + m) // d\n",
    "\n",
    "        # Calculate the convergent fraction at this stage\n",
    "        fraction = Fraction(0)\n",
    "        for term in reversed(terms):\n",
    "            fraction = 1 / (fraction + term) if fraction != 0 else Fraction(1, term)\n",
    "        if len(str(fraction.denominator)) > len(str(fraction.numerator)):\n",
    "            count += 1\n",
    "\n",
    "    return count\n",
    "\n",
    "count = continued_fraction_sqrt(2, 1001)\n",
    "\n",
    "print(f'The answer is {count}.')"
   ]
  },
  {
   "cell_type": "code",
   "execution_count": null,
   "metadata": {},
   "outputs": [],
   "source": []
  }
 ],
 "metadata": {
  "language_info": {
   "name": "python"
  }
 },
 "nbformat": 4,
 "nbformat_minor": 2
}
