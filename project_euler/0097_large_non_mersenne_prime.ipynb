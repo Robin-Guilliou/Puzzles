{
 "cells": [
  {
   "cell_type": "markdown",
   "metadata": {},
   "source": [
    "# Large Non-Mersenne Prime\n",
    "\n",
    "## Problem Statement\n",
    "\n",
    "The first known prime found to exceed one million digits was discovered in 1999, and is a Mersenne prime of the form $2^{6972593} - 1$; it contains exactly $2\\,098\\,960$ digits. Subsequently other Mersenne primes, of the form $2^p - 1$, have been found which contain more digits.\n",
    "\n",
    "However, in 2004 there was found a massive non-Mersenne prime which contains $2\\,357\\,207$ digits: $28433 \\times 2^{7830457} + 1$.\n",
    "\n",
    "Find the last ten digits of this prime number.\n",
    "\n",
    "## Solution\n",
    "\n",
    "We first compute $2^{7830457}$ but only keep the last 10 digits by taking the modulo $10^{10}$. Then we multiply by 28433 and add 1 and take the modulo $10^{10}$ again."
   ]
  },
  {
   "cell_type": "code",
   "execution_count": 1,
   "metadata": {},
   "outputs": [
    {
     "data": {
      "text/plain": [
       "8739992577"
      ]
     },
     "execution_count": 1,
     "metadata": {},
     "output_type": "execute_result"
    }
   ],
   "source": [
    "import numpy as np\n",
    "\n",
    "mod = 10**10\n",
    "res = 2\n",
    "for _ in range(7830456):\n",
    "     res = (2 * res) % mod\n",
    "res = (res * 28433) % mod\n",
    "res = (res + 1) % mod\n",
    "\n",
    "res"
   ]
  },
  {
   "cell_type": "code",
   "execution_count": null,
   "metadata": {},
   "outputs": [],
   "source": []
  }
 ],
 "metadata": {
  "language_info": {
   "name": "python"
  }
 },
 "nbformat": 4,
 "nbformat_minor": 2
}
