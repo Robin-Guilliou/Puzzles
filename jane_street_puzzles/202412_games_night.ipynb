{
 "cells": [
  {
   "cell_type": "markdown",
   "metadata": {},
   "source": [
    "# Jane Street Puzzle - December 2024 - Games Night!\n",
    "\n",
    "## Problem Statement\n",
    "\n",
    "<div class=\"center\"><img src=\"images/games-night.jpg\" style=\"background-color: white;\" class=\"dark_img\" alt=\"\"></div>\n",
    "\n",
    "Oh no! The elves in charge of board games only managed to complete a couple of sets before they were distracted by playtesting the toys. Ho-ho-ho-w infuriating!\n",
    "\n",
    "[The answer to this puzzle is a single word.]\n",
    "\n",
    "## Solution\n",
    "\n",
    "The first thing we can notice is that the items from each game form letters. We have\n",
    "\n",
    "- Uno: M\n",
    "- Catan: I\n",
    "- Risk: S\n",
    "- Monopoly: S\n",
    "- Dominon: I\n",
    "- Scrabble: N\n",
    "- Sushi Go: G\n",
    "- Chess: O\n",
    "- Clue: N\n",
    "- Stratego: E\n",
    "- Bananagrams: S\n",
    "\n",
    "When the games are taken in order as above, we see that the letters form the words \"MISSING ONES\". Then, we realise that for each game except monopoly and clue, there is a missing item:\n",
    "\n",
    "- Uno: Yellow\n",
    "- Catan: Ore\n",
    "- Risk: Ural \n",
    "- Monopoly: /\n",
    "- Dominon: Silver\n",
    "- Scabble: U\n",
    "- Suchi Go: Nigiri\n",
    "- Chess: King\n",
    "- Clue: /\n",
    "- Stratego: Miners\n",
    "- Bananagrams: Y\n",
    "\n",
    "Taking the first letter of each word and using a space for when no item is missing, we obtain \"YOU SUNK MY\". The word battleship would finish the sentence based on the Battleship game. Therefore, the answer is 'battleship'."
   ]
  },
  {
   "cell_type": "code",
   "execution_count": null,
   "metadata": {},
   "outputs": [],
   "source": []
  }
 ],
 "metadata": {
  "language_info": {
   "name": "python"
  }
 },
 "nbformat": 4,
 "nbformat_minor": 2
}
