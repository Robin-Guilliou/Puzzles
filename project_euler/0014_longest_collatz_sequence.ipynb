{
 "cells": [
  {
   "cell_type": "markdown",
   "metadata": {},
   "source": [
    "# Longest Collatz Sequence\n",
    "\n",
    "## Problem Statement\n",
    "\n",
    "The following iterative sequence is defined for the set of positive integers:\n",
    "\n",
    "$\\qquad n \\to n/2$ ($n$ is even) <br>\n",
    "$\\qquad n \\to 3n + 1$ ($n$ is odd)\n",
    "\n",
    "Using the rule above and starting with $13$, we generate the following sequence:\n",
    "\n",
    "$$13 \\to 40 \\to 20 \\to 10 \\to 5 \\to 16 \\to 8 \\to 4 \\to 2 \\to 1.$$\n",
    "\n",
    "It can be seen that this sequence (starting at $13$ and finishing at $1$) contains $10$ terms. Although it has not been proved yet (Collatz Problem), it is thought that all starting numbers finish at $1$.\n",
    "\n",
    "Which starting number, under one million, produces the longest chain?\n",
    "\n",
    "NOTE:</b> Once the chain starts the terms are allowed to go above one million.\n",
    "\n",
    "## Solution\n",
    "\n",
    "We implement a recursive function with memoization to compute the sequence for some $n$. Then we simply loop through all the starting numbers, compute the length of the sequence and record the max."
   ]
  },
  {
   "cell_type": "code",
   "execution_count": 1,
   "metadata": {},
   "outputs": [],
   "source": [
    "def dp(n, memo):\n",
    "    if n == 1:\n",
    "        return 1\n",
    "    if n in memo:\n",
    "        return memo[n]\n",
    "    if n % 2 == 0:\n",
    "        memo[n] = 1 + dp(n // 2, memo)\n",
    "    else:\n",
    "        memo[n] = 1 + dp(3*n + 1, memo)\n",
    "    return memo[n]"
   ]
  },
  {
   "cell_type": "code",
   "execution_count": 2,
   "metadata": {},
   "outputs": [
    {
     "name": "stdout",
     "output_type": "stream",
     "text": [
      "Longest chain starts with 837799 and has length 525.\n"
     ]
    }
   ],
   "source": [
    "memo = {}\n",
    "curr_max = 0\n",
    "ans = -1\n",
    "for i in range(1, 1000000):\n",
    "    res = dp(i, memo)\n",
    "    if res > curr_max:\n",
    "        ans = i\n",
    "        curr_max = res\n",
    "\n",
    "print(f'Longest chain starts with {ans} and has length {curr_max}.')"
   ]
  },
  {
   "cell_type": "code",
   "execution_count": null,
   "metadata": {},
   "outputs": [],
   "source": []
  }
 ],
 "metadata": {
  "language_info": {
   "name": "python"
  }
 },
 "nbformat": 4,
 "nbformat_minor": 2
}
