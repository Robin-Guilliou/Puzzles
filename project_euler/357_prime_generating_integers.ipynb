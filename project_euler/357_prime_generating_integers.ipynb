{
 "cells": [
  {
   "cell_type": "markdown",
   "metadata": {},
   "source": [
    "# 357 - Prime Generating Integers\n",
    "\n",
    "## Problem Statement\n",
    "\n",
    "Consider the divisors of $30$: $1,2,3,5,6,10,15,30$.<br>\n",
    "It can be seen that for every divisor $d$ of $30$, $d + 30 / d$ is prime.\n",
    "\n",
    "Find the sum of all positive integers $n$ not exceeding $100\\,000\\,000$<br>such that for every divisor $d$ of $n$, $d + n / d$ is prime.\n",
    "\n",
    "## Solution\n",
    "\n",
    "As 1 is among the divisors of $n$, $n + 1$ must be prime. This means that any $n > 1$ is even. Additionally, as $n$ is even, 2 is necessarily a factor as well. Therefore, $2 + \\frac{n}{2}$ must be prime.\n",
    "\n",
    "We can first generate all the primes below 100000000. For each prime, $p$, we set the potential $n$ candidate as $p - 1$. Then, if $2 + \\frac{p - 1}{2}$, we keep the candidate. When we have a valid candidate, we generate all its divisors. Then, we loop through half of them (avoiding the first two that we have already checked) and check the condition. If the condition is met for all the divisors, we increase the counter. "
   ]
  },
  {
   "cell_type": "code",
   "execution_count": 1,
   "metadata": {},
   "outputs": [
    {
     "data": {
      "text/plain": [
       "1739023853137"
      ]
     },
     "execution_count": 1,
     "metadata": {},
     "output_type": "execute_result"
    }
   ],
   "source": [
    "import sympy\n",
    "\n",
    "res = 0\n",
    "primes = set()\n",
    "for prime in sympy.primerange(100000000):\n",
    "    # Add prime to set for O(1) lookup\n",
    "    primes.add(prime)\n",
    "    candidate = prime - 1\n",
    "    if 2 + candidate // 2 in primes:\n",
    "        # Generate divisors\n",
    "        divisors = sympy.divisors(candidate)\n",
    "        valid = True\n",
    "        # Loop through half the divisors (skipping the first two)\n",
    "        for i in range(2, len(divisors) // 2 + 1):\n",
    "            # If the condition is not met, candidate is not valid\n",
    "            if divisors[i] + candidate / divisors[i] not in primes:\n",
    "                valid = False\n",
    "                break\n",
    "        if valid:\n",
    "            res += candidate\n",
    "\n",
    "res"
   ]
  },
  {
   "cell_type": "code",
   "execution_count": null,
   "metadata": {},
   "outputs": [],
   "source": []
  }
 ],
 "metadata": {
  "language_info": {
   "name": "python"
  }
 },
 "nbformat": 4,
 "nbformat_minor": 2
}
